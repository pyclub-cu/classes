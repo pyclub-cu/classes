{
  "nbformat": 4,
  "nbformat_minor": 0,
  "metadata": {
    "colab": {
      "name": "Week_4.ipynb",
      "provenance": [],
      "include_colab_link": true
    },
    "kernelspec": {
      "name": "python3",
      "display_name": "Python 3"
    }
  },
  "cells": [
    {
      "cell_type": "markdown",
      "metadata": {
        "id": "view-in-github",
        "colab_type": "text"
      },
      "source": [
        "<a href=\"https://colab.research.google.com/github/pyclub-cu/classes/blob/master/Week_4.ipynb\" target=\"_parent\"><img src=\"https://colab.research.google.com/assets/colab-badge.svg\" alt=\"Open In Colab\"/></a>"
      ]
    },
    {
      "cell_type": "markdown",
      "metadata": {
        "id": "rSV6IHJSJkoF"
      },
      "source": [
        "# **Week 4:** Ocean temperatures and robotic floats"
      ]
    },
    {
      "cell_type": "markdown",
      "metadata": {
        "id": "_TimEWgNKafy"
      },
      "source": [
        "## Learning Objectives:\n",
        "* Learn about ocean temperature (10 mins)\n",
        "* Learn about what Argo floats are (10 mins)\n",
        "* Understand the concept of quality control (10 mins)\n",
        "* Write Boolean statements (10 mins)\n",
        "* Write if statements (10 mins)\n",
        "\n",
        "\n",
        "### **Icebreaker!**\n",
        "\n",
        "> **Question: What do you like to do to keep cool when it's really hot outside? What temperature do you think it is when it's really hot in New York?**\n",
        ">\n",
        ">Think about what the highest and lowest temperatures in the ocean might be. Would you believe someone who told you that where they lived it was 400$^\\circ$F? "
      ]
    },
    {
      "cell_type": "markdown",
      "metadata": {
        "id": "9IZXw_9SmE3F"
      },
      "source": [
        "# **Recap of lists and printing**\n",
        "\n",
        "Here is a list of species of sea turtle (for more information, go here https://www.seeturtles.org/sea-turtle-diet):"
      ]
    },
    {
      "cell_type": "code",
      "metadata": {
        "id": "Xx9d2mc5mEPC"
      },
      "source": [
        "turtle_species = ['green',\n",
        "                  'leatherback',\n",
        "                  'loggerhead',\n",
        "                  'hawksbill',\n",
        "                  'Olive ridley',\n",
        "                  'Kemps Ridley',\n",
        "                  'Flatback']"
      ],
      "execution_count": null,
      "outputs": []
    },
    {
      "cell_type": "markdown",
      "metadata": {
        "id": "Y4XROzYGeo-5"
      },
      "source": [
        "Here is a list of what each species eats:"
      ]
    },
    {
      "cell_type": "code",
      "metadata": {
        "id": "e6sHM9wIezXU"
      },
      "source": [
        "turtle_food = ['algae, seagrasses, and seaweed',\n",
        "               'jellyfish',\n",
        "               'crabs, conchs, whelks, and horseshoe crabs',\n",
        "               'sponges',\n",
        "               'crabs, shrimp, lobster, urchins, jellies, algae, and fish',\n",
        "               ' crabs, fish, jellies, shrimp, and a variety of molluscs',\n",
        "               'sea cucumbers, jellies, soft corals, shrimp, crabs, molluscs, fish, and seaweed']"
      ],
      "execution_count": null,
      "outputs": []
    },
    {
      "cell_type": "markdown",
      "metadata": {
        "id": "GJokPUQafqFk"
      },
      "source": [
        "Remember that we can slice and print like this"
      ]
    },
    {
      "cell_type": "code",
      "metadata": {
        "id": "InEWNSMyfur8"
      },
      "source": [
        "print('There are lots of species of sea turtles, including ' \n",
        "      + turtle_species[0] + ' sea turtles and ' \n",
        "      + turtle_species[1] + ' sea turtles')"
      ],
      "execution_count": null,
      "outputs": []
    },
    {
      "cell_type": "markdown",
      "metadata": {
        "id": "g5IAe-4ifTPf"
      },
      "source": [
        "> **Print a sentence about one of the species by slicing `turtle_food` and `turtle_species`.**"
      ]
    },
    {
      "cell_type": "code",
      "metadata": {
        "id": "gGJfsyid4PM1"
      },
      "source": [
        "print('Write your sentence here')"
      ],
      "execution_count": null,
      "outputs": []
    },
    {
      "cell_type": "markdown",
      "metadata": {
        "id": "qjEYG_X5gORa"
      },
      "source": [
        "> **What is there in the ocean that sea turtles shouldn't eat (but sometimes do)?**"
      ]
    },
    {
      "cell_type": "markdown",
      "metadata": {
        "id": "inu50eJho4me"
      },
      "source": [
        "# **Ocean temperature**\n",
        "\n",
        "Here is a video of surface ocean temperature between 2008 and 2019."
      ]
    },
    {
      "cell_type": "code",
      "metadata": {
        "id": "iLI_4sLz0lVy",
        "colab": {
          "base_uri": "https://localhost:8080/",
          "height": 336
        },
        "outputId": "f20a1c80-519c-4e71-d45e-7b2f3a77dab0"
      },
      "source": [
        "#This code embeds the video below. You don't need to run it.\n",
        "from IPython.display import HTML\n",
        "\n",
        "HTML('<iframe width=\"560\" height=\"315\" src=\"https://www.youtube.com/embed/xvbV9llG5L8\" frameborder=\"0\" allow=\"accelerometer; autoplay; clipboard-write; encrypted-media; gyroscope; picture-in-picture\" allowfullscreen></iframe>')"
      ],
      "execution_count": null,
      "outputs": [
        {
          "output_type": "execute_result",
          "data": {
            "text/html": [
              "<iframe width=\"560\" height=\"315\" src=\"https://www.youtube.com/embed/xvbV9llG5L8\" frameborder=\"0\" allow=\"accelerometer; autoplay; clipboard-write; encrypted-media; gyroscope; picture-in-picture\" allowfullscreen></iframe>"
            ],
            "text/plain": [
              "<IPython.core.display.HTML object>"
            ]
          },
          "metadata": {
            "tags": []
          },
          "execution_count": 1
        }
      ]
    },
    {
      "cell_type": "markdown",
      "metadata": {
        "id": "eMq3SjmS1IKm"
      },
      "source": [
        "> The ocean's temperature is different in different places and at different times. \n",
        ">\n",
        ">**What factors affect ocean temperature?**"
      ]
    },
    {
      "cell_type": "code",
      "metadata": {
        "id": "bLn3-1bpqpAm"
      },
      "source": [
        "print(\"Write the reasons temperature in the ocean might be larger or smaller than normal.\")"
      ],
      "execution_count": null,
      "outputs": []
    },
    {
      "cell_type": "markdown",
      "metadata": {
        "id": "rLWnnNVR6O1u"
      },
      "source": [
        "Here's a picture that might help:\n",
        "\n",
        "![Tilted earth](https://www.lpi.usra.edu/education/skytellers/seasons/images/fig2.jpg)"
      ]
    },
    {
      "cell_type": "markdown",
      "metadata": {
        "id": "vEelZF63qyh1"
      },
      "source": [
        ">The maximum temperature of the ocean (away from hydrothermal vents) is about 88$^\\circ$F, or 30$^\\circ$C.\n",
        ">The minimum temperature of the ocean is about 28$^\\circ$F, or -2$^\\circ$C. \n",
        ">\n",
        ">**Why is the minimum temperature of the ocean -2$^\\circ$C?**"
      ]
    },
    {
      "cell_type": "code",
      "metadata": {
        "id": "RUztn3eGrtEn"
      },
      "source": [
        "print(\"Write the reason the ocean's minimum temperature is -2C.\")"
      ],
      "execution_count": null,
      "outputs": []
    },
    {
      "cell_type": "markdown",
      "metadata": {
        "id": "imz09ejU-6RK"
      },
      "source": [
        "**Why do we care about ocean temperature?**"
      ]
    },
    {
      "cell_type": "markdown",
      "metadata": {
        "id": "j5PgfQ8EqaId"
      },
      "source": [
        "# **Measuring ocean temperature with robotic floats**\n",
        "\n",
        "One way that oceanographers measure temperature is using **Argo floats**. \n",
        "\n",
        "Argo floats are robotic floats that look like this:\n",
        "\n",
        "\n",
        "![Natalie_Freeman_Argo.jpeg](https://soccom.princeton.edu/sites/default/files/imagesimages/Natalie_Freeman_AndrexII_2019.jpeg)\n",
        "![Earle_argo.jpg](https://www.mbari.org/wp-content/uploads/2020/10/soccom-float-carry-640.jpg)"
      ]
    },
    {
      "cell_type": "markdown",
      "metadata": {
        "id": "_tYpIoDcsBES"
      },
      "source": [
        "We drop Argo floats into the ocean from a boat, and then they move up and down, measuring temperature. They send the measurements back to us through satellites. They last for 3-5 years. \n",
        "\n",
        "![argo_cycle.png](https://www.researchgate.net/profile/Taiyo_Kobayashi/publication/236890021/figure/fig2/AS:299424635998209@1448399804347/Schematic-diagram-of-float-operation-in-the-ocean-under-Argo.png)"
      ]
    },
    {
      "cell_type": "markdown",
      "metadata": {
        "id": "UatxTqJdlH9B"
      },
      "source": [
        "### **What is Quality Control?**\n",
        "\n",
        "Sometimes Argo floats don't measure the ocean accurately. This often happens because of **bio-fouling.** \n",
        "\n",
        ">Bio-fouling is when plants or animals grow or get caught on a piece of equipment. \n",
        "\n",
        "This happens a lot in the ocean. The picture below is a glider that has been in the ocean for several months. It moves in the ocean horizontally. We expect that Argo floats also have things growing on them, but nobody retrieves Argo floats, so we don't have any pictures. \n",
        "\n",
        "![Biofouling-on-glider.png](https://www.researchgate.net/profile/C_Nichols2/publication/342932620/figure/fig3/AS:927701548408833@1598192693139/Biofouling-on-an-Ocean-Observatories-Initiative-OOI-ocean-glider-recovered-by-the.png)"
      ]
    },
    {
      "cell_type": "markdown",
      "metadata": {
        "id": "RfhcVBpaf2xV"
      },
      "source": [
        ">Because of biofouling, sometimes our floats don't record the correct temperature. When this happens, the measurement is usually **very different** from the measurement we would expect.  \n",
        "\n",
        "Here is an example of some temperature data. \n",
        "\n",
        "> **Which temperature do you think is wrong?**"
      ]
    },
    {
      "cell_type": "code",
      "metadata": {
        "id": "OkuYeCpcgJA5"
      },
      "source": [
        "#Depth of Argo float in meters\n",
        "argo_depth = [-10, -20, -30, -40, -50, \n",
        "              -60, -70, -80, -90, -100, \n",
        "              -120, 140, -160, -180, -200, \n",
        "              -220, -240, -260, -280, -300]\n",
        "\n",
        "#Temperature measurements in degrees C\n",
        "argo_temp = [18.4, 18.3, 18.3, 18.1, 17.3, \n",
        "             16.8, 80, 12.2, 8.4, 3.4, \n",
        "             3.3, 2.5, 2.1, 2.1, 2.1, \n",
        "             2.1, 2.1, 2.0, 2.0]"
      ],
      "execution_count": null,
      "outputs": []
    },
    {
      "cell_type": "markdown",
      "metadata": {
        "id": "UoH0f84zhoDh"
      },
      "source": [
        "We would like to automatically identify temperatures that are not realistic. We can do this using *Booleans*."
      ]
    },
    {
      "cell_type": "markdown",
      "metadata": {
        "id": "61mS5_YS-NYQ"
      },
      "source": [
        "But let's take a break here!"
      ]
    },
    {
      "cell_type": "markdown",
      "metadata": {
        "id": "Yn-cahSxh8Cl"
      },
      "source": [
        "# **What is a Boolean?**\n",
        "\n",
        ">A Boolean value is a type of Python object that can only have two values: `True` or `False`. \n",
        "\n",
        "Python will automatically create a Boolean value if you use a Boolean operator, like `<` (less than), `>` (greater than), `==` (equal to) or `!=` (not equal to). For example, if `a=1` and `b=2`, and we ask python whether `a>b`."
      ]
    },
    {
      "cell_type": "code",
      "metadata": {
        "id": "3OjSowLZhlAv"
      },
      "source": [
        "a = 1\n",
        "b = 2\n",
        "\n",
        "print(a>b)"
      ],
      "execution_count": null,
      "outputs": []
    },
    {
      "cell_type": "markdown",
      "metadata": {
        "id": "i3-R_BqDjngL"
      },
      "source": [
        "But if we do:"
      ]
    },
    {
      "cell_type": "code",
      "metadata": {
        "id": "8mEPw4xljl0k"
      },
      "source": [
        "print(a<b)"
      ],
      "execution_count": null,
      "outputs": []
    },
    {
      "cell_type": "markdown",
      "metadata": {
        "id": "yPUKkYGtj2S_"
      },
      "source": [
        "Python tells us that that is `True`. \n",
        "\n",
        "> **Now try for yourself: practice changing the values of `a` and `b` in the next cell and predict whether the output will be `True` or `False`.**"
      ]
    },
    {
      "cell_type": "code",
      "metadata": {
        "id": "SWdVUefFjz9t"
      },
      "source": [
        "a = 1\n",
        "b = 2\n",
        "\n",
        "print(a==b)"
      ],
      "execution_count": null,
      "outputs": []
    },
    {
      "cell_type": "markdown",
      "metadata": {
        "id": "J5RFoZfe6oJF"
      },
      "source": [
        "> The single `=` is for assigning variables and the double `==` is for using Booleans to check whether two values are equal. \n",
        "\n",
        "We can use these Boolean operators to find the bad values in the list of temperature measurements."
      ]
    },
    {
      "cell_type": "markdown",
      "metadata": {
        "id": "EixbCgGN4I8K"
      },
      "source": [
        "Another Boolean operator is `in`. It is used to check whether a particular item exists in a list, for example"
      ]
    },
    {
      "cell_type": "code",
      "metadata": {
        "id": "lycDDrDy4Trf"
      },
      "source": [
        "#create new list\n",
        "oceans = ['Atlantic','Pacific','Indian','Southern']"
      ],
      "execution_count": null,
      "outputs": []
    },
    {
      "cell_type": "code",
      "metadata": {
        "id": "FCwRUSuN4x-1",
        "colab": {
          "base_uri": "https://localhost:8080/"
        },
        "outputId": "97aa941c-c7e6-44d0-9731-65931ebdcc32"
      },
      "source": [
        "#check whether 'Atlantic' is in this list:\n",
        "'Atlantic' in oceans"
      ],
      "execution_count": null,
      "outputs": [
        {
          "output_type": "execute_result",
          "data": {
            "text/plain": [
              "True"
            ]
          },
          "metadata": {
            "tags": []
          },
          "execution_count": 2
        }
      ]
    },
    {
      "cell_type": "code",
      "metadata": {
        "id": "arL68rrY49c0"
      },
      "source": [
        "#check whether 'Arctic' is in this list:\n",
        "'Arctic' in oceans"
      ],
      "execution_count": null,
      "outputs": []
    },
    {
      "cell_type": "markdown",
      "metadata": {
        "id": "LyUWF2zd5Xxw"
      },
      "source": [
        "> **Write your own code to check whether `'Pacific'` is in the list**"
      ]
    },
    {
      "cell_type": "code",
      "metadata": {
        "id": "P-vOcRx95iBR"
      },
      "source": [
        "#Write your own code here"
      ],
      "execution_count": null,
      "outputs": []
    },
    {
      "cell_type": "markdown",
      "metadata": {
        "id": "q9pd0YdY4VTI"
      },
      "source": [
        "Below is a list of species found at the Rockaways, from last lecture."
      ]
    },
    {
      "cell_type": "code",
      "metadata": {
        "id": "TX5gsVZu4UIC"
      },
      "source": [
        "# big list of somes species at the Rockaways\n",
        "rockaway_species = ['lobster', 'crabs', 'shrimp', 'seagull','heron', 'pelican',\n",
        "                    'eel', 'herring', 'needlefish', 'sturgeon', 'anchovy',\n",
        "                    'seabass', 'seahorse','mummichog', 'pufferfish', 'sunfish',\n",
        "                    'striped bass', 'blue shark', 'bull shark', 'nurse shark',\n",
        "                    'sandbar shark', 'scalloped hammerhead', 'mako shark', \n",
        "                    'thresher shark', 'atlantic torpedo ray', 'little skate',\n",
        "                    'roughtail stingray', 'bottlenose dolphin', 'grey seal',\n",
        "                    'blue whale', 'fin whale', 'north alantic right whale',\n",
        "                    'humpback whale', 'moon jellyfish', 'starfish', 'clams',\n",
        "                    'mussels', 'oysters', 'algae', 'sea lettuce']"
      ],
      "execution_count": null,
      "outputs": []
    },
    {
      "cell_type": "markdown",
      "metadata": {
        "id": "wlVXg7cX4dRK"
      },
      "source": [
        "> **Using python, find out whether `'bottlenose dolphin'` is in the list**"
      ]
    },
    {
      "cell_type": "code",
      "metadata": {
        "id": "SfSk-4Nn4mp5"
      },
      "source": [
        "#Write your code here"
      ],
      "execution_count": null,
      "outputs": []
    },
    {
      "cell_type": "markdown",
      "metadata": {
        "id": "2-eLXwJUkVUF"
      },
      "source": [
        "# **If statements**\n",
        "Boolean values are really useful in **if statements**. Here's an example. "
      ]
    },
    {
      "cell_type": "code",
      "metadata": {
        "id": "AuU2HNYckeeT"
      },
      "source": [
        "a = 1\n",
        "b = 2\n",
        "\n",
        "if (a==b):\n",
        "  print('a is equal to b')"
      ],
      "execution_count": null,
      "outputs": []
    },
    {
      "cell_type": "markdown",
      "metadata": {
        "id": "aJHm9_mNktjY"
      },
      "source": [
        "> Because `a` and `b` are not equal in the above example, there is no output. \n",
        ">\n",
        "> **Try changing `a` and `b` to be equal and running the cell again.**\n",
        "\n",
        "The layout of the code is important. The indent before the `print` statement tells the code that the `print` statement is inside the `if`.\n",
        "\n",
        "If we add more code with an indent, that code is *inside* the `if`.\n",
        "\n",
        "> **Run the code below. What is the output? Why?**"
      ]
    },
    {
      "cell_type": "code",
      "metadata": {
        "id": "exaxFskwbyOQ"
      },
      "source": [
        "a = 1\n",
        "b = 2\n",
        "\n",
        "if (a==b):\n",
        "  print('a is equal to b')\n",
        "  print('This is inside the if statement')"
      ],
      "execution_count": null,
      "outputs": []
    },
    {
      "cell_type": "markdown",
      "metadata": {
        "id": "Z0S-p8Mgby7O"
      },
      "source": [
        "> **Try changing `a` and `b` to be equal and run the above cell again.**\n",
        "\n",
        "If we add more code without an indent, that code is *outside* the `if`, so it will run whether or not `a==b` is `True`. \n",
        "\n",
        "> **Run the code below. What is the output? Why?**"
      ]
    },
    {
      "cell_type": "code",
      "metadata": {
        "id": "qZaTqNTIcTj7"
      },
      "source": [
        "a = 1\n",
        "b = 2\n",
        "\n",
        "if (a==b):\n",
        "  print('a is equal to b')\n",
        "print('This is outside the if statement')"
      ],
      "execution_count": null,
      "outputs": []
    },
    {
      "cell_type": "markdown",
      "metadata": {
        "id": "J4ce57UVcXYx"
      },
      "source": [
        "> **Try changing `a` and `b` to be equal and run the above cell again.** \n",
        "\n",
        "Python expects there to be *some code* inside the `if`. So if there is no indent on the next line, the code will give an error. \n",
        "\n",
        "> **Run the code below. What is the output? Why?**"
      ]
    },
    {
      "cell_type": "code",
      "metadata": {
        "id": "hxBNujUKalNo"
      },
      "source": [
        "a = 1\n",
        "b = 2\n",
        "\n",
        "if (a==b):\n",
        "print('a is equal to b')"
      ],
      "execution_count": null,
      "outputs": []
    },
    {
      "cell_type": "markdown",
      "metadata": {
        "id": "_i3oMvUek-2t"
      },
      "source": [
        "# Using if statements to find incorrect measurements\n",
        "We would like to write some code that tells us if our measurement is not realistic, i.e. if it is hotter than 30$^{\\circ}$C or colder than -2$^{\\circ}$C. \n",
        "\n",
        "The next cell checks if the measurement is above 30$^{\\circ}$C.\n",
        "\n",
        "> **Run the code below. What is the output? Why?**"
      ]
    },
    {
      "cell_type": "code",
      "metadata": {
        "id": "xTqcKMvdksOj",
        "colab": {
          "base_uri": "https://localhost:8080/"
        },
        "outputId": "430f656f-feb7-4c49-faff-14b7d57d30a3"
      },
      "source": [
        "measurement = 31\n",
        "if measurement>30:\n",
        "  print('The measurement is too hot, so we should discard it')"
      ],
      "execution_count": null,
      "outputs": [
        {
          "output_type": "stream",
          "text": [
            "The measurement is too hot, so we should disguard it\n"
          ],
          "name": "stdout"
        }
      ]
    },
    {
      "cell_type": "markdown",
      "metadata": {
        "id": "gLfqIv3Fl3QE"
      },
      "source": [
        "> **In the next cell, write code that warns us if `measurement` is colder than -2$^{\\circ}$C.**"
      ]
    },
    {
      "cell_type": "code",
      "metadata": {
        "id": "13GEIS7AlzOX"
      },
      "source": [
        "#Your code here"
      ],
      "execution_count": null,
      "outputs": []
    },
    {
      "cell_type": "markdown",
      "metadata": {
        "id": "kkta0Er3-WPc"
      },
      "source": [
        "Remember we wanted to find out which of the temperatures is wrong. Now we can do this automatically:"
      ]
    },
    {
      "cell_type": "code",
      "metadata": {
        "id": "l6SmPKv096gQ"
      },
      "source": [
        "#Depth of Argo float in meters\n",
        "argo_depth = [-10, -20, -30, -40, -50, \n",
        "              -60, -70, -80, -90, -100, \n",
        "              -120, 140, -160, -180, -200, \n",
        "              -220, -240, -260, -280, -300]\n",
        "\n",
        "#Temperature measurements in degrees C\n",
        "argo_temp = [18.4, 18.3, 18.3, 18.1, 17.3, \n",
        "             16.8, 80, 12.2, 8.4, 3.4, \n",
        "             3.3, 2.5, 2.1, 2.1, 2.1, \n",
        "             2.1, 2.1, 2.0, 2.0]"
      ],
      "execution_count": null,
      "outputs": []
    },
    {
      "cell_type": "code",
      "metadata": {
        "id": "pZLJptUi-lbZ"
      },
      "source": [
        "measurement = argo_temp[4]\n",
        "if measurement>30:\n",
        "  print('The measurement is too hot, so we should discard it')"
      ],
      "execution_count": null,
      "outputs": []
    },
    {
      "cell_type": "markdown",
      "metadata": {
        "id": "clXaNeyg97Br"
      },
      "source": [
        "## Learning Objectives:\n",
        "* Learn about ocean temperature (10 mins)\n",
        "* Learn about what Argo floats are (10 mins)\n",
        "* Understand the concept of quality control (10 mins)\n",
        "* Write Boolean statements (10 mins)\n",
        "* Write if statements (10 mins)"
      ]
    },
    {
      "cell_type": "code",
      "metadata": {
        "id": "WoA1jBBx97s5"
      },
      "source": [
        ""
      ],
      "execution_count": null,
      "outputs": []
    }
  ]
}