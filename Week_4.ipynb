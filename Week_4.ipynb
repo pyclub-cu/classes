{
  "nbformat": 4,
  "nbformat_minor": 0,
  "metadata": {
    "colab": {
      "name": "Week_4.ipynb",
      "provenance": [],
      "authorship_tag": "ABX9TyN3IEUzSpKZxju80ihn//H4",
      "include_colab_link": true
    },
    "kernelspec": {
      "name": "python3",
      "display_name": "Python 3"
    }
  },
  "cells": [
    {
      "cell_type": "markdown",
      "metadata": {
        "id": "view-in-github",
        "colab_type": "text"
      },
      "source": [
        "<a href=\"https://colab.research.google.com/github/pyclub-cu/classes/blob/master/Week_4.ipynb\" target=\"_parent\"><img src=\"https://colab.research.google.com/assets/colab-badge.svg\" alt=\"Open In Colab\"/></a>"
      ]
    },
    {
      "cell_type": "markdown",
      "metadata": {
        "id": "rSV6IHJSJkoF"
      },
      "source": [
        "# **Ocean temperatures and robotic floats**"
      ]
    },
    {
      "cell_type": "markdown",
      "metadata": {
        "id": "_TimEWgNKafy"
      },
      "source": [
        "## Learning Goals:\n",
        "* Learn about ocean temperature\n",
        "* Learn about what Argo floats are \n",
        "* Understand the concept of quality control\n",
        "* Write Boolean statements\n",
        "* Write if statements"
      ]
    },
    {
      "cell_type": "markdown",
      "metadata": {
        "id": "OApoQTllLSfm"
      },
      "source": [
        "##Icebreaker (10 min)\n",
        "\n",
        "Questions:\n",
        "\n",
        "* What do you like to do to keep cool when it's really hot outside? \n",
        "* What temperature do you think that is?"
      ]
    },
    {
      "cell_type": "code",
      "metadata": {
        "id": "T7MBbDybJiiO"
      },
      "source": [
        ""
      ],
      "execution_count": null,
      "outputs": []
    }
  ]
}