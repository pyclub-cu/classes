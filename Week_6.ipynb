{
  "nbformat": 4,
  "nbformat_minor": 0,
  "metadata": {
    "kernelspec": {
      "display_name": "Python 3",
      "language": "python",
      "name": "python3"
    },
    "language_info": {
      "codemirror_mode": {
        "name": "ipython",
        "version": 3
      },
      "file_extension": ".py",
      "mimetype": "text/x-python",
      "name": "python",
      "nbconvert_exporter": "python",
      "pygments_lexer": "ipython3",
      "version": "3.7.3"
    },
    "colab": {
      "name": "Week_6.ipynb",
      "provenance": [],
      "include_colab_link": true
    }
  },
  "cells": [
    {
      "cell_type": "markdown",
      "metadata": {
        "id": "view-in-github",
        "colab_type": "text"
      },
      "source": [
        "<a href=\"https://colab.research.google.com/github/pyclub-cu/classes/blob/master/Week_6.ipynb\" target=\"_parent\"><img src=\"https://colab.research.google.com/assets/colab-badge.svg\" alt=\"Open In Colab\"/></a>"
      ]
    },
    {
      "cell_type": "markdown",
      "metadata": {
        "id": "rw-GKA8Rd8Sp"
      },
      "source": [
        "#**Using pandas to work with data**"
      ]
    },
    {
      "cell_type": "markdown",
      "metadata": {
        "id": "WwE82SYGSN3j"
      },
      "source": [
        "# This week's goals:\n",
        "\n",
        "\n",
        "- Learn about CTDs\n",
        "\n",
        "- What are python packages? (review)\n",
        "\n",
        "- Open   some   data   using the python \"pandas\" package \n",
        "\n",
        "- Find   maximum   and   minimum \n",
        "\n",
        "- Find   mean \n",
        "\n",
        "- Make   a   new   column \n",
        "\n",
        "- Review   best   coding   practices "
      ]
    },
    {
      "cell_type": "code",
      "metadata": {
        "colab": {
          "base_uri": "https://localhost:8080/",
          "height": 291
        },
        "id": "MssjmfAsiA5Q",
        "outputId": "2155fde8-36b1-49bf-d468-dafb30be8d0e"
      },
      "source": [
        "from IPython.display import Image\r\n",
        "from IPython.core.display import HTML \r\n",
        "Image(url= \"https://media.giphy.com/media/QYwMxfDpoH3VBfPEET/giphy.gif\")"
      ],
      "execution_count": 2,
      "outputs": [
        {
          "output_type": "execute_result",
          "data": {
            "text/html": [
              "<img src=\"https://media.giphy.com/media/QYwMxfDpoH3VBfPEET/giphy.gif\"/>"
            ],
            "text/plain": [
              "<IPython.core.display.Image object>"
            ]
          },
          "metadata": {
            "tags": []
          },
          "execution_count": 2
        }
      ]
    },
    {
      "cell_type": "markdown",
      "metadata": {
        "id": "kvG0q_7RhzlI"
      },
      "source": [
        "#Ice breaker\r\n",
        "\r\n",
        "What show is this gif from? \\\r\n",
        "What does this seal below have in common with an Argo float?"
      ]
    },
    {
      "cell_type": "code",
      "metadata": {
        "colab": {
          "base_uri": "https://localhost:8080/",
          "height": 761
        },
        "id": "B0tGnB4wSN3l",
        "outputId": "5138cac5-823c-4bb7-8ec2-e6073a01eb13"
      },
      "source": [
        "Image(url= \"https://static.skepticalscience.com/pics/Weddell_Seal_DanCosta.jpg\")"
      ],
      "execution_count": 2,
      "outputs": [
        {
          "output_type": "execute_result",
          "data": {
            "text/html": [
              "<img src=\"https://static.skepticalscience.com/pics/Weddell_Seal_DanCosta.jpg\"/>"
            ],
            "text/plain": [
              "<IPython.core.display.Image object>"
            ]
          },
          "metadata": {
            "tags": []
          },
          "execution_count": 2
        }
      ]
    },
    {
      "cell_type": "markdown",
      "metadata": {
        "id": "oUSrm7w5sUmd"
      },
      "source": [
        "#CTDs!! What are they?\r\n",
        "Arguably the most important instrument package in oceanography. CTD stands for: \r\n",
        "- **C**onductivity (as in electrical conductivity... which we use to measure salinity! Salts are ionic compounds, meaning they carry a charge that we can quantify)\r\n",
        "- **T**emperature \r\n",
        "- **D**epth (as calculated from measurements by a pressure sensor! Pressure increases approximately 10 decibars every 10 meters you go down from the surface, so if you have a pressure measurements, you have a depth)\r\n",
        "\r\n",
        "As a professor in our department likes to say, CTDs are the bread and butter of oceanography.\r\n",
        "\r\n",
        "This is because **temperature and salinity are a fundamental way to understand what's happening in the ocean**. Where are water masses coming and going? How are they being mixed together? What kind of microorganisms can live here? How much Co2 can this water hold? \r\n",
        "\r\n",
        "Even ocean modellers who never set food on a research vessel rely on CTD measurements to run and check their models.\r\n",
        "\r\n",
        "*Today we'll work with some CTD depth profiles and compare how they differ between two very different places on Earth - the sunny tropics and freezing-cold Antarctica!* \r\n",
        "\r\n"
      ]
    },
    {
      "cell_type": "markdown",
      "metadata": {
        "id": "a-fvqNbzZP_e"
      },
      "source": [
        "Before we work with CTD data though...\r\n",
        "\r\n",
        "#How do we import data files into python?\r\n",
        "\r\n",
        "One very useful tool for doing so is \"pandas\"."
      ]
    },
    {
      "cell_type": "code",
      "metadata": {
        "colab": {
          "base_uri": "https://localhost:8080/",
          "height": 286
        },
        "id": "SKFmZFo2ZUsw",
        "outputId": "cb22419e-91d7-4bb7-b5d9-c52f4407d328"
      },
      "source": [
        "Image(url= \"https://media.giphy.com/media/z6xE1olZ5YP4I/giphy.gif\")"
      ],
      "execution_count": 3,
      "outputs": [
        {
          "output_type": "execute_result",
          "data": {
            "text/html": [
              "<img src=\"https://media.giphy.com/media/z6xE1olZ5YP4I/giphy.gif\"/>"
            ],
            "text/plain": [
              "<IPython.core.display.Image object>"
            ]
          },
          "metadata": {
            "tags": []
          },
          "execution_count": 3
        }
      ]
    },
    {
      "cell_type": "markdown",
      "metadata": {
        "id": "3uPY3V8gaHFN"
      },
      "source": [
        "Pandas is a python package, which we learned last week is a library of functions packaged together to help with a specific aspect of data analysis - a toolbox of sorts. The pandas package is a toolbox for viewing and perfoming calculations on tabular data.\r\n",
        "\r\n",
        "Tabular data is just data that comes in rows and columns. This is how instruments output the data they have acquired, so as an oceanographer, you will be working with tabular data often! It often comes in file formats such as *.ascii* and *.txt*. "
      ]
    },
    {
      "cell_type": "code",
      "metadata": {
        "id": "SXjDTHdlaYuR"
      },
      "source": [
        "\r\n",
        "import pandas as pd"
      ],
      "execution_count": 1,
      "outputs": []
    },
    {
      "cell_type": "code",
      "metadata": {
        "id": "vw21TkTCaaVr"
      },
      "source": [
        "Antarctica = pd.read_csv('https://raw.githubusercontent.com/pyclub-cu/classes/master/data/ct4-9908-04_ODV.csv', header = 1, delim_whitespace=True)"
      ],
      "execution_count": 2,
      "outputs": []
    },
    {
      "cell_type": "code",
      "metadata": {
        "colab": {
          "base_uri": "https://localhost:8080/",
          "height": 424
        },
        "id": "s3yqG4-TtF8Z",
        "outputId": "928f8638-a143-4657-b60f-7a3df18e912f"
      },
      "source": [
        "Antarctica"
      ],
      "execution_count": 4,
      "outputs": [
        {
          "output_type": "execute_result",
          "data": {
            "text/html": [
              "<div>\n",
              "<style scoped>\n",
              "    .dataframe tbody tr th:only-of-type {\n",
              "        vertical-align: middle;\n",
              "    }\n",
              "\n",
              "    .dataframe tbody tr th {\n",
              "        vertical-align: top;\n",
              "    }\n",
              "\n",
              "    .dataframe thead th {\n",
              "        text-align: right;\n",
              "    }\n",
              "</style>\n",
              "<table border=\"1\" class=\"dataframe\">\n",
              "  <thead>\n",
              "    <tr style=\"text-align: right;\">\n",
              "      <th></th>\n",
              "      <th>Cruise</th>\n",
              "      <th>Station</th>\n",
              "      <th>Type</th>\n",
              "      <th>mon/day/yr</th>\n",
              "      <th>hh:mm</th>\n",
              "      <th>Longitude</th>\n",
              "      <th>Latitude</th>\n",
              "      <th>Depth[m]</th>\n",
              "      <th>QF</th>\n",
              "      <th>Temperature[deg_C]</th>\n",
              "      <th>QF.1</th>\n",
              "      <th>Salinity[PSU]</th>\n",
              "      <th>QF.2</th>\n",
              "    </tr>\n",
              "  </thead>\n",
              "  <tbody>\n",
              "    <tr>\n",
              "      <th>0</th>\n",
              "      <td>ct4-9908-04</td>\n",
              "      <td>1</td>\n",
              "      <td>C</td>\n",
              "      <td>06/11/2004</td>\n",
              "      <td>08:42</td>\n",
              "      <td>-122.899</td>\n",
              "      <td>37.203</td>\n",
              "      <td>5.0</td>\n",
              "      <td>0</td>\n",
              "      <td>11.8270</td>\n",
              "      <td>0</td>\n",
              "      <td>33.2968</td>\n",
              "      <td>0.0</td>\n",
              "    </tr>\n",
              "    <tr>\n",
              "      <th>1</th>\n",
              "      <td>ct4-9908-04</td>\n",
              "      <td>1</td>\n",
              "      <td>C</td>\n",
              "      <td>06/11/2004</td>\n",
              "      <td>08:42</td>\n",
              "      <td>-122.899</td>\n",
              "      <td>37.203</td>\n",
              "      <td>6.0</td>\n",
              "      <td>0</td>\n",
              "      <td>11.7647</td>\n",
              "      <td>0</td>\n",
              "      <td>33.3088</td>\n",
              "      <td>0.0</td>\n",
              "    </tr>\n",
              "    <tr>\n",
              "      <th>2</th>\n",
              "      <td>ct4-9908-04</td>\n",
              "      <td>1</td>\n",
              "      <td>C</td>\n",
              "      <td>06/11/2004</td>\n",
              "      <td>08:42</td>\n",
              "      <td>-122.899</td>\n",
              "      <td>37.203</td>\n",
              "      <td>7.0</td>\n",
              "      <td>0</td>\n",
              "      <td>11.7024</td>\n",
              "      <td>0</td>\n",
              "      <td>33.3208</td>\n",
              "      <td>0.0</td>\n",
              "    </tr>\n",
              "    <tr>\n",
              "      <th>3</th>\n",
              "      <td>ct4-9908-04</td>\n",
              "      <td>1</td>\n",
              "      <td>C</td>\n",
              "      <td>06/11/2004</td>\n",
              "      <td>08:42</td>\n",
              "      <td>-122.899</td>\n",
              "      <td>37.203</td>\n",
              "      <td>8.0</td>\n",
              "      <td>0</td>\n",
              "      <td>11.6401</td>\n",
              "      <td>0</td>\n",
              "      <td>33.3329</td>\n",
              "      <td>0.0</td>\n",
              "    </tr>\n",
              "    <tr>\n",
              "      <th>4</th>\n",
              "      <td>ct4-9908-04</td>\n",
              "      <td>1</td>\n",
              "      <td>C</td>\n",
              "      <td>06/11/2004</td>\n",
              "      <td>08:42</td>\n",
              "      <td>-122.899</td>\n",
              "      <td>37.203</td>\n",
              "      <td>9.0</td>\n",
              "      <td>0</td>\n",
              "      <td>11.5778</td>\n",
              "      <td>0</td>\n",
              "      <td>33.3449</td>\n",
              "      <td>0.0</td>\n",
              "    </tr>\n",
              "    <tr>\n",
              "      <th>...</th>\n",
              "      <td>...</td>\n",
              "      <td>...</td>\n",
              "      <td>...</td>\n",
              "      <td>...</td>\n",
              "      <td>...</td>\n",
              "      <td>...</td>\n",
              "      <td>...</td>\n",
              "      <td>...</td>\n",
              "      <td>...</td>\n",
              "      <td>...</td>\n",
              "      <td>...</td>\n",
              "      <td>...</td>\n",
              "      <td>...</td>\n",
              "    </tr>\n",
              "    <tr>\n",
              "      <th>111574</th>\n",
              "      <td>ct4-9908-04</td>\n",
              "      <td>260</td>\n",
              "      <td>C</td>\n",
              "      <td>09/25/2004</td>\n",
              "      <td>06:44</td>\n",
              "      <td>179.470</td>\n",
              "      <td>43.975</td>\n",
              "      <td>65.0</td>\n",
              "      <td>0</td>\n",
              "      <td>5.7521</td>\n",
              "      <td>0</td>\n",
              "      <td>1.0000</td>\n",
              "      <td>NaN</td>\n",
              "    </tr>\n",
              "    <tr>\n",
              "      <th>111575</th>\n",
              "      <td>ct4-9908-04</td>\n",
              "      <td>260</td>\n",
              "      <td>C</td>\n",
              "      <td>09/25/2004</td>\n",
              "      <td>06:44</td>\n",
              "      <td>179.470</td>\n",
              "      <td>43.975</td>\n",
              "      <td>66.0</td>\n",
              "      <td>0</td>\n",
              "      <td>5.6333</td>\n",
              "      <td>0</td>\n",
              "      <td>1.0000</td>\n",
              "      <td>NaN</td>\n",
              "    </tr>\n",
              "    <tr>\n",
              "      <th>111576</th>\n",
              "      <td>ct4-9908-04</td>\n",
              "      <td>260</td>\n",
              "      <td>C</td>\n",
              "      <td>09/25/2004</td>\n",
              "      <td>06:44</td>\n",
              "      <td>179.470</td>\n",
              "      <td>43.975</td>\n",
              "      <td>67.0</td>\n",
              "      <td>0</td>\n",
              "      <td>5.5146</td>\n",
              "      <td>0</td>\n",
              "      <td>1.0000</td>\n",
              "      <td>NaN</td>\n",
              "    </tr>\n",
              "    <tr>\n",
              "      <th>111577</th>\n",
              "      <td>ct4-9908-04</td>\n",
              "      <td>260</td>\n",
              "      <td>C</td>\n",
              "      <td>09/25/2004</td>\n",
              "      <td>06:44</td>\n",
              "      <td>179.470</td>\n",
              "      <td>43.975</td>\n",
              "      <td>68.0</td>\n",
              "      <td>0</td>\n",
              "      <td>5.3959</td>\n",
              "      <td>0</td>\n",
              "      <td>1.0000</td>\n",
              "      <td>NaN</td>\n",
              "    </tr>\n",
              "    <tr>\n",
              "      <th>111578</th>\n",
              "      <td>ct4-9908-04</td>\n",
              "      <td>260</td>\n",
              "      <td>C</td>\n",
              "      <td>09/25/2004</td>\n",
              "      <td>06:44</td>\n",
              "      <td>179.470</td>\n",
              "      <td>43.975</td>\n",
              "      <td>69.0</td>\n",
              "      <td>0</td>\n",
              "      <td>5.2772</td>\n",
              "      <td>0</td>\n",
              "      <td>1.0000</td>\n",
              "      <td>NaN</td>\n",
              "    </tr>\n",
              "  </tbody>\n",
              "</table>\n",
              "<p>111579 rows × 13 columns</p>\n",
              "</div>"
            ],
            "text/plain": [
              "             Cruise  Station Type  ... QF.1 Salinity[PSU]  QF.2\n",
              "0       ct4-9908-04        1    C  ...    0       33.2968   0.0\n",
              "1       ct4-9908-04        1    C  ...    0       33.3088   0.0\n",
              "2       ct4-9908-04        1    C  ...    0       33.3208   0.0\n",
              "3       ct4-9908-04        1    C  ...    0       33.3329   0.0\n",
              "4       ct4-9908-04        1    C  ...    0       33.3449   0.0\n",
              "...             ...      ...  ...  ...  ...           ...   ...\n",
              "111574  ct4-9908-04      260    C  ...    0        1.0000   NaN\n",
              "111575  ct4-9908-04      260    C  ...    0        1.0000   NaN\n",
              "111576  ct4-9908-04      260    C  ...    0        1.0000   NaN\n",
              "111577  ct4-9908-04      260    C  ...    0        1.0000   NaN\n",
              "111578  ct4-9908-04      260    C  ...    0        1.0000   NaN\n",
              "\n",
              "[111579 rows x 13 columns]"
            ]
          },
          "metadata": {
            "tags": []
          },
          "execution_count": 4
        }
      ]
    },
    {
      "cell_type": "code",
      "metadata": {
        "id": "fxcaGdxwe_Kx"
      },
      "source": [
        "import matplotlib.pyplot as plt"
      ],
      "execution_count": 3,
      "outputs": []
    },
    {
      "cell_type": "code",
      "metadata": {
        "id": "GsPloHdykFce"
      },
      "source": [
        "Tropics = pd.read_csv('https://raw.githubusercontent.com/pyclub-cu/classes/master/data/CTD_for_pyclub_mooringsite.csv', header = 0)         "
      ],
      "execution_count": 7,
      "outputs": []
    },
    {
      "cell_type": "code",
      "metadata": {
        "id": "Y-fCS97RkJvE",
        "colab": {
          "base_uri": "https://localhost:8080/",
          "height": 424
        },
        "outputId": "e54abed9-0de8-41a7-cc9a-bb19b20c2475"
      },
      "source": [
        "Tropics"
      ],
      "execution_count": 8,
      "outputs": [
        {
          "output_type": "execute_result",
          "data": {
            "text/html": [
              "<div>\n",
              "<style scoped>\n",
              "    .dataframe tbody tr th:only-of-type {\n",
              "        vertical-align: middle;\n",
              "    }\n",
              "\n",
              "    .dataframe tbody tr th {\n",
              "        vertical-align: top;\n",
              "    }\n",
              "\n",
              "    .dataframe thead th {\n",
              "        text-align: right;\n",
              "    }\n",
              "</style>\n",
              "<table border=\"1\" class=\"dataframe\">\n",
              "  <thead>\n",
              "    <tr style=\"text-align: right;\">\n",
              "      <th></th>\n",
              "      <th>pressure</th>\n",
              "      <th>depth</th>\n",
              "      <th>temperature</th>\n",
              "      <th>Salinity</th>\n",
              "      <th>density</th>\n",
              "      <th>oxygen</th>\n",
              "    </tr>\n",
              "  </thead>\n",
              "  <tbody>\n",
              "    <tr>\n",
              "      <th>0</th>\n",
              "      <td>2</td>\n",
              "      <td>1.989</td>\n",
              "      <td>29.0046</td>\n",
              "      <td>33.8873</td>\n",
              "      <td>1021.2380</td>\n",
              "      <td>2.92979</td>\n",
              "    </tr>\n",
              "    <tr>\n",
              "      <th>1</th>\n",
              "      <td>3</td>\n",
              "      <td>2.983</td>\n",
              "      <td>28.5072</td>\n",
              "      <td>33.9911</td>\n",
              "      <td>1021.4852</td>\n",
              "      <td>3.07316</td>\n",
              "    </tr>\n",
              "    <tr>\n",
              "      <th>2</th>\n",
              "      <td>4</td>\n",
              "      <td>3.978</td>\n",
              "      <td>28.4227</td>\n",
              "      <td>34.0155</td>\n",
              "      <td>1021.5356</td>\n",
              "      <td>2.97615</td>\n",
              "    </tr>\n",
              "    <tr>\n",
              "      <th>3</th>\n",
              "      <td>5</td>\n",
              "      <td>4.972</td>\n",
              "      <td>28.4160</td>\n",
              "      <td>34.0162</td>\n",
              "      <td>1021.5426</td>\n",
              "      <td>3.35803</td>\n",
              "    </tr>\n",
              "    <tr>\n",
              "      <th>4</th>\n",
              "      <td>6</td>\n",
              "      <td>5.967</td>\n",
              "      <td>28.3491</td>\n",
              "      <td>34.0355</td>\n",
              "      <td>1021.5833</td>\n",
              "      <td>3.55787</td>\n",
              "    </tr>\n",
              "    <tr>\n",
              "      <th>...</th>\n",
              "      <td>...</td>\n",
              "      <td>...</td>\n",
              "      <td>...</td>\n",
              "      <td>...</td>\n",
              "      <td>...</td>\n",
              "      <td>...</td>\n",
              "    </tr>\n",
              "    <tr>\n",
              "      <th>2016</th>\n",
              "      <td>2018</td>\n",
              "      <td>1997.279</td>\n",
              "      <td>3.6856</td>\n",
              "      <td>34.6069</td>\n",
              "      <td>1036.7238</td>\n",
              "      <td>1.31071</td>\n",
              "    </tr>\n",
              "    <tr>\n",
              "      <th>2017</th>\n",
              "      <td>2019</td>\n",
              "      <td>1998.264</td>\n",
              "      <td>3.6832</td>\n",
              "      <td>34.6070</td>\n",
              "      <td>1036.7287</td>\n",
              "      <td>1.30772</td>\n",
              "    </tr>\n",
              "    <tr>\n",
              "      <th>2018</th>\n",
              "      <td>2020</td>\n",
              "      <td>1999.249</td>\n",
              "      <td>3.6836</td>\n",
              "      <td>34.6071</td>\n",
              "      <td>1036.7332</td>\n",
              "      <td>1.31057</td>\n",
              "    </tr>\n",
              "    <tr>\n",
              "      <th>2019</th>\n",
              "      <td>2021</td>\n",
              "      <td>2000.234</td>\n",
              "      <td>3.6842</td>\n",
              "      <td>34.6070</td>\n",
              "      <td>1036.7375</td>\n",
              "      <td>1.31041</td>\n",
              "    </tr>\n",
              "    <tr>\n",
              "      <th>2020</th>\n",
              "      <td>2022</td>\n",
              "      <td>2001.219</td>\n",
              "      <td>3.6834</td>\n",
              "      <td>34.6069</td>\n",
              "      <td>1036.7421</td>\n",
              "      <td>1.30800</td>\n",
              "    </tr>\n",
              "  </tbody>\n",
              "</table>\n",
              "<p>2021 rows × 6 columns</p>\n",
              "</div>"
            ],
            "text/plain": [
              "      pressure     depth  temperature  Salinity    density   oxygen\n",
              "0            2     1.989      29.0046   33.8873  1021.2380  2.92979\n",
              "1            3     2.983      28.5072   33.9911  1021.4852  3.07316\n",
              "2            4     3.978      28.4227   34.0155  1021.5356  2.97615\n",
              "3            5     4.972      28.4160   34.0162  1021.5426  3.35803\n",
              "4            6     5.967      28.3491   34.0355  1021.5833  3.55787\n",
              "...        ...       ...          ...       ...        ...      ...\n",
              "2016      2018  1997.279       3.6856   34.6069  1036.7238  1.31071\n",
              "2017      2019  1998.264       3.6832   34.6070  1036.7287  1.30772\n",
              "2018      2020  1999.249       3.6836   34.6071  1036.7332  1.31057\n",
              "2019      2021  2000.234       3.6842   34.6070  1036.7375  1.31041\n",
              "2020      2022  2001.219       3.6834   34.6069  1036.7421  1.30800\n",
              "\n",
              "[2021 rows x 6 columns]"
            ]
          },
          "metadata": {
            "tags": []
          },
          "execution_count": 8
        }
      ]
    },
    {
      "cell_type": "code",
      "metadata": {
        "id": "wOz-ORXalFbJ"
      },
      "source": [
        ""
      ],
      "execution_count": 8,
      "outputs": []
    }
  ]
}