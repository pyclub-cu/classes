{
  "nbformat": 4,
  "nbformat_minor": 0,
  "metadata": {
    "kernelspec": {
      "display_name": "Python 3",
      "language": "python",
      "name": "python3"
    },
    "language_info": {
      "codemirror_mode": {
        "name": "ipython",
        "version": 3
      },
      "file_extension": ".py",
      "mimetype": "text/x-python",
      "name": "python",
      "nbconvert_exporter": "python",
      "pygments_lexer": "ipython3",
      "version": "3.7.3"
    },
    "colab": {
      "name": "Week_6.ipynb",
      "provenance": [],
      "include_colab_link": true
    }
  },
  "cells": [
    {
      "cell_type": "markdown",
      "metadata": {
        "id": "view-in-github",
        "colab_type": "text"
      },
      "source": [
        "<a href=\"https://colab.research.google.com/github/pyclub-cu/classes/blob/master/Week_6.ipynb\" target=\"_parent\"><img src=\"https://colab.research.google.com/assets/colab-badge.svg\" alt=\"Open In Colab\"/></a>"
      ]
    },
    {
      "cell_type": "markdown",
      "metadata": {
        "id": "WwE82SYGSN3j"
      },
      "source": [
        "# **Week 6: Using Pandas with real live data!**\n",
        "\n",
        "Last week we learned about python packages, and specifically, the Pandas package. This week we'll continue working with Pandas to open and analyze some oceanographic data.\n",
        "\n",
        "**Learning objectives**\n",
        "* Learn about CTD data (10 mins)\n",
        "* Review packages and Pandas (xx mins)\n",
        "* Open a data file using Pandas (xx mins)\n",
        "* Calculate statistics on data (xx mins)\n",
        "\n",
        "### **Icebreaker!**\n",
        "\n",
        "![Sokka breaking ice](https://media.giphy.com/media/QYwMxfDpoH3VBfPEET/giphy.gif)\n",
        "\n",
        "> **Question: What does this seal below have in common with an Argo float?** \\\n",
        "Think back to Week 4... what are Argo floats and what do they do?\n",
        ">\n",
        "> <img src=\"https://static.skepticalscience.com/pics/Weddell_Seal_DanCosta.jpg\" width=\"420\" height=\"300\" />\n",
        "\n"
      ]
    },
    {
      "cell_type": "markdown",
      "metadata": {
        "id": "oUSrm7w5sUmd"
      },
      "source": [
        "#CTDs!! What are they?\r\n",
        "Arguably the most important instrument package in oceanography. CTD stands for: \r\n",
        "- **C**onductivity (as in electrical conductivity... which we use to measure salinity! Salts are ionic compounds, meaning they carry a charge that we can quantify)\r\n",
        "- **T**emperature \r\n",
        "- **D**epth (as calculated from measurements by a pressure sensor! Pressure increases approximately 10 decibars every 10 meters you go down from the surface, so if you have a pressure measurements, you have a depth)\r\n",
        "\r\n",
        "Seal CTD            |  CTD-Rosette | Argo Float CTD\r\n",
        ":-------------------------:|:-------------------------:|:-------------------------:\r\n",
        "<img src=\"https://static.skepticalscience.com/pics/Weddell_Seal_DanCosta.jpg\" width=\"200\" height=\"150\" />  |  <img src=\"https://southernoceanscience.files.wordpress.com/2016/04/img_9608.jpg\" width=\"200\" height=\"150\" /> |  <img src=\"https://www.mbari.org/wp-content/uploads/2020/10/soccom-float-carry-640.jpg\" width=\"200\" height=\"150\" />\r\n",
        "\r\n",
        "\r\n",
        "**Temperature and salinity are a fundamental way to understand what's happening in the ocean**. How does ocean water move around the Earth?  What kind of organisms can live here? How much Co2 can this water hold? What does the ocean do with excess heat from a warming planet? \r\n",
        "\r\n",
        "\r\n",
        "*Today we'll use Pandas to look at CTD data taken by a seal in Antarctica! Let's review what we learned last week about packages & Pandas.* \r\n",
        "\r\n"
      ]
    },
    {
      "cell_type": "markdown",
      "metadata": {
        "id": "a-fvqNbzZP_e"
      },
      "source": [
        "#Review: Packages and Pandas\r\n",
        "* Python packages are sets of commands packaged together to help with a specific aspect of data analysis \r\n",
        "  * Think of them like toolboxes\r\n",
        "\r\n",
        "<img src='https://drive.google.com/uc?id=1QH1Jt2iG0ZiBAH99FQSlPm1weSv7St27' width=\"520\" height=\"300\" />\r\n",
        "\r\n",
        "\r\n",
        "* The pandas package is a toolbox for viewing and perfoming calculations on data in tables\r\n",
        "  \r\n",
        "  <img src='https://drive.google.com/uc?id=1ABTetjG6IPdyGKcS-n0OIVRejY6YVffR' width=\"520\" height=\"300\" />\r\n",
        "\r\n",
        "  > **Remember!** Data types in python are called `objects`. Tables that we work with in pandas are objects called `dataframes`\r\n",
        "\r\n",
        "\r\n",
        "\r\n",
        "\r\n",
        "\r\n"
      ]
    },
    {
      "cell_type": "markdown",
      "metadata": {
        "id": "mfO0_6HK5Eac"
      },
      "source": [
        "Let's quickly revisit the example from last week:\r\n",
        "\r\n",
        "First, how do we `import` pandas?\r\n"
      ]
    },
    {
      "cell_type": "code",
      "metadata": {
        "id": "XAwzLgZ95ei8"
      },
      "source": [
        "#Let's all type it together\r\n"
      ],
      "execution_count": 14,
      "outputs": []
    },
    {
      "cell_type": "code",
      "metadata": {
        "id": "JMGPFfjp4ajK"
      },
      "source": [
        "ocean_basins = ['Arctic', 'Atlantic', 'Indian', 'Pacific', 'Southern'] #What kind of object is this?\r\n",
        "avg_salinity = [32, 35, 34.5, 35, 34.7] #What kind of object is this?\r\n",
        "avg_temp = [-1.8, 14, 22, 20, 4] #What kind of object is this?\r\n",
        "\r\n",
        "avg_data = {'avg_salinity': avg_salinity, #What kind of object is this?\r\n",
        "        'avg_temp': avg_temp}\r\n",
        "\r\n",
        "\r\n",
        "df = pd.DataFrame(data=avg_data, index=ocean_basins) #What kind of object is this?"
      ],
      "execution_count": 15,
      "outputs": []
    },
    {
      "cell_type": "code",
      "metadata": {
        "id": "yJvziTtx_ItY"
      },
      "source": [
        "df"
      ],
      "execution_count": null,
      "outputs": []
    },
    {
      "cell_type": "markdown",
      "metadata": {
        "id": "531EWgqXKSgN"
      },
      "source": [
        "### Any questions about pandas and dataframes before we continue?\r\n",
        "\r\n",
        "\r\n",
        "  <img src='https://media.giphy.com/media/z6xE1olZ5YP4I/giphy.gif' width=\"300\" height=\"200\" />\r\n"
      ]
    },
    {
      "cell_type": "markdown",
      "metadata": {
        "id": "UVe3ezNg_VcG"
      },
      "source": [
        "# Import a data file (.csv, .ascii, .txt, etc.) using pandas\r\n",
        "\r\n",
        "We created the dataframe above using data lists we typed out. But how do we import data from outside of python, such as a file from a CTD?"
      ]
    },
    {
      "cell_type": "markdown",
      "metadata": {
        "id": "QNHh6bx5NyOx"
      },
      "source": [
        "##Step 1: Look at our data\r\n",
        "\r\n",
        "Collected by our cute friend in Antarctica!\r\n",
        "\r\n",
        "<img src=\"https://static.skepticalscience.com/pics/Weddell_Seal_DanCosta.jpg\" width=\"200\" height=\"130\" />\r\n",
        "\r\n",
        "Click the link and take a look. \\\r\n",
        "https://raw.githubusercontent.com/pyclub-cu/classes/master/data/ct4-9908-04_ODV_trimmed.csv\r\n",
        "\r\n",
        "What kind of data do we have? \\\r\n",
        "How is this data *delimited*?"
      ]
    },
    {
      "cell_type": "markdown",
      "metadata": {
        "id": "4CdCHIrhII49"
      },
      "source": [
        "##Step 2: Import the pandas package so we can use it to open our data in python\r\n",
        "\r\n",
        ">**Reminder:** `import` *nameofpackage* `as` *nickname* \r\n"
      ]
    },
    {
      "cell_type": "code",
      "metadata": {
        "id": "uhO-E5N_IuA3"
      },
      "source": [
        "#your code here"
      ],
      "execution_count": null,
      "outputs": []
    },
    {
      "cell_type": "markdown",
      "metadata": {
        "id": "P2DH-CDUa7ZH"
      },
      "source": [
        "##Step 3: Use panda's `.read_csv()` command to import and view our *.csv* file\r\n",
        "\r\n",
        "This is like opening a file in excel so that you can work with the data inside!"
      ]
    },
    {
      "cell_type": "code",
      "metadata": {
        "id": "4JTs5PFDLMj4"
      },
      "source": [
        "pandas.read_csv('path/filename.csv') #we put inputs to the command inside of the parentheses\r\n",
        "#here, the input is name and path of the file we want to open"
      ],
      "execution_count": null,
      "outputs": []
    },
    {
      "cell_type": "markdown",
      "metadata": {
        "id": "VEYmYNK-MFBx"
      },
      "source": [
        "Following the syntax above, try import our CTD data file: \r\n",
        "\r\n",
        "\r\n",
        "https://raw.githubusercontent.com/pyclub-cu/classes/master/data/ct4-9908-04_ODV_trimmed.csv\r\n",
        "\r\n",
        "Make sure the filename is a string, ie. in single (') or double (\") quotation marks"
      ]
    },
    {
      "cell_type": "code",
      "metadata": {
        "id": "YO_Y_qYjQX40",
        "colab": {
          "base_uri": "https://localhost:8080/",
          "height": 424
        },
        "outputId": "571187c9-b126-4801-8029-3ff689d75482"
      },
      "source": [
        "#your code here\r\n",
        "pd.read_csv('https://raw.githubusercontent.com/pyclub-cu/classes/master/data/ct4-9908-04_ODV_trimmed.csv')"
      ],
      "execution_count": 18,
      "outputs": [
        {
          "output_type": "execute_result",
          "data": {
            "text/html": [
              "<div>\n",
              "<style scoped>\n",
              "    .dataframe tbody tr th:only-of-type {\n",
              "        vertical-align: middle;\n",
              "    }\n",
              "\n",
              "    .dataframe tbody tr th {\n",
              "        vertical-align: top;\n",
              "    }\n",
              "\n",
              "    .dataframe thead th {\n",
              "        text-align: right;\n",
              "    }\n",
              "</style>\n",
              "<table border=\"1\" class=\"dataframe\">\n",
              "  <thead>\n",
              "    <tr style=\"text-align: right;\">\n",
              "      <th></th>\n",
              "      <th>// created: 08-Apr-2018 09:14:31</th>\n",
              "      <th>Unnamed: 1</th>\n",
              "      <th>Unnamed: 2</th>\n",
              "      <th>Unnamed: 3</th>\n",
              "      <th>Unnamed: 4</th>\n",
              "      <th>Unnamed: 5</th>\n",
              "      <th>Unnamed: 6</th>\n",
              "    </tr>\n",
              "  </thead>\n",
              "  <tbody>\n",
              "    <tr>\n",
              "      <th>0</th>\n",
              "      <td>mon/day/yr</td>\n",
              "      <td>hh:mm</td>\n",
              "      <td>Longitude</td>\n",
              "      <td>Latitude</td>\n",
              "      <td>Depth</td>\n",
              "      <td>Temperature</td>\n",
              "      <td>Salinity</td>\n",
              "    </tr>\n",
              "    <tr>\n",
              "      <th>1</th>\n",
              "      <td>6/11/2004</td>\n",
              "      <td>8:42</td>\n",
              "      <td>-122.899</td>\n",
              "      <td>37.203</td>\n",
              "      <td>5</td>\n",
              "      <td>11.827</td>\n",
              "      <td>33.2968</td>\n",
              "    </tr>\n",
              "    <tr>\n",
              "      <th>2</th>\n",
              "      <td>6/11/2004</td>\n",
              "      <td>8:42</td>\n",
              "      <td>-122.899</td>\n",
              "      <td>37.203</td>\n",
              "      <td>6</td>\n",
              "      <td>11.7647</td>\n",
              "      <td>33.3088</td>\n",
              "    </tr>\n",
              "    <tr>\n",
              "      <th>3</th>\n",
              "      <td>6/11/2004</td>\n",
              "      <td>8:42</td>\n",
              "      <td>-122.899</td>\n",
              "      <td>37.203</td>\n",
              "      <td>7</td>\n",
              "      <td>11.7024</td>\n",
              "      <td>33.3208</td>\n",
              "    </tr>\n",
              "    <tr>\n",
              "      <th>4</th>\n",
              "      <td>6/11/2004</td>\n",
              "      <td>8:42</td>\n",
              "      <td>-122.899</td>\n",
              "      <td>37.203</td>\n",
              "      <td>8</td>\n",
              "      <td>11.6401</td>\n",
              "      <td>33.3329</td>\n",
              "    </tr>\n",
              "    <tr>\n",
              "      <th>...</th>\n",
              "      <td>...</td>\n",
              "      <td>...</td>\n",
              "      <td>...</td>\n",
              "      <td>...</td>\n",
              "      <td>...</td>\n",
              "      <td>...</td>\n",
              "      <td>...</td>\n",
              "    </tr>\n",
              "    <tr>\n",
              "      <th>111575</th>\n",
              "      <td>9/25/2004</td>\n",
              "      <td>6:44</td>\n",
              "      <td>179.47</td>\n",
              "      <td>43.975</td>\n",
              "      <td>65</td>\n",
              "      <td>5.7521</td>\n",
              "      <td>NaN</td>\n",
              "    </tr>\n",
              "    <tr>\n",
              "      <th>111576</th>\n",
              "      <td>9/25/2004</td>\n",
              "      <td>6:44</td>\n",
              "      <td>179.47</td>\n",
              "      <td>43.975</td>\n",
              "      <td>66</td>\n",
              "      <td>5.6333</td>\n",
              "      <td>NaN</td>\n",
              "    </tr>\n",
              "    <tr>\n",
              "      <th>111577</th>\n",
              "      <td>9/25/2004</td>\n",
              "      <td>6:44</td>\n",
              "      <td>179.47</td>\n",
              "      <td>43.975</td>\n",
              "      <td>67</td>\n",
              "      <td>5.5146</td>\n",
              "      <td>NaN</td>\n",
              "    </tr>\n",
              "    <tr>\n",
              "      <th>111578</th>\n",
              "      <td>9/25/2004</td>\n",
              "      <td>6:44</td>\n",
              "      <td>179.47</td>\n",
              "      <td>43.975</td>\n",
              "      <td>68</td>\n",
              "      <td>5.3959</td>\n",
              "      <td>NaN</td>\n",
              "    </tr>\n",
              "    <tr>\n",
              "      <th>111579</th>\n",
              "      <td>9/25/2004</td>\n",
              "      <td>6:44</td>\n",
              "      <td>179.47</td>\n",
              "      <td>43.975</td>\n",
              "      <td>69</td>\n",
              "      <td>5.2772</td>\n",
              "      <td>NaN</td>\n",
              "    </tr>\n",
              "  </tbody>\n",
              "</table>\n",
              "<p>111580 rows × 7 columns</p>\n",
              "</div>"
            ],
            "text/plain": [
              "       // created: 08-Apr-2018 09:14:31 Unnamed: 1  ...    Unnamed: 5 Unnamed: 6\n",
              "0                            mon/day/yr      hh:mm  ...  Temperature    Salinity\n",
              "1                             6/11/2004       8:42  ...        11.827    33.2968\n",
              "2                             6/11/2004       8:42  ...       11.7647    33.3088\n",
              "3                             6/11/2004       8:42  ...       11.7024    33.3208\n",
              "4                             6/11/2004       8:42  ...       11.6401    33.3329\n",
              "...                                 ...        ...  ...           ...        ...\n",
              "111575                        9/25/2004       6:44  ...        5.7521        NaN\n",
              "111576                        9/25/2004       6:44  ...        5.6333        NaN\n",
              "111577                        9/25/2004       6:44  ...        5.5146        NaN\n",
              "111578                        9/25/2004       6:44  ...        5.3959        NaN\n",
              "111579                        9/25/2004       6:44  ...        5.2772        NaN\n",
              "\n",
              "[111580 rows x 7 columns]"
            ]
          },
          "metadata": {
            "tags": []
          },
          "execution_count": 18
        }
      ]
    },
    {
      "cell_type": "markdown",
      "metadata": {
        "id": "5ybdioIiQYT8"
      },
      "source": [
        "We did it! But... looks a little weird, huh. All smooshed together. How can we fix this?\r\n",
        "\r\n",
        "The \"read_csv\" function can take more inputs than just the file name, including things that tell it how the data file is formatted. For a full list of possible inputs into a function, type it out followed by a question mark.\r\n",
        "\r\n",
        "Execute the cell below. What do you see?"
      ]
    },
    {
      "cell_type": "code",
      "metadata": {
        "id": "AWfX13y8T38Z"
      },
      "source": [
        "pandas.read_csv?"
      ],
      "execution_count": null,
      "outputs": []
    },
    {
      "cell_type": "markdown",
      "metadata": {
        "id": "2tnXBzE3cLkq"
      },
      "source": [
        "To better read in our data file, we are going to tell the function two things:\r\n",
        "\r\n",
        "- The \"header line\" is the 2nd line of the file\r\n",
        "- The data are delimited by white space \r\n",
        "\r\n",
        "Note the extra function inputs in the cell below and execute!"
      ]
    },
    {
      "cell_type": "code",
      "metadata": {
        "colab": {
          "base_uri": "https://localhost:8080/",
          "height": 424
        },
        "id": "s3yqG4-TtF8Z",
        "outputId": "faf691b3-1044-416a-a8eb-009d126415c3"
      },
      "source": [
        "pandas.read_csv('https://raw.githubusercontent.com/pyclub-cu/classes/master/data/ct4-9908-04_ODV.csv', \r\n",
        "                header = 1, delim_whitespace=True)"
      ],
      "execution_count": null,
      "outputs": [
        {
          "output_type": "execute_result",
          "data": {
            "text/html": [
              "<div>\n",
              "<style scoped>\n",
              "    .dataframe tbody tr th:only-of-type {\n",
              "        vertical-align: middle;\n",
              "    }\n",
              "\n",
              "    .dataframe tbody tr th {\n",
              "        vertical-align: top;\n",
              "    }\n",
              "\n",
              "    .dataframe thead th {\n",
              "        text-align: right;\n",
              "    }\n",
              "</style>\n",
              "<table border=\"1\" class=\"dataframe\">\n",
              "  <thead>\n",
              "    <tr style=\"text-align: right;\">\n",
              "      <th></th>\n",
              "      <th>Cruise</th>\n",
              "      <th>Station</th>\n",
              "      <th>Type</th>\n",
              "      <th>mon/day/yr</th>\n",
              "      <th>hh:mm</th>\n",
              "      <th>Longitude</th>\n",
              "      <th>Latitude</th>\n",
              "      <th>Depth</th>\n",
              "      <th>QF</th>\n",
              "      <th>Temperature</th>\n",
              "      <th>QF.1</th>\n",
              "      <th>Salinity</th>\n",
              "      <th>QF.2</th>\n",
              "    </tr>\n",
              "  </thead>\n",
              "  <tbody>\n",
              "    <tr>\n",
              "      <th>0</th>\n",
              "      <td>ct4-9908-04</td>\n",
              "      <td>1</td>\n",
              "      <td>C</td>\n",
              "      <td>06/11/2004</td>\n",
              "      <td>08:42</td>\n",
              "      <td>-122.899</td>\n",
              "      <td>37.203</td>\n",
              "      <td>5.0</td>\n",
              "      <td>0</td>\n",
              "      <td>11.8270</td>\n",
              "      <td>0</td>\n",
              "      <td>33.2968</td>\n",
              "      <td>0.0</td>\n",
              "    </tr>\n",
              "    <tr>\n",
              "      <th>1</th>\n",
              "      <td>ct4-9908-04</td>\n",
              "      <td>1</td>\n",
              "      <td>C</td>\n",
              "      <td>06/11/2004</td>\n",
              "      <td>08:42</td>\n",
              "      <td>-122.899</td>\n",
              "      <td>37.203</td>\n",
              "      <td>6.0</td>\n",
              "      <td>0</td>\n",
              "      <td>11.7647</td>\n",
              "      <td>0</td>\n",
              "      <td>33.3088</td>\n",
              "      <td>0.0</td>\n",
              "    </tr>\n",
              "    <tr>\n",
              "      <th>2</th>\n",
              "      <td>ct4-9908-04</td>\n",
              "      <td>1</td>\n",
              "      <td>C</td>\n",
              "      <td>06/11/2004</td>\n",
              "      <td>08:42</td>\n",
              "      <td>-122.899</td>\n",
              "      <td>37.203</td>\n",
              "      <td>7.0</td>\n",
              "      <td>0</td>\n",
              "      <td>11.7024</td>\n",
              "      <td>0</td>\n",
              "      <td>33.3208</td>\n",
              "      <td>0.0</td>\n",
              "    </tr>\n",
              "    <tr>\n",
              "      <th>3</th>\n",
              "      <td>ct4-9908-04</td>\n",
              "      <td>1</td>\n",
              "      <td>C</td>\n",
              "      <td>06/11/2004</td>\n",
              "      <td>08:42</td>\n",
              "      <td>-122.899</td>\n",
              "      <td>37.203</td>\n",
              "      <td>8.0</td>\n",
              "      <td>0</td>\n",
              "      <td>11.6401</td>\n",
              "      <td>0</td>\n",
              "      <td>33.3329</td>\n",
              "      <td>0.0</td>\n",
              "    </tr>\n",
              "    <tr>\n",
              "      <th>4</th>\n",
              "      <td>ct4-9908-04</td>\n",
              "      <td>1</td>\n",
              "      <td>C</td>\n",
              "      <td>06/11/2004</td>\n",
              "      <td>08:42</td>\n",
              "      <td>-122.899</td>\n",
              "      <td>37.203</td>\n",
              "      <td>9.0</td>\n",
              "      <td>0</td>\n",
              "      <td>11.5778</td>\n",
              "      <td>0</td>\n",
              "      <td>33.3449</td>\n",
              "      <td>0.0</td>\n",
              "    </tr>\n",
              "    <tr>\n",
              "      <th>...</th>\n",
              "      <td>...</td>\n",
              "      <td>...</td>\n",
              "      <td>...</td>\n",
              "      <td>...</td>\n",
              "      <td>...</td>\n",
              "      <td>...</td>\n",
              "      <td>...</td>\n",
              "      <td>...</td>\n",
              "      <td>...</td>\n",
              "      <td>...</td>\n",
              "      <td>...</td>\n",
              "      <td>...</td>\n",
              "      <td>...</td>\n",
              "    </tr>\n",
              "    <tr>\n",
              "      <th>111574</th>\n",
              "      <td>ct4-9908-04</td>\n",
              "      <td>260</td>\n",
              "      <td>C</td>\n",
              "      <td>09/25/2004</td>\n",
              "      <td>06:44</td>\n",
              "      <td>179.470</td>\n",
              "      <td>43.975</td>\n",
              "      <td>65.0</td>\n",
              "      <td>0</td>\n",
              "      <td>5.7521</td>\n",
              "      <td>0</td>\n",
              "      <td>1.0000</td>\n",
              "      <td>NaN</td>\n",
              "    </tr>\n",
              "    <tr>\n",
              "      <th>111575</th>\n",
              "      <td>ct4-9908-04</td>\n",
              "      <td>260</td>\n",
              "      <td>C</td>\n",
              "      <td>09/25/2004</td>\n",
              "      <td>06:44</td>\n",
              "      <td>179.470</td>\n",
              "      <td>43.975</td>\n",
              "      <td>66.0</td>\n",
              "      <td>0</td>\n",
              "      <td>5.6333</td>\n",
              "      <td>0</td>\n",
              "      <td>1.0000</td>\n",
              "      <td>NaN</td>\n",
              "    </tr>\n",
              "    <tr>\n",
              "      <th>111576</th>\n",
              "      <td>ct4-9908-04</td>\n",
              "      <td>260</td>\n",
              "      <td>C</td>\n",
              "      <td>09/25/2004</td>\n",
              "      <td>06:44</td>\n",
              "      <td>179.470</td>\n",
              "      <td>43.975</td>\n",
              "      <td>67.0</td>\n",
              "      <td>0</td>\n",
              "      <td>5.5146</td>\n",
              "      <td>0</td>\n",
              "      <td>1.0000</td>\n",
              "      <td>NaN</td>\n",
              "    </tr>\n",
              "    <tr>\n",
              "      <th>111577</th>\n",
              "      <td>ct4-9908-04</td>\n",
              "      <td>260</td>\n",
              "      <td>C</td>\n",
              "      <td>09/25/2004</td>\n",
              "      <td>06:44</td>\n",
              "      <td>179.470</td>\n",
              "      <td>43.975</td>\n",
              "      <td>68.0</td>\n",
              "      <td>0</td>\n",
              "      <td>5.3959</td>\n",
              "      <td>0</td>\n",
              "      <td>1.0000</td>\n",
              "      <td>NaN</td>\n",
              "    </tr>\n",
              "    <tr>\n",
              "      <th>111578</th>\n",
              "      <td>ct4-9908-04</td>\n",
              "      <td>260</td>\n",
              "      <td>C</td>\n",
              "      <td>09/25/2004</td>\n",
              "      <td>06:44</td>\n",
              "      <td>179.470</td>\n",
              "      <td>43.975</td>\n",
              "      <td>69.0</td>\n",
              "      <td>0</td>\n",
              "      <td>5.2772</td>\n",
              "      <td>0</td>\n",
              "      <td>1.0000</td>\n",
              "      <td>NaN</td>\n",
              "    </tr>\n",
              "  </tbody>\n",
              "</table>\n",
              "<p>111579 rows × 13 columns</p>\n",
              "</div>"
            ],
            "text/plain": [
              "             Cruise  Station Type  ... QF.1 Salinity  QF.2\n",
              "0       ct4-9908-04        1    C  ...    0  33.2968   0.0\n",
              "1       ct4-9908-04        1    C  ...    0  33.3088   0.0\n",
              "2       ct4-9908-04        1    C  ...    0  33.3208   0.0\n",
              "3       ct4-9908-04        1    C  ...    0  33.3329   0.0\n",
              "4       ct4-9908-04        1    C  ...    0  33.3449   0.0\n",
              "...             ...      ...  ...  ...  ...      ...   ...\n",
              "111574  ct4-9908-04      260    C  ...    0   1.0000   NaN\n",
              "111575  ct4-9908-04      260    C  ...    0   1.0000   NaN\n",
              "111576  ct4-9908-04      260    C  ...    0   1.0000   NaN\n",
              "111577  ct4-9908-04      260    C  ...    0   1.0000   NaN\n",
              "111578  ct4-9908-04      260    C  ...    0   1.0000   NaN\n",
              "\n",
              "[111579 rows x 13 columns]"
            ]
          },
          "metadata": {
            "tags": []
          },
          "execution_count": 6
        }
      ]
    },
    {
      "cell_type": "markdown",
      "metadata": {
        "id": "NmMRUwYpdSyE"
      },
      "source": [
        "Phew, looks much better : ) This table a pandas \"dataframe\". Dataframes are python objects, just like strings and integers are objects."
      ]
    },
    {
      "cell_type": "markdown",
      "metadata": {
        "id": "9riq8rMJdsL8"
      },
      "source": [
        "#Now... let's play with the data!"
      ]
    },
    {
      "cell_type": "markdown",
      "metadata": {
        "id": "hPLVh5a3gEMh"
      },
      "source": [
        "Just like other variables we've worked with, we want to give this data frame a name. Let's call it seal_data."
      ]
    },
    {
      "cell_type": "code",
      "metadata": {
        "id": "q4fM6MnEdttj"
      },
      "source": [
        "seal_data = pandas.read_csv('https://raw.githubusercontent.com/pyclub-cu/classes/master/data/ct4-9908-04_ODV.csv', \r\n",
        "                            header = 1, delim_whitespace=True)"
      ],
      "execution_count": null,
      "outputs": []
    },
    {
      "cell_type": "markdown",
      "metadata": {
        "id": "zoIIBAokgTvc"
      },
      "source": [
        "Let's say we only want to focus on one of the variables for now - salinity. How do we that? \r\n",
        "\r\n",
        "There are two ways to index dataframe variables."
      ]
    },
    {
      "cell_type": "code",
      "metadata": {
        "id": "Dw68lcWYit3c",
        "colab": {
          "base_uri": "https://localhost:8080/"
        },
        "outputId": "6d77fe40-aec4-41c6-ca45-0e948af317ac"
      },
      "source": [
        "seal_data.Salinity #using dot syntax"
      ],
      "execution_count": null,
      "outputs": [
        {
          "output_type": "execute_result",
          "data": {
            "text/plain": [
              "0         33.2968\n",
              "1         33.3088\n",
              "2         33.3208\n",
              "3         33.3329\n",
              "4         33.3449\n",
              "           ...   \n",
              "111574     1.0000\n",
              "111575     1.0000\n",
              "111576     1.0000\n",
              "111577     1.0000\n",
              "111578     1.0000\n",
              "Name: Salinity, Length: 111579, dtype: float64"
            ]
          },
          "metadata": {
            "tags": []
          },
          "execution_count": 36
        }
      ]
    },
    {
      "cell_type": "code",
      "metadata": {
        "id": "cwzbtvmyjGRC",
        "colab": {
          "base_uri": "https://localhost:8080/"
        },
        "outputId": "78b3a911-5f78-4121-d192-f6e5c4e662ef"
      },
      "source": [
        "seal_data['Salinity'] #using brackets "
      ],
      "execution_count": null,
      "outputs": [
        {
          "output_type": "execute_result",
          "data": {
            "text/plain": [
              "0         33.2968\n",
              "1         33.3088\n",
              "2         33.3208\n",
              "3         33.3329\n",
              "4         33.3449\n",
              "           ...   \n",
              "111574     1.0000\n",
              "111575     1.0000\n",
              "111576     1.0000\n",
              "111577     1.0000\n",
              "111578     1.0000\n",
              "Name: Salinity, Length: 111579, dtype: float64"
            ]
          },
          "metadata": {
            "tags": []
          },
          "execution_count": 35
        }
      ]
    },
    {
      "cell_type": "markdown",
      "metadata": {
        "id": "SV1Tkg3SjZgQ"
      },
      "source": [
        "Try using either the dot or bracket syntax to extract Temperature!"
      ]
    },
    {
      "cell_type": "code",
      "metadata": {
        "id": "5-y_xaz8jf0w",
        "colab": {
          "base_uri": "https://localhost:8080/"
        },
        "outputId": "daee4fde-7b8a-4b9a-8697-5ce1c3330c13"
      },
      "source": [
        "#your code here\r\n",
        "seal_data.Temperature"
      ],
      "execution_count": null,
      "outputs": [
        {
          "output_type": "execute_result",
          "data": {
            "text/plain": [
              "0         11.8270\n",
              "1         11.7647\n",
              "2         11.7024\n",
              "3         11.6401\n",
              "4         11.5778\n",
              "           ...   \n",
              "111574     5.7521\n",
              "111575     5.6333\n",
              "111576     5.5146\n",
              "111577     5.3959\n",
              "111578     5.2772\n",
              "Name: Temperature, Length: 111579, dtype: float64"
            ]
          },
          "metadata": {
            "tags": []
          },
          "execution_count": 10
        }
      ]
    },
    {
      "cell_type": "markdown",
      "metadata": {
        "id": "ieGkj4c4kdXY"
      },
      "source": [
        "Notice that depth, temperature, and salinity columns are followed by columns called \"QF\".\r\n",
        "\r\n",
        "What could that be... (hint: think back to Spencer's lesson!)"
      ]
    },
    {
      "cell_type": "markdown",
      "metadata": {
        "id": "1h90cooeKY0U"
      },
      "source": [
        "*** Skip QF and just remove salinity data fresher than some threshold (like Spencers lesson with temp)\r\n",
        "\r\n",
        "Also remove extraneous columns from data file"
      ]
    },
    {
      "cell_type": "markdown",
      "metadata": {
        "id": "5lioMY58mIUV"
      },
      "source": [
        "Let's remove the bad salinity data!"
      ]
    },
    {
      "cell_type": "code",
      "metadata": {
        "id": "nL6-oTzKgBlO",
        "colab": {
          "base_uri": "https://localhost:8080/"
        },
        "outputId": "d1ae6df8-a4dd-46fb-8da4-2d67e563939c"
      },
      "source": [
        "salinity = seal_data.Salinity.where(seal_data['QF.2'].notna() == True)\r\n",
        "salinity\r\n",
        "                                  "
      ],
      "execution_count": null,
      "outputs": [
        {
          "output_type": "execute_result",
          "data": {
            "text/plain": [
              "0         33.2968\n",
              "1         33.3088\n",
              "2         33.3208\n",
              "3         33.3329\n",
              "4         33.3449\n",
              "           ...   \n",
              "111574        NaN\n",
              "111575        NaN\n",
              "111576        NaN\n",
              "111577        NaN\n",
              "111578        NaN\n",
              "Name: Salinity, Length: 111579, dtype: float64"
            ]
          },
          "metadata": {
            "tags": []
          },
          "execution_count": 51
        }
      ]
    },
    {
      "cell_type": "markdown",
      "metadata": {
        "id": "uwYIaZ0mmSMp"
      },
      "source": [
        "What is the minimum, maximum, and mean salinity that this seal has measured?"
      ]
    },
    {
      "cell_type": "markdown",
      "metadata": {
        "id": "YWemhOVuLa8k"
      },
      "source": [
        "Work with temperature instead"
      ]
    },
    {
      "cell_type": "code",
      "metadata": {
        "id": "inv8h3pcLBC1",
        "colab": {
          "base_uri": "https://localhost:8080/",
          "height": 171
        },
        "outputId": "01ca3d49-b1fa-426c-dd40-f53c111d189e"
      },
      "source": [
        "salinity.min() "
      ],
      "execution_count": null,
      "outputs": [
        {
          "output_type": "error",
          "ename": "NameError",
          "evalue": "ignored",
          "traceback": [
            "\u001b[0;31m---------------------------------------------------------------------------\u001b[0m",
            "\u001b[0;31mNameError\u001b[0m                                 Traceback (most recent call last)",
            "\u001b[0;32m<ipython-input-11-934d4259de01>\u001b[0m in \u001b[0;36m<module>\u001b[0;34m()\u001b[0m\n\u001b[0;32m----> 1\u001b[0;31m \u001b[0msalinity\u001b[0m\u001b[0;34m.\u001b[0m\u001b[0mmin\u001b[0m\u001b[0;34m(\u001b[0m\u001b[0;34m)\u001b[0m\u001b[0;34m\u001b[0m\u001b[0;34m\u001b[0m\u001b[0m\n\u001b[0m",
            "\u001b[0;31mNameError\u001b[0m: name 'salinity' is not defined"
          ]
        }
      ]
    },
    {
      "cell_type": "code",
      "metadata": {
        "id": "Uwjjcuw4gbtw",
        "colab": {
          "base_uri": "https://localhost:8080/"
        },
        "outputId": "67ac9b0f-d0e9-4cb3-9e1a-3d35330b1c2f"
      },
      "source": [
        "print('The minimum salinity is ' + str(salinity.min()))\r\n",
        "print('The maximum salinity is ' + str(salinity.max()))\r\n",
        "print('The mean salinity is ' + str(salinity.mean()))"
      ],
      "execution_count": null,
      "outputs": [
        {
          "output_type": "stream",
          "text": [
            "The minimum salinity is31.9908\n",
            "The maximum salinity is34.2432\n",
            "The mean salinity is33.76876016047914\n"
          ],
          "name": "stdout"
        }
      ]
    },
    {
      "cell_type": "markdown",
      "metadata": {
        "id": "B2EsDZF2oWCK"
      },
      "source": [
        "#Let's take a breather. Any questions so far? : )"
      ]
    },
    {
      "cell_type": "code",
      "metadata": {
        "id": "JMDdZ-XDoOaH",
        "colab": {
          "base_uri": "https://localhost:8080/",
          "height": 381
        },
        "outputId": "0ad1f9d9-00bd-48e2-8e8e-12d15b0ca7c9"
      },
      "source": [
        "Image(url='https://cdn.the-scientist.com/assets/articleNo/32598/iImg/6278/e58dd2a0-02b2-4052-9508-4a0145c6f7a4-notebook1.jpg')"
      ],
      "execution_count": null,
      "outputs": [
        {
          "output_type": "execute_result",
          "data": {
            "text/html": [
              "<img src=\"https://cdn.the-scientist.com/assets/articleNo/32598/iImg/6278/e58dd2a0-02b2-4052-9508-4a0145c6f7a4-notebook1.jpg\"/>"
            ],
            "text/plain": [
              "<IPython.core.display.Image object>"
            ]
          },
          "metadata": {
            "tags": []
          },
          "execution_count": 60
        }
      ]
    },
    {
      "cell_type": "markdown",
      "metadata": {
        "id": "8sOyeNLZmZM6"
      },
      "source": [
        "Now, try finding the minimum and maximum temperatures yourself. Remember to first create your temperature object, the same way we created the salinity object!"
      ]
    },
    {
      "cell_type": "code",
      "metadata": {
        "id": "reLW86QYmWUw"
      },
      "source": [
        "#your code here"
      ],
      "execution_count": null,
      "outputs": []
    },
    {
      "cell_type": "markdown",
      "metadata": {
        "id": "cUukyi2OnLOj"
      },
      "source": [
        "How about the deepest depth this seal has dived? "
      ]
    },
    {
      "cell_type": "code",
      "metadata": {
        "id": "69vAcxkxnPpr"
      },
      "source": [
        "#your code here"
      ],
      "execution_count": null,
      "outputs": []
    }
  ]
}