{
  "nbformat": 4,
  "nbformat_minor": 0,
  "metadata": {
    "kernelspec": {
      "display_name": "Python 3",
      "language": "python",
      "name": "python3"
    },
    "language_info": {
      "codemirror_mode": {
        "name": "ipython",
        "version": 3
      },
      "file_extension": ".py",
      "mimetype": "text/x-python",
      "name": "python",
      "nbconvert_exporter": "python",
      "pygments_lexer": "ipython3",
      "version": "3.7.3"
    },
    "colab": {
      "name": "Week_6.ipynb",
      "provenance": [],
      "include_colab_link": true
    }
  },
  "cells": [
    {
      "cell_type": "markdown",
      "metadata": {
        "id": "view-in-github",
        "colab_type": "text"
      },
      "source": [
        "<a href=\"https://colab.research.google.com/github/pyclub-cu/classes/blob/master/Week_6.ipynb\" target=\"_parent\"><img src=\"https://colab.research.google.com/assets/colab-badge.svg\" alt=\"Open In Colab\"/></a>"
      ]
    },
    {
      "cell_type": "code",
      "metadata": {
        "id": "qRi50dxfSN3d"
      },
      "source": [
        "#Using pandas to open .csv files!\n",
        "#Una"
      ],
      "execution_count": null,
      "outputs": []
    },
    {
      "cell_type": "markdown",
      "metadata": {
        "id": "WwE82SYGSN3j"
      },
      "source": [
        "# This week's goals:\n",
        "\n",
        "\n",
        "- Learn about CTDs\n",
        "\n",
        "- What are python packages? \n",
        "\n",
        "- Open   some   data   using   pandas \n",
        "\n",
        "- Find   maximum   and   minimum \n",
        "\n",
        "- Find   mean \n",
        "\n",
        "- Make   a   new   column \n",
        "\n",
        "- Review   best   coding   practices "
      ]
    },
    {
      "cell_type": "markdown",
      "metadata": {
        "id": "lTZl8I3qSN3k"
      },
      "source": [
        "# What do this seal and an Argo float have in common? \n"
      ]
    },
    {
      "cell_type": "code",
      "metadata": {
        "colab": {
          "base_uri": "https://localhost:8080/",
          "height": 761
        },
        "id": "B0tGnB4wSN3l",
        "outputId": "fc95c506-f4cd-4d80-c50e-b55dfa84f73b"
      },
      "source": [
        "from IPython.display import Image\n",
        "from IPython.core.display import HTML \n",
        "Image(url= \"https://static.skepticalscience.com/pics/Weddell_Seal_DanCosta.jpg\")"
      ],
      "execution_count": 2,
      "outputs": [
        {
          "output_type": "execute_result",
          "data": {
            "text/html": [
              "<img src=\"https://static.skepticalscience.com/pics/Weddell_Seal_DanCosta.jpg\"/>"
            ],
            "text/plain": [
              "<IPython.core.display.Image object>"
            ]
          },
          "metadata": {
            "tags": []
          },
          "execution_count": 2
        }
      ]
    },
    {
      "cell_type": "markdown",
      "metadata": {
        "id": "C8DKbSpCSN3n"
      },
      "source": [
        "# They are both collecting measurements of salinity and temperature in the ocean! \n",
        "\n",
        "They do so with what we call a \"CTD package\", where CTD stands for:\n",
        "- Conductivity (as in electrical conductivity... salts are ionic compounds, meaning they carry a charge that we can use to estimate how salty) the water is \n",
        "- Temperature (self explanatory c: )\n",
        "- Depth (estimated from pressure. Pressure increases approximately 10 decibars every 10 meters you go down from the surface)\n"
      ]
    },
    {
      "cell_type": "markdown",
      "metadata": {
        "id": "_jvP4E3ySN3n"
      },
      "source": [
        "# As a professor in our department likes to say, CTDs are the bread and butter of oceanography. \n",
        "\n",
        "This is because temperature and salinity are a fundamental way to understand what's happening in the ocean. Where are water masses coming and going? How are they being mixed together? What kind of microorganisms can live here? How much Co2 can this water hold? \n",
        "\n",
        "Today we'll work with some CTD depth profiles and compare how they differ between two very different places on Earth - the sunny tropics and freezing-cold Antarctica! And once you've worked with CTD data, you're a true oceanographer. \n"
      ]
    },
    {
      "cell_type": "markdown",
      "metadata": {
        "id": "a-fvqNbzZP_e"
      },
      "source": [
        "# How will we import the CTD data?\r\n",
        "\r\n",
        "With pandas!"
      ]
    },
    {
      "cell_type": "code",
      "metadata": {
        "colab": {
          "base_uri": "https://localhost:8080/",
          "height": 286
        },
        "id": "SKFmZFo2ZUsw",
        "outputId": "ce3a39de-5118-462f-ed68-d823ca84f1dd"
      },
      "source": [
        "Image(url= \"https://media.giphy.com/media/z6xE1olZ5YP4I/giphy.gif\")"
      ],
      "execution_count": 4,
      "outputs": [
        {
          "output_type": "execute_result",
          "data": {
            "text/html": [
              "<img src=\"https://media.giphy.com/media/z6xE1olZ5YP4I/giphy.gif\"/>"
            ],
            "text/plain": [
              "<IPython.core.display.Image object>"
            ]
          },
          "metadata": {
            "tags": []
          },
          "execution_count": 4
        }
      ]
    },
    {
      "cell_type": "markdown",
      "metadata": {
        "id": "3uPY3V8gaHFN"
      },
      "source": [
        "Pandas is a python package - a toolbox of sorts. The Pandas package lets us look at text data easily and elegantly. "
      ]
    },
    {
      "cell_type": "code",
      "metadata": {
        "id": "SXjDTHdlaYuR"
      },
      "source": [
        "\r\n",
        "import pandas as pd"
      ],
      "execution_count": 11,
      "outputs": []
    },
    {
      "cell_type": "code",
      "metadata": {
        "id": "vw21TkTCaaVr"
      },
      "source": [
        "Antarctica = pd.read_csv('https://raw.githubusercontent.com/pyclub-cu/classes/master/data/ct4-9908-04_ODV.csv', header = 1, delim_whitespace=True)"
      ],
      "execution_count": 26,
      "outputs": []
    },
    {
      "cell_type": "code",
      "metadata": {
        "id": "fxcaGdxwe_Kx"
      },
      "source": [
        "import matplotlib.pyplot as plt"
      ],
      "execution_count": 25,
      "outputs": []
    },
    {
      "cell_type": "code",
      "metadata": {
        "id": "xohwm5x2j926",
        "outputId": "d630869f-1c8d-46bb-da87-b44858feeaac",
        "colab": {
          "base_uri": "https://localhost:8080/",
          "height": 424
        }
      },
      "source": [
        "test"
      ],
      "execution_count": 27,
      "outputs": [
        {
          "output_type": "execute_result",
          "data": {
            "text/html": [
              "<div>\n",
              "<style scoped>\n",
              "    .dataframe tbody tr th:only-of-type {\n",
              "        vertical-align: middle;\n",
              "    }\n",
              "\n",
              "    .dataframe tbody tr th {\n",
              "        vertical-align: top;\n",
              "    }\n",
              "\n",
              "    .dataframe thead th {\n",
              "        text-align: right;\n",
              "    }\n",
              "</style>\n",
              "<table border=\"1\" class=\"dataframe\">\n",
              "  <thead>\n",
              "    <tr style=\"text-align: right;\">\n",
              "      <th></th>\n",
              "      <th>Cruise</th>\n",
              "      <th>Station</th>\n",
              "      <th>Type</th>\n",
              "      <th>mon/day/yr</th>\n",
              "      <th>hh:mm</th>\n",
              "      <th>Longitude</th>\n",
              "      <th>Latitude</th>\n",
              "      <th>Depth[m]</th>\n",
              "      <th>QF</th>\n",
              "      <th>Temperature[deg_C]</th>\n",
              "      <th>QF.1</th>\n",
              "      <th>Salinity[PSU]</th>\n",
              "      <th>QF.2</th>\n",
              "    </tr>\n",
              "  </thead>\n",
              "  <tbody>\n",
              "    <tr>\n",
              "      <th>0</th>\n",
              "      <td>ct4-9908-04</td>\n",
              "      <td>1</td>\n",
              "      <td>C</td>\n",
              "      <td>06/11/2004</td>\n",
              "      <td>08:42</td>\n",
              "      <td>-122.899</td>\n",
              "      <td>37.203</td>\n",
              "      <td>5.0</td>\n",
              "      <td>0</td>\n",
              "      <td>11.8270</td>\n",
              "      <td>0</td>\n",
              "      <td>33.2968</td>\n",
              "      <td>0.0</td>\n",
              "    </tr>\n",
              "    <tr>\n",
              "      <th>1</th>\n",
              "      <td>ct4-9908-04</td>\n",
              "      <td>1</td>\n",
              "      <td>C</td>\n",
              "      <td>06/11/2004</td>\n",
              "      <td>08:42</td>\n",
              "      <td>-122.899</td>\n",
              "      <td>37.203</td>\n",
              "      <td>6.0</td>\n",
              "      <td>0</td>\n",
              "      <td>11.7647</td>\n",
              "      <td>0</td>\n",
              "      <td>33.3088</td>\n",
              "      <td>0.0</td>\n",
              "    </tr>\n",
              "    <tr>\n",
              "      <th>2</th>\n",
              "      <td>ct4-9908-04</td>\n",
              "      <td>1</td>\n",
              "      <td>C</td>\n",
              "      <td>06/11/2004</td>\n",
              "      <td>08:42</td>\n",
              "      <td>-122.899</td>\n",
              "      <td>37.203</td>\n",
              "      <td>7.0</td>\n",
              "      <td>0</td>\n",
              "      <td>11.7024</td>\n",
              "      <td>0</td>\n",
              "      <td>33.3208</td>\n",
              "      <td>0.0</td>\n",
              "    </tr>\n",
              "    <tr>\n",
              "      <th>3</th>\n",
              "      <td>ct4-9908-04</td>\n",
              "      <td>1</td>\n",
              "      <td>C</td>\n",
              "      <td>06/11/2004</td>\n",
              "      <td>08:42</td>\n",
              "      <td>-122.899</td>\n",
              "      <td>37.203</td>\n",
              "      <td>8.0</td>\n",
              "      <td>0</td>\n",
              "      <td>11.6401</td>\n",
              "      <td>0</td>\n",
              "      <td>33.3329</td>\n",
              "      <td>0.0</td>\n",
              "    </tr>\n",
              "    <tr>\n",
              "      <th>4</th>\n",
              "      <td>ct4-9908-04</td>\n",
              "      <td>1</td>\n",
              "      <td>C</td>\n",
              "      <td>06/11/2004</td>\n",
              "      <td>08:42</td>\n",
              "      <td>-122.899</td>\n",
              "      <td>37.203</td>\n",
              "      <td>9.0</td>\n",
              "      <td>0</td>\n",
              "      <td>11.5778</td>\n",
              "      <td>0</td>\n",
              "      <td>33.3449</td>\n",
              "      <td>0.0</td>\n",
              "    </tr>\n",
              "    <tr>\n",
              "      <th>...</th>\n",
              "      <td>...</td>\n",
              "      <td>...</td>\n",
              "      <td>...</td>\n",
              "      <td>...</td>\n",
              "      <td>...</td>\n",
              "      <td>...</td>\n",
              "      <td>...</td>\n",
              "      <td>...</td>\n",
              "      <td>...</td>\n",
              "      <td>...</td>\n",
              "      <td>...</td>\n",
              "      <td>...</td>\n",
              "      <td>...</td>\n",
              "    </tr>\n",
              "    <tr>\n",
              "      <th>111574</th>\n",
              "      <td>ct4-9908-04</td>\n",
              "      <td>260</td>\n",
              "      <td>C</td>\n",
              "      <td>09/25/2004</td>\n",
              "      <td>06:44</td>\n",
              "      <td>179.470</td>\n",
              "      <td>43.975</td>\n",
              "      <td>65.0</td>\n",
              "      <td>0</td>\n",
              "      <td>5.7521</td>\n",
              "      <td>0</td>\n",
              "      <td>1.0000</td>\n",
              "      <td>NaN</td>\n",
              "    </tr>\n",
              "    <tr>\n",
              "      <th>111575</th>\n",
              "      <td>ct4-9908-04</td>\n",
              "      <td>260</td>\n",
              "      <td>C</td>\n",
              "      <td>09/25/2004</td>\n",
              "      <td>06:44</td>\n",
              "      <td>179.470</td>\n",
              "      <td>43.975</td>\n",
              "      <td>66.0</td>\n",
              "      <td>0</td>\n",
              "      <td>5.6333</td>\n",
              "      <td>0</td>\n",
              "      <td>1.0000</td>\n",
              "      <td>NaN</td>\n",
              "    </tr>\n",
              "    <tr>\n",
              "      <th>111576</th>\n",
              "      <td>ct4-9908-04</td>\n",
              "      <td>260</td>\n",
              "      <td>C</td>\n",
              "      <td>09/25/2004</td>\n",
              "      <td>06:44</td>\n",
              "      <td>179.470</td>\n",
              "      <td>43.975</td>\n",
              "      <td>67.0</td>\n",
              "      <td>0</td>\n",
              "      <td>5.5146</td>\n",
              "      <td>0</td>\n",
              "      <td>1.0000</td>\n",
              "      <td>NaN</td>\n",
              "    </tr>\n",
              "    <tr>\n",
              "      <th>111577</th>\n",
              "      <td>ct4-9908-04</td>\n",
              "      <td>260</td>\n",
              "      <td>C</td>\n",
              "      <td>09/25/2004</td>\n",
              "      <td>06:44</td>\n",
              "      <td>179.470</td>\n",
              "      <td>43.975</td>\n",
              "      <td>68.0</td>\n",
              "      <td>0</td>\n",
              "      <td>5.3959</td>\n",
              "      <td>0</td>\n",
              "      <td>1.0000</td>\n",
              "      <td>NaN</td>\n",
              "    </tr>\n",
              "    <tr>\n",
              "      <th>111578</th>\n",
              "      <td>ct4-9908-04</td>\n",
              "      <td>260</td>\n",
              "      <td>C</td>\n",
              "      <td>09/25/2004</td>\n",
              "      <td>06:44</td>\n",
              "      <td>179.470</td>\n",
              "      <td>43.975</td>\n",
              "      <td>69.0</td>\n",
              "      <td>0</td>\n",
              "      <td>5.2772</td>\n",
              "      <td>0</td>\n",
              "      <td>1.0000</td>\n",
              "      <td>NaN</td>\n",
              "    </tr>\n",
              "  </tbody>\n",
              "</table>\n",
              "<p>111579 rows × 13 columns</p>\n",
              "</div>"
            ],
            "text/plain": [
              "             Cruise  Station Type  ... QF.1 Salinity[PSU]  QF.2\n",
              "0       ct4-9908-04        1    C  ...    0       33.2968   0.0\n",
              "1       ct4-9908-04        1    C  ...    0       33.3088   0.0\n",
              "2       ct4-9908-04        1    C  ...    0       33.3208   0.0\n",
              "3       ct4-9908-04        1    C  ...    0       33.3329   0.0\n",
              "4       ct4-9908-04        1    C  ...    0       33.3449   0.0\n",
              "...             ...      ...  ...  ...  ...           ...   ...\n",
              "111574  ct4-9908-04      260    C  ...    0        1.0000   NaN\n",
              "111575  ct4-9908-04      260    C  ...    0        1.0000   NaN\n",
              "111576  ct4-9908-04      260    C  ...    0        1.0000   NaN\n",
              "111577  ct4-9908-04      260    C  ...    0        1.0000   NaN\n",
              "111578  ct4-9908-04      260    C  ...    0        1.0000   NaN\n",
              "\n",
              "[111579 rows x 13 columns]"
            ]
          },
          "metadata": {
            "tags": []
          },
          "execution_count": 27
        }
      ]
    },
    {
      "cell_type": "code",
      "metadata": {
        "id": "GsPloHdykFce"
      },
      "source": [
        "Tropics = pd.read_csv('https://raw.githubusercontent.com/pyclub-cu/classes/master/data/CTD_for_pyclub_mooringsite.csv', header = 0)         "
      ],
      "execution_count": 42,
      "outputs": []
    },
    {
      "cell_type": "code",
      "metadata": {
        "id": "Y-fCS97RkJvE",
        "outputId": "6c5a1c93-1ebd-4f0e-82d6-a18480a0335e",
        "colab": {
          "base_uri": "https://localhost:8080/",
          "height": 424
        }
      },
      "source": [
        "Tropics"
      ],
      "execution_count": 43,
      "outputs": [
        {
          "output_type": "execute_result",
          "data": {
            "text/html": [
              "<div>\n",
              "<style scoped>\n",
              "    .dataframe tbody tr th:only-of-type {\n",
              "        vertical-align: middle;\n",
              "    }\n",
              "\n",
              "    .dataframe tbody tr th {\n",
              "        vertical-align: top;\n",
              "    }\n",
              "\n",
              "    .dataframe thead th {\n",
              "        text-align: right;\n",
              "    }\n",
              "</style>\n",
              "<table border=\"1\" class=\"dataframe\">\n",
              "  <thead>\n",
              "    <tr style=\"text-align: right;\">\n",
              "      <th></th>\n",
              "      <th>pressure</th>\n",
              "      <th>depth</th>\n",
              "      <th>temperature</th>\n",
              "      <th>Salinity</th>\n",
              "      <th>density</th>\n",
              "      <th>oxygen</th>\n",
              "    </tr>\n",
              "  </thead>\n",
              "  <tbody>\n",
              "    <tr>\n",
              "      <th>0</th>\n",
              "      <td>2</td>\n",
              "      <td>1.989</td>\n",
              "      <td>29.0046</td>\n",
              "      <td>33.8873</td>\n",
              "      <td>1021.2380</td>\n",
              "      <td>2.92979</td>\n",
              "    </tr>\n",
              "    <tr>\n",
              "      <th>1</th>\n",
              "      <td>3</td>\n",
              "      <td>2.983</td>\n",
              "      <td>28.5072</td>\n",
              "      <td>33.9911</td>\n",
              "      <td>1021.4852</td>\n",
              "      <td>3.07316</td>\n",
              "    </tr>\n",
              "    <tr>\n",
              "      <th>2</th>\n",
              "      <td>4</td>\n",
              "      <td>3.978</td>\n",
              "      <td>28.4227</td>\n",
              "      <td>34.0155</td>\n",
              "      <td>1021.5356</td>\n",
              "      <td>2.97615</td>\n",
              "    </tr>\n",
              "    <tr>\n",
              "      <th>3</th>\n",
              "      <td>5</td>\n",
              "      <td>4.972</td>\n",
              "      <td>28.4160</td>\n",
              "      <td>34.0162</td>\n",
              "      <td>1021.5426</td>\n",
              "      <td>3.35803</td>\n",
              "    </tr>\n",
              "    <tr>\n",
              "      <th>4</th>\n",
              "      <td>6</td>\n",
              "      <td>5.967</td>\n",
              "      <td>28.3491</td>\n",
              "      <td>34.0355</td>\n",
              "      <td>1021.5833</td>\n",
              "      <td>3.55787</td>\n",
              "    </tr>\n",
              "    <tr>\n",
              "      <th>...</th>\n",
              "      <td>...</td>\n",
              "      <td>...</td>\n",
              "      <td>...</td>\n",
              "      <td>...</td>\n",
              "      <td>...</td>\n",
              "      <td>...</td>\n",
              "    </tr>\n",
              "    <tr>\n",
              "      <th>2016</th>\n",
              "      <td>2018</td>\n",
              "      <td>1997.279</td>\n",
              "      <td>3.6856</td>\n",
              "      <td>34.6069</td>\n",
              "      <td>1036.7238</td>\n",
              "      <td>1.31071</td>\n",
              "    </tr>\n",
              "    <tr>\n",
              "      <th>2017</th>\n",
              "      <td>2019</td>\n",
              "      <td>1998.264</td>\n",
              "      <td>3.6832</td>\n",
              "      <td>34.6070</td>\n",
              "      <td>1036.7287</td>\n",
              "      <td>1.30772</td>\n",
              "    </tr>\n",
              "    <tr>\n",
              "      <th>2018</th>\n",
              "      <td>2020</td>\n",
              "      <td>1999.249</td>\n",
              "      <td>3.6836</td>\n",
              "      <td>34.6071</td>\n",
              "      <td>1036.7332</td>\n",
              "      <td>1.31057</td>\n",
              "    </tr>\n",
              "    <tr>\n",
              "      <th>2019</th>\n",
              "      <td>2021</td>\n",
              "      <td>2000.234</td>\n",
              "      <td>3.6842</td>\n",
              "      <td>34.6070</td>\n",
              "      <td>1036.7375</td>\n",
              "      <td>1.31041</td>\n",
              "    </tr>\n",
              "    <tr>\n",
              "      <th>2020</th>\n",
              "      <td>2022</td>\n",
              "      <td>2001.219</td>\n",
              "      <td>3.6834</td>\n",
              "      <td>34.6069</td>\n",
              "      <td>1036.7421</td>\n",
              "      <td>1.30800</td>\n",
              "    </tr>\n",
              "  </tbody>\n",
              "</table>\n",
              "<p>2021 rows × 6 columns</p>\n",
              "</div>"
            ],
            "text/plain": [
              "      pressure     depth  temperature  Salinity    density   oxygen\n",
              "0            2     1.989      29.0046   33.8873  1021.2380  2.92979\n",
              "1            3     2.983      28.5072   33.9911  1021.4852  3.07316\n",
              "2            4     3.978      28.4227   34.0155  1021.5356  2.97615\n",
              "3            5     4.972      28.4160   34.0162  1021.5426  3.35803\n",
              "4            6     5.967      28.3491   34.0355  1021.5833  3.55787\n",
              "...        ...       ...          ...       ...        ...      ...\n",
              "2016      2018  1997.279       3.6856   34.6069  1036.7238  1.31071\n",
              "2017      2019  1998.264       3.6832   34.6070  1036.7287  1.30772\n",
              "2018      2020  1999.249       3.6836   34.6071  1036.7332  1.31057\n",
              "2019      2021  2000.234       3.6842   34.6070  1036.7375  1.31041\n",
              "2020      2022  2001.219       3.6834   34.6069  1036.7421  1.30800\n",
              "\n",
              "[2021 rows x 6 columns]"
            ]
          },
          "metadata": {
            "tags": []
          },
          "execution_count": 43
        }
      ]
    },
    {
      "cell_type": "code",
      "metadata": {
        "id": "wOz-ORXalFbJ"
      },
      "source": [
        ""
      ],
      "execution_count": null,
      "outputs": []
    }
  ]
}