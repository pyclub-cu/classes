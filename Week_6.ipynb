{
  "nbformat": 4,
  "nbformat_minor": 0,
  "metadata": {
    "kernelspec": {
      "display_name": "Python 3",
      "language": "python",
      "name": "python3"
    },
    "language_info": {
      "codemirror_mode": {
        "name": "ipython",
        "version": 3
      },
      "file_extension": ".py",
      "mimetype": "text/x-python",
      "name": "python",
      "nbconvert_exporter": "python",
      "pygments_lexer": "ipython3",
      "version": "3.7.3"
    },
    "colab": {
      "name": "Week_6.ipynb",
      "provenance": [],
      "include_colab_link": true
    }
  },
  "cells": [
    {
      "cell_type": "markdown",
      "metadata": {
        "id": "view-in-github",
        "colab_type": "text"
      },
      "source": [
        "<a href=\"https://colab.research.google.com/github/pyclub-cu/classes/blob/master/Week_6.ipynb\" target=\"_parent\"><img src=\"https://colab.research.google.com/assets/colab-badge.svg\" alt=\"Open In Colab\"/></a>"
      ]
    },
    {
      "cell_type": "markdown",
      "metadata": {
        "id": "rw-GKA8Rd8Sp"
      },
      "source": [
        "#**Using pandas to work with data**"
      ]
    },
    {
      "cell_type": "markdown",
      "metadata": {
        "id": "WwE82SYGSN3j"
      },
      "source": [
        "# This week's goals:\n",
        "\n",
        "\n",
        "- Learn about CTDs\n",
        "\n",
        "- What are python packages? (review)\n",
        "\n",
        "- Open   some   data   using the python \"pandas\" package \n",
        "\n",
        "- Find   maximum   and   minimum \n",
        "\n",
        "- Find   mean \n",
        "\n",
        "- Make   a   new   column (maybe better in next lesson where Laura calculates density)\n",
        "\n",
        "- Review   best   coding   practices "
      ]
    },
    {
      "cell_type": "code",
      "metadata": {
        "colab": {
          "base_uri": "https://localhost:8080/",
          "height": 291
        },
        "id": "MssjmfAsiA5Q",
        "outputId": "2155fde8-36b1-49bf-d468-dafb30be8d0e"
      },
      "source": [
        "from IPython.display import Image\r\n",
        "from IPython.core.display import HTML \r\n",
        "Image(url= \"https://media.giphy.com/media/QYwMxfDpoH3VBfPEET/giphy.gif\")"
      ],
      "execution_count": 2,
      "outputs": [
        {
          "output_type": "execute_result",
          "data": {
            "text/html": [
              "<img src=\"https://media.giphy.com/media/QYwMxfDpoH3VBfPEET/giphy.gif\"/>"
            ],
            "text/plain": [
              "<IPython.core.display.Image object>"
            ]
          },
          "metadata": {
            "tags": []
          },
          "execution_count": 2
        }
      ]
    },
    {
      "cell_type": "markdown",
      "metadata": {
        "id": "kvG0q_7RhzlI"
      },
      "source": [
        "#Ice breaker\r\n",
        "\r\n",
        "What show is this gif from? \\\r\n",
        "What does this seal below have in common with an Argo float?"
      ]
    },
    {
      "cell_type": "code",
      "metadata": {
        "colab": {
          "base_uri": "https://localhost:8080/",
          "height": 761
        },
        "id": "B0tGnB4wSN3l",
        "outputId": "5138cac5-823c-4bb7-8ec2-e6073a01eb13"
      },
      "source": [
        "Image(url= \"https://static.skepticalscience.com/pics/Weddell_Seal_DanCosta.jpg\")"
      ],
      "execution_count": 2,
      "outputs": [
        {
          "output_type": "execute_result",
          "data": {
            "text/html": [
              "<img src=\"https://static.skepticalscience.com/pics/Weddell_Seal_DanCosta.jpg\"/>"
            ],
            "text/plain": [
              "<IPython.core.display.Image object>"
            ]
          },
          "metadata": {
            "tags": []
          },
          "execution_count": 2
        }
      ]
    },
    {
      "cell_type": "markdown",
      "metadata": {
        "id": "oUSrm7w5sUmd"
      },
      "source": [
        "#CTDs!! What are they?\r\n",
        "Arguably the most important instrument package in oceanography. CTD stands for: \r\n",
        "- **C**onductivity (as in electrical conductivity... which we use to measure salinity! Salts are ionic compounds, meaning they carry a charge that we can quantify)\r\n",
        "- **T**emperature \r\n",
        "- **D**epth (as calculated from measurements by a pressure sensor! Pressure increases approximately 10 decibars every 10 meters you go down from the surface, so if you have a pressure measurements, you have a depth)\r\n",
        "\r\n",
        "As a professor in our department likes to say, CTDs are the bread and butter of oceanography.\r\n",
        "\r\n",
        "This is because **temperature and salinity are a fundamental way to understand what's happening in the ocean**. Where are water masses coming and going? How are they being mixed together? What kind of microorganisms can live here? How much Co2 can this water hold? \r\n",
        "\r\n",
        "Even ocean modellers who never set food on a research vessel rely on CTD measurements to run and check their models.\r\n",
        "\r\n",
        "*Today we'll look at CTD data taken by a seal in Antarctica!* \r\n",
        "\r\n"
      ]
    },
    {
      "cell_type": "markdown",
      "metadata": {
        "id": "a-fvqNbzZP_e"
      },
      "source": [
        "Before we work with CTD data though...\r\n",
        "\r\n",
        "#How do we import data files into python?\r\n",
        "\r\n",
        "One very useful tool for doing so is \"pandas\"."
      ]
    },
    {
      "cell_type": "code",
      "metadata": {
        "colab": {
          "base_uri": "https://localhost:8080/",
          "height": 286
        },
        "id": "SKFmZFo2ZUsw",
        "outputId": "cb22419e-91d7-4bb7-b5d9-c52f4407d328"
      },
      "source": [
        "Image(url= \"https://media.giphy.com/media/z6xE1olZ5YP4I/giphy.gif\")"
      ],
      "execution_count": 3,
      "outputs": [
        {
          "output_type": "execute_result",
          "data": {
            "text/html": [
              "<img src=\"https://media.giphy.com/media/z6xE1olZ5YP4I/giphy.gif\"/>"
            ],
            "text/plain": [
              "<IPython.core.display.Image object>"
            ]
          },
          "metadata": {
            "tags": []
          },
          "execution_count": 3
        }
      ]
    },
    {
      "cell_type": "markdown",
      "metadata": {
        "id": "3uPY3V8gaHFN"
      },
      "source": [
        "Pandas is a python package, which we learned last week is a library of functions packaged together to help with a specific aspect of data analysis - a toolbox of sorts. The pandas package is a toolbox for viewing and perfoming calculations on tabular data.\r\n",
        "\r\n",
        "Tabular data is just data that comes in rows and columns (think Microsoft Excel). This is how instruments output the data they have acquired, so as an oceanographer, you will be working with tabular data often! You'll see it come in file formats such as *.csv* and *.txt*. "
      ]
    },
    {
      "cell_type": "markdown",
      "metadata": {
        "id": "QNHh6bx5NyOx"
      },
      "source": [
        "##Step 1: Look at our data\r\n",
        "\r\n",
        "This is CTD data collected by a seal in Antarctica! \r\n",
        "https://raw.githubusercontent.com/pyclub-cu/classes/master/data/ct4-9908-04_ODV.csv\r\n",
        "\r\n",
        "What kind of data do we have? \\\r\n",
        "How is this data delimited?"
      ]
    },
    {
      "cell_type": "markdown",
      "metadata": {
        "id": "4CdCHIrhII49"
      },
      "source": [
        "##Step 2: Import the pandas package so we can use it to open our data in python\r\n",
        "\r\n",
        "We import packages into our python workspace with the following syntax:\r\n"
      ]
    },
    {
      "cell_type": "code",
      "metadata": {
        "id": "_u0o4eHwIjHd"
      },
      "source": [
        "import name of package "
      ],
      "execution_count": null,
      "outputs": []
    },
    {
      "cell_type": "markdown",
      "metadata": {
        "id": "x9IRqtfeIwkg"
      },
      "source": [
        "Using this syntax, import the pandas package below"
      ]
    },
    {
      "cell_type": "code",
      "metadata": {
        "id": "uhO-E5N_IuA3"
      },
      "source": [
        "#your code here"
      ],
      "execution_count": 11,
      "outputs": []
    },
    {
      "cell_type": "markdown",
      "metadata": {
        "id": "ZOBnverBKZFo"
      },
      "source": [
        "Woohoo! Now we can use any and all of the functions that make up the pandas library : )\r\n",
        "\r\n"
      ]
    },
    {
      "cell_type": "markdown",
      "metadata": {
        "id": "P2DH-CDUa7ZH"
      },
      "source": [
        "##Step 3: Use panda's \"read_csv\" function to import and view our .csv file"
      ]
    },
    {
      "cell_type": "markdown",
      "metadata": {
        "id": "dxKX5aEMa5n_"
      },
      "source": [
        "In python, we call functions like this:"
      ]
    },
    {
      "cell_type": "code",
      "metadata": {
        "id": "4JTs5PFDLMj4"
      },
      "source": [
        "pandas.read_csv('filename.csv') #the text inside parenthesis of a function is the inputs\r\n",
        "#here we are inputting the name of the tabular data file we want to look at"
      ],
      "execution_count": null,
      "outputs": []
    },
    {
      "cell_type": "markdown",
      "metadata": {
        "id": "VEYmYNK-MFBx"
      },
      "source": [
        "Following the syntax above, try import our CTD data file: \r\n",
        "\r\n",
        "\r\n",
        "https://raw.githubusercontent.com/pyclub-cu/classes/master/data/ct4-9908-04_ODV.csv\r\n",
        "\r\n",
        "Make sure the filename is a string, ie. in 'commas'"
      ]
    },
    {
      "cell_type": "code",
      "metadata": {
        "id": "YO_Y_qYjQX40"
      },
      "source": [
        "#your code here"
      ],
      "execution_count": null,
      "outputs": []
    },
    {
      "cell_type": "markdown",
      "metadata": {
        "id": "5ybdioIiQYT8"
      },
      "source": [
        "We did it! But... looks a little weird, huh. All smooshed together. How can we fix this?\r\n",
        "\r\n",
        "The \"read_csv\" function can take more inputs than just the file name, including things that tell it how the data file is formatted. For a full list of possible inputs into a function, type it out followed by a question mark.\r\n",
        "\r\n",
        "Execute the cell below. What do you see?"
      ]
    },
    {
      "cell_type": "code",
      "metadata": {
        "id": "AWfX13y8T38Z"
      },
      "source": [
        "pandas.read_csv?"
      ],
      "execution_count": 15,
      "outputs": []
    },
    {
      "cell_type": "markdown",
      "metadata": {
        "id": "2tnXBzE3cLkq"
      },
      "source": [
        "To better read in our data file, we are going to tell the function two things:\r\n",
        "\r\n",
        "- The \"header line\" is the 2nd line of the file\r\n",
        "- The data are delimited by white space \r\n",
        "\r\n",
        "Note the extra function inputs in the cell below and execute!"
      ]
    },
    {
      "cell_type": "code",
      "metadata": {
        "colab": {
          "base_uri": "https://localhost:8080/",
          "height": 424
        },
        "id": "s3yqG4-TtF8Z",
        "outputId": "b5f939b3-d79f-4b89-e6ff-24495c5e18d8"
      },
      "source": [
        "pandas.read_csv('https://raw.githubusercontent.com/pyclub-cu/classes/master/data/ct4-9908-04_ODV.csv', header = 1, delim_whitespace=True)"
      ],
      "execution_count": 31,
      "outputs": [
        {
          "output_type": "execute_result",
          "data": {
            "text/html": [
              "<div>\n",
              "<style scoped>\n",
              "    .dataframe tbody tr th:only-of-type {\n",
              "        vertical-align: middle;\n",
              "    }\n",
              "\n",
              "    .dataframe tbody tr th {\n",
              "        vertical-align: top;\n",
              "    }\n",
              "\n",
              "    .dataframe thead th {\n",
              "        text-align: right;\n",
              "    }\n",
              "</style>\n",
              "<table border=\"1\" class=\"dataframe\">\n",
              "  <thead>\n",
              "    <tr style=\"text-align: right;\">\n",
              "      <th></th>\n",
              "      <th>Cruise</th>\n",
              "      <th>Station</th>\n",
              "      <th>Type</th>\n",
              "      <th>mon/day/yr</th>\n",
              "      <th>hh:mm</th>\n",
              "      <th>Longitude</th>\n",
              "      <th>Latitude</th>\n",
              "      <th>Depth</th>\n",
              "      <th>QF</th>\n",
              "      <th>Temperature</th>\n",
              "      <th>QF.1</th>\n",
              "      <th>Salinity</th>\n",
              "      <th>QF.2</th>\n",
              "    </tr>\n",
              "  </thead>\n",
              "  <tbody>\n",
              "    <tr>\n",
              "      <th>0</th>\n",
              "      <td>ct4-9908-04</td>\n",
              "      <td>1</td>\n",
              "      <td>C</td>\n",
              "      <td>06/11/2004</td>\n",
              "      <td>08:42</td>\n",
              "      <td>-122.899</td>\n",
              "      <td>37.203</td>\n",
              "      <td>5.0</td>\n",
              "      <td>0</td>\n",
              "      <td>11.8270</td>\n",
              "      <td>0</td>\n",
              "      <td>33.2968</td>\n",
              "      <td>0.0</td>\n",
              "    </tr>\n",
              "    <tr>\n",
              "      <th>1</th>\n",
              "      <td>ct4-9908-04</td>\n",
              "      <td>1</td>\n",
              "      <td>C</td>\n",
              "      <td>06/11/2004</td>\n",
              "      <td>08:42</td>\n",
              "      <td>-122.899</td>\n",
              "      <td>37.203</td>\n",
              "      <td>6.0</td>\n",
              "      <td>0</td>\n",
              "      <td>11.7647</td>\n",
              "      <td>0</td>\n",
              "      <td>33.3088</td>\n",
              "      <td>0.0</td>\n",
              "    </tr>\n",
              "    <tr>\n",
              "      <th>2</th>\n",
              "      <td>ct4-9908-04</td>\n",
              "      <td>1</td>\n",
              "      <td>C</td>\n",
              "      <td>06/11/2004</td>\n",
              "      <td>08:42</td>\n",
              "      <td>-122.899</td>\n",
              "      <td>37.203</td>\n",
              "      <td>7.0</td>\n",
              "      <td>0</td>\n",
              "      <td>11.7024</td>\n",
              "      <td>0</td>\n",
              "      <td>33.3208</td>\n",
              "      <td>0.0</td>\n",
              "    </tr>\n",
              "    <tr>\n",
              "      <th>3</th>\n",
              "      <td>ct4-9908-04</td>\n",
              "      <td>1</td>\n",
              "      <td>C</td>\n",
              "      <td>06/11/2004</td>\n",
              "      <td>08:42</td>\n",
              "      <td>-122.899</td>\n",
              "      <td>37.203</td>\n",
              "      <td>8.0</td>\n",
              "      <td>0</td>\n",
              "      <td>11.6401</td>\n",
              "      <td>0</td>\n",
              "      <td>33.3329</td>\n",
              "      <td>0.0</td>\n",
              "    </tr>\n",
              "    <tr>\n",
              "      <th>4</th>\n",
              "      <td>ct4-9908-04</td>\n",
              "      <td>1</td>\n",
              "      <td>C</td>\n",
              "      <td>06/11/2004</td>\n",
              "      <td>08:42</td>\n",
              "      <td>-122.899</td>\n",
              "      <td>37.203</td>\n",
              "      <td>9.0</td>\n",
              "      <td>0</td>\n",
              "      <td>11.5778</td>\n",
              "      <td>0</td>\n",
              "      <td>33.3449</td>\n",
              "      <td>0.0</td>\n",
              "    </tr>\n",
              "    <tr>\n",
              "      <th>...</th>\n",
              "      <td>...</td>\n",
              "      <td>...</td>\n",
              "      <td>...</td>\n",
              "      <td>...</td>\n",
              "      <td>...</td>\n",
              "      <td>...</td>\n",
              "      <td>...</td>\n",
              "      <td>...</td>\n",
              "      <td>...</td>\n",
              "      <td>...</td>\n",
              "      <td>...</td>\n",
              "      <td>...</td>\n",
              "      <td>...</td>\n",
              "    </tr>\n",
              "    <tr>\n",
              "      <th>111574</th>\n",
              "      <td>ct4-9908-04</td>\n",
              "      <td>260</td>\n",
              "      <td>C</td>\n",
              "      <td>09/25/2004</td>\n",
              "      <td>06:44</td>\n",
              "      <td>179.470</td>\n",
              "      <td>43.975</td>\n",
              "      <td>65.0</td>\n",
              "      <td>0</td>\n",
              "      <td>5.7521</td>\n",
              "      <td>0</td>\n",
              "      <td>1.0000</td>\n",
              "      <td>NaN</td>\n",
              "    </tr>\n",
              "    <tr>\n",
              "      <th>111575</th>\n",
              "      <td>ct4-9908-04</td>\n",
              "      <td>260</td>\n",
              "      <td>C</td>\n",
              "      <td>09/25/2004</td>\n",
              "      <td>06:44</td>\n",
              "      <td>179.470</td>\n",
              "      <td>43.975</td>\n",
              "      <td>66.0</td>\n",
              "      <td>0</td>\n",
              "      <td>5.6333</td>\n",
              "      <td>0</td>\n",
              "      <td>1.0000</td>\n",
              "      <td>NaN</td>\n",
              "    </tr>\n",
              "    <tr>\n",
              "      <th>111576</th>\n",
              "      <td>ct4-9908-04</td>\n",
              "      <td>260</td>\n",
              "      <td>C</td>\n",
              "      <td>09/25/2004</td>\n",
              "      <td>06:44</td>\n",
              "      <td>179.470</td>\n",
              "      <td>43.975</td>\n",
              "      <td>67.0</td>\n",
              "      <td>0</td>\n",
              "      <td>5.5146</td>\n",
              "      <td>0</td>\n",
              "      <td>1.0000</td>\n",
              "      <td>NaN</td>\n",
              "    </tr>\n",
              "    <tr>\n",
              "      <th>111577</th>\n",
              "      <td>ct4-9908-04</td>\n",
              "      <td>260</td>\n",
              "      <td>C</td>\n",
              "      <td>09/25/2004</td>\n",
              "      <td>06:44</td>\n",
              "      <td>179.470</td>\n",
              "      <td>43.975</td>\n",
              "      <td>68.0</td>\n",
              "      <td>0</td>\n",
              "      <td>5.3959</td>\n",
              "      <td>0</td>\n",
              "      <td>1.0000</td>\n",
              "      <td>NaN</td>\n",
              "    </tr>\n",
              "    <tr>\n",
              "      <th>111578</th>\n",
              "      <td>ct4-9908-04</td>\n",
              "      <td>260</td>\n",
              "      <td>C</td>\n",
              "      <td>09/25/2004</td>\n",
              "      <td>06:44</td>\n",
              "      <td>179.470</td>\n",
              "      <td>43.975</td>\n",
              "      <td>69.0</td>\n",
              "      <td>0</td>\n",
              "      <td>5.2772</td>\n",
              "      <td>0</td>\n",
              "      <td>1.0000</td>\n",
              "      <td>NaN</td>\n",
              "    </tr>\n",
              "  </tbody>\n",
              "</table>\n",
              "<p>111579 rows × 13 columns</p>\n",
              "</div>"
            ],
            "text/plain": [
              "             Cruise  Station Type  ... QF.1 Salinity  QF.2\n",
              "0       ct4-9908-04        1    C  ...    0  33.2968   0.0\n",
              "1       ct4-9908-04        1    C  ...    0  33.3088   0.0\n",
              "2       ct4-9908-04        1    C  ...    0  33.3208   0.0\n",
              "3       ct4-9908-04        1    C  ...    0  33.3329   0.0\n",
              "4       ct4-9908-04        1    C  ...    0  33.3449   0.0\n",
              "...             ...      ...  ...  ...  ...      ...   ...\n",
              "111574  ct4-9908-04      260    C  ...    0   1.0000   NaN\n",
              "111575  ct4-9908-04      260    C  ...    0   1.0000   NaN\n",
              "111576  ct4-9908-04      260    C  ...    0   1.0000   NaN\n",
              "111577  ct4-9908-04      260    C  ...    0   1.0000   NaN\n",
              "111578  ct4-9908-04      260    C  ...    0   1.0000   NaN\n",
              "\n",
              "[111579 rows x 13 columns]"
            ]
          },
          "metadata": {
            "tags": []
          },
          "execution_count": 31
        }
      ]
    },
    {
      "cell_type": "markdown",
      "metadata": {
        "id": "NmMRUwYpdSyE"
      },
      "source": [
        "Phew, looks much better : ) This table a pandas \"dataframe\". Dataframes are python objects, just like strings and integers are objects."
      ]
    },
    {
      "cell_type": "markdown",
      "metadata": {
        "id": "9riq8rMJdsL8"
      },
      "source": [
        "#Now... let's play with the data!"
      ]
    },
    {
      "cell_type": "markdown",
      "metadata": {
        "id": "hPLVh5a3gEMh"
      },
      "source": [
        "Just like other variables we've worked with, we want to give this data frame a name. Let's call it seal_data."
      ]
    },
    {
      "cell_type": "code",
      "metadata": {
        "id": "q4fM6MnEdttj"
      },
      "source": [
        "seal_data = pandas.read_csv('https://raw.githubusercontent.com/pyclub-cu/classes/master/data/ct4-9908-04_ODV.csv', header = 1, delim_whitespace=True)"
      ],
      "execution_count": 32,
      "outputs": []
    },
    {
      "cell_type": "markdown",
      "metadata": {
        "id": "zoIIBAokgTvc"
      },
      "source": [
        "Let's say we only want to focus on one of the variables for now - salinity. How do we that? \r\n",
        "\r\n",
        "There are two ways to index dataframe variables."
      ]
    },
    {
      "cell_type": "code",
      "metadata": {
        "id": "Dw68lcWYit3c",
        "outputId": "6d77fe40-aec4-41c6-ca45-0e948af317ac",
        "colab": {
          "base_uri": "https://localhost:8080/"
        }
      },
      "source": [
        "seal_data.Salinity #using dot syntax"
      ],
      "execution_count": 36,
      "outputs": [
        {
          "output_type": "execute_result",
          "data": {
            "text/plain": [
              "0         33.2968\n",
              "1         33.3088\n",
              "2         33.3208\n",
              "3         33.3329\n",
              "4         33.3449\n",
              "           ...   \n",
              "111574     1.0000\n",
              "111575     1.0000\n",
              "111576     1.0000\n",
              "111577     1.0000\n",
              "111578     1.0000\n",
              "Name: Salinity, Length: 111579, dtype: float64"
            ]
          },
          "metadata": {
            "tags": []
          },
          "execution_count": 36
        }
      ]
    },
    {
      "cell_type": "code",
      "metadata": {
        "id": "cwzbtvmyjGRC",
        "outputId": "78b3a911-5f78-4121-d192-f6e5c4e662ef",
        "colab": {
          "base_uri": "https://localhost:8080/"
        }
      },
      "source": [
        "seal_data['Salinity'] #using brackets "
      ],
      "execution_count": 35,
      "outputs": [
        {
          "output_type": "execute_result",
          "data": {
            "text/plain": [
              "0         33.2968\n",
              "1         33.3088\n",
              "2         33.3208\n",
              "3         33.3329\n",
              "4         33.3449\n",
              "           ...   \n",
              "111574     1.0000\n",
              "111575     1.0000\n",
              "111576     1.0000\n",
              "111577     1.0000\n",
              "111578     1.0000\n",
              "Name: Salinity, Length: 111579, dtype: float64"
            ]
          },
          "metadata": {
            "tags": []
          },
          "execution_count": 35
        }
      ]
    },
    {
      "cell_type": "markdown",
      "metadata": {
        "id": "SV1Tkg3SjZgQ"
      },
      "source": [
        "Try using either the dot or bracket syntax to extract Temperature!"
      ]
    },
    {
      "cell_type": "code",
      "metadata": {
        "id": "5-y_xaz8jf0w"
      },
      "source": [
        "#your code here"
      ],
      "execution_count": null,
      "outputs": []
    },
    {
      "cell_type": "markdown",
      "metadata": {
        "id": "ieGkj4c4kdXY"
      },
      "source": [
        "Notice that depth, temperature, and salinity columns are followed by columns called \"QF\".\r\n",
        "\r\n",
        "What could that be... (hint: think back to Spencer's lesson!)"
      ]
    },
    {
      "cell_type": "markdown",
      "metadata": {
        "id": "5lioMY58mIUV"
      },
      "source": [
        "Let's remove the bad salinity data!"
      ]
    },
    {
      "cell_type": "code",
      "metadata": {
        "id": "nL6-oTzKgBlO",
        "outputId": "d1ae6df8-a4dd-46fb-8da4-2d67e563939c",
        "colab": {
          "base_uri": "https://localhost:8080/"
        }
      },
      "source": [
        "salinity = seal_data.Salinity.where(seal_data['QF.2'].notna() == True)\r\n",
        "salinity\r\n",
        "                                  "
      ],
      "execution_count": 51,
      "outputs": [
        {
          "output_type": "execute_result",
          "data": {
            "text/plain": [
              "0         33.2968\n",
              "1         33.3088\n",
              "2         33.3208\n",
              "3         33.3329\n",
              "4         33.3449\n",
              "           ...   \n",
              "111574        NaN\n",
              "111575        NaN\n",
              "111576        NaN\n",
              "111577        NaN\n",
              "111578        NaN\n",
              "Name: Salinity, Length: 111579, dtype: float64"
            ]
          },
          "metadata": {
            "tags": []
          },
          "execution_count": 51
        }
      ]
    },
    {
      "cell_type": "markdown",
      "metadata": {
        "id": "uwYIaZ0mmSMp"
      },
      "source": [
        "What is the minimum, maximum, and mean salinity that this seal has measured?"
      ]
    },
    {
      "cell_type": "code",
      "metadata": {
        "id": "Uwjjcuw4gbtw",
        "outputId": "67ac9b0f-d0e9-4cb3-9e1a-3d35330b1c2f",
        "colab": {
          "base_uri": "https://localhost:8080/"
        }
      },
      "source": [
        "print('The minimum salinity is ' + str(salinity.min()))\r\n",
        "print('The maximum salinity is ' + str(salinity.max()))\r\n",
        "print('The mean salinity is ' + str(salinity.mean()))"
      ],
      "execution_count": 59,
      "outputs": [
        {
          "output_type": "stream",
          "text": [
            "The minimum salinity is31.9908\n",
            "The maximum salinity is34.2432\n",
            "The mean salinity is33.76876016047914\n"
          ],
          "name": "stdout"
        }
      ]
    },
    {
      "cell_type": "markdown",
      "metadata": {
        "id": "B2EsDZF2oWCK"
      },
      "source": [
        "#Let's take a breather. Any questions so far? : )"
      ]
    },
    {
      "cell_type": "code",
      "metadata": {
        "id": "JMDdZ-XDoOaH",
        "outputId": "0ad1f9d9-00bd-48e2-8e8e-12d15b0ca7c9",
        "colab": {
          "base_uri": "https://localhost:8080/",
          "height": 381
        }
      },
      "source": [
        "Image(url='https://cdn.the-scientist.com/assets/articleNo/32598/iImg/6278/e58dd2a0-02b2-4052-9508-4a0145c6f7a4-notebook1.jpg')"
      ],
      "execution_count": 60,
      "outputs": [
        {
          "output_type": "execute_result",
          "data": {
            "text/html": [
              "<img src=\"https://cdn.the-scientist.com/assets/articleNo/32598/iImg/6278/e58dd2a0-02b2-4052-9508-4a0145c6f7a4-notebook1.jpg\"/>"
            ],
            "text/plain": [
              "<IPython.core.display.Image object>"
            ]
          },
          "metadata": {
            "tags": []
          },
          "execution_count": 60
        }
      ]
    },
    {
      "cell_type": "markdown",
      "metadata": {
        "id": "8sOyeNLZmZM6"
      },
      "source": [
        "Now, try finding the minimum and maximum temperatures yourself. Remember to first create your temperature object, the same way we created the salinity object!"
      ]
    },
    {
      "cell_type": "code",
      "metadata": {
        "id": "reLW86QYmWUw"
      },
      "source": [
        "#your code here"
      ],
      "execution_count": null,
      "outputs": []
    },
    {
      "cell_type": "markdown",
      "metadata": {
        "id": "cUukyi2OnLOj"
      },
      "source": [
        "How about the deepest depth this seal has dived? "
      ]
    },
    {
      "cell_type": "code",
      "metadata": {
        "id": "69vAcxkxnPpr"
      },
      "source": [
        "#your code here"
      ],
      "execution_count": null,
      "outputs": []
    }
  ]
}