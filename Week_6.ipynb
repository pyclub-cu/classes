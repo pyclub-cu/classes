{
 "cells": [
  {
   "cell_type": "code",
   "execution_count": 1,
   "metadata": {},
   "outputs": [],
   "source": [
    "#Using pandas to open .csv files!\n",
    "#Una"
   ]
  },
  {
   "cell_type": "markdown",
   "metadata": {},
   "source": [
    "# This week's goals:\n",
    "\n",
    "\n",
    "- Learn about CTDs\n",
    "\n",
    "- Open   some   data   using   pandas \n",
    "\n",
    "- Find   maximum   and   minimum \n",
    "\n",
    "- Find   mean \n",
    "\n",
    "- Make   a   new   column \n",
    "\n",
    "- Review   best   coding   practices "
   ]
  },
  {
   "cell_type": "markdown",
   "metadata": {},
   "source": [
    "# What do this seal and an Argo float have in common? \n"
   ]
  },
  {
   "cell_type": "code",
   "execution_count": 2,
   "metadata": {},
   "outputs": [
    {
     "data": {
      "text/html": [
       "<img src=\"https://static.skepticalscience.com/pics/Weddell_Seal_DanCosta.jpg\"/>"
      ],
      "text/plain": [
       "<IPython.core.display.Image object>"
      ]
     },
     "execution_count": 2,
     "metadata": {},
     "output_type": "execute_result"
    }
   ],
   "source": [
    "from IPython.display import Image\n",
    "from IPython.core.display import HTML \n",
    "Image(url= \"https://static.skepticalscience.com/pics/Weddell_Seal_DanCosta.jpg\")"
   ]
  },
  {
   "cell_type": "markdown",
   "metadata": {},
   "source": [
    "# They are both collecting measurements of salinity and temperature in the ocean! \n",
    "\n",
    "They do so with what we call a \"CTD package\", where CTD stands for:\n",
    "- Conductivity (as in electrical conductivity... salts are ionic compounds, meaning they carry a charge that we can use to estimate how salty) the water is \n",
    "- Temperature (self explanatory c: )\n",
    "- Depth (estimated from pressure. Pressure increases approximately 10 decibars every 10 meters you go down from the surface)\n"
   ]
  },
  {
   "cell_type": "markdown",
   "metadata": {},
   "source": [
    "# As a professor in our department likes to say, CTDs are the bread and butter of oceanography. \n",
    "\n",
    "This is because temperature and salinity are a fundamental way to understand what's happening in the ocean. Where are water masses coming and going? How are they being mixed together? What kind of microorganisms can live here? How much Co2 can this water hold? \n",
    "\n",
    "Today we'll work with some CTD depth profiles and compare how they differ between two very different places on Earth - the sunny tropics and freezing-cold Antarctica! And once you're worked with CTD data, you're a true oceanographer. \n"
   ]
  },
  {
   "cell_type": "markdown",
   "metadata": {},
   "source": []
  },
  {
   "cell_type": "code",
   "execution_count": null,
   "metadata": {},
   "outputs": [],
   "source": [
    "Polar   vs   Tropical   CTD (salinity   and temperature   profiles) "
   ]
  }
 ],
 "metadata": {
  "kernelspec": {
   "display_name": "Python 3",
   "language": "python",
   "name": "python3"
  },
  "language_info": {
   "codemirror_mode": {
    "name": "ipython",
    "version": 3
   },
   "file_extension": ".py",
   "mimetype": "text/x-python",
   "name": "python",
   "nbconvert_exporter": "python",
   "pygments_lexer": "ipython3",
   "version": "3.7.3"
  }
 },
 "nbformat": 4,
 "nbformat_minor": 4
}
