{
  "nbformat": 4,
  "nbformat_minor": 0,
  "metadata": {
    "kernelspec": {
      "display_name": "Python 3",
      "language": "python",
      "name": "python3"
    },
    "language_info": {
      "codemirror_mode": {
        "name": "ipython",
        "version": 3
      },
      "file_extension": ".py",
      "mimetype": "text/x-python",
      "name": "python",
      "nbconvert_exporter": "python",
      "pygments_lexer": "ipython3",
      "version": "3.7.3"
    },
    "colab": {
      "name": "Week_6.ipynb",
      "provenance": [],
      "include_colab_link": true
    }
  },
  "cells": [
    {
      "cell_type": "markdown",
      "metadata": {
        "id": "view-in-github",
        "colab_type": "text"
      },
      "source": [
        "<a href=\"https://colab.research.google.com/github/pyclub-cu/classes/blob/master/Week_6.ipynb\" target=\"_parent\"><img src=\"https://colab.research.google.com/assets/colab-badge.svg\" alt=\"Open In Colab\"/></a>"
      ]
    },
    {
      "cell_type": "markdown",
      "metadata": {
        "id": "WwE82SYGSN3j"
      },
      "source": [
        "# **Week 6: Using Pandas with real live data!**\n",
        "\n",
        "Last week we learned about python packages, and specifically, the Pandas package. This week we'll continue working with Pandas to open and analyze some oceanographic data.\n",
        "\n",
        "**Learning objectives**\n",
        "* Learn about CTD data (10 mins)\n",
        "* Review packages and Pandas (10 mins)\n",
        "* Open a data file using Pandas (20 mins)\n",
        "* Calculate statistics on data (15 mins)\n",
        "\n",
        "### **Icebreaker!**\n",
        "\n",
        "![Sokka breaking ice](https://media.giphy.com/media/QYwMxfDpoH3VBfPEET/giphy.gif)\n",
        "\n",
        "> **Question: What does this seal below have in common with an Argo float?** \\\n",
        "Think back to Week 4... what are Argo floats and what do they do?\n",
        ">\n",
        "> <img src=\"https://static.skepticalscience.com/pics/Weddell_Seal_DanCosta.jpg\" width=\"420\" height=\"300\" />\n",
        "\n"
      ]
    },
    {
      "cell_type": "markdown",
      "metadata": {
        "id": "oUSrm7w5sUmd"
      },
      "source": [
        "#CTDs!! What are they?\n",
        "Arguably the most important instrument package in oceanography. CTD stands for: \n",
        "- **C**onductivity (as in electrical conductivity... which we use to measure salinity! Salts are ionic compounds, meaning they carry a charge that we can quantify)\n",
        "- **T**emperature \n",
        "- **D**epth (as calculated from measurements by a pressure sensor! Pressure increases approximately 10 decibars every 10 meters you go down from the surface, so if you have a pressure measurements, you have a depth)\n",
        "\n",
        "Seal CTD            |  CTD-Rosette | Argo Float CTD\n",
        ":-------------------------:|:-------------------------:|:-------------------------:\n",
        "<img src=\"https://static.skepticalscience.com/pics/Weddell_Seal_DanCosta.jpg\" width=\"200\" height=\"150\" />  |  <img src=\"https://southernoceanscience.files.wordpress.com/2016/04/img_9608.jpg\" width=\"200\" height=\"150\" /> |  <img src=\"https://www.mbari.org/wp-content/uploads/2020/10/soccom-float-carry-640.jpg\" width=\"200\" height=\"150\" />\n",
        "\n",
        "\n",
        "**Temperature and salinity are a fundamental way to understand what's happening in the ocean**. How does ocean water move around the Earth?  What kind of organisms can live here? How much Co2 can this water hold? What does the ocean do with excess heat from a warming planet? \n",
        "\n",
        "\n",
        "*Today we'll use Pandas to look at CTD data taken by a seal in Antarctica! Let's review what we learned last week about packages & Pandas.* \n",
        "\n"
      ]
    },
    {
      "cell_type": "markdown",
      "metadata": {
        "id": "a-fvqNbzZP_e"
      },
      "source": [
        "#Review: Packages and Pandas\n",
        "* Python packages are sets of commands packaged together to help with a specific aspect of data analysis \n",
        "  * Think of them like toolboxes\n",
        "\n",
        "<img src='https://drive.google.com/uc?id=1QH1Jt2iG0ZiBAH99FQSlPm1weSv7St27' width=\"520\" height=\"300\" />\n",
        "\n",
        "\n",
        "* The pandas package is a toolbox for viewing and perfoming calculations on data in tables\n",
        "  \n",
        "  <img src='https://drive.google.com/uc?id=1ABTetjG6IPdyGKcS-n0OIVRejY6YVffR' width=\"520\" height=\"300\" />\n",
        "\n",
        "  > **Remember!** Data types in python are called `objects`. Tables that we work with in pandas are objects called `dataframes`\n",
        "\n",
        "\n",
        "\n",
        "\n",
        "\n"
      ]
    },
    {
      "cell_type": "markdown",
      "metadata": {
        "id": "mfO0_6HK5Eac"
      },
      "source": [
        "Let's quickly revisit the example from last week:\n",
        "\n",
        "First, how do we `import` pandas?\n"
      ]
    },
    {
      "cell_type": "code",
      "metadata": {
        "id": "XAwzLgZ95ei8"
      },
      "source": [
        "#Let's all type it together\n"
      ],
      "execution_count": null,
      "outputs": []
    },
    {
      "cell_type": "code",
      "metadata": {
        "id": "JMGPFfjp4ajK"
      },
      "source": [
        "ocean_basins = ['Arctic', 'Atlantic', 'Indian', 'Pacific', 'Southern'] #What kind of object is this?\n",
        "avg_salinity = [32, 35, 34.5, 35, 34.7] #What kind of object is this?\n",
        "avg_temp = [-1.8, 14, 22, 20, 4] #What kind of object is this?\n",
        "\n",
        "avg_data = {'avg_salinity': avg_salinity, #What kind of object is this?\n",
        "        'avg_temp': avg_temp}\n",
        "\n",
        "\n",
        "df = pd.DataFrame(data=avg_data, index=ocean_basins) #What kind of object is this?"
      ],
      "execution_count": null,
      "outputs": []
    },
    {
      "cell_type": "code",
      "metadata": {
        "id": "yJvziTtx_ItY",
        "colab": {
          "base_uri": "https://localhost:8080/",
          "height": 206
        },
        "outputId": "13e2e053-c82f-4c52-938b-1e1a3dd925e2"
      },
      "source": [
        "df"
      ],
      "execution_count": null,
      "outputs": [
        {
          "output_type": "execute_result",
          "data": {
            "text/html": [
              "<div>\n",
              "<style scoped>\n",
              "    .dataframe tbody tr th:only-of-type {\n",
              "        vertical-align: middle;\n",
              "    }\n",
              "\n",
              "    .dataframe tbody tr th {\n",
              "        vertical-align: top;\n",
              "    }\n",
              "\n",
              "    .dataframe thead th {\n",
              "        text-align: right;\n",
              "    }\n",
              "</style>\n",
              "<table border=\"1\" class=\"dataframe\">\n",
              "  <thead>\n",
              "    <tr style=\"text-align: right;\">\n",
              "      <th></th>\n",
              "      <th>avg_salinity</th>\n",
              "      <th>avg_temp</th>\n",
              "    </tr>\n",
              "  </thead>\n",
              "  <tbody>\n",
              "    <tr>\n",
              "      <th>Arctic</th>\n",
              "      <td>32.0</td>\n",
              "      <td>-1.8</td>\n",
              "    </tr>\n",
              "    <tr>\n",
              "      <th>Atlantic</th>\n",
              "      <td>35.0</td>\n",
              "      <td>14.0</td>\n",
              "    </tr>\n",
              "    <tr>\n",
              "      <th>Indian</th>\n",
              "      <td>34.5</td>\n",
              "      <td>22.0</td>\n",
              "    </tr>\n",
              "    <tr>\n",
              "      <th>Pacific</th>\n",
              "      <td>35.0</td>\n",
              "      <td>20.0</td>\n",
              "    </tr>\n",
              "    <tr>\n",
              "      <th>Southern</th>\n",
              "      <td>34.7</td>\n",
              "      <td>4.0</td>\n",
              "    </tr>\n",
              "  </tbody>\n",
              "</table>\n",
              "</div>"
            ],
            "text/plain": [
              "          avg_salinity  avg_temp\n",
              "Arctic            32.0      -1.8\n",
              "Atlantic          35.0      14.0\n",
              "Indian            34.5      22.0\n",
              "Pacific           35.0      20.0\n",
              "Southern          34.7       4.0"
            ]
          },
          "metadata": {
            "tags": []
          },
          "execution_count": 48
        }
      ]
    },
    {
      "cell_type": "markdown",
      "metadata": {
        "id": "531EWgqXKSgN"
      },
      "source": [
        "### Any questions about pandas and dataframes before we continue?\n",
        "\n",
        "\n",
        "  <img src='https://media.giphy.com/media/z6xE1olZ5YP4I/giphy.gif' width=\"300\" height=\"200\" />\n"
      ]
    },
    {
      "cell_type": "markdown",
      "metadata": {
        "id": "UVe3ezNg_VcG"
      },
      "source": [
        "# Import a data file (.csv, .ascii, .txt, etc.) using pandas\n",
        "\n",
        "We created the dataframe above using data lists we typed out. But how do we import data from outside of python, such as a file from a CTD?"
      ]
    },
    {
      "cell_type": "markdown",
      "metadata": {
        "id": "QNHh6bx5NyOx"
      },
      "source": [
        "##Step 1: Look at our data\n",
        "\n",
        "Collected by our cute friend in Antarctica!\n",
        "\n",
        "<img src=\"https://static.skepticalscience.com/pics/Weddell_Seal_DanCosta.jpg\" width=\"200\" height=\"130\" />\n",
        "\n",
        "Click the link and take a look. \\\n",
        "https://raw.githubusercontent.com/pyclub-cu/classes/master/data/ct4-9908-04_ODV_trimmed.csv\n",
        "\n",
        "What kind of data do we have? \\\n",
        "How is this data *delimited*?\n",
        "\n",
        "CSV = comma separated variables"
      ]
    },
    {
      "cell_type": "markdown",
      "metadata": {
        "id": "4CdCHIrhII49"
      },
      "source": [
        "##Step 2: Import the pandas package so we can use it to open our data in python\n",
        "\n",
        ">**Reminder:** `import` *nameofpackage* `as` *nickname* \n"
      ]
    },
    {
      "cell_type": "code",
      "metadata": {
        "id": "uhO-E5N_IuA3"
      },
      "source": [
        "#your code here"
      ],
      "execution_count": null,
      "outputs": []
    },
    {
      "cell_type": "markdown",
      "metadata": {
        "id": "P2DH-CDUa7ZH"
      },
      "source": [
        "##Step 3: Use panda's `.read_csv()` command to import and view our *.csv* file\n",
        "\n",
        "This is like opening a file in excel so that you can work with the data inside!\n"
      ]
    },
    {
      "cell_type": "code",
      "metadata": {
        "id": "4JTs5PFDLMj4"
      },
      "source": [
        "nameofdataframe = pd.read_csv('path/filename.csv') \n",
        "#explain what path means"
      ],
      "execution_count": null,
      "outputs": []
    },
    {
      "cell_type": "markdown",
      "metadata": {
        "id": "VEYmYNK-MFBx"
      },
      "source": [
        "Following the syntax above, try import our CTD data file: \n",
        "\n",
        "\n",
        "https://raw.githubusercontent.com/pyclub-cu/classes/master/data/ct4-9908-04_ODV_trimmed.csv\n",
        "\n",
        "Make sure the filename is a string, ie. in single (') or double (\") quotation marks"
      ]
    },
    {
      "cell_type": "code",
      "metadata": {
        "id": "YO_Y_qYjQX40"
      },
      "source": [
        "#your code here\n",
        "seal_data = pd.read_csv('https://raw.githubusercontent.com/pyclub-cu/classes/master/data/ct4-9908-04_ODV_trimmed.csv')\n",
        "seal_data"
      ],
      "execution_count": null,
      "outputs": []
    },
    {
      "cell_type": "markdown",
      "metadata": {
        "id": "5ybdioIiQYT8"
      },
      "source": [
        "We did it! But what's up with the header line?\n",
        "\n",
        "The `.read_csv()` command can take more inputs than just the file name, including things that tell it how the data file is formatted. For a full list of possible inputs into a function, type it out followed by a question mark.\n",
        "\n",
        "Execute the cell below. What do you see?"
      ]
    },
    {
      "cell_type": "code",
      "metadata": {
        "id": "AWfX13y8T38Z"
      },
      "source": [
        "pd.read_csv?"
      ],
      "execution_count": null,
      "outputs": []
    },
    {
      "cell_type": "markdown",
      "metadata": {
        "id": "2tnXBzE3cLkq"
      },
      "source": [
        "To better read in our data file, we are going to tell the command that `header = 1`, or in plain english, the column names are on the 2nd line of the data file (remember that in python, we start counting from 0)\n"
      ]
    },
    {
      "cell_type": "code",
      "metadata": {
        "colab": {
          "base_uri": "https://localhost:8080/",
          "height": 424
        },
        "id": "s3yqG4-TtF8Z",
        "outputId": "035d1734-907f-4899-8d97-899d67cd32d1"
      },
      "source": [
        "seal_data = pd.read_csv('https://raw.githubusercontent.com/pyclub-cu/classes/master/data/ct4-9908-04_ODV_trimmed.csv', \n",
        "                header = 1)\n",
        "seal_data"
      ],
      "execution_count": null,
      "outputs": [
        {
          "output_type": "execute_result",
          "data": {
            "text/html": [
              "<div>\n",
              "<style scoped>\n",
              "    .dataframe tbody tr th:only-of-type {\n",
              "        vertical-align: middle;\n",
              "    }\n",
              "\n",
              "    .dataframe tbody tr th {\n",
              "        vertical-align: top;\n",
              "    }\n",
              "\n",
              "    .dataframe thead th {\n",
              "        text-align: right;\n",
              "    }\n",
              "</style>\n",
              "<table border=\"1\" class=\"dataframe\">\n",
              "  <thead>\n",
              "    <tr style=\"text-align: right;\">\n",
              "      <th></th>\n",
              "      <th>mon/day/yr</th>\n",
              "      <th>hh:mm</th>\n",
              "      <th>Longitude</th>\n",
              "      <th>Latitude</th>\n",
              "      <th>Depth</th>\n",
              "      <th>Temperature</th>\n",
              "      <th>Salinity</th>\n",
              "    </tr>\n",
              "  </thead>\n",
              "  <tbody>\n",
              "    <tr>\n",
              "      <th>0</th>\n",
              "      <td>6/11/2004</td>\n",
              "      <td>8:42</td>\n",
              "      <td>-122.899</td>\n",
              "      <td>37.203</td>\n",
              "      <td>5</td>\n",
              "      <td>11.8270</td>\n",
              "      <td>33.2968</td>\n",
              "    </tr>\n",
              "    <tr>\n",
              "      <th>1</th>\n",
              "      <td>6/11/2004</td>\n",
              "      <td>8:42</td>\n",
              "      <td>-122.899</td>\n",
              "      <td>37.203</td>\n",
              "      <td>6</td>\n",
              "      <td>11.7647</td>\n",
              "      <td>33.3088</td>\n",
              "    </tr>\n",
              "    <tr>\n",
              "      <th>2</th>\n",
              "      <td>6/11/2004</td>\n",
              "      <td>8:42</td>\n",
              "      <td>-122.899</td>\n",
              "      <td>37.203</td>\n",
              "      <td>7</td>\n",
              "      <td>11.7024</td>\n",
              "      <td>33.3208</td>\n",
              "    </tr>\n",
              "    <tr>\n",
              "      <th>3</th>\n",
              "      <td>6/11/2004</td>\n",
              "      <td>8:42</td>\n",
              "      <td>-122.899</td>\n",
              "      <td>37.203</td>\n",
              "      <td>8</td>\n",
              "      <td>11.6401</td>\n",
              "      <td>33.3329</td>\n",
              "    </tr>\n",
              "    <tr>\n",
              "      <th>4</th>\n",
              "      <td>6/11/2004</td>\n",
              "      <td>8:42</td>\n",
              "      <td>-122.899</td>\n",
              "      <td>37.203</td>\n",
              "      <td>9</td>\n",
              "      <td>11.5778</td>\n",
              "      <td>33.3449</td>\n",
              "    </tr>\n",
              "    <tr>\n",
              "      <th>...</th>\n",
              "      <td>...</td>\n",
              "      <td>...</td>\n",
              "      <td>...</td>\n",
              "      <td>...</td>\n",
              "      <td>...</td>\n",
              "      <td>...</td>\n",
              "      <td>...</td>\n",
              "    </tr>\n",
              "    <tr>\n",
              "      <th>111574</th>\n",
              "      <td>9/25/2004</td>\n",
              "      <td>6:44</td>\n",
              "      <td>179.470</td>\n",
              "      <td>43.975</td>\n",
              "      <td>65</td>\n",
              "      <td>5.7521</td>\n",
              "      <td>NaN</td>\n",
              "    </tr>\n",
              "    <tr>\n",
              "      <th>111575</th>\n",
              "      <td>9/25/2004</td>\n",
              "      <td>6:44</td>\n",
              "      <td>179.470</td>\n",
              "      <td>43.975</td>\n",
              "      <td>66</td>\n",
              "      <td>5.6333</td>\n",
              "      <td>NaN</td>\n",
              "    </tr>\n",
              "    <tr>\n",
              "      <th>111576</th>\n",
              "      <td>9/25/2004</td>\n",
              "      <td>6:44</td>\n",
              "      <td>179.470</td>\n",
              "      <td>43.975</td>\n",
              "      <td>67</td>\n",
              "      <td>5.5146</td>\n",
              "      <td>NaN</td>\n",
              "    </tr>\n",
              "    <tr>\n",
              "      <th>111577</th>\n",
              "      <td>9/25/2004</td>\n",
              "      <td>6:44</td>\n",
              "      <td>179.470</td>\n",
              "      <td>43.975</td>\n",
              "      <td>68</td>\n",
              "      <td>5.3959</td>\n",
              "      <td>NaN</td>\n",
              "    </tr>\n",
              "    <tr>\n",
              "      <th>111578</th>\n",
              "      <td>9/25/2004</td>\n",
              "      <td>6:44</td>\n",
              "      <td>179.470</td>\n",
              "      <td>43.975</td>\n",
              "      <td>69</td>\n",
              "      <td>5.2772</td>\n",
              "      <td>NaN</td>\n",
              "    </tr>\n",
              "  </tbody>\n",
              "</table>\n",
              "<p>111579 rows × 7 columns</p>\n",
              "</div>"
            ],
            "text/plain": [
              "       mon/day/yr hh:mm  Longitude  Latitude   Depth   Temperature   Salinity\n",
              "0       6/11/2004  8:42   -122.899     37.203       5       11.8270   33.2968\n",
              "1       6/11/2004  8:42   -122.899     37.203       6       11.7647   33.3088\n",
              "2       6/11/2004  8:42   -122.899     37.203       7       11.7024   33.3208\n",
              "3       6/11/2004  8:42   -122.899     37.203       8       11.6401   33.3329\n",
              "4       6/11/2004  8:42   -122.899     37.203       9       11.5778   33.3449\n",
              "...           ...   ...        ...        ...     ...           ...       ...\n",
              "111574  9/25/2004  6:44    179.470     43.975      65        5.7521       NaN\n",
              "111575  9/25/2004  6:44    179.470     43.975      66        5.6333       NaN\n",
              "111576  9/25/2004  6:44    179.470     43.975      67        5.5146       NaN\n",
              "111577  9/25/2004  6:44    179.470     43.975      68        5.3959       NaN\n",
              "111578  9/25/2004  6:44    179.470     43.975      69        5.2772       NaN\n",
              "\n",
              "[111579 rows x 7 columns]"
            ]
          },
          "metadata": {
            "tags": []
          },
          "execution_count": 35
        }
      ]
    },
    {
      "cell_type": "markdown",
      "metadata": {
        "id": "B2EsDZF2oWCK"
      },
      "source": [
        "\n",
        "\n",
        "### Let's take a breather. Any questions so far? : ) \n",
        "  <img src='\n",
        "https://cdn.the-scientist.com/assets/articleNo/32598/iImg/6278/e58dd2a0-02b2-4052-9508-4a0145c6f7a4-notebook1.jpg' width=\"520\" height=\"300\" />\n"
      ]
    },
    {
      "cell_type": "markdown",
      "metadata": {
        "id": "9riq8rMJdsL8"
      },
      "source": [
        "#Time for data analysis!\n",
        "\n"
      ]
    },
    {
      "cell_type": "markdown",
      "metadata": {
        "id": "zoIIBAokgTvc"
      },
      "source": [
        "Let's focus on only one of the variables for now - salinity. How do we that? \n",
        "\n",
        "There are two ways to *index* dataframe variables.\n",
        "\n",
        "> **Remember**! *Indexing* a data object means to retrieve a specific row(s) and/or column(s) data. For example, in Battleship, I want to sink your ship that I know is sitting in row B, column 5. So, I say \"B5\"!   \n",
        "<img src='\n",
        "https://www.videoamusement.com/wp-content/uploads/2019/01/Giant-Battleship-Game-for-rent.jpg' width=\"320\" height=\"300\" />\n",
        " "
      ]
    },
    {
      "cell_type": "code",
      "metadata": {
        "id": "Dw68lcWYit3c",
        "colab": {
          "base_uri": "https://localhost:8080/"
        },
        "outputId": "dc160079-94ef-483a-df98-547543f56534"
      },
      "source": [
        "salinity = seal_data.Salinity #using dot syntax"
      ],
      "execution_count": null,
      "outputs": [
        {
          "output_type": "execute_result",
          "data": {
            "text/plain": [
              "0         33.2968\n",
              "1         33.3088\n",
              "2         33.3208\n",
              "3         33.3329\n",
              "4         33.3449\n",
              "           ...   \n",
              "111574        NaN\n",
              "111575        NaN\n",
              "111576        NaN\n",
              "111577        NaN\n",
              "111578        NaN\n",
              "Name: Salinity, Length: 111579, dtype: float64"
            ]
          },
          "metadata": {
            "tags": []
          },
          "execution_count": 39
        }
      ]
    },
    {
      "cell_type": "code",
      "metadata": {
        "id": "cwzbtvmyjGRC"
      },
      "source": [
        "salinity = seal_data['Salinity'] #using brackets "
      ],
      "execution_count": null,
      "outputs": []
    },
    {
      "cell_type": "markdown",
      "metadata": {
        "id": "9O4XLlghcuZ7"
      },
      "source": [
        "> **Question:** What is the data frame `object` and what is the data series `object` here? "
      ]
    },
    {
      "cell_type": "markdown",
      "metadata": {
        "id": "SV1Tkg3SjZgQ"
      },
      "source": [
        "> **Try it!** Use either the dot or bracket syntax to extract Temperature. Don't forget to assign your data array a name!"
      ]
    },
    {
      "cell_type": "code",
      "metadata": {
        "id": "5-y_xaz8jf0w"
      },
      "source": [
        "#your code here\n"
      ],
      "execution_count": null,
      "outputs": []
    },
    {
      "cell_type": "markdown",
      "metadata": {
        "id": "uwYIaZ0mmSMp"
      },
      "source": [
        "###Great! Now we have our salinity and temperature dataseries.###\n",
        "What is the minimum, maximum, and mean salinity that this seal has measured?"
      ]
    },
    {
      "cell_type": "code",
      "metadata": {
        "id": "inv8h3pcLBC1",
        "colab": {
          "base_uri": "https://localhost:8080/"
        },
        "outputId": "76bda67a-d591-49f8-e196-07fef9a78e21"
      },
      "source": [
        "salinity.min() #.max(), .mean()"
      ],
      "execution_count": null,
      "outputs": [
        {
          "output_type": "execute_result",
          "data": {
            "text/plain": [
              "31.9908"
            ]
          },
          "metadata": {
            "tags": []
          },
          "execution_count": 53
        }
      ]
    },
    {
      "cell_type": "code",
      "metadata": {
        "id": "Uwjjcuw4gbtw",
        "colab": {
          "base_uri": "https://localhost:8080/"
        },
        "outputId": "946f946b-e6bb-473e-d815-f879b1371d03"
      },
      "source": [
        "print('The minimum salinity is ' + str(salinity.min()))\n",
        "print('The maximum salinity is ' + str(salinity.max()))\n",
        "print('The mean salinity is ' + str(salinity.mean()))"
      ],
      "execution_count": null,
      "outputs": [
        {
          "output_type": "stream",
          "text": [
            "The minimum salinity is 31.9908\n",
            "The maximum salinity is 34.2432\n",
            "The mean salinity is 33.76876016047914\n"
          ],
          "name": "stdout"
        }
      ]
    },
    {
      "cell_type": "markdown",
      "metadata": {
        "id": "oX_56el4emkd"
      },
      "source": [
        "Do these values seem reasonable? Do we need to *Quality Control?* (Week 4)"
      ]
    },
    {
      "cell_type": "markdown",
      "metadata": {
        "id": "8sOyeNLZmZM6"
      },
      "source": [
        "> **Try it!** Find the minimum, maximum, and mean temperature that this seal has measured. "
      ]
    },
    {
      "cell_type": "code",
      "metadata": {
        "id": "reLW86QYmWUw"
      },
      "source": [
        "#your code here"
      ],
      "execution_count": null,
      "outputs": []
    },
    {
      "cell_type": "markdown",
      "metadata": {
        "id": "cUukyi2OnLOj"
      },
      "source": [
        ">**Extra credit:** How about the deepest depth this seal has dived? "
      ]
    },
    {
      "cell_type": "code",
      "metadata": {
        "id": "69vAcxkxnPpr"
      },
      "source": [
        "#your code here"
      ],
      "execution_count": null,
      "outputs": []
    },
    {
      "cell_type": "markdown",
      "metadata": {
        "id": "W7BYikUftKWs"
      },
      "source": [
        "## What did we review today?\n",
        "- Python packages are \"toolboxes\" of commands put together for us to use for specific things, like importing or visualizing data\n",
        "- The Pandas package is a toolbox for working with tabular data\n",
        "- String, list, and dictionary objects\n",
        "- Indexing\n",
        "\n",
        "## What new things did we learn today?\n",
        "- CTDs are essential oceanographic instrument packages that measure Conductivity, Temperature, and Depth... we need to understand the temperature and salinity of the ocean in order to understand everything else about it!\n",
        "- What real life CSV (comma-separated variable) files look like\n",
        "- How to use Pandas to import data and perform mathmatical operations on them!\n",
        "  - `.read_csv()`\n",
        "  - `.min()`, `.max()`, `.mean()`\n",
        "- The pandas dataframe object and how to index it\n"
      ]
    }
  ]
}