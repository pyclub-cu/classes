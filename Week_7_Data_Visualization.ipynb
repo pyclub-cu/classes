{
  "nbformat": 4,
  "nbformat_minor": 0,
  "metadata": {
    "colab": {
      "name": "Week_7_Data_Visualization.ipynb",
      "provenance": [],
      "include_colab_link": true
    },
    "kernelspec": {
      "name": "python3",
      "display_name": "Python 3"
    }
  },
  "cells": [
    {
      "cell_type": "markdown",
      "metadata": {
        "id": "view-in-github",
        "colab_type": "text"
      },
      "source": [
        "<a href=\"https://colab.research.google.com/github/pyclub-cu/classes/blob/master/Week_7_Data_Visualization.ipynb\" target=\"_parent\"><img src=\"https://colab.research.google.com/assets/colab-badge.svg\" alt=\"Open In Colab\"/></a>"
      ]
    },
    {
      "cell_type": "markdown",
      "metadata": {
        "id": "OZlobIuyGJ67"
      },
      "source": [
        "# **Week 7: Data Visualization!**\n"
      ]
    },
    {
      "cell_type": "markdown",
      "metadata": {
        "id": "IsWW4Iji4p8c"
      },
      "source": [
        "### **Learning Objectives**\n",
        "\n",
        "*   Temperature...Salinity............**Density**  (10 min)\n",
        "*   Review Pandas (5 min)\n",
        "*   New Package - matplotlib! (5 min)\n",
        "*   Simple plots (15 min)\n",
        "*   Plotting real data (20 min)\n",
        "*   Review best practices (5 min)\n"
      ]
    },
    {
      "cell_type": "markdown",
      "metadata": {
        "id": "sfIuPDSTLRnh"
      },
      "source": [
        "### **Icebreaker**\n",
        "\n",
        "> When I say go, you have 45 seconds to find something yellow in the room you are in (don't show us!)\n",
        ">\n",
        "> When it is your turn you give three clues and everyone must guess what it is\n"
      ]
    },
    {
      "cell_type": "markdown",
      "metadata": {
        "id": "mpMGQeYKLTYw"
      },
      "source": [
        "# Temperature...Salinity...........**Density**\n"
      ]
    },
    {
      "cell_type": "markdown",
      "metadata": {
        "id": "MBdDIC-w5CvH"
      },
      "source": [
        "Density is equal to the mass of something over the volume of that same thing.\n",
        "\n",
        "Mass is measured in kilograms (kg), and volume in meters cubed (m^3).  The units of density are kg/m^3"
      ]
    },
    {
      "cell_type": "markdown",
      "metadata": {
        "id": "8xYWOkf_6gex"
      },
      "source": [
        "<img width = 600 src=\"https://7thgradescicvjh.weebly.com/uploads/2/4/1/4/24140348/screen-shot-2014-10-06-at-11-41-59-am_orig.png\">"
      ]
    },
    {
      "cell_type": "markdown",
      "metadata": {
        "id": "TfZidYSoKZzW"
      },
      "source": [
        "### Like a glass with oil and water, the ocean is also **stratified**.\n",
        "\n",
        "\n",
        "\n"
      ]
    },
    {
      "cell_type": "markdown",
      "metadata": {
        "id": "HdW268ml5acl"
      },
      "source": [
        "**Stratified** means that something is arranged into layers.  In the glass below, the less dense layers are cloase to the top of the glass (oil) and more dense layers at the bottom (water)."
      ]
    },
    {
      "cell_type": "markdown",
      "metadata": {
        "id": "LG_ikQzr6XY7"
      },
      "source": [
        "<img width = 400 src=\"https://www.thoughtco.com/thmb/uYzZkiBQ8LSfXzy15k6zNjwgAHg=/768x0/filters:no_upscale():max_bytes(150000):strip_icc():format(webp)/123535151-56a12f683df78cf772683b2a.jpg\">"
      ]
    },
    {
      "cell_type": "markdown",
      "metadata": {
        "id": "ZGOyx3UsM9xS"
      },
      "source": [
        "### Just as in the glass above, in the ocean less dense waters are close to the surface and the densest waters are at the seafloor.\n",
        "\n",
        "Density is affected by the temperature of the water and the salinity:\n",
        "\n",
        "\n",
        ">  *   Saltier water is **MORE** dense\n",
        ">  *   Colder water is **MORE** dense\n"
      ]
    },
    {
      "cell_type": "markdown",
      "metadata": {
        "id": "NARmiORJuqj6"
      },
      "source": [
        "<img width = 700 src=https://ichef.bbci.co.uk/news/976/cpsprodpb/1641/production/_89979650_gettyimages-57343257.jpg>\n",
        "\n",
        "**How salty is the Dead Sea?**\n",
        "\n",
        "\n",
        "> What was the average ocean salinity?\n",
        ">\n",
        "> How does the Dead Sea compare?\n",
        "\n"
      ]
    },
    {
      "cell_type": "markdown",
      "metadata": {
        "id": "XdiUbv7BvVIB"
      },
      "source": [
        "When water becomes colder or saltier, it becomes more dense and will sink."
      ]
    },
    {
      "cell_type": "markdown",
      "metadata": {
        "id": "P6JGSm5Y6rPs"
      },
      "source": [
        "<img width = 600 src=\"https://raw.githubusercontent.com/pyclub-cu/classes/master/data/AABW_formation.jpg\">"
      ]
    },
    {
      "cell_type": "markdown",
      "metadata": {
        "id": "hh5MVllsTBcp"
      },
      "source": [
        "# This drives a global ocean circulation"
      ]
    },
    {
      "cell_type": "code",
      "metadata": {
        "colab": {
          "base_uri": "https://localhost:8080/",
          "height": 337
        },
        "id": "TFtZ2aCA9-cO",
        "outputId": "d33dc996-acda-4645-b553-8be85c2c6899"
      },
      "source": [
        "#This code embeds the video below. You don't need to run it.\n",
        "from IPython.display import HTML\n",
        "\n",
        "HTML('<iframe width=\"560\" height=\"315\" src=\"https://oceantoday.noaa.gov/newsoftheday_southernoceancurrent/otkn_411b_notd_southernoceancurrent_sm.mp4\" frameborder=\"0\" allow=\"accelerometer; autoplay; clipboard-write; encrypted-media; gyroscope; picture-in-picture\" allowfullscreen></iframe>')"
      ],
      "execution_count": 7,
      "outputs": [
        {
          "output_type": "execute_result",
          "data": {
            "text/html": [
              "<iframe width=\"560\" height=\"315\" src=\"https://oceantoday.noaa.gov/newsoftheday_southernoceancurrent/otkn_411b_notd_southernoceancurrent_sm.mp4\" frameborder=\"0\" allow=\"accelerometer; autoplay; clipboard-write; encrypted-media; gyroscope; picture-in-picture\" allowfullscreen></iframe>"
            ],
            "text/plain": [
              "<IPython.core.display.HTML object>"
            ]
          },
          "metadata": {
            "tags": []
          },
          "execution_count": 7
        }
      ]
    },
    {
      "cell_type": "markdown",
      "metadata": {
        "id": "Wn6gWp4kTLBD"
      },
      "source": [
        "# **Today** we will make some plots of the data we worked with last week\n",
        "We will examine *polar* and *tropical* salinity, temperature, and **density**.\n"
      ]
    },
    {
      "cell_type": "markdown",
      "metadata": {
        "id": "S7dgAVy0TcFz"
      },
      "source": [
        "## Recap from last week"
      ]
    },
    {
      "cell_type": "code",
      "metadata": {
        "id": "D6xG5JDuQxdK"
      },
      "source": [
        "#Import pandas package \n",
        "\n"
      ],
      "execution_count": null,
      "outputs": []
    },
    {
      "cell_type": "code",
      "metadata": {
        "id": "gVJV4a-0TQEa"
      },
      "source": [
        "# Load the polar ctd data\n",
        "Polar = 'your code here'('https://raw.githubusercontent.com/pyclub-cu/classes/master/data/CTD_Polar.csv', header = 0, sep = ',')"
      ],
      "execution_count": null,
      "outputs": []
    },
    {
      "cell_type": "code",
      "metadata": {
        "id": "SdLNUQFvMRlE"
      },
      "source": [
        "# Load the tropical ctd data\n",
        "Tropical = 'your code here'('https://raw.githubusercontent.com/pyclub-cu/classes/master/data/CTD_Tropical.csv', header = 0)"
      ],
      "execution_count": null,
      "outputs": []
    },
    {
      "cell_type": "code",
      "metadata": {
        "id": "mOfbizTut9GL"
      },
      "source": [
        "# Type out the name of the dataframe to get a look at the table\n"
      ],
      "execution_count": null,
      "outputs": []
    },
    {
      "cell_type": "markdown",
      "metadata": {
        "id": "2U7_KpxLTzQR"
      },
      "source": [
        "# **Matplotlib** new package\n",
        "To make plots we need to work with a new package called matplotlib\n"
      ]
    },
    {
      "cell_type": "code",
      "metadata": {
        "id": "9p5QMIMZMxiz"
      },
      "source": [
        "# Import the matplotlib package\n",
        "import matplotlib.pyplot as plt"
      ],
      "execution_count": null,
      "outputs": []
    },
    {
      "cell_type": "markdown",
      "metadata": {
        "id": "HIMGTOw5JsCL"
      },
      "source": [
        "<img src=\"https://raw.githubusercontent.com/pyclub-cu/classes/master/data/graph_for_pyclub.jpg\">"
      ]
    },
    {
      "cell_type": "markdown",
      "metadata": {
        "id": "e-RVXGrOVDI8"
      },
      "source": [
        "## First lets use some sample data to practice making a line graph, bar graph, and scatter plot."
      ]
    },
    {
      "cell_type": "markdown",
      "metadata": {
        "id": "GM_QvvN-wbFo"
      },
      "source": [
        "**We will use some pretend sample data from this pretend weather station located on the Cyclone roller coaster at Coney Island.**\n",
        "\n",
        "<img width = 600 src=https://raw.githubusercontent.com/pyclub-cu/classes/master/data/cyclone_wk7.jpg>"
      ]
    },
    {
      "cell_type": "markdown",
      "metadata": {
        "id": "XB-LDB4mSOEQ"
      },
      "source": [
        "\n",
        "\n",
        "> To make a simple plot we need two lists, one for x-axis data and one for y-axis data.  They must have the same length\n",
        ">\n",
        "> To plot this data use the format `plt.plot(x-data, y-data)`\n",
        "\n"
      ]
    },
    {
      "cell_type": "code",
      "metadata": {
        "id": "qEXep0EWTzjN"
      },
      "source": [
        "x = [1,2,3,4,5] # data on the x-axis (time in seconds)\n",
        "y = [10,20,13,5,11] # data on the y-axis (windspeed in meters/second)\n",
        "\n",
        "# we can plot this as a line using the format plt.plot(x-axis_data, y-axis_data)\n",
        "plt.plot(x,y)"
      ],
      "execution_count": null,
      "outputs": []
    },
    {
      "cell_type": "code",
      "metadata": {
        "id": "6fN7bZ2jNpnt"
      },
      "source": [
        "# we can plot this as a bar chart\n",
        "\n",
        "plt.bar(x,y)"
      ],
      "execution_count": null,
      "outputs": []
    },
    {
      "cell_type": "code",
      "metadata": {
        "id": "swNBi8sDNObq"
      },
      "source": [
        "# we can plot this as a scatter\n",
        "\n",
        "plt.scatter(x,y)"
      ],
      "execution_count": null,
      "outputs": []
    },
    {
      "cell_type": "markdown",
      "metadata": {
        "id": "9HC3YAeCVbgU"
      },
      "source": [
        "## A plot is difficult to understand if there are no labels!  When we add axis labels and a title, the graph becomes easier to interprit."
      ]
    },
    {
      "cell_type": "markdown",
      "metadata": {
        "id": "RUq31MqOSl2P"
      },
      "source": [
        "> Use the `plt.ylabel()`, `plt.xlabel()`, and `plt.title()` commands to add axis labels and a title.  Don't forget to include our text as strings!"
      ]
    },
    {
      "cell_type": "code",
      "metadata": {
        "id": "NLk1dsc-NcIb"
      },
      "source": [
        "# We can add more information to make it easy to understand like axis labels and a title\n",
        "\n",
        "plt.plot(x,y)\n",
        "plt.ylabel('Windspeed (meter/second)') # y axis label\n",
        "plt.xlabel('Time (minutes)') # x axis label\n",
        "plt.title('Windspeed at the Weather Station') # title"
      ],
      "execution_count": null,
      "outputs": []
    },
    {
      "cell_type": "markdown",
      "metadata": {
        "id": "WVWE8xlcV0Tf"
      },
      "source": [
        "## Those words and numbers are pretty small...\n",
        "\n",
        "There are many more things we can change about the graph such as the fontsize of the labels and the color and style of the line\n",
        "> These kinds of alterations are added after the initial entry and are seperated by a comma"
      ]
    },
    {
      "cell_type": "code",
      "metadata": {
        "id": "R5pzKnNpOZZI"
      },
      "source": [
        "# We can make it pretty\n",
        "\n",
        "plt.plot(x,y, color = 'r', linestyle = '-.') #r makes the line red, -. makes a dash dot line\n",
        "# the format plt.plot(x-axis_data, y-axis_data, other changes)\n",
        "plt.ylabel('Windspeed (meter/second)',fontsize = 14) #increase the size of the words\n",
        "plt.xlabel('Time (minutes)',fontsize = 14)\n",
        "plt.title('Windspeed at the Weather Station',fontsize = 14)\n",
        "plt.xticks(fontsize = 14) #increase the size of the tick labels\n",
        "plt.yticks(fontsize = 14)\n",
        "plt.show()"
      ],
      "execution_count": null,
      "outputs": []
    },
    {
      "cell_type": "markdown",
      "metadata": {
        "id": "2dOfdc9RWSod"
      },
      "source": [
        "# Now its your turn!  Use the cell below to alter the scatter plot of our windspeed data.\n",
        "\n",
        "Try changing the color of the markers, and the shape and size of the markers (many marker shapes can be found here https://matplotlib.org/3.1.1/api/markers_api.html).\n",
        "Remember to add readable and informative labels!\n",
        "\n",
        "> **try using c = 'put_color_here' to change the color of the markers (e.g. 'red', 'blue','green')**\n",
        ">\n",
        "> **try using marker = 'put_shape_here' to change the shape of the markers (e.g. '.', 'o', 'd')**\n",
        ">\n",
        "> **try using s = 'put_size_here' to make the markers larger (e.g. '10', '50', '100')**\n",
        ">\n",
        "> **Add helpful labels and a title**"
      ]
    },
    {
      "cell_type": "code",
      "metadata": {
        "id": "-GBPiW-mQfWX"
      },
      "source": [
        "# Now you try!\n",
        "\n",
        "plt.scatter(x,y, 'add color, marker, size here') #r makes the line red, -. makes a dash dot line\n",
        "# the format plt.plot(x-axis_data, y-axis_data, other changes)\n",
        "plt.ylabel('your label','change fontsize here') #increase the size of the words\n",
        "plt.xlabel()\n",
        "plt.title()\n",
        "plt.xticks(fontsize = ) #increase the size of the tick labels\n",
        "plt.yticks(fontsize = )\n",
        "\n",
        "\n",
        "\n"
      ],
      "execution_count": null,
      "outputs": []
    },
    {
      "cell_type": "markdown",
      "metadata": {
        "id": "NvUb7MtLXaPV"
      },
      "source": [
        "# Now that we know how to make a plot, let's try with real data from our polar and tropical CTD\n",
        "\n",
        "First let's plot a temperature profile in the tropics - temperature on the x-axis and depth on the y-axis."
      ]
    },
    {
      "cell_type": "code",
      "metadata": {
        "id": "_RZIJc4gR2im"
      },
      "source": [
        "# Temperature profile in the tropics - plotting temperature against depth\n",
        "\n",
        "plt.scatter(Tropical['temperature'],Tropical['depth'], color = 'r')\n",
        "# the format plt.scatter(x-axis_data, y-axis_data, other changes)\n",
        "\n",
        "plt.ylabel('Depth (meter)',fontsize = 14) #increase the size of the words\n",
        "plt.xlabel('Temperature (degC)',fontsize = 14)\n",
        "plt.title('Temperature in the Tropics',fontsize = 14)\n",
        "plt.xticks(fontsize = 14) #increase the size of the tick labels\n",
        "plt.yticks(fontsize = 14)\n",
        "\n",
        "plt.gca().invert_yaxis() # This reverses the y axis so we have 0m depth at the top\n",
        "plt.show()"
      ],
      "execution_count": null,
      "outputs": []
    },
    {
      "cell_type": "markdown",
      "metadata": {
        "id": "uWuXO-YtTurl"
      },
      "source": [
        "# To compare Polar and Tropical regions, lets plot them both on the same graph\n",
        "> When we plot multiple datasets on the same graph, it is useful to distinguish between the two by making them different shapes or colors\n",
        "\n",
        "> A legend or key can be included in a graph with multiple datasets to make it clear which data is which\n",
        "\n",
        "<img width = 400 src =http://www.nycsubwayguide.com/subway/images/small/subway_map.jpg>\n",
        "\n",
        "\n",
        "> To make a legend, first we need to give our scatters names, called handles,  so the legend knows what to include\n",
        ">\n",
        "> Handle_1 = `plt.scatter(x-data,y-data,other stuff)`\n",
        ">\n",
        "> Then we can inlude these handles in our legend command, along with labels, the words we want printed in the legend, as strings\n",
        ">\n",
        "> `plt.legend([Handle_1, Handle_2],['label for legend 1','label for legend 2'])`\n",
        ">\n",
        "> As usual, we should make sure these handles are informative names.  For our tropical and polar data lets call them Trop and Pol.\n",
        ">\n",
        "> It may seem nice to use names like region_1 and region_2 or A and B - but you can see how we might quickly get confused!"
      ]
    },
    {
      "cell_type": "code",
      "metadata": {
        "id": "wS9gzdFeToln"
      },
      "source": [
        "# Temperature profile in the tropics and polar regions - plotting temperature against depth\n",
        "\n",
        "Trop = plt.scatter(Tropical['temperature'],Tropical['depth'], color = 'r')\n",
        "Pol = plt.scatter(Polar['Temperature '],Polar['Depth '], color = 'b')\n",
        "# We use Trop =, and Pol =, to name our scatters.  These are called 'handles'  we need to name the object so that we can do commands on the object\n",
        "# We give the scatters names so that we can tell the legend command what to use\n",
        "\n",
        "plt.ylabel('Depth (meter)',fontsize = 14) #increase the size of the words\n",
        "plt.xlabel('Temperature (degC)',fontsize = 14)\n",
        "plt.title('Temperature in the tropics and polar regions',fontsize = 14)\n",
        "plt.xticks(fontsize = 14) #increase the size of the tick labels\n",
        "plt.yticks(fontsize = 14)\n",
        "\n",
        "plt.gca().invert_yaxis() # This reverses the y axis so we have 0m depth at the top\n",
        "plt.legend([Trop, Pol],['Tropical', 'Polar'], fontsize = 12)\n",
        "#  the format of the legend command is plt.legend([handle_1, handle_2],['name of data 1', 'name of data 2'], other things)\n",
        "\n",
        "plt.show()\n",
        "\n",
        "# Then add another one that just has the legend"
      ],
      "execution_count": null,
      "outputs": []
    },
    {
      "cell_type": "markdown",
      "metadata": {
        "id": "uHm9qLbyT_vX"
      },
      "source": [
        "# **Now you try!**\n",
        "> **In the cell below of salinity with depth in polar and tropical regions do something to differentiate between the 2 datasets and add a legend.**\n"
      ]
    },
    {
      "cell_type": "code",
      "metadata": {
        "id": "AjlQrk58WG2V"
      },
      "source": [
        "# Salinity profile in the tropics and polar regions - plotting salinity against depth\n",
        "# change the words here themselves\n",
        "\n",
        "Trop = plt.scatter(Tropical['Salinity'],Tropical['depth'])\n",
        "Pol = plt.scatter(Polar['Salinity '],Polar['Depth '])\n",
        "\n",
        "plt.ylabel('Depth (meter)',fontsize = 14) #increase the size of the words\n",
        "plt.xlabel('Salinity',fontsize = 14)\n",
        "plt.title('Salinity in the tropics and polar regions',fontsize = 14)\n",
        "plt.xticks(fontsize = 14) #increase the size of the tick labels\n",
        "plt.yticks(fontsize = 14)\n",
        "\n",
        "plt.gca().invert_yaxis() # This reverses the y axis so we have 0m depth at the top\n",
        "\n",
        "\n",
        "\n",
        "plt.show()"
      ],
      "execution_count": null,
      "outputs": []
    },
    {
      "cell_type": "markdown",
      "metadata": {
        "id": "XYiHRLVYWRyJ"
      },
      "source": [
        "# **Temperature Salinity Diagrams**\n",
        "## For our last plot we will make a temperture salinity (TS) diagram\n",
        "\n",
        "> TS diagrams plot the salinity on the x-axis and the temperature on the y-axis.  \n",
        "\n",
        "> TS diagrams are used by scientists to look at different water masses - bodies of water with different physical properties formed in different locations.  \n",
        "\n",
        "> How would water in the Carribean be different than water in the Arctic?  What about water in the Red Sea and water in the tropical Pacific Ocean? \n"
      ]
    },
    {
      "cell_type": "code",
      "metadata": {
        "id": "tBgrS_M1T_98"
      },
      "source": [
        "# First lets plot a TS diagram of our tropical and polar data.\n",
        "Tro = plt.scatter(Tropical['Salinity'], Tropical['temperature'],c = 'r')\n",
        "Pol = plt.scatter(Polar['Salinity '],Polar['Temperature '],c = 'b')\n",
        "\n",
        "plt.ylabel('Temperature (degC)',fontsize = 14)\n",
        "plt.xlabel('Salinity',fontsize = 14)\n",
        "plt.title('Temperature/Salinity in Polar and Tropical Regions',fontsize = 14)\n",
        "plt.xticks(fontsize = 14) #increase the size of the tick labels\n",
        "plt.yticks(fontsize = 14)\n",
        "plt.legend([Tro,Pol],['Tropical','Polar'], fontsize = 12)"
      ],
      "execution_count": null,
      "outputs": []
    },
    {
      "cell_type": "markdown",
      "metadata": {
        "id": "necfNntGwjC4"
      },
      "source": [
        "## We can also add more information to this graph by changing the color of the dots to represent another variable\n",
        "\n",
        "In the cell below we see the same TS diagram with the dots colored by depth\n",
        "> We use the colormap parameter (cmap) to indicate which color spectrum we want to use.  There are many many choices!  You can see a selection here: https://matplotlib.org/3.3.3/tutorials/colors/colormaps.html\n",
        "\n",
        "> When we color the dots it is useful to include a colorbar to show what the colors mean.\n",
        "\n",
        "In the cell below...\n",
        " \n",
        ">  **Try changing the cmap parameter to a different colormap**\n",
        ">\n",
        ">   **Color the dots by density instead of depth**\n",
        "\n",
        "\n"
      ]
    },
    {
      "cell_type": "code",
      "metadata": {
        "id": "ME9rMYblXVMd"
      },
      "source": [
        "#Here we plot a TS diagram od tropical and polar regions, we will color the dots by depth first, and then try density as well\n",
        "Tro = plt.scatter(Tropical['Salinity'], Tropical['temperature'],c = Tropical['depth'],cmap = 'viridis') #use the cmap command to change the colormap\n",
        "Pol = plt.scatter(Polar['Salinity '],Polar['Temperature '],c = Polar['Depth '],cmap = 'viridis')\n",
        "# We still need to name the scatter so we can tell the colormap command what data we want to use\n",
        "\n",
        "plt.ylabel('Temperature (degC)',fontsize = 14)\n",
        "plt.xlabel('Salinity',fontsize = 14)\n",
        "plt.title('Temperature/Salinity in Polar and Tropical Regions',fontsize = 14)\n",
        "plt.xticks(fontsize = 14) #increase the size of the tick labels\n",
        "plt.yticks(fontsize = 14)\n",
        "plt.colorbar(Pol)# Here we add the colorbar, just like with a legend we have to tell the command the name of the scatter we want to use\n",
        "plt.tight_layout() #This automatically formats the size of the plot, try commenting out this command an see what happens!"
      ],
      "execution_count": null,
      "outputs": []
    },
    {
      "cell_type": "markdown",
      "metadata": {
        "id": "_w4f5VpAxrju"
      },
      "source": [
        "# **What do you notice?**\n",
        "## What differences are there between the tropical and polar sites?\n",
        "## What differences are there between deeper and shallower waters?\n",
        "## What differences are there between denser and less dense waters?"
      ]
    },
    {
      "cell_type": "markdown",
      "metadata": {
        "id": "Xqy3DZaMX22M"
      },
      "source": [
        "# **Review Best Practices**\n",
        "INTERACTIVE\n",
        "\n",
        "*   List item\n",
        "*   List item\n",
        "\n"
      ]
    }
  ]
}