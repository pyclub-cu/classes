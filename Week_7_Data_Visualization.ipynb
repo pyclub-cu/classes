{
  "nbformat": 4,
  "nbformat_minor": 0,
  "metadata": {
    "colab": {
      "name": "Week_7_Data_Visualization.ipynb",
      "provenance": [],
      "authorship_tag": "ABX9TyOLxCR1CUYCpx/yQ5kc/7WY",
      "include_colab_link": true
    },
    "kernelspec": {
      "name": "python3",
      "display_name": "Python 3"
    }
  },
  "cells": [
    {
      "cell_type": "markdown",
      "metadata": {
        "id": "view-in-github",
        "colab_type": "text"
      },
      "source": [
        "<a href=\"https://colab.research.google.com/github/pyclub-cu/classes/blob/master/Week_7_Data_Visualization.ipynb\" target=\"_parent\"><img src=\"https://colab.research.google.com/assets/colab-badge.svg\" alt=\"Open In Colab\"/></a>"
      ]
    },
    {
      "cell_type": "code",
      "metadata": {
        "id": "eABaYF2pCRt3"
      },
      "source": [
        ""
      ],
      "execution_count": null,
      "outputs": []
    },
    {
      "cell_type": "markdown",
      "metadata": {
        "id": "OZlobIuyGJ67"
      },
      "source": [
        "**Week 7:** Data Visualization!\n",
        "\n",
        "aims of the day today\n",
        "\n",
        "\n",
        "1.  using pandas\n",
        "2.  matplotlib!\n",
        "3.  making some plots!\n",
        "\n",
        "\n",
        "\n"
      ]
    },
    {
      "cell_type": "code",
      "metadata": {
        "id": "D6xG5JDuQxdK"
      },
      "source": [
        "import pandas as pn"
      ],
      "execution_count": null,
      "outputs": []
    },
    {
      "cell_type": "code",
      "metadata": {
        "colab": {
          "base_uri": "https://localhost:8080/"
        },
        "id": "gVJV4a-0TQEa",
        "outputId": "00518fd4-0d4c-4ef9-eb6a-e4579beab04f"
      },
      "source": [
        "from google.colab import drive\n",
        "drive.mount('/content/drive')"
      ],
      "execution_count": null,
      "outputs": [
        {
          "output_type": "stream",
          "text": [
            "Mounted at /content/drive\n"
          ],
          "name": "stdout"
        }
      ]
    },
    {
      "cell_type": "code",
      "metadata": {
        "id": "r-cr95FeGOs4"
      },
      "source": [
        "cast = pn.read_csv('/content/drive/My Drive/CTD_for_pyclub_mooringsite.csv')"
      ],
      "execution_count": null,
      "outputs": []
    },
    {
      "cell_type": "markdown",
      "metadata": {
        "id": "2U7_KpxLTzQR"
      },
      "source": [
        ""
      ]
    },
    {
      "cell_type": "code",
      "metadata": {
        "colab": {
          "base_uri": "https://localhost:8080/",
          "height": 419
        },
        "id": "qEXep0EWTzjN",
        "outputId": "4d5d2491-dfdc-4b20-fa17-fbbe6240218d"
      },
      "source": [
        "cast"
      ],
      "execution_count": null,
      "outputs": [
        {
          "output_type": "execute_result",
          "data": {
            "text/html": [
              "<div>\n",
              "<style scoped>\n",
              "    .dataframe tbody tr th:only-of-type {\n",
              "        vertical-align: middle;\n",
              "    }\n",
              "\n",
              "    .dataframe tbody tr th {\n",
              "        vertical-align: top;\n",
              "    }\n",
              "\n",
              "    .dataframe thead th {\n",
              "        text-align: right;\n",
              "    }\n",
              "</style>\n",
              "<table border=\"1\" class=\"dataframe\">\n",
              "  <thead>\n",
              "    <tr style=\"text-align: right;\">\n",
              "      <th></th>\n",
              "      <th>pressure</th>\n",
              "      <th>depth</th>\n",
              "      <th>temperature</th>\n",
              "      <th>Salinity</th>\n",
              "      <th>density</th>\n",
              "      <th>oxygen</th>\n",
              "    </tr>\n",
              "  </thead>\n",
              "  <tbody>\n",
              "    <tr>\n",
              "      <th>0</th>\n",
              "      <td>2</td>\n",
              "      <td>1.989</td>\n",
              "      <td>29.0046</td>\n",
              "      <td>33.8873</td>\n",
              "      <td>1021.2380</td>\n",
              "      <td>2.92979</td>\n",
              "    </tr>\n",
              "    <tr>\n",
              "      <th>1</th>\n",
              "      <td>3</td>\n",
              "      <td>2.983</td>\n",
              "      <td>28.5072</td>\n",
              "      <td>33.9911</td>\n",
              "      <td>1021.4852</td>\n",
              "      <td>3.07316</td>\n",
              "    </tr>\n",
              "    <tr>\n",
              "      <th>2</th>\n",
              "      <td>4</td>\n",
              "      <td>3.978</td>\n",
              "      <td>28.4227</td>\n",
              "      <td>34.0155</td>\n",
              "      <td>1021.5356</td>\n",
              "      <td>2.97615</td>\n",
              "    </tr>\n",
              "    <tr>\n",
              "      <th>3</th>\n",
              "      <td>5</td>\n",
              "      <td>4.972</td>\n",
              "      <td>28.4160</td>\n",
              "      <td>34.0162</td>\n",
              "      <td>1021.5426</td>\n",
              "      <td>3.35803</td>\n",
              "    </tr>\n",
              "    <tr>\n",
              "      <th>4</th>\n",
              "      <td>6</td>\n",
              "      <td>5.967</td>\n",
              "      <td>28.3491</td>\n",
              "      <td>34.0355</td>\n",
              "      <td>1021.5833</td>\n",
              "      <td>3.55787</td>\n",
              "    </tr>\n",
              "    <tr>\n",
              "      <th>...</th>\n",
              "      <td>...</td>\n",
              "      <td>...</td>\n",
              "      <td>...</td>\n",
              "      <td>...</td>\n",
              "      <td>...</td>\n",
              "      <td>...</td>\n",
              "    </tr>\n",
              "    <tr>\n",
              "      <th>2016</th>\n",
              "      <td>2018</td>\n",
              "      <td>1997.279</td>\n",
              "      <td>3.6856</td>\n",
              "      <td>34.6069</td>\n",
              "      <td>1036.7238</td>\n",
              "      <td>1.31071</td>\n",
              "    </tr>\n",
              "    <tr>\n",
              "      <th>2017</th>\n",
              "      <td>2019</td>\n",
              "      <td>1998.264</td>\n",
              "      <td>3.6832</td>\n",
              "      <td>34.6070</td>\n",
              "      <td>1036.7287</td>\n",
              "      <td>1.30772</td>\n",
              "    </tr>\n",
              "    <tr>\n",
              "      <th>2018</th>\n",
              "      <td>2020</td>\n",
              "      <td>1999.249</td>\n",
              "      <td>3.6836</td>\n",
              "      <td>34.6071</td>\n",
              "      <td>1036.7332</td>\n",
              "      <td>1.31057</td>\n",
              "    </tr>\n",
              "    <tr>\n",
              "      <th>2019</th>\n",
              "      <td>2021</td>\n",
              "      <td>2000.234</td>\n",
              "      <td>3.6842</td>\n",
              "      <td>34.6070</td>\n",
              "      <td>1036.7375</td>\n",
              "      <td>1.31041</td>\n",
              "    </tr>\n",
              "    <tr>\n",
              "      <th>2020</th>\n",
              "      <td>2022</td>\n",
              "      <td>2001.219</td>\n",
              "      <td>3.6834</td>\n",
              "      <td>34.6069</td>\n",
              "      <td>1036.7421</td>\n",
              "      <td>1.30800</td>\n",
              "    </tr>\n",
              "  </tbody>\n",
              "</table>\n",
              "<p>2021 rows × 6 columns</p>\n",
              "</div>"
            ],
            "text/plain": [
              "      pressure     depth  temperature  Salinity    density   oxygen\n",
              "0            2     1.989      29.0046   33.8873  1021.2380  2.92979\n",
              "1            3     2.983      28.5072   33.9911  1021.4852  3.07316\n",
              "2            4     3.978      28.4227   34.0155  1021.5356  2.97615\n",
              "3            5     4.972      28.4160   34.0162  1021.5426  3.35803\n",
              "4            6     5.967      28.3491   34.0355  1021.5833  3.55787\n",
              "...        ...       ...          ...       ...        ...      ...\n",
              "2016      2018  1997.279       3.6856   34.6069  1036.7238  1.31071\n",
              "2017      2019  1998.264       3.6832   34.6070  1036.7287  1.30772\n",
              "2018      2020  1999.249       3.6836   34.6071  1036.7332  1.31057\n",
              "2019      2021  2000.234       3.6842   34.6070  1036.7375  1.31041\n",
              "2020      2022  2001.219       3.6834   34.6069  1036.7421  1.30800\n",
              "\n",
              "[2021 rows x 6 columns]"
            ]
          },
          "metadata": {
            "tags": []
          },
          "execution_count": 10
        }
      ]
    },
    {
      "cell_type": "markdown",
      "metadata": {
        "id": "NL8WTEEsKy_-"
      },
      "source": [
        "icebreaker: 45 seconds to find something yellow and then tell us about it (I think this could still work if the students will not turn on their cameras...but maybe not?)"
      ]
    },
    {
      "cell_type": "markdown",
      "metadata": {
        "id": "ihcsPsRfKE-R"
      },
      "source": [
        "some ideas\n",
        "\n",
        "end graphs\n",
        "> salinity profile\n",
        "\n",
        "> temperature profile\n",
        "\n",
        "> t/s scatter\n",
        "\n",
        "can color the points one color for tropical one color for polar\n",
        "\n"
      ]
    },
    {
      "cell_type": "code",
      "metadata": {
        "id": "_ZUmtSw5UsNj"
      },
      "source": [
        "import matplotlib.pyplot as plt"
      ],
      "execution_count": null,
      "outputs": []
    },
    {
      "cell_type": "code",
      "metadata": {
        "colab": {
          "base_uri": "https://localhost:8080/",
          "height": 265
        },
        "id": "R9JeoDkfUuk-",
        "outputId": "08000a94-ddb6-48b8-eb61-55ff96cd6b39"
      },
      "source": [
        "plt.plot(cast.temperature,cast.pressure)\n",
        "plt.gca().invert_yaxis()"
      ],
      "execution_count": null,
      "outputs": [
        {
          "output_type": "display_data",
          "data": {
            "image/png": "[encoded data removed]",
            "text/plain": [
              "<Figure size 432x288 with 1 Axes>"
            ]
          },
          "metadata": {
            "tags": [],
            "needs_background": "light"
          }
        }
      ]
    },
    {
      "cell_type": "code",
      "metadata": {
        "colab": {
          "base_uri": "https://localhost:8080/",
          "height": 284
        },
        "id": "C4F-hmE9U1Zi",
        "outputId": "0342f5d4-760a-4379-cb76-9118c5a45fcc"
      },
      "source": [
        "fig, ax = plt.subplots()\n",
        "ax.scatter(cast.Salinity,cast.temperature)"
      ],
      "execution_count": null,
      "outputs": [
        {
          "output_type": "execute_result",
          "data": {
            "text/plain": [
              "<matplotlib.collections.PathCollection at 0x7ff295b4cfd0>"
            ]
          },
          "metadata": {
            "tags": []
          },
          "execution_count": 16
        },
        {
          "output_type": "display_data",
          "data": {
            "image/png": "[encoded data removed]",
            "text/plain": [
              "<Figure size 432x288 with 1 Axes>"
            ]
          },
          "metadata": {
            "tags": [],
            "needs_background": "light"
          }
        }
      ]
    },
    {
      "cell_type": "code",
      "metadata": {
        "id": "9ZZS-5aSWbt9"
      },
      "source": [
        ""
      ],
      "execution_count": null,
      "outputs": []
    }
  ]
}