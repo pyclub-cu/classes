{
  "nbformat": 4,
  "nbformat_minor": 0,
  "metadata": {
    "colab": {
      "name": "Week_7_Data_Visualization.ipynb",
      "provenance": [],
      "authorship_tag": "ABX9TyPZQNvSIv3Nzguf6PL8Yrz6",
      "include_colab_link": true
    },
    "kernelspec": {
      "name": "python3",
      "display_name": "Python 3"
    }
  },
  "cells": [
    {
      "cell_type": "markdown",
      "metadata": {
        "id": "view-in-github",
        "colab_type": "text"
      },
      "source": [
        "<a href=\"https://colab.research.google.com/github/pyclub-cu/classes/blob/master/Week_7_Data_Visualization.ipynb\" target=\"_parent\"><img src=\"https://colab.research.google.com/assets/colab-badge.svg\" alt=\"Open In Colab\"/></a>"
      ]
    },
    {
      "cell_type": "code",
      "metadata": {
        "id": "eABaYF2pCRt3"
      },
      "source": [
        ""
      ],
      "execution_count": null,
      "outputs": []
    },
    {
      "cell_type": "markdown",
      "metadata": {
        "id": "OZlobIuyGJ67"
      },
      "source": [
        "# **Week 7:** Data Visualization!\n",
        "\n",
        "## Learning Goals\n",
        "\n",
        "1.  Temperature...Salinity............**Density**\n",
        "2.  Review Pandas\n",
        "3.  New Package - matplotlib!\n",
        "4.  Simple plots\n",
        "5.  Plotting real data\n",
        "\n",
        "\n",
        "\n"
      ]
    },
    {
      "cell_type": "markdown",
      "metadata": {
        "id": "sfIuPDSTLRnh"
      },
      "source": [
        "# Icebreaker\n",
        "\n"
      ]
    },
    {
      "cell_type": "markdown",
      "metadata": {
        "id": "mpMGQeYKLTYw"
      },
      "source": [
        "# Temperature...Salinity...........**Density**\n"
      ]
    },
    {
      "cell_type": "code",
      "metadata": {
        "id": "5AImVqCsLcNb",
        "colab": {
          "base_uri": "https://localhost:8080/",
          "height": 422
        },
        "outputId": "7e8aed26-b26e-431f-ac62-3a0b28e04c88"
      },
      "source": [
        "from IPython.display import Image\n",
        "from IPython.core.display import HTML \n",
        "Image(url = \"https://7thgradescicvjh.weebly.com/uploads/2/4/1/4/24140348/screen-shot-2014-10-06-at-11-41-59-am_orig.png\",width = 600, height = 400)"
      ],
      "execution_count": 8,
      "outputs": [
        {
          "output_type": "execute_result",
          "data": {
            "text/html": [
              "<img src=\"https://7thgradescicvjh.weebly.com/uploads/2/4/1/4/24140348/screen-shot-2014-10-06-at-11-41-59-am_orig.png\" width=\"600\" height=\"400\"/>"
            ],
            "text/plain": [
              "<IPython.core.display.Image object>"
            ]
          },
          "metadata": {
            "tags": []
          },
          "execution_count": 8
        }
      ]
    },
    {
      "cell_type": "markdown",
      "metadata": {
        "id": "TfZidYSoKZzW"
      },
      "source": [
        "# Like a glass with oil and water, the ocean is also **stratified**.\n",
        "\n",
        "\n",
        "\n"
      ]
    },
    {
      "cell_type": "code",
      "metadata": {
        "id": "ndOktlsFK8uB",
        "outputId": "e8b1089c-a032-4a1f-9c74-a0795c7769b3",
        "colab": {
          "base_uri": "https://localhost:8080/",
          "height": 622
        }
      },
      "source": [
        "Image(url = \"https://www.thoughtco.com/thmb/uYzZkiBQ8LSfXzy15k6zNjwgAHg=/768x0/filters:no_upscale():max_bytes(150000):strip_icc():format(webp)/123535151-56a12f683df78cf772683b2a.jpg\",width = 400, height = 600)"
      ],
      "execution_count": 10,
      "outputs": [
        {
          "output_type": "execute_result",
          "data": {
            "text/html": [
              "<img src=\"https://www.thoughtco.com/thmb/uYzZkiBQ8LSfXzy15k6zNjwgAHg=/768x0/filters:no_upscale():max_bytes(150000):strip_icc():format(webp)/123535151-56a12f683df78cf772683b2a.jpg\" width=\"400\" height=\"600\"/>"
            ],
            "text/plain": [
              "<IPython.core.display.Image object>"
            ]
          },
          "metadata": {
            "tags": []
          },
          "execution_count": 10
        }
      ]
    },
    {
      "cell_type": "markdown",
      "metadata": {
        "id": "ZGOyx3UsM9xS"
      },
      "source": [
        "# Less dense waters are close to the surface and the densest waters at the seafloor.\n",
        "\n",
        "\n",
        "\n",
        "*   Saltier water is **MORE** dense\n",
        "*   Colder water is **MORE** dense\n",
        "\n",
        "# When water becomes colder or saltier, it becomes more dense and will sink"
      ]
    },
    {
      "cell_type": "code",
      "metadata": {
        "id": "BsKBNdW0SUjG",
        "outputId": "45affbc2-4ec3-4731-98f6-9765815c484b",
        "colab": {
          "base_uri": "https://localhost:8080/",
          "height": 214
        }
      },
      "source": [
        "Image(url = \"https://media.cheggcdn.com/study/60d/60d81913-ab7f-471d-a965-14a2f9167db7/516453-11.7-3IA1.png\")"
      ],
      "execution_count": 14,
      "outputs": [
        {
          "output_type": "execute_result",
          "data": {
            "text/html": [
              "<img src=\"https://media.cheggcdn.com/study/60d/60d81913-ab7f-471d-a965-14a2f9167db7/516453-11.7-3IA1.png\"/>"
            ],
            "text/plain": [
              "<IPython.core.display.Image object>"
            ]
          },
          "metadata": {
            "tags": []
          },
          "execution_count": 14
        }
      ]
    },
    {
      "cell_type": "markdown",
      "metadata": {
        "id": "hh5MVllsTBcp"
      },
      "source": [
        "# This drives a global ocean circulation"
      ]
    },
    {
      "cell_type": "code",
      "metadata": {
        "id": "qge3brTnKO1q",
        "outputId": "31ce3d9d-f42f-4542-81d3-996164264c84",
        "colab": {
          "base_uri": "https://localhost:8080/",
          "height": 522
        }
      },
      "source": [
        "Image(url = \"https://media.nationalgeographic.org/assets/photos/229/384/ac91cac1-7c59-4ae4-a2b0-0028aeea6d2c.jpg\",width = 700, height = 500)"
      ],
      "execution_count": 12,
      "outputs": [
        {
          "output_type": "execute_result",
          "data": {
            "text/html": [
              "<img src=\"https://media.nationalgeographic.org/assets/photos/229/384/ac91cac1-7c59-4ae4-a2b0-0028aeea6d2c.jpg\" width=\"700\" height=\"500\"/>"
            ],
            "text/plain": [
              "<IPython.core.display.Image object>"
            ]
          },
          "metadata": {
            "tags": []
          },
          "execution_count": 12
        }
      ]
    },
    {
      "cell_type": "markdown",
      "metadata": {
        "id": "Wn6gWp4kTLBD"
      },
      "source": [
        "# **Today** we will make some plots of the data we worked with last week\n",
        "We will examine *polar* and *tropical* salinity, temperature, and **density**.\n"
      ]
    },
    {
      "cell_type": "markdown",
      "metadata": {
        "id": "S7dgAVy0TcFz"
      },
      "source": [
        "## Recap from last week"
      ]
    },
    {
      "cell_type": "code",
      "metadata": {
        "id": "D6xG5JDuQxdK"
      },
      "source": [
        "#Import pandas package \n",
        "import pandas as pd\n"
      ],
      "execution_count": 15,
      "outputs": []
    },
    {
      "cell_type": "code",
      "metadata": {
        "id": "gVJV4a-0TQEa"
      },
      "source": [
        "# Load the polar ctd data\n",
        "Polar = pd.read_csv('https://raw.githubusercontent.com/pyclub-cu/classes/master/data/ct4-9908-04_ODV.csv', header = 1, delim_whitespace=True)"
      ],
      "execution_count": 16,
      "outputs": []
    },
    {
      "cell_type": "code",
      "metadata": {
        "id": "SdLNUQFvMRlE"
      },
      "source": [
        "# Load the tropical ctd data\n",
        "Tropical = pd.read_csv('https://raw.githubusercontent.com/pyclub-cu/classes/master/data/CTD_for_pyclub_mooringsite.csv', header = 0)"
      ],
      "execution_count": 18,
      "outputs": []
    },
    {
      "cell_type": "code",
      "metadata": {
        "id": "r-cr95FeGOs4"
      },
      "source": [
        "#WANT TO ADD HERE average salinity, average temperture in same way una does"
      ],
      "execution_count": 19,
      "outputs": []
    },
    {
      "cell_type": "markdown",
      "metadata": {
        "id": "2U7_KpxLTzQR"
      },
      "source": [
        "# **Matplotlib** new package\n",
        "To make plots we need to work with a new package called matplotlib\n"
      ]
    },
    {
      "cell_type": "code",
      "metadata": {
        "id": "9p5QMIMZMxiz"
      },
      "source": [
        "# Import the matplotlib package\n",
        "import matplotlib.pyplot as plt"
      ],
      "execution_count": 20,
      "outputs": []
    },
    {
      "cell_type": "markdown",
      "metadata": {
        "id": "e-RVXGrOVDI8"
      },
      "source": [
        "## First lets use some sample data to practice making a line graph, bar graph, and scatter plot."
      ]
    },
    {
      "cell_type": "code",
      "metadata": {
        "colab": {
          "base_uri": "https://localhost:8080/",
          "height": 282
        },
        "id": "qEXep0EWTzjN",
        "outputId": "4c133d55-e3df-4480-e3e2-9e62917aa651"
      },
      "source": [
        "x = [1,2,3,4,5] # data on the x-axis\n",
        "y = [10,20,13,5,11] # data on the y-axis\n",
        "\n",
        "# we can plot this as a line using the format plt.plot(x-axis_data, y-axis_data)\n",
        "plt.plot(x,y)"
      ],
      "execution_count": null,
      "outputs": [
        {
          "output_type": "execute_result",
          "data": {
            "text/plain": [
              "[<matplotlib.lines.Line2D at 0x7f3eda365908>]"
            ]
          },
          "metadata": {
            "tags": []
          },
          "execution_count": 20
        },
        {
          "output_type": "display_data",
          "data": {
            "image/png": "[encoded data removed]",
            "text/plain": [
              "<Figure size 432x288 with 1 Axes>"
            ]
          },
          "metadata": {
            "tags": [],
            "needs_background": "light"
          }
        }
      ]
    },
    {
      "cell_type": "code",
      "metadata": {
        "id": "6fN7bZ2jNpnt",
        "colab": {
          "base_uri": "https://localhost:8080/",
          "height": 282
        },
        "outputId": "9e5d52d5-7a0a-48e8-aefb-d25a970290b1"
      },
      "source": [
        "# we can plot this as a bar chart\n",
        "\n",
        "plt.bar(x,y)"
      ],
      "execution_count": null,
      "outputs": [
        {
          "output_type": "execute_result",
          "data": {
            "text/plain": [
              "<BarContainer object of 5 artists>"
            ]
          },
          "metadata": {
            "tags": []
          },
          "execution_count": 21
        },
        {
          "output_type": "display_data",
          "data": {
            "image/png": "[encoded data removed]",
            "text/plain": [
              "<Figure size 432x288 with 1 Axes>"
            ]
          },
          "metadata": {
            "tags": [],
            "needs_background": "light"
          }
        }
      ]
    },
    {
      "cell_type": "code",
      "metadata": {
        "id": "swNBi8sDNObq",
        "colab": {
          "base_uri": "https://localhost:8080/",
          "height": 282
        },
        "outputId": "fc033aa6-0897-4433-f24b-8c37aa354752"
      },
      "source": [
        "# we can plot this as a scatter\n",
        "\n",
        "plt.scatter(x,y)"
      ],
      "execution_count": null,
      "outputs": [
        {
          "output_type": "execute_result",
          "data": {
            "text/plain": [
              "<matplotlib.collections.PathCollection at 0x7f3eda08c748>"
            ]
          },
          "metadata": {
            "tags": []
          },
          "execution_count": 22
        },
        {
          "output_type": "display_data",
          "data": {
            "image/png": "[encoded data removed]",
            "text/plain": [
              "<Figure size 432x288 with 1 Axes>"
            ]
          },
          "metadata": {
            "tags": [],
            "needs_background": "light"
          }
        }
      ]
    },
    {
      "cell_type": "markdown",
      "metadata": {
        "id": "9HC3YAeCVbgU"
      },
      "source": [
        "## A plot is difficult to understand if there are no labels!  When we add axis labels and a title, the graph becomes easier to interprit."
      ]
    },
    {
      "cell_type": "code",
      "metadata": {
        "id": "NLk1dsc-NcIb",
        "colab": {
          "base_uri": "https://localhost:8080/",
          "height": 312
        },
        "outputId": "fc6411f5-a273-48d5-b7d3-683eb57e759c"
      },
      "source": [
        "# We can add more information to make it easy to understand like axis labels and a title\n",
        "\n",
        "plt.plot(x,y)\n",
        "plt.ylabel('Windspeed (meter/second)') # y axis label\n",
        "plt.xlabel('Time (minutes)') # x axis label\n",
        "plt.title('Windspeed at the Weather Station') # title"
      ],
      "execution_count": null,
      "outputs": [
        {
          "output_type": "execute_result",
          "data": {
            "text/plain": [
              "Text(0.5, 1.0, 'Windspeed at the Weather Station')"
            ]
          },
          "metadata": {
            "tags": []
          },
          "execution_count": 27
        },
        {
          "output_type": "display_data",
          "data": {
            "image/png": "[encoded data removed]",
            "text/plain": [
              "<Figure size 432x288 with 1 Axes>"
            ]
          },
          "metadata": {
            "tags": [],
            "needs_background": "light"
          }
        }
      ]
    },
    {
      "cell_type": "markdown",
      "metadata": {
        "id": "WVWE8xlcV0Tf"
      },
      "source": [
        "## Those words and numbers are pretty small...\n",
        "\n",
        "There are many more things we can change about the graph such as the fontsize of the labels and the color and style of the line"
      ]
    },
    {
      "cell_type": "code",
      "metadata": {
        "id": "R5pzKnNpOZZI",
        "colab": {
          "base_uri": "https://localhost:8080/",
          "height": 304
        },
        "outputId": "ed580f62-9d4a-4784-f8be-4faa2019db59"
      },
      "source": [
        "# We can make it pretty\n",
        "\n",
        "plt.plot(x,y, color = 'r', linestyle = '-.') #r makes the line red, -. makes a dash dot line\n",
        "# the format plt.plot(x-axis_data, y-axis_data, other changes)\n",
        "plt.ylabel('Windspeed (meter/second)',fontsize = 14) #increase the size of the words\n",
        "plt.xlabel('Time (minutes)',fontsize = 14)\n",
        "plt.title('Windspeed at the Weather Station',fontsize = 14)\n",
        "plt.xticks(fontsize = 14) #increase the size of the tick labels\n",
        "plt.yticks(fontsize = 14)\n",
        "plt.show()"
      ],
      "execution_count": null,
      "outputs": [
        {
          "output_type": "display_data",
          "data": {
            "image/png": "[encoded data removed]",
            "text/plain": [
              "<Figure size 432x288 with 1 Axes>"
            ]
          },
          "metadata": {
            "tags": [],
            "needs_background": "light"
          }
        }
      ]
    },
    {
      "cell_type": "markdown",
      "metadata": {
        "id": "2dOfdc9RWSod"
      },
      "source": [
        "# Now its your turn!  Use the cell below to make a scatter plot of our windspeed data.\n",
        "\n",
        "Try changing the color of the markers, and the shape and size of the markers (many marker shapes can be found here https://matplotlib.org/3.1.1/api/markers_api.html).\n",
        "Remember to add readble and informative labels!"
      ]
    },
    {
      "cell_type": "code",
      "metadata": {
        "id": "-GBPiW-mQfWX"
      },
      "source": [
        "# Now you try!\n",
        "# In this cell wrtie the code to make a scatter plot of our windspeed data\n",
        "# try using c = 'put_color_here' to change the color of the markers (e.g. 'red','blue','green')\n",
        "# try using marker = 'put_shape_here' to change the shape of the markers (e.g. '.', 'o','d')\n",
        "# try using s = 'put_size_here' to make the markers larger (e.g. '10', '50', '100')\n",
        "# remember to add axis labels and a title!\n",
        "\n",
        "\n",
        "\n",
        "\n"
      ],
      "execution_count": 21,
      "outputs": []
    },
    {
      "cell_type": "markdown",
      "metadata": {
        "id": "NvUb7MtLXaPV"
      },
      "source": [
        "# Now that we know how to make a plot, let's try with real data from our polar and tropical CTD\n",
        "\n",
        "First lets plot a temperature profile in the tropics - temperature on the x-axis and depth on the y-axis."
      ]
    },
    {
      "cell_type": "code",
      "metadata": {
        "id": "_RZIJc4gR2im",
        "colab": {
          "base_uri": "https://localhost:8080/",
          "height": 304
        },
        "outputId": "9734066e-9707-474b-add5-14fc4fca1e20"
      },
      "source": [
        "# Temperature profile in the tropics - plotting temperature against depth\n",
        "\n",
        "plt.scatter(Tropical['temperature'],Tropical['depth'], color = 'b')\n",
        "# the format plt.scatter(x-axis_data, y-axis_data, other changes)\n",
        "\n",
        "plt.ylabel('Depth (meter)',fontsize = 14) #increase the size of the words\n",
        "plt.xlabel('Temperature (degC)',fontsize = 14)\n",
        "plt.title('Temperature in the tropics',fontsize = 14)\n",
        "plt.xticks(fontsize = 14) #increase the size of the tick labels\n",
        "plt.yticks(fontsize = 14)\n",
        "\n",
        "plt.gca().invert_yaxis() # This reverses the y axis so we have 0m depth at the top\n",
        "plt.show()"
      ],
      "execution_count": 22,
      "outputs": [
        {
          "output_type": "display_data",
          "data": {
            "image/png": "[encoded data removed]",
            "text/plain": [
              "<Figure size 432x288 with 1 Axes>"
            ]
          },
          "metadata": {
            "tags": [],
            "needs_background": "light"
          }
        }
      ]
    },
    {
      "cell_type": "markdown",
      "metadata": {
        "id": "uHm9qLbyT_vX"
      },
      "source": [
        ""
      ]
    },
    {
      "cell_type": "code",
      "metadata": {
        "id": "tBgrS_M1T_98",
        "colab": {
          "base_uri": "https://localhost:8080/",
          "height": 284
        },
        "outputId": "9e67b806-d8a3-4cb3-d366-741bff0553d6"
      },
      "source": [
        "plt.scatter(Tropical['Salinity'], Tropical['temperature'],c = Tropical['depth'],cmap = 'viridis')\n",
        "plt.scatter(Polar['Salinity[PSU]'],Polar['Temperature[deg_C]'],c = Polar['Depth[m]'],cmap = 'magma')\n",
        "plt.xlim(32,35)"
      ],
      "execution_count": null,
      "outputs": [
        {
          "output_type": "execute_result",
          "data": {
            "text/plain": [
              "(32.0, 35.0)"
            ]
          },
          "metadata": {
            "tags": []
          },
          "execution_count": 85
        },
        {
          "output_type": "display_data",
          "data": {
            "image/png": "[encoded data removed]",
            "text/plain": [
              "<Figure size 432x288 with 1 Axes>"
            ]
          },
          "metadata": {
            "tags": [],
            "needs_background": "light"
          }
        }
      ]
    },
    {
      "cell_type": "markdown",
      "metadata": {
        "id": "NL8WTEEsKy_-"
      },
      "source": [
        "icebreaker: 45 seconds to find something yellow and then tell us about it (I think this could still work if the students will not turn on their cameras...but maybe not?)"
      ]
    },
    {
      "cell_type": "markdown",
      "metadata": {
        "id": "ihcsPsRfKE-R"
      },
      "source": [
        "some ideas\n",
        "\n",
        "end graphs\n",
        "> salinity profile\n",
        "\n",
        "> temperature profile\n",
        "\n",
        "> t/s scatter\n",
        "\n",
        "can color the points one color for tropical one color for polar\n",
        "\n"
      ]
    },
    {
      "cell_type": "code",
      "metadata": {
        "id": "_ZUmtSw5UsNj"
      },
      "source": [
        "import matplotlib.pyplot as plt"
      ],
      "execution_count": null,
      "outputs": []
    },
    {
      "cell_type": "code",
      "metadata": {
        "colab": {
          "base_uri": "https://localhost:8080/",
          "height": 265
        },
        "id": "R9JeoDkfUuk-",
        "outputId": "08000a94-ddb6-48b8-eb61-55ff96cd6b39"
      },
      "source": [
        "plt.plot(cast.temperature,cast.pressure)\n",
        "plt.gca().invert_yaxis()"
      ],
      "execution_count": null,
      "outputs": [
        {
          "output_type": "display_data",
          "data": {
            "image/png": "[encoded data removed]",
            "text/plain": [
              "<Figure size 432x288 with 1 Axes>"
            ]
          },
          "metadata": {
            "tags": [],
            "needs_background": "light"
          }
        }
      ]
    },
    {
      "cell_type": "code",
      "metadata": {
        "colab": {
          "base_uri": "https://localhost:8080/",
          "height": 284
        },
        "id": "C4F-hmE9U1Zi",
        "outputId": "0342f5d4-760a-4379-cb76-9118c5a45fcc"
      },
      "source": [
        "fig, ax = plt.subplots()\n",
        "ax.scatter(cast.Salinity,cast.temperature)"
      ],
      "execution_count": null,
      "outputs": [
        {
          "output_type": "execute_result",
          "data": {
            "text/plain": [
              "<matplotlib.collections.PathCollection at 0x7ff295b4cfd0>"
            ]
          },
          "metadata": {
            "tags": []
          },
          "execution_count": 16
        },
        {
          "output_type": "display_data",
          "data": {
            "image/png": "[encoded data removed]",
            "text/plain": [
              "<Figure size 432x288 with 1 Axes>"
            ]
          },
          "metadata": {
            "tags": [],
            "needs_background": "light"
          }
        }
      ]
    },
    {
      "cell_type": "code",
      "metadata": {
        "id": "9ZZS-5aSWbt9"
      },
      "source": [
        ""
      ],
      "execution_count": null,
      "outputs": []
    }
  ]
}