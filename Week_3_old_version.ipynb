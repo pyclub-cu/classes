{
  "nbformat": 4,
  "nbformat_minor": 0,
  "metadata": {
    "colab": {
      "name": "Week 3: Objects - numbers, strings and lists",
      "provenance": [],
      "collapsed_sections": [],
      "authorship_tag": "ABX9TyNiaPzCnmc1yKayXWforreC",
      "include_colab_link": true
    },
    "kernelspec": {
      "name": "python3",
      "display_name": "Python 3"
    }
  },
  "cells": [
    {
      "cell_type": "markdown",
      "metadata": {
        "id": "view-in-github",
        "colab_type": "text"
      },
      "source": [
        "<a href=\"https://colab.research.google.com/github/pyclub-cu/classes/blob/master/Week_3_Objects_numbers%2C_strings_and_lists.ipynb\" target=\"_parent\"><img src=\"https://colab.research.google.com/assets/colab-badge.svg\" alt=\"Open In Colab\"/></a>"
      ]
    },
    {
      "cell_type": "markdown",
      "metadata": {
        "id": "z6vNxpqUZu6i"
      },
      "source": [
        "# Week 3\n",
        "# **Variables and lists**\n",
        "\n",
        "#### **Learning Goals**\n",
        "* Learn how to assign variables (10 mins)\n",
        "* Do some math calculations! (15 mins)\n",
        "* Make and use lists (15 mins)\n",
        "\n",
        "#### **Icebreaker!**\n",
        "![icebreakergraphic_small.png](data:image/png;base64,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)\n",
        "\n",
        "> Question: Let's name as many creatures (or things) of the sea as you can!\n",
        "> Later, we will learn to add them to existing lists!\n",
        "> \n",
        "> Example: Sea urchins, jellyfish and plastic bottles!\n"
      ]
    },
    {
      "cell_type": "markdown",
      "metadata": {
        "id": "x55MeKNwsZsn"
      },
      "source": [
        "Icebreaker answers:\r\n",
        "\r\n",
        "* Our answers! (jellyfish, surfers, etc.)"
      ]
    },
    {
      "cell_type": "markdown",
      "metadata": {
        "id": "VCA5XwDNEKTf"
      },
      "source": [
        "# **Recap: numbers and strings**\n",
        "\n",
        "Last week, we learnt about `print()` statements, and objects: numbers and strings.\n",
        "\n",
        "Most things in Python are objects, such as this list of prime numbers:\n",
        "```\n",
        "prime_numbers = [2,3,5,7,11,13]\n",
        "```\n",
        "\n",
        "Now, here's my grocery list 🛒:\n",
        "```\n",
        "groceries = ['apples','yams','bread','eggs','sour patch kids']\n",
        "```\n",
        "\n",
        "> Both `prime_numbers` and `groceries` are lists, but they are different in one > major way. **What do you think that is?**\n",
        "\n"
      ]
    },
    {
      "cell_type": "markdown",
      "metadata": {
        "id": "OtKegwNlFsK2"
      },
      "source": [
        "## **Assigning Variables**\r\n",
        "So far, we're able to type integers, decimals and words into `code cells` when and as we want.\r\n",
        "\r\n",
        "If we want to save the numbers or words for later use, we need to **assign** them to variables.\r\n",
        "\r\n",
        "**What are variables?**\r\n",
        "> Variables are where we can store objects in our code. We can assign different types of objects (floats, integers and strings) to variables\r\n",
        "\r\n",
        "Here is an example of assigning a variable to a number:\r\n"
      ]
    },
    {
      "cell_type": "code",
      "metadata": {
        "id": "a-upVQgCLp-k"
      },
      "source": [
        "my_age = 77"
      ],
      "execution_count": null,
      "outputs": []
    },
    {
      "cell_type": "markdown",
      "metadata": {
        "id": "pBrxYk6nL7NA"
      },
      "source": [
        "Here is an example of assigning a variable to a string:"
      ]
    },
    {
      "cell_type": "code",
      "metadata": {
        "id": "KzaNZL-tL6R2"
      },
      "source": [
        "my_name = 'Suki'"
      ],
      "execution_count": null,
      "outputs": []
    },
    {
      "cell_type": "markdown",
      "metadata": {
        "id": "BGRns0nXwD3I"
      },
      "source": [
        "> SOME THINGS TO CONSIDER:\r\n",
        ">\r\n",
        "> As you can see, the variable name is always on the left, and the value is on the right\r\n",
        ">\r\n",
        "> i.e. x = 2, NOT 2 = x\r\n",
        ">\r\n",
        "> It is typically helpful to pick a variable name that tells you about the object being stored "
      ]
    },
    {
      "cell_type": "markdown",
      "metadata": {
        "id": "0crbzRctMRs6"
      },
      "source": [
        "By assigning `my_name` and `my_age`, Python will remember these variables during the rest of this session."
      ]
    },
    {
      "cell_type": "code",
      "metadata": {
        "id": "UbJ6lDE7L4ID",
        "colab": {
          "base_uri": "https://localhost:8080/"
        },
        "outputId": "8232f331-01d3-448a-e433-137fce7b923f"
      },
      "source": [
        "print('my age')"
      ],
      "execution_count": 24,
      "outputs": [
        {
          "output_type": "stream",
          "text": [
            "my age\n"
          ],
          "name": "stdout"
        }
      ]
    },
    {
      "cell_type": "markdown",
      "metadata": {
        "id": "_AVT7_NryZW4"
      },
      "source": [
        "You can also reassign variables:\r\n"
      ]
    },
    {
      "cell_type": "code",
      "metadata": {
        "colab": {
          "base_uri": "https://localhost:8080/"
        },
        "id": "A2rA_3Nsyr3C",
        "outputId": "9bd054e4-f486-4b83-c60d-f0d2ca7fb01c"
      },
      "source": [
        "my_name = 'enter your name here'\r\n",
        "print(my_name)"
      ],
      "execution_count": 26,
      "outputs": [
        {
          "output_type": "stream",
          "text": [
            "enter your name here\n"
          ],
          "name": "stdout"
        }
      ]
    },
    {
      "cell_type": "code",
      "metadata": {
        "colab": {
          "base_uri": "https://localhost:8080/"
        },
        "id": "I6k_Jz88y4hf",
        "outputId": "7a9ff2fa-895b-49d6-b836-2a31c29a2375"
      },
      "source": [
        "my_age = 'enter your age here'\r\n",
        "print(my_age)"
      ],
      "execution_count": 28,
      "outputs": [
        {
          "output_type": "stream",
          "text": [
            "enter your age here\n"
          ],
          "name": "stdout"
        }
      ]
    },
    {
      "cell_type": "markdown",
      "metadata": {
        "id": "fA0Ho08mQObf"
      },
      "source": [
        "## **Mathematical operations**\r\n",
        "Python can do math, much like a calculator\r\n",
        "\r\n",
        "* to add, use `+`\r\n",
        "* to subtract, use `-`\r\n",
        "* to multiply, use `*`\r\n",
        "* to divide, use `/`\r\n",
        "* brackets can be used to infer the order of operations\r\n",
        "\r\n"
      ]
    },
    {
      "cell_type": "code",
      "metadata": {
        "colab": {
          "base_uri": "https://localhost:8080/"
        },
        "id": "iIOGax0yQwsx",
        "outputId": "4badb512-51d8-416f-94e2-7032c34c8b78"
      },
      "source": [
        "# Try doing some math below! I'll start you off here,\r\n",
        "15+4.4"
      ],
      "execution_count": 29,
      "outputs": [
        {
          "output_type": "execute_result",
          "data": {
            "text/plain": [
              "19.4"
            ]
          },
          "metadata": {
            "tags": []
          },
          "execution_count": 29
        }
      ]
    },
    {
      "cell_type": "code",
      "metadata": {
        "id": "uiVe0mjlRJax",
        "colab": {
          "base_uri": "https://localhost:8080/"
        },
        "outputId": "a521c5e3-1dfe-4a83-fffa-6c0a46ad1a8e"
      },
      "source": [
        "# do some math: make sure to try a divison and a multiplication\r\n",
        "2/3"
      ],
      "execution_count": 30,
      "outputs": [
        {
          "output_type": "execute_result",
          "data": {
            "text/plain": [
              "0.6666666666666666"
            ]
          },
          "metadata": {
            "tags": []
          },
          "execution_count": 30
        }
      ]
    },
    {
      "cell_type": "markdown",
      "metadata": {
        "id": "wQlP8dzsRLOd"
      },
      "source": [
        "**Exercise**\r\n",
        "\r\n",
        "> Earlier, we stored your age. What will your age be in 5 more years?\r\n",
        " **Calculate the answer by using `my_age` and a simple math operation**"
      ]
    },
    {
      "cell_type": "code",
      "metadata": {
        "id": "hqWcNaiuRgky"
      },
      "source": [
        "# enter answer below\r\n"
      ],
      "execution_count": 32,
      "outputs": []
    },
    {
      "cell_type": "markdown",
      "metadata": {
        "id": "ZLXHLsWyR14m"
      },
      "source": [
        "Mathematical operations are not limited to only numbers in Python. We can also add strings!\r\n",
        "\r\n",
        "**Apples and Oranges!**\r\n",
        "You can only add numbers to other numbers, OR strings to other strings.In order to add a number to a string, you need to convert the number to a string format first. For example:"
      ]
    },
    {
      "cell_type": "code",
      "metadata": {
        "colab": {
          "base_uri": "https://localhost:8080/"
        },
        "id": "HBaggvoRSZmB",
        "outputId": "b68fb429-2ecf-43f2-8e8d-77684c1373cb"
      },
      "source": [
        "print(my_name + ' is ' + str(my_age)  + ' years old.')\r\n"
      ],
      "execution_count": null,
      "outputs": [
        {
          "output_type": "stream",
          "text": [
            "Suki is 77 years old.\n"
          ],
          "name": "stdout"
        }
      ]
    },
    {
      "cell_type": "markdown",
      "metadata": {
        "id": "opf2d7NsEioL"
      },
      "source": [
        "**Equations**\r\n",
        "> If y = 2x + c,\r\n",
        ">\r\n",
        "> where x = 0.5 and c = 42\r\n",
        ">\r\n",
        "> **What is y?** \r\n"
      ]
    },
    {
      "cell_type": "code",
      "metadata": {
        "id": "vtrvmgTkRI-Q"
      },
      "source": [
        "# first assign variables\r\n",
        "x = 0.5\r\n",
        "c = 42"
      ],
      "execution_count": 35,
      "outputs": []
    },
    {
      "cell_type": "code",
      "metadata": {
        "id": "VBj076OYRKiH"
      },
      "source": [
        "# next, write the equation\r\n",
        "y = 2*x + c"
      ],
      "execution_count": 36,
      "outputs": []
    },
    {
      "cell_type": "code",
      "metadata": {
        "id": "F1G7nNtDE7v2",
        "colab": {
          "base_uri": "https://localhost:8080/"
        },
        "outputId": "bbbf63e9-e798-4c2e-d70b-27648bc62b8c"
      },
      "source": [
        "# what is y?\r\n",
        "y"
      ],
      "execution_count": 37,
      "outputs": [
        {
          "output_type": "execute_result",
          "data": {
            "text/plain": [
              "43.0"
            ]
          },
          "metadata": {
            "tags": []
          },
          "execution_count": 37
        }
      ]
    },
    {
      "cell_type": "markdown",
      "metadata": {
        "id": "Y2_ctjHeFh2A"
      },
      "source": [
        "**Exercise**\r\n",
        "\r\n",
        "> y = 2a$^{2}$ + 6b + c ,\r\n",
        ">\r\n",
        "> where a = 5, b = 2 and c = 3\r\n",
        ">\r\n",
        "> **What is y?**"
      ]
    },
    {
      "cell_type": "code",
      "metadata": {
        "id": "f9h3-eVWFBBa"
      },
      "source": [
        "# assign the variables\r\n"
      ],
      "execution_count": null,
      "outputs": []
    },
    {
      "cell_type": "code",
      "metadata": {
        "id": "_DdBXMZv6_AY"
      },
      "source": [
        "# write the equation\r\n"
      ],
      "execution_count": 38,
      "outputs": []
    },
    {
      "cell_type": "code",
      "metadata": {
        "id": "IStIdIcm0bnI"
      },
      "source": [
        "# what is y\r\n"
      ],
      "execution_count": 39,
      "outputs": []
    },
    {
      "cell_type": "markdown",
      "metadata": {
        "id": "dBGQMZ-j0eFD"
      },
      "source": [
        "> To raise x to the power of 2, you can do `x**2`\r\n"
      ]
    },
    {
      "cell_type": "markdown",
      "metadata": {
        "id": "pXATCeq3ZU14"
      },
      "source": [
        "## **Lists**"
      ]
    },
    {
      "cell_type": "markdown",
      "metadata": {
        "id": "-1tQdA4FEtVs"
      },
      "source": [
        "Lists can be made by using square brackets, `[]`\n",
        "\n",
        "Let's put all our creatures from the icebreaker into a list:\n"
      ]
    },
    {
      "cell_type": "code",
      "metadata": {
        "id": "SEYmIvk5CuMC"
      },
      "source": [
        "class_creatures = ['seals','sunfish','great white','sting ray','sea turtle','starfish','jellyfish','iceberg']\r\n"
      ],
      "execution_count": 40,
      "outputs": []
    },
    {
      "cell_type": "markdown",
      "metadata": {
        "id": "pgmzgqsJEDTj"
      },
      "source": [
        "We *could* manually count the length of our list, but a faster, more *pythonic* way to do this would be to use the `len()` command.\r\n",
        "\r\n",
        "**What is the length of `class_creatures`?**"
      ]
    },
    {
      "cell_type": "code",
      "metadata": {
        "id": "rVcPn6PSZqBr"
      },
      "source": [
        "# type answer below"
      ],
      "execution_count": null,
      "outputs": []
    },
    {
      "cell_type": "markdown",
      "metadata": {
        "id": "PDqiXI16mEXX"
      },
      "source": [
        "### Indexing and slicing\r\n",
        "\r\n",
        "We can use a numerical index to access an individual or sequence of objects in a list.\r\n",
        "\r\n",
        "In python, we always start counting from 0 \r\n",
        "> Normal counting: 1, 2, 3, 4, 5, etc.\r\n",
        ">\r\n",
        "> Python counting: 0, 1, 2, 3, 4, etc.\r\n",
        "\r\n",
        "In other words, the first item in `class_creatures`, has index **0**, and the second item has index **1**.\r\n",
        "\r\n"
      ]
    },
    {
      "cell_type": "code",
      "metadata": {
        "id": "Nf7UOh5e_YTv",
        "colab": {
          "base_uri": "https://localhost:8080/",
          "height": 35
        },
        "outputId": "bad378f1-5c7b-4f9c-d87e-ed87303638e5"
      },
      "source": [
        "# the first item in class_creatures can be accessed\r\n",
        "class_creatures[0]"
      ],
      "execution_count": null,
      "outputs": [
        {
          "output_type": "execute_result",
          "data": {
            "application/vnd.google.colaboratory.intrinsic+json": {
              "type": "string"
            },
            "text/plain": [
              "'seals'"
            ]
          },
          "metadata": {
            "tags": []
          },
          "execution_count": 4
        }
      ]
    },
    {
      "cell_type": "markdown",
      "metadata": {
        "id": "zJumtyPy__S4"
      },
      "source": [
        "**What is the 5th item in the list?**\r\n"
      ]
    },
    {
      "cell_type": "code",
      "metadata": {
        "id": "jSgaOcJKADVl"
      },
      "source": [
        "# enter answer below"
      ],
      "execution_count": null,
      "outputs": []
    },
    {
      "cell_type": "markdown",
      "metadata": {
        "id": "a4Mxi0WdAGp1"
      },
      "source": [
        "> Here's a tip: you can always access the last item in a list, by using a -1 index.\r\n",
        "\r\n",
        "**Give it a go. What happens if you try an index of -2?**"
      ]
    },
    {
      "cell_type": "code",
      "metadata": {
        "id": "UI2IZPzUAWlH"
      },
      "source": [
        "# try negative indices here"
      ],
      "execution_count": null,
      "outputs": []
    },
    {
      "cell_type": "markdown",
      "metadata": {
        "id": "JvD0VUMxAhov"
      },
      "source": [
        "We can also select a sequence of items in the list by **slicing**: slicing works by specifying a start and end index.\r\n",
        "\r\n",
        "**Try `class_creatures[0:3]`**"
      ]
    },
    {
      "cell_type": "code",
      "metadata": {
        "id": "lVImdOJvA9vc"
      },
      "source": [
        "# try here"
      ],
      "execution_count": null,
      "outputs": []
    },
    {
      "cell_type": "markdown",
      "metadata": {
        "id": "dp_Ud4r17we6"
      },
      "source": [
        "> Notice that the sliced result begins with your start index, but only goes up to and **not including** the end index\r\n",
        ">\r\n",
        "> To get a slice to the very end of the list, you can simply omit an end index, like so `class_creatures[3:]`\r\n",
        ">\r\n",
        "> Omitting the first index, will get your slice to start from the very beginning, though you can also just use an index of 0!"
      ]
    },
    {
      "cell_type": "markdown",
      "metadata": {
        "id": "6noB0t-uBC7-"
      },
      "source": [
        "**Slice `class_creatures` starting from 'great white' to the last creature**"
      ]
    },
    {
      "cell_type": "code",
      "metadata": {
        "id": "DAZXiMLT7l15",
        "colab": {
          "base_uri": "https://localhost:8080/"
        },
        "outputId": "836a56ad-6d00-40ee-d711-578a33d674c0"
      },
      "source": [
        "# slice here\r\n",
        "class_creatures[2:]"
      ],
      "execution_count": null,
      "outputs": [
        {
          "output_type": "execute_result",
          "data": {
            "text/plain": [
              "['great white', 'sting ray', 'sea turtle', 'starfish', 'jellyfish']"
            ]
          },
          "metadata": {
            "tags": []
          },
          "execution_count": 9
        }
      ]
    },
    {
      "cell_type": "markdown",
      "metadata": {
        "id": "doKyYE0k9xe7"
      },
      "source": [
        "### Comparing\r\n",
        " \r\n",
        "We can check if an item is in a list, using an `in` statement:\r\n",
        "\r\n",
        "\r\n"
      ]
    },
    {
      "cell_type": "code",
      "metadata": {
        "id": "Pof_MErglymD",
        "colab": {
          "base_uri": "https://localhost:8080/"
        },
        "outputId": "092b233d-4867-425e-e129-d77234db39fd"
      },
      "source": [
        "letters = ['a','b','c','d','e','f']\r\n",
        "'z' in letters"
      ],
      "execution_count": null,
      "outputs": [
        {
          "output_type": "execute_result",
          "data": {
            "text/plain": [
              "False"
            ]
          },
          "metadata": {
            "tags": []
          },
          "execution_count": 19
        }
      ]
    },
    {
      "cell_type": "markdown",
      "metadata": {
        "id": "FtUr1RsTM5Vh"
      },
      "source": [
        "> However, this is case sensitive, and also typo-sensitive!"
      ]
    },
    {
      "cell_type": "code",
      "metadata": {
        "id": "VVHTYL0RM4ro",
        "colab": {
          "base_uri": "https://localhost:8080/"
        },
        "outputId": "91ac92c1-a89c-491f-8628-8d2c0c839487"
      },
      "source": [
        "'a' in letters, 'A' in letters"
      ],
      "execution_count": null,
      "outputs": [
        {
          "output_type": "execute_result",
          "data": {
            "text/plain": [
              "(True, False)"
            ]
          },
          "metadata": {
            "tags": []
          },
          "execution_count": 21
        }
      ]
    },
    {
      "cell_type": "markdown",
      "metadata": {
        "id": "D5b76Y7NMphC"
      },
      "source": [
        "**Let's compare our creatures to a list of known species at Rockaways**\r\n",
        "\r\n",
        "An example:\r\n",
        "```\r\n",
        "'starfish' in rockaway_species\r\n",
        "```"
      ]
    },
    {
      "cell_type": "code",
      "metadata": {
        "id": "uD2l4REOmRYk"
      },
      "source": [
        "# hefty list of known species at the Rockaways\r\n",
        "rockaway_species = ['lobster','crabs','rock crab','blue crab',\r\n",
        "           'ghost crab','horseshoe crab','barnacle',\r\n",
        "           'spider crab','shrimp','seagull','herring gull',\r\n",
        "           'wigeon','black bellied plover','plover','heron',\r\n",
        "            'heron','pelican','blue heron','mallard','gannet',\r\n",
        "            'piping plover','plover','alewife','anglerfish',\r\n",
        "            'butterfish','eel','shad','silver perch','herring',\r\n",
        "            'menhaden','moonfish','needlefish','sturgeon',\r\n",
        "            'banded killifish', 'anchovy','black drum','seabass',\r\n",
        "            'bluefish','crevalle jack','foureye butterflyfish',\r\n",
        "            'flounder','seahorse','mummichog','pipefish','sea robin',\r\n",
        "            'pufferfish','puffer','sunfish','toadfish','red hake',\r\n",
        "            'hake','sand lance','scup','silver hake','striped bass',\r\n",
        "            'bass','burrfish','mullet','winter flonder',\r\n",
        "            'yellowtail flounder','basking shark','blue shark',\r\n",
        "            'bull shark','great white shark','nurse shark',\r\n",
        "            'sandbar shark','sand tiger shark','scalloped hammerhead',\r\n",
        "            'shortfin mako shark','mako shark','thresher shark','cat sharks',\r\n",
        "            'dogfish shark','rays','atlantic torpedo ray','cownose ray',\r\n",
        "            'skates','clearnose skate','little skate','winter skate',\r\n",
        "            'stingrays','roughtail stingray','dolphins','bottlenose dolphin',\r\n",
        "            'grey seal','harbor seal','seals','porpoise','whales',\r\n",
        "            'blue whale','fin whale','humpback whale',\r\n",
        "            'north alantic right whale','jellyfish','moon jellyfish',\r\n",
        "            'northern cup coral','starfish','northern sea star','scallops',\r\n",
        "            'clams','mussels','oysters','quahog','squid','octopus',\r\n",
        "            'whelk','periwinkle','mudsnail','oyster drill','worms',\r\n",
        "            'red beard sponge','algae','sea lettuce']"
      ],
      "execution_count": null,
      "outputs": []
    },
    {
      "cell_type": "code",
      "metadata": {
        "id": "y3rfz7nTMeqc",
        "colab": {
          "base_uri": "https://localhost:8080/"
        },
        "outputId": "116a8af6-4c9f-4cbc-d74e-f58600e75528"
      },
      "source": [
        "# compare here\r\n"
      ],
      "execution_count": null,
      "outputs": [
        {
          "output_type": "execute_result",
          "data": {
            "text/plain": [
              "False"
            ]
          },
          "metadata": {
            "tags": []
          },
          "execution_count": 18
        }
      ]
    },
    {
      "cell_type": "markdown",
      "metadata": {
        "id": "dANYbVEvQVkh"
      },
      "source": [
        "**How many items are there in the `rockaway_species` list?**"
      ]
    },
    {
      "cell_type": "code",
      "metadata": {
        "id": "gDUo_hS1QWBR"
      },
      "source": [
        "# answer here"
      ],
      "execution_count": null,
      "outputs": []
    },
    {
      "cell_type": "markdown",
      "metadata": {
        "id": "VEh8XHTfNjGL"
      },
      "source": [
        "### Appending\r\n",
        "\r\n",
        "\r\n"
      ]
    },
    {
      "cell_type": "markdown",
      "metadata": {
        "id": "U3KNY7QYPk0z"
      },
      "source": [
        "Items can be added to the list. Maybe you've observed a species on your last trip to the Rockaways that isn't on this list! To add, we can use the `append()` function"
      ]
    },
    {
      "cell_type": "code",
      "metadata": {
        "id": "H1TBUULKPkMh"
      },
      "source": [
        "# appending example\r\n",
        "rockaway_species.append('minke whale')"
      ],
      "execution_count": null,
      "outputs": []
    },
    {
      "cell_type": "markdown",
      "metadata": {
        "id": "hRItNcK_PeSl"
      },
      "source": [
        "You can also remove items from a list with the `remove()` function"
      ]
    },
    {
      "cell_type": "code",
      "metadata": {
        "id": "ZoVq9CvxMf_l"
      },
      "source": [
        "# to remove an item from a list\r\n",
        "rockaway_species.remove('starfish')"
      ],
      "execution_count": null,
      "outputs": []
    },
    {
      "cell_type": "markdown",
      "metadata": {
        "id": "LHhc05acPX_w"
      },
      "source": [
        "The marine environment is always evolving, both naturally and forced by human-caused climate change.\r\n",
        "\r\n",
        "We observe new species migrate to the Rockaways, and sometimes we see them move elsewhere, or decline in numbers. One cause for these permanent migrations could be due to the ocean temperature warming. Warming waters at the Rockaways allows warm water species to live here, while pushing away cold water species. You can think about how this affects other animals in the food web.\r\n"
      ]
    },
    {
      "cell_type": "code",
      "metadata": {
        "id": "763fi5uTPYXL"
      },
      "source": [
        ""
      ],
      "execution_count": null,
      "outputs": []
    }
  ]
}
