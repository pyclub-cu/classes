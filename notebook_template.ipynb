{
  "nbformat": 4,
  "nbformat_minor": 0,
  "metadata": {
    "colab": {
      "name": "notebook_template.ipynb",
      "provenance": [],
      "authorship_tag": "ABX9TyPco+poHMRWk6cVViodNrVj",
      "include_colab_link": true
    },
    "kernelspec": {
      "name": "python3",
      "display_name": "Python 3"
    }
  },
  "cells": [
    {
      "cell_type": "markdown",
      "metadata": {
        "id": "view-in-github",
        "colab_type": "text"
      },
      "source": [
        "<a href=\"https://colab.research.google.com/github/pyclub-cu/classes/blob/master/notebook_template.ipynb\" target=\"_parent\"><img src=\"https://colab.research.google.com/assets/colab-badge.svg\" alt=\"Open In Colab\"/></a>"
      ]
    },
    {
      "cell_type": "markdown",
      "metadata": {
        "id": "ttsoh_sdD0Cr"
      },
      "source": [
        "# Week '#'\r\n",
        "\r\n",
        "# **Subject title for the week**\r\n",
        "\r\n",
        "Intro if you want\r\n",
        "\r\n",
        "**Learning objectives**\r\n",
        "* First learning goal (xx mins)\r\n",
        "* Second learning goal (xx mins)\r\n",
        "* Third learning goal (xx mins)\r\n",
        "\r\n",
        "### **Icebreaker!**\r\n",
        "<img src='https://drive.google.com/uc?id=10o4W7pFpFvN6hspQjQ1OR1Vk0SISEcGh'>\r\n",
        "\r\n",
        "> **Question: Icebreaker question!**\r\n",
        "> More info on the question\r\n",
        "> \r\n",
        "> More text - if starting a new paragraph, but you want the grey line to continue from the previous paragraph, then include an empty row with a carat (>)"
      ]
    },
    {
      "cell_type": "markdown",
      "metadata": {
        "id": "mtxipZTZFeZG"
      },
      "source": [
        "# **Recap header**\r\n",
        "\r\n",
        "Insert text here or embed code `'like this'` inline.\r\n",
        "\r\n",
        "```\r\n",
        "# or, insert a code section like this\r\n",
        "```\r\n",
        "\r\n",
        "> Highlight points or things that you want students to really pay attention could be highlighted with the use of a carat (>)\r\n",
        "\r\n",
        "> **Questions/Exercises for the students should be BOTH bolded and also highlighted with the carat (>)**?\r\n",
        "\r\n",
        "\r\n"
      ]
    },
    {
      "cell_type": "code",
      "metadata": {
        "id": "pRQjW3QJD3rc"
      },
      "source": [
        "# answer here\r\n"
      ],
      "execution_count": 1,
      "outputs": []
    },
    {
      "cell_type": "markdown",
      "metadata": {
        "id": "-WejVL3KID66"
      },
      "source": [
        "# **Section header**\r\n",
        "\r\n",
        "Paragraph text example\r\n",
        "\r\n",
        "`<img src='https://drive.google.com/uc?id=#INSERT-PHOTO-ID-HERE>`\r\n",
        "\r\n",
        "> for instructions on how to get a photo id, see this [link](https://medium.com/analytics-vidhya/embedding-your-image-in-google-colab-markdown-3998d5ac2684). You will need to upload your image to our shared [pyclub google drive](https://drive.google.com/drive/folders/0AF8PtM7XZOaAUk9PVA)\r\n",
        "\r\n",
        "### **sub-heading**\r\n",
        "\r\n",
        "Paragraph text example\r\n",
        "\r\n",
        "> **Question can be inserted here**\r\n"
      ]
    },
    {
      "cell_type": "code",
      "metadata": {
        "colab": {
          "base_uri": "https://localhost:8080/"
        },
        "id": "vlaQnmrpIYxE",
        "outputId": "62e801ed-7b6e-4d2f-acb0-e9ae79bda8ec"
      },
      "source": [
        "# answer question here\r\n",
        "print('your answer')"
      ],
      "execution_count": 2,
      "outputs": [
        {
          "output_type": "stream",
          "text": [
            "your answer\n"
          ],
          "name": "stdout"
        }
      ]
    },
    {
      "cell_type": "code",
      "metadata": {
        "id": "3Yjm0nx1ItmV"
      },
      "source": [
        "# example code section\r\n",
        "letters = ['a','b','c']"
      ],
      "execution_count": 3,
      "outputs": []
    },
    {
      "cell_type": "markdown",
      "metadata": {
        "id": "TFTe_1b-JXVx"
      },
      "source": [
        "When referring to a variable, such as `letters`, within text, i think it would look neat to embed the variable name as \"code\" markdown (as I have done here)"
      ]
    },
    {
      "cell_type": "code",
      "metadata": {
        "id": "rNc08upuJWsL"
      },
      "source": [
        ""
      ],
      "execution_count": null,
      "outputs": []
    }
  ]
}