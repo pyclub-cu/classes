{
  "nbformat": 4,
  "nbformat_minor": 0,
  "metadata": {
    "colab": {
      "name": "Week_5_Salinity_Pandas.ipynb",
      "provenance": [],
      "authorship_tag": "ABX9TyOjdar6Zlp6GTP37T6WckFh",
      "include_colab_link": true
    },
    "kernelspec": {
      "name": "python3",
      "display_name": "Python 3"
    }
  },
  "cells": [
    {
      "cell_type": "markdown",
      "metadata": {
        "id": "view-in-github",
        "colab_type": "text"
      },
      "source": [
        "<a href=\"https://colab.research.google.com/github/pyclub-cu/classes/blob/master/Week_5_Salinity_Pandas.ipynb\" target=\"_parent\"><img src=\"https://colab.research.google.com/assets/colab-badge.svg\" alt=\"Open In Colab\"/></a>"
      ]
    },
    {
      "cell_type": "markdown",
      "metadata": {
        "id": "t8ZjlhQpL5i5"
      },
      "source": [
        "# **Week 5: Ocean Salinity, Packages and Pandas**\n",
        "\n",
        "**Learning Goals**\n",
        "- Learn about ocean salinity (10 min)\n",
        "- What are Python packages? (5 min)\n",
        "- `import` essential packages (5 min)\n",
        "- Let's play with `pandas`! (20 min)\n",
        "\n",
        "### **Icebreaker!**\n",
        "> **How many oceans are there?** 🤔..."
      ]
    },
    {
      "cell_type": "markdown",
      "metadata": {
        "id": "yzFAPr0CUihR"
      },
      "source": [
        "##### Sort of a trick question..."
      ]
    },
    {
      "cell_type": "markdown",
      "metadata": {
        "id": "PK-mjppNSgjt"
      },
      "source": [
        "![Five Oceans](https://wakeuptodigital.files.wordpress.com/2019/02/oceans.jpg)"
      ]
    },
    {
      "cell_type": "markdown",
      "metadata": {
        "id": "7NUkMTxyYbQL"
      },
      "source": [
        "> In the field of oceanography there are five major ocean basins on this planet: Arctic, Atlantic, Indian, Pacific and Southern Ocean. \n",
        ">\n",
        "> Oceanographers go even further and study the different kinds of \"*water masses*\" in the basins, and their influence on the earth's system. \n",
        "\n",
        "> **The way we define water masses is generally through the water's temperature and salinty profile.** (To be continued in Week 8...)"
      ]
    },
    {
      "cell_type": "markdown",
      "metadata": {
        "id": "mtxipZTZFeZG"
      },
      "source": [
        "# **Recap**\r\n",
        "\r\n",
        "- Indexing and slicing\r\n",
        "- Logical statements\r\n",
        "\r\n",
        "\r\n"
      ]
    },
    {
      "cell_type": "markdown",
      "metadata": {
        "id": "yzJ43LlOZ5rW"
      },
      "source": [
        ""
      ]
    },
    {
      "cell_type": "markdown",
      "metadata": {
        "id": "zSAu7xwVX7xP"
      },
      "source": [
        "> **We measure ocean temperature and depth with argo floats. What else do you think an Argo float measures in the water?**\n"
      ]
    },
    {
      "cell_type": "markdown",
      "metadata": {
        "id": "SZoCJ-4DU8eg"
      },
      "source": [
        "# **Ocean Salinity**\r\n",
        "\r\n",
        "### Salt vs Salinity\r\n",
        "\r\n",
        "> **Salts** are compounds like sodium chloride, magnesium sulfate, potassium nitrate, and sodium bicarbonate which dissolve into ions.\r\n",
        "\r\n",
        "> **Salinity** is the quantity of dissolved salt content of the water. It is measured as a mass fraction, or the ratio of dissolved salts (g) to a unit mass of water (kg). Often the unit for salinity is expressed as \"practical salinity unit\" (psu= $\\frac{g}{kg}$)."
      ]
    },
    {
      "cell_type": "markdown",
      "metadata": {
        "id": "Yd5pkKOGO4zw"
      },
      "source": [
        "<img width=800 src=\"https://smap.jpl.nasa.gov/system/news_items/main_images/1265_SMAP_salinity.jpg\">"
      ]
    },
    {
      "cell_type": "markdown",
      "metadata": {
        "id": "8tXndgajcA_b"
      },
      "source": [
        "> **Based on the figure above...**\n",
        ">\n",
        "> **1) Which ocean basin is the saltiest/freshest?**\n",
        ">\n",
        "> **2) What is the average salinity of the ocean?**"
      ]
    },
    {
      "cell_type": "markdown",
      "metadata": {
        "id": "0hH8_xc8UhWP"
      },
      "source": [
        "# **Python Packages**\n",
        "(Ding, Ding) You've got mail!\n",
        "\n",
        "[Python Packages Index (PyPi)](https://pypi.org/)"
      ]
    },
    {
      "cell_type": "markdown",
      "metadata": {
        "id": "9cf6Nh9TWLTN"
      },
      "source": [
        "* A module is a file containing Python code. \n",
        "* A package, however, is like a directory that holds sub-packages and modules. A package must hold the file **`__init__`.**py. This does not apply to modules.\n",
        "* Packages are a way of structuring Python’s module namespace by using “dotted module names” (e.g `A.B` --> `plt.plot()`."
      ]
    },
    {
      "cell_type": "markdown",
      "metadata": {
        "id": "Tk1vRvskXMic"
      },
      "source": [
        "#### **Essential Python Packages:**\n",
        "\n",
        "- `numpy`\n",
        "- `pandas`\n",
        "- `matplotlib`"
      ]
    },
    {
      "cell_type": "markdown",
      "metadata": {
        "id": "C9FzIz4-Xahl"
      },
      "source": [
        "> **How do we get packages into our notebooks?**\n",
        ">\n",
        "> We `import` them!"
      ]
    },
    {
      "cell_type": "code",
      "metadata": {
        "id": "ohitEnu4UuGU"
      },
      "source": [
        "import numpy as np\n",
        "import pandas as pd\n",
        "import matplotlib.pyplot as plt\n",
        "%matplotlib inline \n",
        "#so that you can see the plot load right under the cell you're running"
      ],
      "execution_count": 2,
      "outputs": []
    },
    {
      "cell_type": "code",
      "metadata": {
        "id": "KGTfBLnvVnX6"
      },
      "source": [
        ""
      ],
      "execution_count": null,
      "outputs": []
    },
    {
      "cell_type": "markdown",
      "metadata": {
        "id": "lpCJ7yRGc2cc"
      },
      "source": [
        "# **Pandas**\n",
        "\n",
        "<img width=\"400\" src='https://miro.medium.com/max/1400/1*KdxlBR9P3mDp9JZ_URMdYQ.jpeg'>\n",
        "\n",
        ">No but seriously, `pandas` is a Python library that allows for efficient, high-performing analysis on _tabular_ data (i.e. excel sheet type of data).\n",
        "\n",
        "### **There are two main data structures in pandas**\n",
        "\n",
        "> **Data Series**: 1-dimensional array of values with an index\n",
        ">\n",
        "> **Data Frame**: 2-dimensional array of values with a row and a column index"
      ]
    },
    {
      "cell_type": "markdown",
      "metadata": {
        "id": "ACc2bAe1d7TW"
      },
      "source": [
        "<img width=\"500\" src='https://miro.medium.com/max/1400/1*o5c599ueURBTZWDGmx1SiA.png'>"
      ]
    },
    {
      "cell_type": "markdown",
      "metadata": {
        "id": "x3c7uSDagkVn"
      },
      "source": [
        "#### Example of a pandas Data Series:"
      ]
    },
    {
      "cell_type": "code",
      "metadata": {
        "id": "c2hmlDsKc4nG"
      },
      "source": [
        "ocean_basins = ['Arctic', 'Atlantic', 'Indian', 'Pacific', 'Southern']\n",
        "avg_salinity = [32, 35, 34.5, 35, 34.7]\n",
        "ds = pd.Series(data=avg_salinity, index=ocean_basins, name='Ocean basins average salinity')"
      ],
      "execution_count": 21,
      "outputs": []
    },
    {
      "cell_type": "code",
      "metadata": {
        "colab": {
          "base_uri": "https://localhost:8080/"
        },
        "id": "JaCL9MgSiRWu",
        "outputId": "339d51c4-9cf0-43bb-8702-dfb5ecf476b1"
      },
      "source": [
        "ds"
      ],
      "execution_count": 22,
      "outputs": [
        {
          "output_type": "execute_result",
          "data": {
            "text/plain": [
              "Arctic      32.0\n",
              "Atlantic    35.0\n",
              "Indian      34.5\n",
              "Pacific     35.0\n",
              "Southern    34.7\n",
              "Name: Ocean basins average salinity, dtype: float64"
            ]
          },
          "metadata": {
            "tags": []
          },
          "execution_count": 22
        }
      ]
    },
    {
      "cell_type": "code",
      "metadata": {
        "colab": {
          "base_uri": "https://localhost:8080/"
        },
        "id": "MBtpArPohhAU",
        "outputId": "51cfbf33-8292-4663-f4f1-b3cb23247610"
      },
      "source": [
        "# To figure out the index do:\n",
        "ds.index"
      ],
      "execution_count": 23,
      "outputs": [
        {
          "output_type": "execute_result",
          "data": {
            "text/plain": [
              "Index(['Arctic', 'Atlantic', 'Indian', 'Pacific', 'Southern'], dtype='object')"
            ]
          },
          "metadata": {
            "tags": []
          },
          "execution_count": 23
        }
      ]
    },
    {
      "cell_type": "markdown",
      "metadata": {
        "id": "NH1TGQ2_h8Oi"
      },
      "source": [
        "**Indexing**"
      ]
    },
    {
      "cell_type": "markdown",
      "metadata": {
        "id": "Sf1mOAMbiEGk"
      },
      "source": [
        "> We can get values back out using the index via the `.loc` attribute"
      ]
    },
    {
      "cell_type": "code",
      "metadata": {
        "colab": {
          "base_uri": "https://localhost:8080/"
        },
        "id": "Y0p4_W-7h3dx",
        "outputId": "34d1e8a5-7974-4929-d965-d8f7e9bd3162"
      },
      "source": [
        "ds.loc['Southern']"
      ],
      "execution_count": 24,
      "outputs": [
        {
          "output_type": "execute_result",
          "data": {
            "text/plain": [
              "34.7"
            ]
          },
          "metadata": {
            "tags": []
          },
          "execution_count": 24
        }
      ]
    },
    {
      "cell_type": "markdown",
      "metadata": {
        "id": "VU5bsepVijGW"
      },
      "source": [
        "> Or by raw position using `.iloc`"
      ]
    },
    {
      "cell_type": "code",
      "metadata": {
        "colab": {
          "base_uri": "https://localhost:8080/"
        },
        "id": "YUKMe2yjioZp",
        "outputId": "e9029840-a742-4e0a-e853-50dbdd747043"
      },
      "source": [
        "ds.iloc[4]"
      ],
      "execution_count": 26,
      "outputs": [
        {
          "output_type": "execute_result",
          "data": {
            "text/plain": [
              "34.7"
            ]
          },
          "metadata": {
            "tags": []
          },
          "execution_count": 26
        }
      ]
    },
    {
      "cell_type": "markdown",
      "metadata": {
        "id": "AuFVhHeJi0eq"
      },
      "source": [
        "> We can pass a list or array to `loc` to get multiple rows back:"
      ]
    },
    {
      "cell_type": "code",
      "metadata": {
        "colab": {
          "base_uri": "https://localhost:8080/"
        },
        "id": "YOaavcNri1NY",
        "outputId": "125cb83b-8c68-404f-acb4-224999105d22"
      },
      "source": [
        "ds.loc[['Arctic', 'Atlantic']]"
      ],
      "execution_count": 27,
      "outputs": [
        {
          "output_type": "execute_result",
          "data": {
            "text/plain": [
              "Arctic      32.0\n",
              "Atlantic    35.0\n",
              "Name: Ocean basins average salinity, dtype: float64"
            ]
          },
          "metadata": {
            "tags": []
          },
          "execution_count": 27
        }
      ]
    },
    {
      "cell_type": "markdown",
      "metadata": {
        "id": "ead7iWYXi1oZ"
      },
      "source": [
        "And we can even use slice notation"
      ]
    },
    {
      "cell_type": "code",
      "metadata": {
        "colab": {
          "base_uri": "https://localhost:8080/"
        },
        "id": "Jl7zFQEti1_I",
        "outputId": "c8399ae2-c029-49cc-efa1-de46e458a326"
      },
      "source": [
        "ds.loc['Arctic':'Indian']"
      ],
      "execution_count": 28,
      "outputs": [
        {
          "output_type": "execute_result",
          "data": {
            "text/plain": [
              "Arctic      32.0\n",
              "Atlantic    35.0\n",
              "Indian      34.5\n",
              "Name: Ocean basins average salinity, dtype: float64"
            ]
          },
          "metadata": {
            "tags": []
          },
          "execution_count": 28
        }
      ]
    },
    {
      "cell_type": "code",
      "metadata": {
        "colab": {
          "base_uri": "https://localhost:8080/"
        },
        "id": "RI_hOjNKka5h",
        "outputId": "34c527cf-64fd-49af-9f7b-2e450e3fc86a"
      },
      "source": [
        "ds.iloc[:3]"
      ],
      "execution_count": 29,
      "outputs": [
        {
          "output_type": "execute_result",
          "data": {
            "text/plain": [
              "Arctic      32.0\n",
              "Atlantic    35.0\n",
              "Indian      34.5\n",
              "Name: Ocean basins average salinity, dtype: float64"
            ]
          },
          "metadata": {
            "tags": []
          },
          "execution_count": 29
        }
      ]
    },
    {
      "cell_type": "markdown",
      "metadata": {
        "id": "CGbR9anukjdM"
      },
      "source": [
        "> **Print the following statements using your choice of indexing/slicing.**"
      ]
    },
    {
      "cell_type": "code",
      "metadata": {
        "colab": {
          "base_uri": "https://localhost:8080/"
        },
        "id": "61tSl_BZlGzI",
        "outputId": "3b68b1b8-2c72-407a-d108-7c0b055df9c2"
      },
      "source": [
        "#This might be a little tricky, so here is an example.\n",
        "print('My research area takes place in the ocean basin that has an average salinity of ' \n",
        "      + str(ds.loc['Southern']) \n",
        "      + 'psu. That is, the ' \n",
        "      + ds.index[-1] \n",
        "      + ' ocean.')"
      ],
      "execution_count": 36,
      "outputs": [
        {
          "output_type": "stream",
          "text": [
            "My research area takes place in the ocean basin that has an average salinity of 34.7psu. That is, the Southern ocean.\n"
          ],
          "name": "stdout"
        }
      ]
    },
    {
      "cell_type": "code",
      "metadata": {
        "id": "NolJBeY5ku7w"
      },
      "source": [
        "# What is the saltiest ocean basin?\n",
        "print('<Your answer here>')"
      ],
      "execution_count": null,
      "outputs": []
    },
    {
      "cell_type": "code",
      "metadata": {
        "id": "hOpQCVtukvW5"
      },
      "source": [
        "# Which ocean basins have the same average salinity?\n",
        "print('<Your answer here>')"
      ],
      "execution_count": null,
      "outputs": []
    },
    {
      "cell_type": "code",
      "metadata": {
        "id": "4pZf5-Zzkvss"
      },
      "source": [
        "# Which ocean basin would you like to explore?\n",
        "print('<Your answer here>')"
      ],
      "execution_count": null,
      "outputs": []
    },
    {
      "cell_type": "markdown",
      "metadata": {
        "id": "zbSdHuNlgqnK"
      },
      "source": [
        "#### Example of a pandas Data Frame:"
      ]
    },
    {
      "cell_type": "code",
      "metadata": {
        "id": "dMjEbuu0gr1A"
      },
      "source": [
        ""
      ],
      "execution_count": null,
      "outputs": []
    }
  ]
}