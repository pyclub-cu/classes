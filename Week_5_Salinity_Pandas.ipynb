{
  "nbformat": 4,
  "nbformat_minor": 0,
  "metadata": {
    "colab": {
      "name": "Week_5_Salinity_Pandas.ipynb",
      "provenance": [],
      "authorship_tag": "ABX9TyNET+Dlfi/CgPWniCL6z+fk",
      "include_colab_link": true
    },
    "kernelspec": {
      "name": "python3",
      "display_name": "Python 3"
    }
  },
  "cells": [
    {
      "cell_type": "markdown",
      "metadata": {
        "id": "view-in-github",
        "colab_type": "text"
      },
      "source": [
        "<a href=\"https://colab.research.google.com/github/pyclub-cu/classes/blob/master/Week_5_Salinity_Pandas.ipynb\" target=\"_parent\"><img src=\"https://colab.research.google.com/assets/colab-badge.svg\" alt=\"Open In Colab\"/></a>"
      ]
    },
    {
      "cell_type": "markdown",
      "metadata": {
        "id": "t8ZjlhQpL5i5"
      },
      "source": [
        "# **Week 5: Ocean Salinity, Packages and Pandas**\n",
        "\n",
        "**Learning Goals**\n",
        "- Learn about ocean salinity (10 min)\n",
        "- What are Python packages? (5 min)\n",
        "- `import` essential packages (5 min)\n",
        "- Let's play with `pandas`! (20 min)\n",
        "\n",
        "### **Icebreaker!**\n",
        "> **How many oceans are there?** 🤔..."
      ]
    },
    {
      "cell_type": "markdown",
      "metadata": {
        "id": "yzFAPr0CUihR"
      },
      "source": [
        "##### Sort of a trick question..."
      ]
    },
    {
      "cell_type": "markdown",
      "metadata": {
        "id": "PK-mjppNSgjt"
      },
      "source": [
        "![Five Oceans](https://wakeuptodigital.files.wordpress.com/2019/02/oceans.jpg)"
      ]
    },
    {
      "cell_type": "markdown",
      "metadata": {
        "id": "7NUkMTxyYbQL"
      },
      "source": [
        "> In the field of oceanography there are five major ocean basins on this planet: Arctic, Atlantic, Indian, Pacific and Southern Ocean. \n",
        ">\n",
        "> Oceanographers go even further and study the different kinds of \"*water masses*\" in the basins, and their influence on the earth's system. \n",
        "\n",
        "> **The way we define water masses is generally through the water's temperature and salinty profile.** (To be continued in Week 8...)"
      ]
    },
    {
      "cell_type": "markdown",
      "metadata": {
        "id": "mtxipZTZFeZG"
      },
      "source": [
        "# **Recap**\r\n",
        "\r\n",
        "- Indexing and slicing\r\n",
        "- Logical statements\r\n",
        "\r\n",
        "\r\n"
      ]
    },
    {
      "cell_type": "markdown",
      "metadata": {
        "id": "yzJ43LlOZ5rW"
      },
      "source": [
        ""
      ]
    },
    {
      "cell_type": "markdown",
      "metadata": {
        "id": "zSAu7xwVX7xP"
      },
      "source": [
        "> **We measure ocean temperature and depth with argo floats. What else do you think an Argo float measures in the water?**\n"
      ]
    },
    {
      "cell_type": "markdown",
      "metadata": {
        "id": "SZoCJ-4DU8eg"
      },
      "source": [
        "# **Ocean Salinity**\r\n"
      ]
    },
    {
      "cell_type": "markdown",
      "metadata": {
        "id": "Yd5pkKOGO4zw"
      },
      "source": [
        "![Sea Surface Salinity](https://smap.jpl.nasa.gov/system/news_items/main_images/1265_SMAP_salinity.jpg)"
      ]
    },
    {
      "cell_type": "markdown",
      "metadata": {
        "id": "0hH8_xc8UhWP"
      },
      "source": [
        "# **Python Packages**\n",
        "(Ding, Ding) You've got mail!\n",
        "\n",
        "[Python Packages Index (PyPi)](https://pypi.org/)"
      ]
    },
    {
      "cell_type": "markdown",
      "metadata": {
        "id": "9cf6Nh9TWLTN"
      },
      "source": [
        "* A module is a file containing Python code. \n",
        "* A package, however, is like a directory that holds sub-packages and modules. A package must hold the file **`__init__`.**py. This does not apply to modules.\n",
        "* Packages are a way of structuring Python’s module namespace by using “dotted module names” (e.g `A.B` --> `plt.plot()`."
      ]
    },
    {
      "cell_type": "markdown",
      "metadata": {
        "id": "Tk1vRvskXMic"
      },
      "source": [
        "#### **Essential Python Packages:**\n",
        "\n",
        "- `numpy`\n",
        "- `pandas`\n",
        "- `matplotlib`"
      ]
    },
    {
      "cell_type": "markdown",
      "metadata": {
        "id": "C9FzIz4-Xahl"
      },
      "source": [
        "> **How do we get packages into our notebooks?**\n",
        ">\n",
        "> We `import` them!"
      ]
    },
    {
      "cell_type": "code",
      "metadata": {
        "id": "ohitEnu4UuGU"
      },
      "source": [
        "import numpy as np\n",
        "import pandas as pd\n",
        "import matplotlib.pyplot as plt\n",
        "%matplotlib inline #so that you can see the plot load right under the cell you're running"
      ],
      "execution_count": null,
      "outputs": []
    },
    {
      "cell_type": "code",
      "metadata": {
        "id": "KGTfBLnvVnX6"
      },
      "source": [
        ""
      ],
      "execution_count": null,
      "outputs": []
    }
  ]
}