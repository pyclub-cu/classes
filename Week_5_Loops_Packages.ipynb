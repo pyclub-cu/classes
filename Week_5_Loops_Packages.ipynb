{
  "nbformat": 4,
  "nbformat_minor": 0,
  "metadata": {
    "colab": {
      "name": "Week_5_Loops_Packages.ipynb",
      "provenance": [],
      "collapsed_sections": [],
      "authorship_tag": "ABX9TyMLWqqXHnRSnIRrXxWlDDMs",
      "include_colab_link": true
    },
    "kernelspec": {
      "name": "python3",
      "display_name": "Python 3"
    }
  },
  "cells": [
    {
      "cell_type": "markdown",
      "metadata": {
        "id": "view-in-github",
        "colab_type": "text"
      },
      "source": [
        "<a href=\"https://colab.research.google.com/github/pyclub-cu/classes/blob/master/Week_5_Loops_Packages.ipynb\" target=\"_parent\"><img src=\"https://colab.research.google.com/assets/colab-badge.svg\" alt=\"Open In Colab\"/></a>"
      ]
    },
    {
      "cell_type": "markdown",
      "metadata": {
        "id": "dIZVwqof6fNa"
      },
      "source": [
        "# **Loops & Packages**"
      ]
    },
    {
      "cell_type": "markdown",
      "metadata": {
        "id": "oKYlHjpB6nfO"
      },
      "source": [
        "## **Learning Goals**\n",
        "- Learn about iterations (10 min)\n",
        "- Learn how to execute iterations with made-up data by using `for` loops and `while` loops (20 min)\n",
        "- Learn about packages (10 min)\n",
        "- `import` essential packages (10 min)"
      ]
    },
    {
      "cell_type": "markdown",
      "metadata": {
        "id": "2JXR3l647n0V"
      },
      "source": [
        "## **Icebreaker!**\n",
        "_Question_: If you had a robot butler, what everyday task would you want it to do for you?\n",
        "\n",
        "_Example_: Have the robo-butler do my laundry and dishes for me so that I can spend more time relaxing."
      ]
    },
    {
      "cell_type": "markdown",
      "metadata": {
        "id": "3nEcYPnxHeAp"
      },
      "source": [
        "## **Recap**\n",
        "[Spencer gives recap of last lesson]"
      ]
    },
    {
      "cell_type": "markdown",
      "metadata": {
        "id": "IHz9EEVl-M1X"
      },
      "source": [
        "## **What is an \"Iteration\"?**"
      ]
    },
    {
      "cell_type": "markdown",
      "metadata": {
        "id": "D15aG6JR-nYw"
      },
      "source": [
        "The repetition of a process or computational procedure."
      ]
    },
    {
      "cell_type": "markdown",
      "metadata": {
        "id": "OAhsQgaY_eT2"
      },
      "source": [
        "#### **Examples of iterations in coding:**"
      ]
    },
    {
      "cell_type": "markdown",
      "metadata": {
        "id": "4y3gbmx6JgDd"
      },
      "source": [
        "#####**For Loop examples:**"
      ]
    },
    {
      "cell_type": "code",
      "metadata": {
        "colab": {
          "base_uri": "https://localhost:8080/"
        },
        "id": "y_Fo4fbyRMZ_",
        "outputId": "6330f114-b211-4b79-ed19-95b449b284dc"
      },
      "source": [
        "#simple roll call\n",
        "name_list = ['Laura', 'Shanice', 'Spencer', 'Suki', 'Una']\n",
        "for person in name_list:\n",
        "  print(person)"
      ],
      "execution_count": null,
      "outputs": [
        {
          "output_type": "stream",
          "text": [
            "Laura\n",
            "Shanice\n",
            "Spencer\n",
            "Suki\n",
            "Una\n"
          ],
          "name": "stdout"
        }
      ]
    },
    {
      "cell_type": "code",
      "metadata": {
        "colab": {
          "base_uri": "https://localhost:8080/"
        },
        "id": "lfN2OabVROT7",
        "outputId": "c6b00488-2cbd-455e-d12f-66e9275c0fdc"
      },
      "source": [
        "#remember, Python is \"left inclusive, right exclusive\"\n",
        "for x in range(6):\n",
        "  print(x)"
      ],
      "execution_count": null,
      "outputs": [
        {
          "output_type": "stream",
          "text": [
            "0\n",
            "1\n",
            "2\n",
            "3\n",
            "4\n",
            "5\n"
          ],
          "name": "stdout"
        }
      ]
    },
    {
      "cell_type": "code",
      "metadata": {
        "colab": {
          "base_uri": "https://localhost:8080/"
        },
        "id": "Vvn9pqteRRRr",
        "outputId": "2622508a-da9c-421f-bd5a-9e2fab85b716"
      },
      "source": [
        "#enter your age\n",
        "for i in range(10):\n",
        "  age = 20 + i\n",
        "  if age == 26:\n",
        "    break\n",
        "  print(age)"
      ],
      "execution_count": null,
      "outputs": [
        {
          "output_type": "stream",
          "text": [
            "20\n",
            "21\n",
            "22\n",
            "23\n",
            "24\n",
            "25\n"
          ],
          "name": "stdout"
        }
      ]
    },
    {
      "cell_type": "code",
      "metadata": {
        "colab": {
          "base_uri": "https://localhost:8080/"
        },
        "id": "Cm8eREBlRU5l",
        "outputId": "1a35cbc6-1161-4d05-fb97-022e37266c73"
      },
      "source": [
        "#Which item in the list, 'x', will be more than 125?\n",
        "\n",
        "x = [2, 4, 6, 8, 10, 12, 14, 16]\n",
        "\n",
        "for item in x:\n",
        "  value = item**2\n",
        "  if value > 125:\n",
        "    break\n",
        "  print(value)"
      ],
      "execution_count": null,
      "outputs": [
        {
          "output_type": "stream",
          "text": [
            "4\n",
            "16\n",
            "36\n",
            "64\n",
            "100\n"
          ],
          "name": "stdout"
        }
      ]
    },
    {
      "cell_type": "markdown",
      "metadata": {
        "id": "A7B7ERUtJpa8"
      },
      "source": [
        "#####**While Loop examples:**\n",
        "\n",
        "With the `while` loop we can execute a set of statements as long as a condition is true."
      ]
    },
    {
      "cell_type": "code",
      "metadata": {
        "colab": {
          "base_uri": "https://localhost:8080/"
        },
        "id": "Bf17AY7eISVJ",
        "outputId": "f5b65547-d42a-4fc1-9ec9-8a53d6210447"
      },
      "source": [
        "i = 1\n",
        "\n",
        "while i < 6:\n",
        "  print(i) #print i so long as it's less than the number 6\n",
        "  i += 1 #this line moves the loop forward (increases the value of i)"
      ],
      "execution_count": null,
      "outputs": [
        {
          "output_type": "stream",
          "text": [
            "1\n",
            "2\n",
            "3\n",
            "4\n",
            "5\n"
          ],
          "name": "stdout"
        }
      ]
    },
    {
      "cell_type": "code",
      "metadata": {
        "id": "bBXgJdzM_qJb",
        "colab": {
          "base_uri": "https://localhost:8080/"
        },
        "outputId": "697f4f93-de03-4a4a-981b-1aae14006d8a"
      },
      "source": [
        "#print an error message when condition is False\n",
        "i = 1\n",
        "while i < 6:\n",
        "  print(i)\n",
        "  i += 1\n",
        "else:\n",
        "  print(\"Error: i is no longer less than 6\")"
      ],
      "execution_count": null,
      "outputs": [
        {
          "output_type": "stream",
          "text": [
            "1\n",
            "2\n",
            "3\n",
            "4\n",
            "5\n",
            "Error: i is no longer less than 6\n"
          ],
          "name": "stdout"
        }
      ]
    },
    {
      "cell_type": "code",
      "metadata": {
        "colab": {
          "base_uri": "https://localhost:8080/"
        },
        "id": "QVSNpNGTTJ_Y",
        "outputId": "335b83c1-c1e1-49c5-a710-c835de88dc4b"
      },
      "source": [
        "# `break` statement stops the loop even if the `while` condition is true:\n",
        "i = 1\n",
        "while i < 6:\n",
        "  print(i)\n",
        "  if i == 3:\n",
        "    break\n",
        "  i += 1"
      ],
      "execution_count": null,
      "outputs": [
        {
          "output_type": "stream",
          "text": [
            "1\n",
            "2\n",
            "3\n"
          ],
          "name": "stdout"
        }
      ]
    },
    {
      "cell_type": "code",
      "metadata": {
        "id": "MlTaVj7IT1KY"
      },
      "source": [
        ""
      ],
      "execution_count": null,
      "outputs": []
    },
    {
      "cell_type": "markdown",
      "metadata": {
        "id": "N2QIkOG-UWG7"
      },
      "source": [
        "##"
      ]
    },
    {
      "cell_type": "markdown",
      "metadata": {
        "id": "0hH8_xc8UhWP"
      },
      "source": [
        "## **Python Packages**\n",
        "(Ding, Ding) You've got mail!\n",
        "\n",
        "[Python Packages Index (PyPi)](https://pypi.org/)"
      ]
    },
    {
      "cell_type": "markdown",
      "metadata": {
        "id": "9cf6Nh9TWLTN"
      },
      "source": [
        "* A module is a file containing Python code. \n",
        "* A package, however, is like a directory that holds sub-packages and modules. A package must hold the file **`__init__`.**py. This does not apply to modules.\n",
        "* Packages are a way of structuring Python’s module namespace by using “dotted module names” (e.g `A.B` --> `plt.plot()`."
      ]
    },
    {
      "cell_type": "markdown",
      "metadata": {
        "id": "Tk1vRvskXMic"
      },
      "source": [
        "#### **Essential Python Packages:**\n",
        "\n",
        "- numpy\n",
        "- pandas\n",
        "- matplotlib"
      ]
    },
    {
      "cell_type": "markdown",
      "metadata": {
        "id": "C9FzIz4-Xahl"
      },
      "source": [
        "##### **How do we get packages into our notebooks?**\n",
        "`import`"
      ]
    },
    {
      "cell_type": "code",
      "metadata": {
        "id": "ohitEnu4UuGU"
      },
      "source": [
        "import numpy as np\n",
        "import pandas as pd\n",
        "import matplotlib.pyplot as plt\n",
        "%matplotlib inline \n",
        "#so that you can see the plot load right under the cell you're running"
      ],
      "execution_count": null,
      "outputs": []
    },
    {
      "cell_type": "markdown",
      "metadata": {
        "id": "BObhVH-yYEpk"
      },
      "source": [
        "##### **Quick examples using numpy and matplotlib**"
      ]
    },
    {
      "cell_type": "code",
      "metadata": {
        "colab": {
          "base_uri": "https://localhost:8080/"
        },
        "id": "I8jYdkuoYvih",
        "outputId": "80ff721b-8670-4f55-ffee-c0d680a1707a"
      },
      "source": [
        "x = np.arange(0, 11)\n",
        "x"
      ],
      "execution_count": null,
      "outputs": [
        {
          "output_type": "execute_result",
          "data": {
            "text/plain": [
              "array([ 0,  1,  2,  3,  4,  5,  6,  7,  8,  9, 10])"
            ]
          },
          "metadata": {
            "tags": []
          },
          "execution_count": 74
        }
      ]
    },
    {
      "cell_type": "code",
      "metadata": {
        "colab": {
          "base_uri": "https://localhost:8080/"
        },
        "id": "bszqcIVmYfOi",
        "outputId": "43744a35-f9b2-4eb7-cdfa-b41a8d32e159"
      },
      "source": [
        "#Which item in the list, 'x', will be more than 125?\n",
        "\n",
        "x = np.arange(0, 11)\n",
        "\n",
        "for item in x:\n",
        "  value = item**2\n",
        "  if value > 47:\n",
        "    break\n",
        "  print(value)"
      ],
      "execution_count": null,
      "outputs": [
        {
          "output_type": "stream",
          "text": [
            "0\n",
            "1\n",
            "4\n",
            "9\n",
            "16\n",
            "25\n",
            "36\n"
          ],
          "name": "stdout"
        }
      ]
    },
    {
      "cell_type": "code",
      "metadata": {
        "colab": {
          "base_uri": "https://localhost:8080/",
          "height": 265
        },
        "id": "rWPSPjJ6X583",
        "outputId": "08515c5a-ee4e-4ca7-af3c-4b1c89425f5e"
      },
      "source": [
        "x = np.arange(0,11)\n",
        "y = x**2\n",
        "\n",
        "plt.plot(x, y);"
      ],
      "execution_count": null,
      "outputs": [
        {
          "output_type": "display_data",
          "data": {
            "image/png": "[encoded data removed]",
            "text/plain": [
              "<Figure size 432x288 with 1 Axes>"
            ]
          },
          "metadata": {
            "tags": [],
            "needs_background": "light"
          }
        }
      ]
    },
    {
      "cell_type": "code",
      "metadata": {
        "colab": {
          "base_uri": "https://localhost:8080/",
          "height": 265
        },
        "id": "wn2qva8jZXfC",
        "outputId": "69476fe9-31b2-4f30-9d1a-8627cc621ce6"
      },
      "source": [
        "x = np.arange(0, 10, 0.1)\n",
        "\n",
        "y = np.sin(x)\n",
        "\n",
        "plt.plot(x, y);"
      ],
      "execution_count": null,
      "outputs": [
        {
          "output_type": "display_data",
          "data": {
            "image/png": "[encoded data removed]",
            "text/plain": [
              "<Figure size 432x288 with 1 Axes>"
            ]
          },
          "metadata": {
            "tags": [],
            "needs_background": "light"
          }
        }
      ]
    },
    {
      "cell_type": "code",
      "metadata": {
        "colab": {
          "base_uri": "https://localhost:8080/",
          "height": 265
        },
        "id": "gZzCPLV5bNGX",
        "outputId": "dd935907-e305-4376-ba61-567d78d6c403"
      },
      "source": [
        "x = np.arange(0, 10)\n",
        "\n",
        "y = np.sin(x)\n",
        "\n",
        "plt.plot(x, y);"
      ],
      "execution_count": null,
      "outputs": [
        {
          "output_type": "display_data",
          "data": {
            "image/png": "[encoded data removed]",
            "text/plain": [
              "<Figure size 432x288 with 1 Axes>"
            ]
          },
          "metadata": {
            "tags": [],
            "needs_background": "light"
          }
        }
      ]
    },
    {
      "cell_type": "code",
      "metadata": {
        "id": "ZS7v4t9uZfmb"
      },
      "source": [
        ""
      ],
      "execution_count": null,
      "outputs": []
    }
  ]
}