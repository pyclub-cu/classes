{
  "nbformat": 4,
  "nbformat_minor": 0,
  "metadata": {
    "colab": {
      "name": "Week_5_Loops_Packages.ipynb",
      "provenance": [],
      "collapsed_sections": [],
      "authorship_tag": "ABX9TyP7Gjpf9+GGx9VsvteyBj0Z",
      "include_colab_link": true
    },
    "kernelspec": {
      "name": "python3",
      "display_name": "Python 3"
    }
  },
  "cells": [
    {
      "cell_type": "markdown",
      "metadata": {
        "id": "view-in-github",
        "colab_type": "text"
      },
      "source": [
        "<a href=\"https://colab.research.google.com/github/pyclub-cu/classes/blob/master/Week_5_Loops_Packages.ipynb\" target=\"_parent\"><img src=\"https://colab.research.google.com/assets/colab-badge.svg\" alt=\"Open In Colab\"/></a>"
      ]
    },
    {
      "cell_type": "markdown",
      "metadata": {
        "id": "dIZVwqof6fNa"
      },
      "source": [
        "# **Loops & Packages**"
      ]
    },
    {
      "cell_type": "markdown",
      "metadata": {
        "id": "oKYlHjpB6nfO"
      },
      "source": [
        "## **Learning Goals**\n",
        "- Learn about iterations (10 min)\n",
        "- Learn how to execute iterations with Argo data and `for` loops and `while` loops (20 min)\n",
        "- Learn about packages (10 min)\n",
        "- `import` essential packages (10 min)"
      ]
    },
    {
      "cell_type": "markdown",
      "metadata": {
        "id": "2JXR3l647n0V"
      },
      "source": [
        "## **Icebreaker!**\n",
        "Question: If you had a robot butler, what everyday task would you want it to do for you?\n",
        "\n",
        "Example: Have the robo-butler do my laundry and dishes for me so that I can spend more time relaxing."
      ]
    },
    {
      "cell_type": "markdown",
      "metadata": {
        "id": "IHz9EEVl-M1X"
      },
      "source": [
        "## **What is an \"Iteration\"?**"
      ]
    },
    {
      "cell_type": "markdown",
      "metadata": {
        "id": "D15aG6JR-nYw"
      },
      "source": [
        "The repetition of a process or computational procedure."
      ]
    },
    {
      "cell_type": "markdown",
      "metadata": {
        "id": "OAhsQgaY_eT2"
      },
      "source": [
        "#### **Examples of iterations in coding:**"
      ]
    },
    {
      "cell_type": "markdown",
      "metadata": {
        "id": "aZH_iVtt_vJY"
      },
      "source": [
        "- example"
      ]
    },
    {
      "cell_type": "markdown",
      "metadata": {
        "id": "GWixyWKp_yRb"
      },
      "source": [
        "- example"
      ]
    },
    {
      "cell_type": "code",
      "metadata": {
        "id": "bBXgJdzM_qJb"
      },
      "source": [
        ""
      ],
      "execution_count": null,
      "outputs": []
    }
  ]
}