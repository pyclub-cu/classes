{
  "nbformat": 4,
  "nbformat_minor": 0,
  "metadata": {
    "colab": {
      "name": "Week_5_Loops_Packages.ipynb",
      "provenance": [],
      "authorship_tag": "ABX9TyNPSyzpPE/uZ76yDsoAUqXg",
      "include_colab_link": true
    },
    "kernelspec": {
      "name": "python3",
      "display_name": "Python 3"
    }
  },
  "cells": [
    {
      "cell_type": "markdown",
      "metadata": {
        "id": "view-in-github",
        "colab_type": "text"
      },
      "source": [
        "<a href=\"https://colab.research.google.com/github/pyclub-cu/classes/blob/master/Week_5_Loops_Packages.ipynb\" target=\"_parent\"><img src=\"https://colab.research.google.com/assets/colab-badge.svg\" alt=\"Open In Colab\"/></a>"
      ]
    },
    {
      "cell_type": "code",
      "metadata": {
        "id": "BEcezbCW6b__"
      },
      "source": [
        ""
      ],
      "execution_count": null,
      "outputs": []
    },
    {
      "cell_type": "markdown",
      "metadata": {
        "id": "dIZVwqof6fNa"
      },
      "source": [
        "# **Loops & Packages**"
      ]
    },
    {
      "cell_type": "markdown",
      "metadata": {
        "id": "oKYlHjpB6nfO"
      },
      "source": [
        "## **Learning Goals**\n",
        "- Learn about iterations (10 min)\n",
        "- Learn how to execute iterations with `for` loops and `while` loops (20 min)\n",
        "- Learn about packages (10 min)\n",
        "- `import` essential packages (10 min)"
      ]
    },
    {
      "cell_type": "markdown",
      "metadata": {
        "id": "2JXR3l647n0V"
      },
      "source": [
        "## **Icebreaker!**\n",
        "Question: If you had a robot butler, what everyday task would you want it to do for you?\n",
        "\n",
        "Example: Have the robo-butler do my laundry and dishes for me so that I can spend more time relaxing."
      ]
    },
    {
      "cell_type": "code",
      "metadata": {
        "id": "-7Xre9AU6g-k"
      },
      "source": [
        ""
      ],
      "execution_count": null,
      "outputs": []
    }
  ]
}