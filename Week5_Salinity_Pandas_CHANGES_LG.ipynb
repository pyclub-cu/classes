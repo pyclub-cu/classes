{
  "nbformat": 4,
  "nbformat_minor": 0,
  "metadata": {
    "colab": {
      "name": "Week5_Salinity_Pandas_CHANGES_LG.ipynb",
      "provenance": [],
      "authorship_tag": "ABX9TyOtv9F950/TsW+3zD4VLhYj",
      "include_colab_link": true
    },
    "kernelspec": {
      "name": "python3",
      "display_name": "Python 3"
    }
  },
  "cells": [
    {
      "cell_type": "markdown",
      "metadata": {
        "id": "view-in-github",
        "colab_type": "text"
      },
      "source": [
        "<a href=\"https://colab.research.google.com/github/pyclub-cu/classes/blob/master/Week5_Salinity_Pandas_CHANGES_LG.ipynb\" target=\"_parent\"><img src=\"https://colab.research.google.com/assets/colab-badge.svg\" alt=\"Open In Colab\"/></a>"
      ]
    },
    {
      "cell_type": "code",
      "metadata": {
        "id": "euz_8p78y04X"
      },
      "source": [
        ""
      ],
      "execution_count": null,
      "outputs": []
    },
    {
      "cell_type": "markdown",
      "metadata": {
        "id": "Pvtd2MCqy4Ot"
      },
      "source": [
        "# **Week 5: Ocean Salinity, Packages, and Pandas**\n",
        "\n",
        "**Learning Goals**\n",
        "- Learn about ocean salinity (10 min)\n",
        "- What are Python packages? (5 min)\n",
        "- `import` essential packages (5 min)\n",
        "- Let's play with `pandas`! (20 min)\n",
        "\n",
        "### **Icebreaker!**\n",
        "> **How many oceans are there?** 🤔..."
      ]
    },
    {
      "cell_type": "markdown",
      "metadata": {
        "id": "8oFF3Ey3y7GX"
      },
      "source": [
        "##### Sort of a trick question..."
      ]
    },
    {
      "cell_type": "markdown",
      "metadata": {
        "id": "htJ5OliVy8JU"
      },
      "source": [
        "![Five Oceans](https://wakeuptodigital.files.wordpress.com/2019/02/oceans.jpg)"
      ]
    },
    {
      "cell_type": "markdown",
      "metadata": {
        "id": "3t0X5SEvzAqv"
      },
      "source": [
        "> In the field of oceanography there are five major ocean basins on this planet: Arctic, Atlantic, Indian, Pacific and Southern Ocean. \n",
        ">\n",
        "> Oceanographers go even further and study the different kinds of \"*water masses*\" in the basins, and their influence on the earth's system. \n",
        "\n",
        "> **A water mass is a body of water with characteristic physical properties (like temperature and salinity).** For example you can imagine how water from the Artic Ocean might be a lot colder than water from the Carribean!"
      ]
    },
    {
      "cell_type": "markdown",
      "metadata": {
        "id": "giR3LLn9zdSJ"
      },
      "source": [
        "# **Recap**\n",
        "\n",
        "- Indexing and slicing\n",
        "- Logical statements\n",
        "\n",
        "Are we just going to have this be a discussion?"
      ]
    },
    {
      "cell_type": "markdown",
      "metadata": {
        "id": "3XQOpnfwzmx8"
      },
      "source": [
        "> **We measure ocean temperature and depth with argo floats. What else do you think an Argo float measures in the water?**"
      ]
    },
    {
      "cell_type": "markdown",
      "metadata": {
        "id": "rAUNCk0qzqMp"
      },
      "source": [
        "# **Ocean Salinity**\n",
        "\n",
        "### Salt vs Salinity\n",
        "\n",
        "> **Salts** are compounds like sodium chloride, magnesium sulfate, potassium nitrate, and sodium bicarbonate which dissolve into ions.\n",
        "\n",
        "> **Salinity** is the quantity of dissolved salt content of the water. It is measured as a mass fraction, or the ratio of dissolved salts (g) to a unit mass of water (kg). Often the unit for salinity is expressed as \"practical salinity unit\" (psu= $\\frac{g}{kg}$)."
      ]
    },
    {
      "cell_type": "markdown",
      "metadata": {
        "id": "bkBlpn740O0D"
      },
      "source": [
        "### We all know that the ocean is salty, but why is it that way?\n"
      ]
    },
    {
      "cell_type": "markdown",
      "metadata": {
        "id": "ywiZ-ywJ3nZl"
      },
      "source": [
        "### First let's consider the hydrologic cycle...\n",
        "<img src=\"https://ars.els-cdn.com/content/image/3-s2.0-B9780444627339000034-f03-04-9780444627339.jpg\">\n",
        "\n",
        "#### Just like how your sweat evaporates on a hot July day to keep you cool, the ocean also experiences evaporation!\n",
        ">  BUT salt can't evaporate!  When ocean water evaporates it leaves the salt behind, **increasing** the salinity of the remaining water.\n",
        "\n",
        "#### Some of this water that **evaporated** forms clouds which blow around and sometimes rain, snow, sleet over land.\n",
        "> NOTE precipitation, rain, snow, sleet, also happens over the ocean!  It dilutes the salt content and **decreases** the salinity.\n",
        "\n",
        "#### When this water rains onto land it forms rivulets and streams and creeks and brooks and kills and rivers and waterfalls, which flow through and erode away the surrounding rocks.\n",
        "\n",
        "<img src = \"https://s3-us-west-2.amazonaws.com/courses-images-archive-read-only/wp-content/uploads/sites/459/2015/06/21062403/Fig_11_2_1_3.jpg\">\n",
        "\n",
        "#### It is these eroded and dissolved rocks that add salts to our rivers and streams.  These rivers and streams flow into the ocean bringing this salt with them.\n",
        "\n",
        "### **But rivers don't taste salty???**\n",
        "\n",
        "#### True, but Earth's oceans are very old!  This process of increasing the salinity of the ocean likely took hundreds of millions of years!\n",
        "\n",
        "#### **AND** There is another source of salt...\n",
        "\n",
        "<img src = \"https://www.researchgate.net/profile/Hany_Elosta/publication/230758678/figure/fig3/AS:669043681918977@1536523852155/Active-Hydrothermal-Vent-Site-Black-Smoker-Source-MARUM-Research-Center-Ocean-Margins.png\">\n",
        "\n",
        "## **Hydrothermal Vents**\n",
        "\n",
        "#### Many placees of the ocean are geologically active, hosting earthquakes and undersea volanos!  Juse like water forms rivers and erodes rocks on land, under the ocean seawater seeps into the ocean floor, eroding and dissolving the surrounding rock.  At these geologically active sites, this oceanic 'ground water' gets very very very hot and is returned to the ocean via these hydrothermal vents.  This is another source of salt!"
      ]
    },
    {
      "cell_type": "markdown",
      "metadata": {
        "id": "ztUs0fIe8jyN"
      },
      "source": [
        "## Now that we know why the ocean is salty one more question - does the whole ocean have the same salinity?"
      ]
    },
    {
      "cell_type": "markdown",
      "metadata": {
        "id": "g35i6Ih40MvB"
      },
      "source": [
        "<img width=800 src=\"https://smap.jpl.nasa.gov/system/news_items/main_images/1265_SMAP_salinity.jpg\">"
      ]
    },
    {
      "cell_type": "markdown",
      "metadata": {
        "id": "nspppInF8zdO"
      },
      "source": [
        "#### No!  Above is a map of the salinity of the water at the ocean surface with lighter blue colors indicating low salinity and reds and oranges high salinity.\n",
        "\n",
        "> **Based on the figure above...**\n",
        ">\n",
        "> **1) Which ocean basin is the saltiest/freshest?**\n",
        ">\n",
        "> **2) What is the average salinity of the ocean?**\n",
        ">\n",
        "> **3) What else do you notice about the patterns of low and high salinity?  Remember the hydrologic cycle!**"
      ]
    },
    {
      "cell_type": "markdown",
      "metadata": {
        "id": "6-ucFpOb9cVc"
      },
      "source": [
        "# **Python Packages**\n",
        "(Ding, Ding) You've got mail!\n",
        "\n",
        "[Python Packages Index (PyPi)](https://pypi.org/)"
      ]
    },
    {
      "cell_type": "markdown",
      "metadata": {
        "id": "UISbWYBw9fzY"
      },
      "source": [
        "* A module is a file containing Python code. \n",
        "* A package, however, is like a directory that holds sub-packages and modules. A package must hold the file **`__init__`.**py. This does not apply to modules.\n",
        "* Packages are a way of structuring Python’s module namespace by using “dotted module names” (e.g `A.B` --> `plt.plot()`.\n",
        "\n",
        "I think this explanation is too technical...I don't personally understand it so I'm not sure I'm the best one to revise it.  Maybe some of Una's 'toolbox' language???"
      ]
    },
    {
      "cell_type": "markdown",
      "metadata": {
        "id": "7gKsol6C-_LN"
      },
      "source": [
        "#### **These are examples essential Python packages we use all the time!**\n",
        "\n",
        "- `numpy` lets us do all kinds of mathematical operatrions to different groupings of numbers\n",
        "\n",
        "- `pandas` we will talk about this below\n",
        "- `matplotlib` is used to make plots and graphs (more in week 7!)"
      ]
    },
    {
      "cell_type": "markdown",
      "metadata": {
        "id": "3AZsYsjEC6y0"
      },
      "source": [
        "> **How do we get packages into our notebooks?**\n",
        ">\n",
        "> We `import` them!\n",
        ">\n",
        "> In this form:\n",
        "> `import` name_of_package\n",
        ">\n",
        "> Often we give the package a shorter nickname so we don't have to always type out the whole name\n",
        ">\n",
        "> To do this we write: `import` name_of_package `as` nickname"
      ]
    },
    {
      "cell_type": "code",
      "metadata": {
        "id": "RGFILSYTDp1T"
      },
      "source": [
        "# Here we import our essential packages and give them easy nicknames\n",
        "import numpy as np\n",
        "import pandas as pd\n",
        "import matplotlib.pyplot as plt"
      ],
      "execution_count": 3,
      "outputs": []
    },
    {
      "cell_type": "markdown",
      "metadata": {
        "id": "zVqkVYwXD0qw"
      },
      "source": [
        "# **Pandas**\n",
        "\n",
        "<img width=\"400\" src='https://miro.medium.com/max/1400/1*KdxlBR9P3mDp9JZ_URMdYQ.jpeg'>\n",
        "\n",
        ">No but seriously, `pandas` is a Python library that allows for efficient, high-performing analysis on _tabular_ data (i.e. data in a table, like an excel sheet).\n",
        "\n",
        "### **There are two main data structures in pandas**\n",
        "\n",
        "> **Data Series**: 1-dimensional array of values with an index\n",
        ">\n",
        "> **Data Frame**: 2-dimensional array of values with a row and a column index"
      ]
    },
    {
      "cell_type": "markdown",
      "metadata": {
        "id": "tEQVt1x2D-oW"
      },
      "source": [
        "<img width=\"500\" src='https://miro.medium.com/max/1400/1*o5c599ueURBTZWDGmx1SiA.png'>"
      ]
    },
    {
      "cell_type": "markdown",
      "metadata": {
        "id": "7bUq4cLmECsH"
      },
      "source": [
        "> **Confused?** Anytime you need more information on a package/function, call `?` after the function name."
      ]
    },
    {
      "cell_type": "code",
      "metadata": {
        "id": "L8DDH9OtELvj"
      },
      "source": [
        "#in this cell use the ? to learn more about the pands (pd) package\n"
      ],
      "execution_count": 5,
      "outputs": []
    },
    {
      "cell_type": "markdown",
      "metadata": {
        "id": "Vbe0fMvoEJQt"
      },
      "source": [
        "#### **Example of a pandas Data Series:**\n",
        "> In the cell below we create 2 lists, one of ocean basin names (strings!) and another of the average salinity in each one of those basins (numbers! A mixture of floats and integers!)\n",
        "\n",
        "> We also create a pandas dataseries we call ds\n",
        ">\n",
        "> to do this we use the series command:\n",
        ">\n",
        "> `pd.Series(data = ` name_of_the_data_list `, index = ` name_of_the_index_list `, name = ` give_data_series_a_name `)`\n"
      ]
    },
    {
      "cell_type": "code",
      "metadata": {
        "id": "-7ZOUamEEZJ0"
      },
      "source": [
        "ocean_basins = ['Arctic', 'Atlantic', 'Indian', 'Pacific', 'Southern'] # index name list\n",
        "avg_salinity = [32, 35, 34.5, 35, 34.7] # data list\n",
        "\n",
        "ds = pd.Series(data=avg_salinity, index=ocean_basins, name=\"Ocean basins' average salinities\") # creating data series"
      ],
      "execution_count": 6,
      "outputs": []
    },
    {
      "cell_type": "markdown",
      "metadata": {
        "id": "kS0D7eh8HdUg"
      },
      "source": [
        "> To see the dataseries, just type its name into the code cell"
      ]
    },
    {
      "cell_type": "code",
      "metadata": {
        "colab": {
          "base_uri": "https://localhost:8080/"
        },
        "id": "nKza9cINHUx6",
        "outputId": "feafbb28-8c61-4fcc-c941-239f72fca2a1"
      },
      "source": [
        "ds"
      ],
      "execution_count": 10,
      "outputs": [
        {
          "output_type": "execute_result",
          "data": {
            "text/plain": [
              "Arctic      32.0\n",
              "Atlantic    35.0\n",
              "Indian      34.5\n",
              "Pacific     35.0\n",
              "Southern    34.7\n",
              "Name: Ocean basins' average salinities, dtype: float64"
            ]
          },
          "metadata": {
            "tags": []
          },
          "execution_count": 10
        }
      ]
    },
    {
      "cell_type": "markdown",
      "metadata": {
        "id": "xnEh8THfHmM4"
      },
      "source": [
        "> To see the index entries type dataseries_name`.index`\n",
        ">\n",
        "> **Try it out in the cell below!**"
      ]
    },
    {
      "cell_type": "code",
      "metadata": {
        "id": "hYVbQchFG8J6"
      },
      "source": [
        "# Look at the index entries of our dataseries ds\n"
      ],
      "execution_count": 15,
      "outputs": []
    },
    {
      "cell_type": "markdown",
      "metadata": {
        "id": "ps95hju8IJyo"
      },
      "source": [
        "### **Indexing**"
      ]
    },
    {
      "cell_type": "markdown",
      "metadata": {
        "id": "rPGopo3oIMKV"
      },
      "source": [
        "> When we want to know the data entry assoicate with a specific index entry we can use the `.loc` attribute\n",
        ">\n",
        "> dataseries_name`.loc[\"`index_entry`\"]`"
      ]
    },
    {
      "cell_type": "code",
      "metadata": {
        "colab": {
          "base_uri": "https://localhost:8080/"
        },
        "id": "sf3bvikly4qT",
        "outputId": "e4931f75-c731-4c90-df18-5d2dfc92a812"
      },
      "source": [
        "# Here we want to know the salinity of the Southern Ocean\n",
        "ds.loc['Southern']"
      ],
      "execution_count": 16,
      "outputs": [
        {
          "output_type": "execute_result",
          "data": {
            "text/plain": [
              "34.7"
            ]
          },
          "metadata": {
            "tags": []
          },
          "execution_count": 16
        }
      ]
    },
    {
      "cell_type": "markdown",
      "metadata": {
        "id": "D3cdqnkOI7iG"
      },
      "source": [
        "> What's the salinity of the Indian Ocean?"
      ]
    },
    {
      "cell_type": "code",
      "metadata": {
        "id": "48ctJO-Ezbf6"
      },
      "source": [
        "# You try here!\n"
      ],
      "execution_count": 17,
      "outputs": []
    },
    {
      "cell_type": "markdown",
      "metadata": {
        "id": "zuErsOx-RSAy"
      },
      "source": [
        "> We can also use the numerical position of the index using `.iloc`"
      ]
    },
    {
      "cell_type": "code",
      "metadata": {
        "colab": {
          "base_uri": "https://localhost:8080/"
        },
        "id": "Zt7iXV24JBFi",
        "outputId": "91246fe2-4dfc-4b0d-8919-9166d967c4f5"
      },
      "source": [
        "ds.iloc[4] # this gives us the data entry of the fifth index (remember python starts counting at 0!)"
      ],
      "execution_count": 23,
      "outputs": [
        {
          "output_type": "execute_result",
          "data": {
            "text/plain": [
              "34.7"
            ]
          },
          "metadata": {
            "tags": []
          },
          "execution_count": 23
        }
      ]
    },
    {
      "cell_type": "markdown",
      "metadata": {
        "id": "stp8gvjARrOY"
      },
      "source": [
        "> We can pass a list or array to `loc` to get multiple rows back:"
      ]
    },
    {
      "cell_type": "code",
      "metadata": {
        "colab": {
          "base_uri": "https://localhost:8080/"
        },
        "id": "C371YodNRcCH",
        "outputId": "4a3ba2b7-f822-4a38-a43e-b1a2a2a48368"
      },
      "source": [
        "ds.loc[['Arctic', 'Atlantic']]"
      ],
      "execution_count": 20,
      "outputs": [
        {
          "output_type": "execute_result",
          "data": {
            "text/plain": [
              "Arctic      32.0\n",
              "Atlantic    35.0\n",
              "Name: Ocean basins' average salinities, dtype: float64"
            ]
          },
          "metadata": {
            "tags": []
          },
          "execution_count": 20
        }
      ]
    },
    {
      "cell_type": "markdown",
      "metadata": {
        "id": "ewXDRzhtRx43"
      },
      "source": [
        "> And we can even use slice notation"
      ]
    },
    {
      "cell_type": "code",
      "metadata": {
        "colab": {
          "base_uri": "https://localhost:8080/"
        },
        "id": "D75r1yEMRuoF",
        "outputId": "f18f7b42-c1c5-430e-a9e2-d325fc48a76e"
      },
      "source": [
        "ds.loc['Arctic':'Indian']"
      ],
      "execution_count": 21,
      "outputs": [
        {
          "output_type": "execute_result",
          "data": {
            "text/plain": [
              "Arctic      32.0\n",
              "Atlantic    35.0\n",
              "Indian      34.5\n",
              "Name: Ocean basins' average salinities, dtype: float64"
            ]
          },
          "metadata": {
            "tags": []
          },
          "execution_count": 21
        }
      ]
    },
    {
      "cell_type": "code",
      "metadata": {
        "colab": {
          "base_uri": "https://localhost:8080/"
        },
        "id": "iE0cb1FiRz-e",
        "outputId": "c011de9d-a35f-478b-e9d9-2225f0756e88"
      },
      "source": [
        "ds.iloc[:3]"
      ],
      "execution_count": 22,
      "outputs": [
        {
          "output_type": "execute_result",
          "data": {
            "text/plain": [
              "Arctic      32.0\n",
              "Atlantic    35.0\n",
              "Indian      34.5\n",
              "Name: Ocean basins' average salinities, dtype: float64"
            ]
          },
          "metadata": {
            "tags": []
          },
          "execution_count": 22
        }
      ]
    },
    {
      "cell_type": "markdown",
      "metadata": {
        "id": "zfMA2T_KR_Vb"
      },
      "source": [
        "> What are the average salinities of the Atlantic, Indian, and Pacific Oceans?"
      ]
    },
    {
      "cell_type": "code",
      "metadata": {
        "id": "YBa20xMrR2rc"
      },
      "source": [
        "# Try using .loc or .iloc to find the salinity entries for more than one index\n"
      ],
      "execution_count": null,
      "outputs": []
    },
    {
      "cell_type": "markdown",
      "metadata": {
        "id": "oMhX0r1kTNW0"
      },
      "source": [
        "> **Print the following statements using your choice of indexing/slicing.**"
      ]
    },
    {
      "cell_type": "code",
      "metadata": {
        "colab": {
          "base_uri": "https://localhost:8080/"
        },
        "id": "a_pxyTAiTNuH",
        "outputId": "b6dac71b-2786-4642-d2a0-684cc39c65fd"
      },
      "source": [
        "#This might be a little tricky, so here is an example.\n",
        "print('My research area takes place in the ocean basin that has an average salinity of ' \n",
        "      + str(ds.loc['Southern']) \n",
        "      + 'psu. That is, the ' \n",
        "      + ds.index[-1] \n",
        "      + ' ocean.')"
      ],
      "execution_count": 24,
      "outputs": [
        {
          "output_type": "stream",
          "text": [
            "My research area takes place in the ocean basin that has an average salinity of 34.7psu. That is, the Southern ocean.\n"
          ],
          "name": "stdout"
        }
      ]
    },
    {
      "cell_type": "code",
      "metadata": {
        "id": "rwITNIPZTP6j"
      },
      "source": [
        "# What is the saltiest ocean basin?\n",
        "print('<Your answer here>')"
      ],
      "execution_count": null,
      "outputs": []
    },
    {
      "cell_type": "code",
      "metadata": {
        "id": "Oz8WGS0MTSyl"
      },
      "source": [
        "# Which ocean basins have the same average salinity?\n",
        "print('<Your answer here>')"
      ],
      "execution_count": null,
      "outputs": []
    },
    {
      "cell_type": "code",
      "metadata": {
        "id": "KFxSgvMqTXZ9"
      },
      "source": [
        "# Which ocean basin would you like to explore?\n",
        "print('<Your answer here>')"
      ],
      "execution_count": null,
      "outputs": []
    },
    {
      "cell_type": "markdown",
      "metadata": {
        "id": "B7EFAcxUTWjO"
      },
      "source": [
        "#### **Example of a pandas Data Frame:**"
      ]
    },
    {
      "cell_type": "markdown",
      "metadata": {
        "id": "lhHUJOXFTUs8"
      },
      "source": [
        "####Remember a data frame is like a data series, except we will have more than one column of data\n",
        "> To make our data frame we create three lists, one of the index entries, and two of the data entries.\n",
        ">\n",
        "> Next we put our data entries into a **dictionary**\n",
        ">\n",
        "> A **dictionary** in python is similar to a dictionary in real life!  It is made up of *keys* and *values*.  We can think of the keys as the word we want to define and the values as the definition.  \n",
        ">\n",
        "> We set up a dictionary like this:\n",
        ">\n",
        "> name_of_dictionary = {\"key_1\" : data_list1, \"key2\" : data_list2}\n",
        ">\n",
        "> The keys are just names we make up to describe our data lists, take a look at the example below"
      ]
    },
    {
      "cell_type": "code",
      "metadata": {
        "id": "wA74Yb-JTlj0"
      },
      "source": [
        "ocean_basins = ['Arctic', 'Atlantic', 'Indian', 'Pacific', 'Southern'] # here is the index list\n",
        "avg_salinity = [32, 35, 34.5, 35, 34.7] # this is data list 1\n",
        "avg_temp = [-1.8, 14, 22, 20, 4] # this is data list 2\n",
        "\n",
        "avg_data = {'avg_salinity': avg_salinity,\n",
        "        'avg_temp': avg_temp} # this is our dictionary, note how we gave useful descriptive names (keys) to our fata lists"
      ],
      "execution_count": 26,
      "outputs": []
    },
    {
      "cell_type": "markdown",
      "metadata": {
        "id": "xcmi-ToSWAV7"
      },
      "source": [
        "> Finally, to create our dataframe we use the `pd.DataFrame` command:\n",
        ">\n",
        "> name_of_dataframe = `pd.DataFrame(data = `data_dictionary` , index = ` index_list `)`"
      ]
    },
    {
      "cell_type": "code",
      "metadata": {
        "id": "ZPjt0NIBWAEE"
      },
      "source": [
        "# Here we put our index list and data dictionary into a dataframe we call df\n",
        "\n",
        "df = pd.DataFrame(data=avg_data, index=ocean_basins)"
      ],
      "execution_count": 27,
      "outputs": []
    },
    {
      "cell_type": "code",
      "metadata": {
        "colab": {
          "base_uri": "https://localhost:8080/",
          "height": 206
        },
        "id": "dFUMJlGaWhME",
        "outputId": "9e2d5b8d-7204-406f-f67b-17c226643488"
      },
      "source": [
        "# Let's see what it looks like\n",
        "df"
      ],
      "execution_count": 28,
      "outputs": [
        {
          "output_type": "execute_result",
          "data": {
            "text/html": [
              "<div>\n",
              "<style scoped>\n",
              "    .dataframe tbody tr th:only-of-type {\n",
              "        vertical-align: middle;\n",
              "    }\n",
              "\n",
              "    .dataframe tbody tr th {\n",
              "        vertical-align: top;\n",
              "    }\n",
              "\n",
              "    .dataframe thead th {\n",
              "        text-align: right;\n",
              "    }\n",
              "</style>\n",
              "<table border=\"1\" class=\"dataframe\">\n",
              "  <thead>\n",
              "    <tr style=\"text-align: right;\">\n",
              "      <th></th>\n",
              "      <th>avg_salinity</th>\n",
              "      <th>avg_temp</th>\n",
              "    </tr>\n",
              "  </thead>\n",
              "  <tbody>\n",
              "    <tr>\n",
              "      <th>Arctic</th>\n",
              "      <td>32.0</td>\n",
              "      <td>-1.8</td>\n",
              "    </tr>\n",
              "    <tr>\n",
              "      <th>Atlantic</th>\n",
              "      <td>35.0</td>\n",
              "      <td>14.0</td>\n",
              "    </tr>\n",
              "    <tr>\n",
              "      <th>Indian</th>\n",
              "      <td>34.5</td>\n",
              "      <td>22.0</td>\n",
              "    </tr>\n",
              "    <tr>\n",
              "      <th>Pacific</th>\n",
              "      <td>35.0</td>\n",
              "      <td>20.0</td>\n",
              "    </tr>\n",
              "    <tr>\n",
              "      <th>Southern</th>\n",
              "      <td>34.7</td>\n",
              "      <td>4.0</td>\n",
              "    </tr>\n",
              "  </tbody>\n",
              "</table>\n",
              "</div>"
            ],
            "text/plain": [
              "          avg_salinity  avg_temp\n",
              "Arctic            32.0      -1.8\n",
              "Atlantic          35.0      14.0\n",
              "Indian            34.5      22.0\n",
              "Pacific           35.0      20.0\n",
              "Southern          34.7       4.0"
            ]
          },
          "metadata": {
            "tags": []
          },
          "execution_count": 28
        }
      ]
    },
    {
      "cell_type": "markdown",
      "metadata": {
        "id": "j2WUPOkYWqRs"
      },
      "source": [
        "> Note that the keys we chose are now the names of the columns\n",
        "\n",
        "> We can also learn more about the dataframe using the `.info()` command"
      ]
    },
    {
      "cell_type": "code",
      "metadata": {
        "colab": {
          "base_uri": "https://localhost:8080/"
        },
        "id": "p5YJq_b6WldL",
        "outputId": "a3684fe9-16bb-4cfb-e273-2050abfcd7b2"
      },
      "source": [
        "# Let's learn more about the dataframe we created\n",
        "df.info()"
      ],
      "execution_count": 31,
      "outputs": [
        {
          "output_type": "stream",
          "text": [
            "<class 'pandas.core.frame.DataFrame'>\n",
            "Index: 5 entries, Arctic to Southern\n",
            "Data columns (total 2 columns):\n",
            " #   Column        Non-Null Count  Dtype  \n",
            "---  ------        --------------  -----  \n",
            " 0   avg_salinity  5 non-null      float64\n",
            " 1   avg_temp      5 non-null      float64\n",
            "dtypes: float64(2)\n",
            "memory usage: 120.0+ bytes\n"
          ],
          "name": "stdout"
        }
      ]
    },
    {
      "cell_type": "markdown",
      "metadata": {
        "id": "Ik2qg3taYAOs"
      },
      "source": [
        "> You can use many statistical functions on both Series and DataFrames."
      ]
    },
    {
      "cell_type": "code",
      "metadata": {
        "colab": {
          "base_uri": "https://localhost:8080/"
        },
        "id": "3Ztjz_nxcFot",
        "outputId": "d1022269-976b-4fe2-a505-dd27d4e16b9e"
      },
      "source": [
        "df.min()"
      ],
      "execution_count": 33,
      "outputs": [
        {
          "output_type": "execute_result",
          "data": {
            "text/plain": [
              "avg_salinity    32.0\n",
              "avg_temp        -1.8\n",
              "dtype: float64"
            ]
          },
          "metadata": {
            "tags": []
          },
          "execution_count": 33
        }
      ]
    },
    {
      "cell_type": "code",
      "metadata": {
        "colab": {
          "base_uri": "https://localhost:8080/"
        },
        "id": "MN2ffpJ7W2BE",
        "outputId": "a8bd8d5c-d901-4228-a37c-d9acc833b091"
      },
      "source": [
        "df.max()"
      ],
      "execution_count": 32,
      "outputs": [
        {
          "output_type": "execute_result",
          "data": {
            "text/plain": [
              "avg_salinity    35.0\n",
              "avg_temp        22.0\n",
              "dtype: float64"
            ]
          },
          "metadata": {
            "tags": []
          },
          "execution_count": 32
        }
      ]
    },
    {
      "cell_type": "code",
      "metadata": {
        "colab": {
          "base_uri": "https://localhost:8080/"
        },
        "id": "EavtAViPcOKq",
        "outputId": "7d038e7b-2452-499e-fa77-88796dd8d640"
      },
      "source": [
        "df.mean()"
      ],
      "execution_count": 34,
      "outputs": [
        {
          "output_type": "execute_result",
          "data": {
            "text/plain": [
              "avg_salinity    34.24\n",
              "avg_temp        11.64\n",
              "dtype: float64"
            ]
          },
          "metadata": {
            "tags": []
          },
          "execution_count": 34
        }
      ]
    },
    {
      "cell_type": "markdown",
      "metadata": {
        "id": "Du5KQlHEcU36"
      },
      "source": [
        "> Or, if you want all the basic stats, you can call `describe()`"
      ]
    },
    {
      "cell_type": "code",
      "metadata": {
        "colab": {
          "base_uri": "https://localhost:8080/",
          "height": 300
        },
        "id": "ar6Id5MfcP_t",
        "outputId": "e2269452-98f8-488e-c729-3d6b87efe76c"
      },
      "source": [
        "df.describe()"
      ],
      "execution_count": 36,
      "outputs": [
        {
          "output_type": "execute_result",
          "data": {
            "text/html": [
              "<div>\n",
              "<style scoped>\n",
              "    .dataframe tbody tr th:only-of-type {\n",
              "        vertical-align: middle;\n",
              "    }\n",
              "\n",
              "    .dataframe tbody tr th {\n",
              "        vertical-align: top;\n",
              "    }\n",
              "\n",
              "    .dataframe thead th {\n",
              "        text-align: right;\n",
              "    }\n",
              "</style>\n",
              "<table border=\"1\" class=\"dataframe\">\n",
              "  <thead>\n",
              "    <tr style=\"text-align: right;\">\n",
              "      <th></th>\n",
              "      <th>avg_salinity</th>\n",
              "      <th>avg_temp</th>\n",
              "    </tr>\n",
              "  </thead>\n",
              "  <tbody>\n",
              "    <tr>\n",
              "      <th>count</th>\n",
              "      <td>5.000000</td>\n",
              "      <td>5.000000</td>\n",
              "    </tr>\n",
              "    <tr>\n",
              "      <th>mean</th>\n",
              "      <td>34.240000</td>\n",
              "      <td>11.640000</td>\n",
              "    </tr>\n",
              "    <tr>\n",
              "      <th>std</th>\n",
              "      <td>1.270039</td>\n",
              "      <td>10.268788</td>\n",
              "    </tr>\n",
              "    <tr>\n",
              "      <th>min</th>\n",
              "      <td>32.000000</td>\n",
              "      <td>-1.800000</td>\n",
              "    </tr>\n",
              "    <tr>\n",
              "      <th>25%</th>\n",
              "      <td>34.500000</td>\n",
              "      <td>4.000000</td>\n",
              "    </tr>\n",
              "    <tr>\n",
              "      <th>50%</th>\n",
              "      <td>34.700000</td>\n",
              "      <td>14.000000</td>\n",
              "    </tr>\n",
              "    <tr>\n",
              "      <th>75%</th>\n",
              "      <td>35.000000</td>\n",
              "      <td>20.000000</td>\n",
              "    </tr>\n",
              "    <tr>\n",
              "      <th>max</th>\n",
              "      <td>35.000000</td>\n",
              "      <td>22.000000</td>\n",
              "    </tr>\n",
              "  </tbody>\n",
              "</table>\n",
              "</div>"
            ],
            "text/plain": [
              "       avg_salinity   avg_temp\n",
              "count      5.000000   5.000000\n",
              "mean      34.240000  11.640000\n",
              "std        1.270039  10.268788\n",
              "min       32.000000  -1.800000\n",
              "25%       34.500000   4.000000\n",
              "50%       34.700000  14.000000\n",
              "75%       35.000000  20.000000\n",
              "max       35.000000  22.000000"
            ]
          },
          "metadata": {
            "tags": []
          },
          "execution_count": 36
        }
      ]
    },
    {
      "cell_type": "markdown",
      "metadata": {
        "id": "ZORyENMtcfhf"
      },
      "source": [
        "> We can get a single column as a Series using python's getitem syntax on the DataFrame object...\n",
        ">\n",
        ">`dataframe_name['column_name']`"
      ]
    },
    {
      "cell_type": "code",
      "metadata": {
        "colab": {
          "base_uri": "https://localhost:8080/"
        },
        "id": "LHHqZG8ocTyc",
        "outputId": "427539e7-9d7f-4d59-d8a3-d3dbe15aea19"
      },
      "source": [
        "df['avg_salinity']"
      ],
      "execution_count": 42,
      "outputs": [
        {
          "output_type": "execute_result",
          "data": {
            "text/plain": [
              "Arctic      32.0\n",
              "Atlantic    35.0\n",
              "Indian      34.5\n",
              "Pacific     35.0\n",
              "Southern    34.7\n",
              "Name: avg_salinity, dtype: float64"
            ]
          },
          "metadata": {
            "tags": []
          },
          "execution_count": 42
        }
      ]
    },
    {
      "cell_type": "markdown",
      "metadata": {
        "id": "oCiFS2rWdIoS"
      },
      "source": [
        "> ...or using attribute syntax\n",
        ">\n",
        "> `dataframe_name.column_name`"
      ]
    },
    {
      "cell_type": "code",
      "metadata": {
        "colab": {
          "base_uri": "https://localhost:8080/"
        },
        "id": "SZt5q8EwcjkI",
        "outputId": "89cdf676-67aa-4e86-a515-df5d91119cb9"
      },
      "source": [
        "df.avg_salinity"
      ],
      "execution_count": 38,
      "outputs": [
        {
          "output_type": "execute_result",
          "data": {
            "text/plain": [
              "Arctic      32.0\n",
              "Atlantic    35.0\n",
              "Indian      34.5\n",
              "Pacific     35.0\n",
              "Southern    34.7\n",
              "Name: avg_salinity, dtype: float64"
            ]
          },
          "metadata": {
            "tags": []
          },
          "execution_count": 38
        }
      ]
    },
    {
      "cell_type": "markdown",
      "metadata": {
        "id": "I3gK4a22cmpO"
      },
      "source": [
        "> Now you try!  In the cell below get the avg_temp column as a series"
      ]
    },
    {
      "cell_type": "code",
      "metadata": {
        "id": "E8-aS-9mclWo"
      },
      "source": [
        "# use df['column_name'] or df.column_name to get the avg_temp\n"
      ],
      "execution_count": 41,
      "outputs": []
    },
    {
      "cell_type": "code",
      "metadata": {
        "id": "oTmI3CwIc32z"
      },
      "source": [
        ""
      ],
      "execution_count": null,
      "outputs": []
    }
  ]
}