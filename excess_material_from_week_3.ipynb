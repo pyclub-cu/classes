{
  "nbformat": 4,
  "nbformat_minor": 0,
  "metadata": {
    "colab": {
      "name": "excess material from week 3.ipynb",
      "provenance": [],
      "authorship_tag": "ABX9TyMfwUcCLVy92aJGHvZezPdX",
      "include_colab_link": true
    },
    "kernelspec": {
      "name": "python3",
      "display_name": "Python 3"
    }
  },
  "cells": [
    {
      "cell_type": "markdown",
      "metadata": {
        "id": "view-in-github",
        "colab_type": "text"
      },
      "source": [
        "<a href=\"https://colab.research.google.com/github/pyclub-cu/classes/blob/master/excess_material_from_week_3.ipynb\" target=\"_parent\"><img src=\"https://colab.research.google.com/assets/colab-badge.svg\" alt=\"Open In Colab\"/></a>"
      ]
    },
    {
      "cell_type": "markdown",
      "metadata": {
        "id": "hH1Et1fGP3Mo"
      },
      "source": [
        "# **Extra: more math!**\r\n",
        "Some more math if you want to try equations with multiple variables"
      ]
    },
    {
      "cell_type": "markdown",
      "metadata": {
        "id": "opf2d7NsEioL"
      },
      "source": [
        "**Example of how to solve this equation**\r\n",
        "> If y = 2x + c,\r\n",
        ">\r\n",
        "> where x = 0.5 and c = 42\r\n",
        ">\r\n",
        "> **What is y?** \r\n"
      ]
    },
    {
      "cell_type": "code",
      "metadata": {
        "id": "vtrvmgTkRI-Q"
      },
      "source": [
        "# first assign variables\r\n",
        "x = 0.5\r\n",
        "c = 42"
      ],
      "execution_count": null,
      "outputs": []
    },
    {
      "cell_type": "code",
      "metadata": {
        "id": "VBj076OYRKiH"
      },
      "source": [
        "# next, write the equation\r\n",
        "y = 2*x + c"
      ],
      "execution_count": null,
      "outputs": []
    },
    {
      "cell_type": "code",
      "metadata": {
        "id": "F1G7nNtDE7v2",
        "colab": {
          "base_uri": "https://localhost:8080/"
        },
        "outputId": "b5254ab9-8a78-4e2c-85a7-387337ebfcb1"
      },
      "source": [
        "# what is y?\r\n",
        "y"
      ],
      "execution_count": null,
      "outputs": [
        {
          "output_type": "execute_result",
          "data": {
            "text/plain": [
              "43.0"
            ]
          },
          "metadata": {
            "tags": []
          },
          "execution_count": 22
        }
      ]
    },
    {
      "cell_type": "markdown",
      "metadata": {
        "id": "Y2_ctjHeFh2A"
      },
      "source": [
        "**Exercise for you!**\r\n",
        "\r\n",
        "> y = 2a$^{2}$ + 6b + c ,\r\n",
        ">\r\n",
        "> where a = 5, b = 2 and c = 3\r\n",
        ">\r\n",
        "> **What is y?**"
      ]
    },
    {
      "cell_type": "code",
      "metadata": {
        "id": "f9h3-eVWFBBa"
      },
      "source": [
        "# assign the variables\r\n"
      ],
      "execution_count": null,
      "outputs": []
    },
    {
      "cell_type": "code",
      "metadata": {
        "id": "_DdBXMZv6_AY"
      },
      "source": [
        "# write the equation\r\n"
      ],
      "execution_count": null,
      "outputs": []
    },
    {
      "cell_type": "code",
      "metadata": {
        "id": "IStIdIcm0bnI"
      },
      "source": [
        "# what is y\r\n"
      ],
      "execution_count": null,
      "outputs": []
    },
    {
      "cell_type": "markdown",
      "metadata": {
        "id": "dBGQMZ-j0eFD"
      },
      "source": [
        "> Hint: to raise x to the power of 2, you can do `x**2`\r\n"
      ]
    },
    {
      "cell_type": "markdown",
      "metadata": {
        "id": "P-QQsxKFVF6Z"
      },
      "source": [
        "# **Lists**\r\n",
        "\r\n",
        "Lists are used to store multiple items in one collection.\r\n",
        "\r\n",
        "### **Example: waves**\r\n",
        "We can measure various wave properties, such as speed, height, and wave periods. For example, if you want to surf, you want to know how often the waves are arriving at your local beach. The timing between each wave is what we call a *wave period*\r\n",
        "\r\n",
        "<img src='https://drive.google.com/uc?id=16OG2opyEKFgSBdFZ3EM86Ypqqt85zleh'>\r\n",
        "\r\n",
        "Below, we have a bunch of measurements of wave periods. We can put all that data into one list:\r\n",
        "```\r\n",
        "# wave periods (in seconds) at Rockaway Beach\r\n",
        "[7.8, 7.6, 8.5, 8.8, 7.9, 8.2]\r\n",
        "```\r\n",
        "\r\n",
        "What can we do with this list?\r\n",
        "\r\n",
        "* We will count how many measurements were taken\r\n",
        "* We can learn how to select specific measurements\r\n",
        "* We can add more data"
      ]
    },
    {
      "cell_type": "markdown",
      "metadata": {
        "id": "HRQU7xRHWcQy"
      },
      "source": [
        "\r\n",
        "\r\n",
        "This is especially useful when our lists get very long.\r\n",
        "\r\n",
        "> **So, how many measurements of wave periods were taken?**\r\n",
        ">\r\n",
        "> Here's the list of measurements again\r\n",
        ">\r\n",
        "> `# wave periods (in seconds) at Rockaway Beach`\r\n",
        ">\r\n",
        "> `[7.8, 7.6, 8.5, 8.8, 7.9, 8.2]`"
      ]
    },
    {
      "cell_type": "code",
      "metadata": {
        "id": "lGDBLdvAWcQ5"
      },
      "source": [
        "# how many measurements of wave periods were taken?\r\n",
        "# (how long is the list?)\r\n"
      ],
      "execution_count": null,
      "outputs": []
    },
    {
      "cell_type": "markdown",
      "metadata": {
        "id": "_mTuqqmiWcQ6"
      },
      "source": [
        "Now, as we just experienced, retyping that list to enter into the `len()` command was not very efficient. This is when saving a list or other objects can come in handy.\r\n",
        "\r\n",
        "We can save a list under a meaningful name.\r\n",
        "\r\n",
        "> **Let's try naming our list of wave measurements.**\r\n"
      ]
    },
    {
      "cell_type": "code",
      "metadata": {
        "id": "2IVDyUVYWcQ6"
      },
      "source": [
        "# storing our list with a meaningful name\r\n",
        "wave_periods = [7.8, 7.6, 8.5, 8.8, 7.9, 8.2]"
      ],
      "execution_count": null,
      "outputs": []
    },
    {
      "cell_type": "code",
      "metadata": {
        "id": "5zZDUJquWcQ6"
      },
      "source": [
        "# try printing your list here!"
      ],
      "execution_count": null,
      "outputs": []
    },
    {
      "cell_type": "code",
      "metadata": {
        "id": "1P4Xp1xdWcQ6"
      },
      "source": [
        "# now try the len() command again on your list name instead!"
      ],
      "execution_count": null,
      "outputs": []
    }
  ]
}