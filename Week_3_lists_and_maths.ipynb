{
  "nbformat": 4,
  "nbformat_minor": 0,
  "metadata": {
    "colab": {
      "name": "Week 3: Objects - numbers, strings and lists",
      "provenance": [],
      "collapsed_sections": [],
      "toc_visible": true,
      "authorship_tag": "ABX9TyPUIenNPo4zeTiAeCvmtUu/",
      "include_colab_link": true
    },
    "kernelspec": {
      "name": "python3",
      "display_name": "Python 3"
    }
  },
  "cells": [
    {
      "cell_type": "markdown",
      "metadata": {
        "id": "view-in-github",
        "colab_type": "text"
      },
      "source": [
        "<a href=\"https://colab.research.google.com/github/pyclub-cu/classes/blob/master/Week_3_lists_and_maths.ipynb\" target=\"_parent\"><img src=\"https://colab.research.google.com/assets/colab-badge.svg\" alt=\"Open In Colab\"/></a>"
      ]
    },
    {
      "cell_type": "markdown",
      "metadata": {
        "id": "z6vNxpqUZu6i"
      },
      "source": [
        "# Week 3\n",
        "# **Variables and lists**\n",
        "\n",
        "#### **Learning Goals**\n",
        "* Learn about lists (15 mins)\n",
        "* Learn how to assign variables (10 mins)\n",
        "* Do some math calculations! (15 mins)\n",
        "\n",
        "#### **Icebreaker!**\n",
        "<img src='https://drive.google.com/uc?id=10o4W7pFpFvN6hspQjQ1OR1Vk0SISEcGh'>\n",
        "\n",
        "> **Question: Let's name as many creatures (or things) of the sea as you can!**\n",
        "> Later, we will learn to add them to existing lists!\n",
        "> \n",
        "> Example: Sea urchins, jellyfish and plastic bottles!\n"
      ]
    },
    {
      "cell_type": "markdown",
      "metadata": {
        "id": "x55MeKNwsZsn"
      },
      "source": [
        "\r\n",
        "**Icebreaker answers:**\r\n",
        "\r\n",
        "* Our answers! (jellyfish, surfers 🏄🏽‍♀️, etc.)"
      ]
    },
    {
      "cell_type": "markdown",
      "metadata": {
        "id": "VCA5XwDNEKTf"
      },
      "source": [
        "# **Recap: numbers and strings**\n",
        "\n",
        "Last week, we learnt about `print()` statements, and objects: numbers and strings (words/letters).\n",
        "\n",
        "Most things in Python are objects, from the numbers and strings, to a list of items, such as this list of prime numbers:\n",
        "```\n",
        "[2,3,5,7,11,13]\n",
        "```\n",
        "\n",
        "Now, here's my grocery list 🛒:\n",
        "```\n",
        "['apples','yams','bread','eggs','sour patch kids']\n",
        "```\n",
        "\n",
        "Lists start and end with square brackets: `[]`, with each item separated by a comma.\n",
        "\n",
        "> Both of the above are lists, but they are different in one major way. **What do you think that is?**\n",
        "\n"
      ]
    },
    {
      "cell_type": "markdown",
      "metadata": {
        "id": "ieeZAFue13h9"
      },
      "source": [
        "# **Lists**\r\n",
        "\r\n",
        "Lists are used to store multiple items in one collection.\r\n",
        "\r\n",
        "### **Example: waves**\r\n",
        "We can measure various wave properties, such as speed, height, and wave periods. For example, if you want to surf, you want to know how often the waves are arriving at your local beach. The timing between each wave is what we call a *wave period*\r\n",
        "\r\n",
        "<img src='https://drive.google.com/uc?id=16OG2opyEKFgSBdFZ3EM86Ypqqt85zleh'>\r\n",
        "\r\n",
        "Below, we have a bunch of measurements of wave periods. We can put all that data into one list:\r\n",
        "```\r\n",
        "# wave periods (in seconds) at Rockaway Beach\r\n",
        "[7.8, 7.6, 8.5, 8.8, 7.9, 8.2]\r\n",
        "```\r\n",
        "\r\n",
        "What can we do with this list?\r\n",
        "* We can count how many measurements were taken\r\n",
        "* We can find the average wave period\r\n",
        "* We can add more data\r\n",
        "* We can select specific measurements\r\n",
        "\r\n",
        "We will explore these actions in today's class."
      ]
    },
    {
      "cell_type": "markdown",
      "metadata": {
        "id": "fU44WKwyHd-G"
      },
      "source": [
        "## **`len()` command**\r\n",
        "The `len()` command tells us the length of a list. While we could *manually* count the number of measurements, we can also use the `len()` command.\r\n"
      ]
    },
    {
      "cell_type": "code",
      "metadata": {
        "id": "QIWJwOdCI3Nw",
        "outputId": "b1d23ecc-e5d6-4e1b-fe5b-80d419af56e4",
        "colab": {
          "base_uri": "https://localhost:8080/"
        }
      },
      "source": [
        "# an example of using len() with my groceries list\r\n",
        "len(['apples','yams','bread','eggs','sour patch kids'])"
      ],
      "execution_count": 9,
      "outputs": [
        {
          "output_type": "execute_result",
          "data": {
            "text/plain": [
              "5"
            ]
          },
          "metadata": {
            "tags": []
          },
          "execution_count": 9
        }
      ]
    },
    {
      "cell_type": "markdown",
      "metadata": {
        "id": "WhMVHd3AI6FA"
      },
      "source": [
        "\r\n",
        "\r\n",
        "This is especially useful when our lists get very long, as we will see later today!\r\n",
        "\r\n",
        "> **So, how many measurements of wave periods were taken?**\r\n",
        ">\r\n",
        "> Here's the list of measurements again\r\n",
        ">\r\n",
        "> `# wave periods (in seconds) at Rockaway Beach`\r\n",
        ">\r\n",
        "> `[7.8, 7.6, 8.5, 8.8, 7.9, 8.2]`"
      ]
    },
    {
      "cell_type": "code",
      "metadata": {
        "id": "1p1WRH1ruVim"
      },
      "source": [
        "# how many measurements of wave periods were taken?\r\n",
        "# (how long is the list?)\r\n"
      ],
      "execution_count": 10,
      "outputs": []
    },
    {
      "cell_type": "markdown",
      "metadata": {
        "id": "vNA8wrbNKLe0"
      },
      "source": [
        "Now, as we just experienced, retyping that list to enter into the `len()` command was not very efficient. This is when saving a list or other objects can come in handy.\r\n",
        "\r\n",
        "We can save a list under a meaningful name.\r\n",
        "\r\n",
        "> **Let's try naming our list of wave measurements.**\r\n"
      ]
    },
    {
      "cell_type": "code",
      "metadata": {
        "id": "Bwmtm5f1LsiH"
      },
      "source": [
        "# storing our list with a meaningful name\r\n",
        "wave_periods = [7.8, 7.6, 8.5, 8.8, 7.9, 8.2]"
      ],
      "execution_count": 40,
      "outputs": []
    },
    {
      "cell_type": "code",
      "metadata": {
        "id": "KoC9OirbL5F9"
      },
      "source": [
        "# try printing your list here!"
      ],
      "execution_count": 41,
      "outputs": []
    },
    {
      "cell_type": "code",
      "metadata": {
        "id": "7Hns-g5gL_QQ"
      },
      "source": [
        "# now try the len() command again on your list name instead!"
      ],
      "execution_count": 43,
      "outputs": []
    },
    {
      "cell_type": "markdown",
      "metadata": {
        "id": "OtKegwNlFsK2"
      },
      "source": [
        "## **Assigning Variables**\r\n",
        "So, we've just assigned our list to a name. In Python, these names are called \"variables\"\r\n",
        "\r\n",
        "**What are variables?**\r\n",
        "> Variables are where we can store objects in our code. We can assign different types of objects (floats, integers, strings, lists, etc.) to variables\r\n",
        "\r\n",
        "If we want to save something for later use, we need to assign them to variables.\r\n",
        "\r\n",
        "Here is an example of assigning a variable to a number:\r\n"
      ]
    },
    {
      "cell_type": "code",
      "metadata": {
        "id": "a-upVQgCLp-k"
      },
      "source": [
        "my_age = 77"
      ],
      "execution_count": 44,
      "outputs": []
    },
    {
      "cell_type": "markdown",
      "metadata": {
        "id": "pBrxYk6nL7NA"
      },
      "source": [
        "Here is an example of assigning a variable to a string:"
      ]
    },
    {
      "cell_type": "code",
      "metadata": {
        "id": "KzaNZL-tL6R2"
      },
      "source": [
        "my_name = 'Suki'"
      ],
      "execution_count": 45,
      "outputs": []
    },
    {
      "cell_type": "markdown",
      "metadata": {
        "id": "BGRns0nXwD3I"
      },
      "source": [
        "> SOME THINGS TO NOTE:\r\n",
        ">\r\n",
        "> As you can see, the variable name is always on the left, and the value is on the right\r\n",
        ">\r\n",
        "> i.e. x = 2, NOT 2 = x\r\n",
        ">\r\n",
        "> It is typically helpful to pick a variable name that tells you about the object being stored "
      ]
    },
    {
      "cell_type": "markdown",
      "metadata": {
        "id": "0crbzRctMRs6"
      },
      "source": [
        "By assigning `my_name` and `my_age`, Python will remember these variables during the rest of this session."
      ]
    },
    {
      "cell_type": "code",
      "metadata": {
        "id": "UbJ6lDE7L4ID",
        "colab": {
          "base_uri": "https://localhost:8080/"
        },
        "outputId": "c075d141-dee5-4125-d98f-5596be993b29"
      },
      "source": [
        "print(my_age)"
      ],
      "execution_count": 46,
      "outputs": [
        {
          "output_type": "stream",
          "text": [
            "77\n"
          ],
          "name": "stdout"
        }
      ]
    },
    {
      "cell_type": "markdown",
      "metadata": {
        "id": "_AVT7_NryZW4"
      },
      "source": [
        "You can also reassign variables:\r\n"
      ]
    },
    {
      "cell_type": "code",
      "metadata": {
        "colab": {
          "base_uri": "https://localhost:8080/"
        },
        "id": "A2rA_3Nsyr3C",
        "outputId": "2c1bf500-70df-490d-a036-75db24f7bcdc"
      },
      "source": [
        "my_name = 'enter your name here'\r\n",
        "print(my_name)"
      ],
      "execution_count": 14,
      "outputs": [
        {
          "output_type": "stream",
          "text": [
            "enter your name here\n"
          ],
          "name": "stdout"
        }
      ]
    },
    {
      "cell_type": "code",
      "metadata": {
        "colab": {
          "base_uri": "https://localhost:8080/"
        },
        "id": "I6k_Jz88y4hf",
        "outputId": "8a0fcea9-569b-40a5-8fa1-7fbf6596a601"
      },
      "source": [
        "my_age = 'enter your age here'\r\n",
        "print(my_age)"
      ],
      "execution_count": 15,
      "outputs": [
        {
          "output_type": "stream",
          "text": [
            "enter your age here\n"
          ],
          "name": "stdout"
        }
      ]
    },
    {
      "cell_type": "markdown",
      "metadata": {
        "id": "ZWmnNIgURgkb"
      },
      "source": [
        "## **`append() command`**\r\n"
      ]
    },
    {
      "cell_type": "code",
      "metadata": {
        "id": "d53fNGSTRgVJ"
      },
      "source": [
        ""
      ],
      "execution_count": null,
      "outputs": []
    },
    {
      "cell_type": "code",
      "metadata": {
        "id": "0CjDhJitRCoI",
        "outputId": "5b5e2f1a-1d47-417b-8f8e-ea57a728bbc1",
        "colab": {
          "base_uri": "https://localhost:8080/"
        }
      },
      "source": [
        "sum(wave_periods)/len(wave_periods)"
      ],
      "execution_count": 63,
      "outputs": [
        {
          "output_type": "execute_result",
          "data": {
            "text/plain": [
              "8.133333333333333"
            ]
          },
          "metadata": {
            "tags": []
          },
          "execution_count": 63
        }
      ]
    },
    {
      "cell_type": "markdown",
      "metadata": {
        "id": "fA0Ho08mQObf"
      },
      "source": [
        "# **Mathematical operations**\r\n",
        "Python can do math, much like a calculator\r\n",
        "\r\n",
        "* to add, use `+`\r\n",
        "* to subtract, use `-`\r\n",
        "* to multiply, use `*`\r\n",
        "* to divide, use `/`\r\n",
        "* brackets can be used to infer the order of operations\r\n",
        "\r\n"
      ]
    },
    {
      "cell_type": "code",
      "metadata": {
        "colab": {
          "base_uri": "https://localhost:8080/"
        },
        "id": "iIOGax0yQwsx",
        "outputId": "cccfc208-30be-4a3d-c3cb-90c30d9317ef"
      },
      "source": [
        "# Try doing some math below! I'll start you off here,\r\n",
        "15+4.4"
      ],
      "execution_count": 16,
      "outputs": [
        {
          "output_type": "execute_result",
          "data": {
            "text/plain": [
              "19.4"
            ]
          },
          "metadata": {
            "tags": []
          },
          "execution_count": 16
        }
      ]
    },
    {
      "cell_type": "code",
      "metadata": {
        "id": "uiVe0mjlRJax",
        "colab": {
          "base_uri": "https://localhost:8080/"
        },
        "outputId": "562182d3-467e-4f00-ab2c-3b175e1ed3ef"
      },
      "source": [
        "# do some math: make sure to try a divison and a multiplication\r\n",
        "2/3"
      ],
      "execution_count": 17,
      "outputs": [
        {
          "output_type": "execute_result",
          "data": {
            "text/plain": [
              "0.6666666666666666"
            ]
          },
          "metadata": {
            "tags": []
          },
          "execution_count": 17
        }
      ]
    },
    {
      "cell_type": "markdown",
      "metadata": {
        "id": "wQlP8dzsRLOd"
      },
      "source": [
        "**Exercise**\r\n",
        "\r\n",
        "> Earlier, we stored your age. What will your age be in 5 more years?\r\n",
        " **Calculate the answer by using `my_age` and a simple math operation**"
      ]
    },
    {
      "cell_type": "code",
      "metadata": {
        "id": "hqWcNaiuRgky"
      },
      "source": [
        "# enter answer below\r\n"
      ],
      "execution_count": 18,
      "outputs": []
    },
    {
      "cell_type": "markdown",
      "metadata": {
        "id": "ZLXHLsWyR14m"
      },
      "source": [
        "Mathematical operations are not limited to only numbers in Python. We can also add strings!\r\n",
        "\r\n",
        "**Apples and Oranges!**\r\n",
        "You can only add numbers to other numbers, OR strings to other strings.In order to add a number to a string, you need to convert the number to a string format first. For example:"
      ]
    },
    {
      "cell_type": "code",
      "metadata": {
        "colab": {
          "base_uri": "https://localhost:8080/"
        },
        "id": "HBaggvoRSZmB",
        "outputId": "4b0a719e-25b9-4f06-b7f2-1a574f9850bd"
      },
      "source": [
        "print(my_name + ' is ' + str(my_age)  + ' years old.')\r\n"
      ],
      "execution_count": 19,
      "outputs": [
        {
          "output_type": "stream",
          "text": [
            "enter your name here is enter your age here years old.\n"
          ],
          "name": "stdout"
        }
      ]
    },
    {
      "cell_type": "markdown",
      "metadata": {
        "id": "pXATCeq3ZU14"
      },
      "source": [
        "## **Lists**"
      ]
    },
    {
      "cell_type": "markdown",
      "metadata": {
        "id": "-1tQdA4FEtVs"
      },
      "source": [
        "Lists can be made by using square brackets, `[]`\n",
        "\n",
        "Let's put all our creatures from the icebreaker into a list:\n"
      ]
    },
    {
      "cell_type": "code",
      "metadata": {
        "id": "SEYmIvk5CuMC"
      },
      "source": [
        "class_creatures = ['seals','sunfish','great white','sting ray','sea turtle','starfish','jellyfish','iceberg']\r\n"
      ],
      "execution_count": 47,
      "outputs": []
    },
    {
      "cell_type": "markdown",
      "metadata": {
        "id": "pgmzgqsJEDTj"
      },
      "source": [
        "We *could* manually count the length of our list, but a faster, more *pythonic* way to do this would be to use the `len()` command.\r\n",
        "\r\n",
        "**What is the length of `class_creatures`?**"
      ]
    },
    {
      "cell_type": "code",
      "metadata": {
        "id": "rVcPn6PSZqBr"
      },
      "source": [
        "# type answer below"
      ],
      "execution_count": 48,
      "outputs": []
    },
    {
      "cell_type": "markdown",
      "metadata": {
        "id": "PDqiXI16mEXX"
      },
      "source": [
        "### Indexing and slicing\r\n",
        "\r\n",
        "We can use a numerical index to access an individual or sequence of objects in a list.\r\n",
        "\r\n",
        "In python, we always start counting from 0 \r\n",
        "> Normal counting: 1, 2, 3, 4, 5, etc.\r\n",
        ">\r\n",
        "> Python counting: 0, 1, 2, 3, 4, etc.\r\n",
        "\r\n",
        "In other words, the first item in `class_creatures`, has index **0**, and the second item has index **1**.\r\n",
        "\r\n"
      ]
    },
    {
      "cell_type": "code",
      "metadata": {
        "id": "Nf7UOh5e_YTv",
        "colab": {
          "base_uri": "https://localhost:8080/",
          "height": 0
        },
        "outputId": "fec79309-b82a-48fc-f41c-aa6a958dd0d6"
      },
      "source": [
        "# the first item in class_creatures can be accessed\r\n",
        "class_creatures[0]"
      ],
      "execution_count": 49,
      "outputs": [
        {
          "output_type": "execute_result",
          "data": {
            "application/vnd.google.colaboratory.intrinsic+json": {
              "type": "string"
            },
            "text/plain": [
              "'seals'"
            ]
          },
          "metadata": {
            "tags": []
          },
          "execution_count": 49
        }
      ]
    },
    {
      "cell_type": "markdown",
      "metadata": {
        "id": "zJumtyPy__S4"
      },
      "source": [
        "**What is the 5th item in the list?**\r\n"
      ]
    },
    {
      "cell_type": "code",
      "metadata": {
        "id": "jSgaOcJKADVl"
      },
      "source": [
        "# enter answer below"
      ],
      "execution_count": 50,
      "outputs": []
    },
    {
      "cell_type": "markdown",
      "metadata": {
        "id": "a4Mxi0WdAGp1"
      },
      "source": [
        "> Here's a tip: you can always access the last item in a list, by using a -1 index.\r\n",
        "\r\n",
        "**Give it a go. What happens if you try an index of -2?**"
      ]
    },
    {
      "cell_type": "code",
      "metadata": {
        "id": "UI2IZPzUAWlH"
      },
      "source": [
        "# try negative indices here"
      ],
      "execution_count": 51,
      "outputs": []
    },
    {
      "cell_type": "markdown",
      "metadata": {
        "id": "JvD0VUMxAhov"
      },
      "source": [
        "We can also select a sequence of items in the list by **slicing**: slicing works by specifying a start and end index.\r\n",
        "\r\n",
        "**Try `class_creatures[0:3]`**"
      ]
    },
    {
      "cell_type": "code",
      "metadata": {
        "id": "lVImdOJvA9vc"
      },
      "source": [
        "# try here"
      ],
      "execution_count": 52,
      "outputs": []
    },
    {
      "cell_type": "markdown",
      "metadata": {
        "id": "dp_Ud4r17we6"
      },
      "source": [
        "> Notice that the sliced result begins with your start index, but only goes up to and **not including** the end index\r\n",
        ">\r\n",
        "> To get a slice to the very end of the list, you can simply omit an end index, like so `class_creatures[3:]`\r\n",
        ">\r\n",
        "> Omitting the first index, will get your slice to start from the very beginning, though you can also just use an index of 0!"
      ]
    },
    {
      "cell_type": "markdown",
      "metadata": {
        "id": "6noB0t-uBC7-"
      },
      "source": [
        "**Slice `class_creatures` starting from 'great white' to the last creature**"
      ]
    },
    {
      "cell_type": "code",
      "metadata": {
        "id": "DAZXiMLT7l15",
        "colab": {
          "base_uri": "https://localhost:8080/"
        },
        "outputId": "6fd0d791-0165-42de-b3de-716b081a3a35"
      },
      "source": [
        "# slice here\r\n",
        "class_creatures[2:]"
      ],
      "execution_count": 53,
      "outputs": [
        {
          "output_type": "execute_result",
          "data": {
            "text/plain": [
              "['great white', 'sting ray', 'sea turtle', 'starfish', 'jellyfish', 'iceberg']"
            ]
          },
          "metadata": {
            "tags": []
          },
          "execution_count": 53
        }
      ]
    },
    {
      "cell_type": "markdown",
      "metadata": {
        "id": "doKyYE0k9xe7"
      },
      "source": [
        "### Comparing\r\n",
        " \r\n",
        "We can check if an item is in a list, using an `in` statement:\r\n",
        "\r\n",
        "\r\n"
      ]
    },
    {
      "cell_type": "code",
      "metadata": {
        "id": "Pof_MErglymD",
        "colab": {
          "base_uri": "https://localhost:8080/"
        },
        "outputId": "b970c70a-cb20-4e0c-bdb5-dceb010ccbd9"
      },
      "source": [
        "letters = ['a','b','c','d','e','f']\r\n",
        "'z' in letters"
      ],
      "execution_count": 54,
      "outputs": [
        {
          "output_type": "execute_result",
          "data": {
            "text/plain": [
              "False"
            ]
          },
          "metadata": {
            "tags": []
          },
          "execution_count": 54
        }
      ]
    },
    {
      "cell_type": "markdown",
      "metadata": {
        "id": "FtUr1RsTM5Vh"
      },
      "source": [
        "> However, this is case sensitive, and also typo-sensitive!"
      ]
    },
    {
      "cell_type": "code",
      "metadata": {
        "id": "VVHTYL0RM4ro",
        "colab": {
          "base_uri": "https://localhost:8080/"
        },
        "outputId": "6fa86064-89e8-4893-b4da-1d22999b5025"
      },
      "source": [
        "'a' in letters, 'A' in letters"
      ],
      "execution_count": 55,
      "outputs": [
        {
          "output_type": "execute_result",
          "data": {
            "text/plain": [
              "(True, False)"
            ]
          },
          "metadata": {
            "tags": []
          },
          "execution_count": 55
        }
      ]
    },
    {
      "cell_type": "markdown",
      "metadata": {
        "id": "D5b76Y7NMphC"
      },
      "source": [
        "**Let's compare our creatures to a list of known species at Rockaways**\r\n",
        "\r\n",
        "An example:\r\n",
        "```\r\n",
        "'starfish' in rockaway_species\r\n",
        "```"
      ]
    },
    {
      "cell_type": "code",
      "metadata": {
        "id": "uD2l4REOmRYk"
      },
      "source": [
        "# hefty list of known species at the Rockaways\r\n",
        "rockaway_species = ['lobster','crabs','rock crab','blue crab',\r\n",
        "           'ghost crab','horseshoe crab','barnacle',\r\n",
        "           'spider crab','shrimp','seagull','herring gull',\r\n",
        "           'wigeon','black bellied plover','plover','heron',\r\n",
        "            'heron','pelican','blue heron','mallard','gannet',\r\n",
        "            'piping plover','plover','alewife','anglerfish',\r\n",
        "            'butterfish','eel','shad','silver perch','herring',\r\n",
        "            'menhaden','moonfish','needlefish','sturgeon',\r\n",
        "            'banded killifish', 'anchovy','black drum','seabass',\r\n",
        "            'bluefish','crevalle jack','foureye butterflyfish',\r\n",
        "            'flounder','seahorse','mummichog','pipefish','sea robin',\r\n",
        "            'pufferfish','puffer','sunfish','toadfish','red hake',\r\n",
        "            'hake','sand lance','scup','silver hake','striped bass',\r\n",
        "            'bass','burrfish','mullet','winter flonder',\r\n",
        "            'yellowtail flounder','basking shark','blue shark',\r\n",
        "            'bull shark','great white shark','nurse shark',\r\n",
        "            'sandbar shark','sand tiger shark','scalloped hammerhead',\r\n",
        "            'shortfin mako shark','mako shark','thresher shark','cat sharks',\r\n",
        "            'dogfish shark','rays','atlantic torpedo ray','cownose ray',\r\n",
        "            'skates','clearnose skate','little skate','winter skate',\r\n",
        "            'stingrays','roughtail stingray','dolphins','bottlenose dolphin',\r\n",
        "            'grey seal','harbor seal','seals','porpoise','whales',\r\n",
        "            'blue whale','fin whale','humpback whale',\r\n",
        "            'north alantic right whale','jellyfish','moon jellyfish',\r\n",
        "            'northern cup coral','starfish','northern sea star','scallops',\r\n",
        "            'clams','mussels','oysters','quahog','squid','octopus',\r\n",
        "            'whelk','periwinkle','mudsnail','oyster drill','worms',\r\n",
        "            'red beard sponge','algae','sea lettuce']"
      ],
      "execution_count": 56,
      "outputs": []
    },
    {
      "cell_type": "code",
      "metadata": {
        "id": "y3rfz7nTMeqc"
      },
      "source": [
        "# compare here\r\n"
      ],
      "execution_count": 57,
      "outputs": []
    },
    {
      "cell_type": "markdown",
      "metadata": {
        "id": "dANYbVEvQVkh"
      },
      "source": [
        "**How many items are there in the `rockaway_species` list?**"
      ]
    },
    {
      "cell_type": "code",
      "metadata": {
        "id": "gDUo_hS1QWBR"
      },
      "source": [
        "# answer here"
      ],
      "execution_count": 58,
      "outputs": []
    },
    {
      "cell_type": "markdown",
      "metadata": {
        "id": "VEh8XHTfNjGL"
      },
      "source": [
        "### Appending\r\n",
        "\r\n",
        "\r\n"
      ]
    },
    {
      "cell_type": "markdown",
      "metadata": {
        "id": "U3KNY7QYPk0z"
      },
      "source": [
        "Items can be added to the list. Maybe you've observed a species on your last trip to the Rockaways that isn't on this list! To add, we can use the `append()` function"
      ]
    },
    {
      "cell_type": "code",
      "metadata": {
        "id": "H1TBUULKPkMh"
      },
      "source": [
        "# appending example\r\n",
        "rockaway_species.append('minke whale')"
      ],
      "execution_count": 59,
      "outputs": []
    },
    {
      "cell_type": "markdown",
      "metadata": {
        "id": "hRItNcK_PeSl"
      },
      "source": [
        "You can also remove items from a list with the `remove()` function"
      ]
    },
    {
      "cell_type": "code",
      "metadata": {
        "id": "ZoVq9CvxMf_l"
      },
      "source": [
        "# to remove an item from a list\r\n",
        "rockaway_species.remove('starfish')"
      ],
      "execution_count": 60,
      "outputs": []
    },
    {
      "cell_type": "markdown",
      "metadata": {
        "id": "LHhc05acPX_w"
      },
      "source": [
        "The marine environment is always evolving, both naturally and forced by human-caused climate change.\r\n",
        "\r\n",
        "We observe new species migrate to the Rockaways, and sometimes we see them move elsewhere, or decline in numbers. One cause for these permanent migrations could be due to the ocean temperature warming. Warming waters at the Rockaways allows warm water species to live here, while pushing away cold water species. You can think about how this affects other animals in the food web.\r\n"
      ]
    },
    {
      "cell_type": "code",
      "metadata": {
        "id": "763fi5uTPYXL"
      },
      "source": [
        ""
      ],
      "execution_count": 60,
      "outputs": []
    },
    {
      "cell_type": "markdown",
      "metadata": {
        "id": "hH1Et1fGP3Mo"
      },
      "source": [
        "# **Extra: more math!**\r\n",
        "Some more math if you want to try equations with multiple variables"
      ]
    },
    {
      "cell_type": "markdown",
      "metadata": {
        "id": "opf2d7NsEioL"
      },
      "source": [
        "**Example of how to solve this equation**\r\n",
        "> If y = 2x + c,\r\n",
        ">\r\n",
        "> where x = 0.5 and c = 42\r\n",
        ">\r\n",
        "> **What is y?** \r\n"
      ]
    },
    {
      "cell_type": "code",
      "metadata": {
        "id": "vtrvmgTkRI-Q"
      },
      "source": [
        "# first assign variables\r\n",
        "x = 0.5\r\n",
        "c = 42"
      ],
      "execution_count": null,
      "outputs": []
    },
    {
      "cell_type": "code",
      "metadata": {
        "id": "VBj076OYRKiH"
      },
      "source": [
        "# next, write the equation\r\n",
        "y = 2*x + c"
      ],
      "execution_count": null,
      "outputs": []
    },
    {
      "cell_type": "code",
      "metadata": {
        "id": "F1G7nNtDE7v2",
        "colab": {
          "base_uri": "https://localhost:8080/"
        },
        "outputId": "b5254ab9-8a78-4e2c-85a7-387337ebfcb1"
      },
      "source": [
        "# what is y?\r\n",
        "y"
      ],
      "execution_count": null,
      "outputs": [
        {
          "output_type": "execute_result",
          "data": {
            "text/plain": [
              "43.0"
            ]
          },
          "metadata": {
            "tags": []
          },
          "execution_count": 22
        }
      ]
    },
    {
      "cell_type": "markdown",
      "metadata": {
        "id": "Y2_ctjHeFh2A"
      },
      "source": [
        "**Exercise for you!**\r\n",
        "\r\n",
        "> y = 2a$^{2}$ + 6b + c ,\r\n",
        ">\r\n",
        "> where a = 5, b = 2 and c = 3\r\n",
        ">\r\n",
        "> **What is y?**"
      ]
    },
    {
      "cell_type": "code",
      "metadata": {
        "id": "f9h3-eVWFBBa"
      },
      "source": [
        "# assign the variables\r\n"
      ],
      "execution_count": null,
      "outputs": []
    },
    {
      "cell_type": "code",
      "metadata": {
        "id": "_DdBXMZv6_AY"
      },
      "source": [
        "# write the equation\r\n"
      ],
      "execution_count": null,
      "outputs": []
    },
    {
      "cell_type": "code",
      "metadata": {
        "id": "IStIdIcm0bnI"
      },
      "source": [
        "# what is y\r\n"
      ],
      "execution_count": null,
      "outputs": []
    },
    {
      "cell_type": "markdown",
      "metadata": {
        "id": "dBGQMZ-j0eFD"
      },
      "source": [
        "> Hint: to raise x to the power of 2, you can do `x**2`\r\n"
      ]
    }
  ]
}