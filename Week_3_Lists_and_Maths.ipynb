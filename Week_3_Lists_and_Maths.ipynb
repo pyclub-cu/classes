{
  "nbformat": 4,
  "nbformat_minor": 0,
  "metadata": {
    "colab": {
      "name": "Week 3: Objects - numbers, strings and lists",
      "provenance": [],
      "collapsed_sections": [],
      "authorship_tag": "ABX9TyOXKz4S2CsK7CZKXjm4nqVO",
      "include_colab_link": true
    },
    "kernelspec": {
      "name": "python3",
      "display_name": "Python 3"
    }
  },
  "cells": [
    {
      "cell_type": "markdown",
      "metadata": {
        "id": "view-in-github",
        "colab_type": "text"
      },
      "source": [
        "<a href=\"https://colab.research.google.com/github/pyclub-cu/classes/blob/master/Week_3_Lists_and_Maths.ipynb\" target=\"_parent\"><img src=\"https://colab.research.google.com/assets/colab-badge.svg\" alt=\"Open In Colab\"/></a>"
      ]
    },
    {
      "cell_type": "markdown",
      "metadata": {
        "id": "z6vNxpqUZu6i"
      },
      "source": [
        "# **Week 3:** Lists, variables, and maths\n",
        "\n",
        "**Learning Objectives**\n",
        "* Learn about lists (15 mins)\n",
        "* Learn how to assign variables (10 mins)\n",
        "* Learn about indexing and slicing (10 mins)\n",
        "* Do some math calculations! (10 mins)\n",
        "\n",
        "### **Icebreaker!**\n",
        "<img src='https://drive.google.com/uc?id=10o4W7pFpFvN6hspQjQ1OR1Vk0SISEcGh'>\n",
        "\n",
        "> **Question: Let's name as many creatures (or things) of the sea as you can!**\n",
        "> Later, we will learn to add them to existing lists!\n",
        "> \n",
        "> Example: Sea urchins, jellyfish and plastic bottles!\n"
      ]
    },
    {
      "cell_type": "markdown",
      "metadata": {
        "id": "x55MeKNwsZsn"
      },
      "source": [
        "\n",
        "**Icebreaker answers:**\n",
        "\n",
        "* Our answers! (jellyfish, surfers 🏄🏽‍♀️, sea snails, etc.)"
      ]
    },
    {
      "cell_type": "markdown",
      "metadata": {
        "id": "VCA5XwDNEKTf"
      },
      "source": [
        "# **Recap: numbers and strings**\n",
        "\n",
        "Last week, we learnt about `print()` statements, and objects: numbers and strings (words/letters).\n",
        "\n",
        "Most things in Python are objects, from the numbers and strings, to a list of items, such as this list of prime numbers:\n",
        "```\n",
        "[2,3,5,7,11,13]\n",
        "```\n",
        "\n",
        "Now, here's my grocery list 🛒:\n",
        "```\n",
        "['apples','yams','bread','eggs','sour patch kids']\n",
        "```\n",
        "\n",
        "Lists start and end with square brackets: `[]`, with each item separated by a comma.\n",
        "\n",
        "> Both of the above are lists, but they are different in one major way. **What do you think that is?**\n",
        "\n"
      ]
    },
    {
      "cell_type": "markdown",
      "metadata": {
        "id": "ieeZAFue13h9"
      },
      "source": [
        "# **Lists**\n",
        "\n",
        "Lists are used to store multiple items in one collection.\n",
        "\n",
        "### **Example: marine life!**\n",
        "Let's put our ice breaker answers into a list:\n"
      ]
    },
    {
      "cell_type": "code",
      "metadata": {
        "id": "HyCkw4ARV8T6"
      },
      "source": [
        "# ice breaker creatures\n"
      ],
      "execution_count": 1,
      "outputs": []
    },
    {
      "cell_type": "markdown",
      "metadata": {
        "id": "RVJSCBm7V8yy"
      },
      "source": [
        "What can we do with this list?\n",
        "\n",
        "* We can count how many creatures we came up with\n",
        "* We can learn how to select specific items in the list\n",
        "* We can add more creatures!"
      ]
    },
    {
      "cell_type": "markdown",
      "metadata": {
        "id": "fU44WKwyHd-G"
      },
      "source": [
        "## **`len()` command**\n",
        "The `len()` command tells us the length of a list. While we could *manually* count the length, we can also use the `len()` command.\n"
      ]
    },
    {
      "cell_type": "code",
      "metadata": {
        "colab": {
          "base_uri": "https://localhost:8080/"
        },
        "id": "QIWJwOdCI3Nw",
        "outputId": "6d3724ef-6ec8-4667-b39d-d7f1eece302f"
      },
      "source": [
        "# an example of using len() with my groceries list\n",
        "len(['apples','yams','bread','eggs','sour patch kids'])"
      ],
      "execution_count": null,
      "outputs": [
        {
          "output_type": "execute_result",
          "data": {
            "text/plain": [
              "5"
            ]
          },
          "metadata": {
            "tags": []
          },
          "execution_count": 66
        }
      ]
    },
    {
      "cell_type": "markdown",
      "metadata": {
        "id": "WhMVHd3AI6FA"
      },
      "source": [
        "\n",
        "\n",
        "This is especially useful when our lists get very long.\n",
        "\n",
        "> **So, how many creatures are in our list?**"
      ]
    },
    {
      "cell_type": "code",
      "metadata": {
        "id": "1p1WRH1ruVim"
      },
      "source": [
        "# how many creatures are in our list?\n"
      ],
      "execution_count": 2,
      "outputs": []
    },
    {
      "cell_type": "markdown",
      "metadata": {
        "id": "vNA8wrbNKLe0"
      },
      "source": [
        "Now, as we just experienced, retyping that list to enter into the `len()` command was not very efficient. This is when saving a list or other objects can come in handy.\n",
        "\n",
        "We can save a list under a meaningful name.\n",
        "\n",
        "> **Let's try naming our list of creatures**\n"
      ]
    },
    {
      "cell_type": "code",
      "metadata": {
        "id": "Bwmtm5f1LsiH"
      },
      "source": [
        "# storing our list with a meaningful name\n",
        "creatures = #copy list"
      ],
      "execution_count": null,
      "outputs": []
    },
    {
      "cell_type": "code",
      "metadata": {
        "id": "KoC9OirbL5F9"
      },
      "source": [
        "# try printing your list here!\n"
      ],
      "execution_count": null,
      "outputs": []
    },
    {
      "cell_type": "code",
      "metadata": {
        "id": "7Hns-g5gL_QQ"
      },
      "source": [
        "# now try the len() command again on your list name instead!\n"
      ],
      "execution_count": null,
      "outputs": []
    },
    {
      "cell_type": "markdown",
      "metadata": {
        "id": "OtKegwNlFsK2"
      },
      "source": [
        "## **Assigning Variables**\n",
        "So, we've just assigned our list to a name. In Python, these names are called \"variables\"\n",
        "\n",
        "**What are variables?**\n",
        "> Variables are where we can store objects in our code. We can assign different types of objects (floats, integers, strings, lists, etc.) to variables\n",
        "\n",
        "If we want to save something for later use, we need to assign them to variables.\n",
        "\n",
        "Here is an example of assigning a variable to a number:\n"
      ]
    },
    {
      "cell_type": "code",
      "metadata": {
        "id": "a-upVQgCLp-k"
      },
      "source": [
        "my_age = 77"
      ],
      "execution_count": null,
      "outputs": []
    },
    {
      "cell_type": "markdown",
      "metadata": {
        "id": "pBrxYk6nL7NA"
      },
      "source": [
        "Here is an example of assigning a variable to a string:"
      ]
    },
    {
      "cell_type": "code",
      "metadata": {
        "id": "KzaNZL-tL6R2"
      },
      "source": [
        "my_name = 'Suki'"
      ],
      "execution_count": null,
      "outputs": []
    },
    {
      "cell_type": "markdown",
      "metadata": {
        "id": "BGRns0nXwD3I"
      },
      "source": [
        "> SOME THINGS TO NOTE:\n",
        ">\n",
        "> As you can see, the variable name is always on the left, and the value is on the right\n",
        ">\n",
        "> i.e. x = 2, NOT 2 = x\n",
        ">\n",
        "> It is typically helpful to pick a variable name that tells you about the object being stored "
      ]
    },
    {
      "cell_type": "markdown",
      "metadata": {
        "id": "0crbzRctMRs6"
      },
      "source": [
        "By assigning `my_name` and `my_age`, Python will remember these variables during the rest of this session."
      ]
    },
    {
      "cell_type": "code",
      "metadata": {
        "id": "UbJ6lDE7L4ID",
        "colab": {
          "base_uri": "https://localhost:8080/"
        },
        "outputId": "c075d141-dee5-4125-d98f-5596be993b29"
      },
      "source": [
        "print(my_age)"
      ],
      "execution_count": null,
      "outputs": [
        {
          "output_type": "stream",
          "text": [
            "77\n"
          ],
          "name": "stdout"
        }
      ]
    },
    {
      "cell_type": "markdown",
      "metadata": {
        "id": "_AVT7_NryZW4"
      },
      "source": [
        "You can also reassign variables:\n"
      ]
    },
    {
      "cell_type": "code",
      "metadata": {
        "colab": {
          "base_uri": "https://localhost:8080/"
        },
        "id": "A2rA_3Nsyr3C",
        "outputId": "b2f05257-965f-4bc4-f9d9-c2d55489672b"
      },
      "source": [
        "my_name = '<enter your name here>'\n",
        "print(my_name)"
      ],
      "execution_count": 3,
      "outputs": [
        {
          "output_type": "stream",
          "text": [
            "<enter your name here>\n"
          ],
          "name": "stdout"
        }
      ]
    },
    {
      "cell_type": "code",
      "metadata": {
        "colab": {
          "base_uri": "https://localhost:8080/"
        },
        "id": "I6k_Jz88y4hf",
        "outputId": "3d9e1c80-368f-4ce4-af41-8d887da8b217"
      },
      "source": [
        "my_age = '<enter your age here>'\n",
        "print(my_age)"
      ],
      "execution_count": 4,
      "outputs": [
        {
          "output_type": "stream",
          "text": [
            "<enter your age here>\n"
          ],
          "name": "stdout"
        }
      ]
    },
    {
      "cell_type": "markdown",
      "metadata": {
        "id": "ZWmnNIgURgkb"
      },
      "source": [
        "## **Indexing**\n",
        "Now that we've stored our list as a variable, we can more easily access it! Hooray!\n",
        "\n",
        "What if we want to access a specific item in the list? We can do this with **indexing**.\n",
        "\n",
        "> Python indexing is a numbering system that starts from zero \n",
        "\n",
        "Take a look at our groceries list:\n",
        "\n",
        "<img src='https://drive.google.com/uc?id=124cKVTYKX6a9m2k6lguiNPOqw4qoWY7h'>\n",
        "\n",
        "Starting with 0, we can associate each item with an index number"
      ]
    },
    {
      "cell_type": "code",
      "metadata": {
        "colab": {
          "base_uri": "https://localhost:8080/",
          "height": 35
        },
        "id": "d53fNGSTRgVJ",
        "outputId": "f2cf8619-5d0a-42a3-fa97-b2d500e17df0"
      },
      "source": [
        "groceries = ['apples','yams','bread','eggs','sour patch kids']\n",
        "# the first item in the list has index 0\n",
        "groceries[0]"
      ],
      "execution_count": null,
      "outputs": [
        {
          "output_type": "execute_result",
          "data": {
            "application/vnd.google.colaboratory.intrinsic+json": {
              "type": "string"
            },
            "text/plain": [
              "'apples'"
            ]
          },
          "metadata": {
            "tags": []
          },
          "execution_count": 75
        }
      ]
    },
    {
      "cell_type": "code",
      "metadata": {
        "id": "LKYfyczFcgC_"
      },
      "source": [
        "# try to select a different item from groceries using indexing\n"
      ],
      "execution_count": null,
      "outputs": []
    },
    {
      "cell_type": "markdown",
      "metadata": {
        "id": "vhdtGFWsaDtS"
      },
      "source": [
        "Because we start indexing from 0, the last index of a list is always one less than the list length"
      ]
    },
    {
      "cell_type": "code",
      "metadata": {
        "id": "F7aOXAF_ZoZO"
      },
      "source": [
        "# last item of groceries has index 4\n",
        "groceries[4]"
      ],
      "execution_count": null,
      "outputs": []
    },
    {
      "cell_type": "markdown",
      "metadata": {
        "id": "wsm7C3WTeNCY"
      },
      "source": [
        "> Here's a tip: you can always access the last item in a list by using a -1 index.\n",
        ">\n",
        "> **Give it a go. What happens if you try an index of -2?**"
      ]
    },
    {
      "cell_type": "code",
      "metadata": {
        "id": "iw7KerS4eNCZ"
      },
      "source": [
        "# try using a -1 index"
      ],
      "execution_count": null,
      "outputs": []
    },
    {
      "cell_type": "code",
      "metadata": {
        "id": "vQ87l9fBecJc"
      },
      "source": [
        "# try using a -2 index"
      ],
      "execution_count": null,
      "outputs": []
    },
    {
      "cell_type": "markdown",
      "metadata": {
        "id": "aPJZJ6CLYygO"
      },
      "source": [
        "\n",
        "> **Now try to get the first creature from our creatures list!**"
      ]
    },
    {
      "cell_type": "code",
      "metadata": {
        "id": "jrab9b8cZUI7"
      },
      "source": [
        "# the first creature\n"
      ],
      "execution_count": null,
      "outputs": []
    },
    {
      "cell_type": "markdown",
      "metadata": {
        "id": "sceacJUkepX4"
      },
      "source": [
        "\n",
        "> **Now try to get the last creature from our creatures list!**"
      ]
    },
    {
      "cell_type": "code",
      "metadata": {
        "id": "jOX0qDRoepX5"
      },
      "source": [
        "# the last creature\n"
      ],
      "execution_count": null,
      "outputs": []
    },
    {
      "cell_type": "markdown",
      "metadata": {
        "id": "2_oeVMmpfa5S"
      },
      "source": [
        "## **Slicing**\n",
        "\n",
        "We can also select a sequence of items in the list by **slicing**: slicing works by specifying a start and end index.\n",
        "\n",
        "> **Try `creatures[0:3]`**"
      ]
    },
    {
      "cell_type": "code",
      "metadata": {
        "id": "xQq6YUaVfa5S"
      },
      "source": [
        "# try here\n"
      ],
      "execution_count": 5,
      "outputs": []
    },
    {
      "cell_type": "markdown",
      "metadata": {
        "id": "IPi-GgLRfufq"
      },
      "source": [
        "> Notice that the sliced result begins with your start index, but only **goes up to and not including** the end index\n",
        "\n",
        "\n",
        "> TIP: to get a slice to the very end of the list, you can simply omit an end index, like so\n"
      ]
    },
    {
      "cell_type": "code",
      "metadata": {
        "id": "qjAQ7H_Ug7SW",
        "colab": {
          "base_uri": "https://localhost:8080/"
        },
        "outputId": "3b69d8cf-cd81-450f-ef77-8e6894937499"
      },
      "source": [
        "# slicing from the 3rd item ('bread') to the last item of groceries\n",
        "groceries[2:]"
      ],
      "execution_count": null,
      "outputs": [
        {
          "output_type": "execute_result",
          "data": {
            "text/plain": [
              "['bread', 'eggs', 'sour patch kids']"
            ]
          },
          "metadata": {
            "tags": []
          },
          "execution_count": 99
        }
      ]
    },
    {
      "cell_type": "markdown",
      "metadata": {
        "id": "I6TLkZo0fufq"
      },
      "source": [
        "> **Slice `creatures` starting from 'sea snails' to the last creature**"
      ]
    },
    {
      "cell_type": "code",
      "metadata": {
        "id": "1P9OPznIhsHg",
        "colab": {
          "base_uri": "https://localhost:8080/"
        },
        "outputId": "cbd6ed1d-35d4-48a3-c99f-89bb997311df"
      },
      "source": [
        "# here's the list for reference\n",
        "print(creatures)"
      ],
      "execution_count": null,
      "outputs": [
        {
          "output_type": "stream",
          "text": [
            "['jellyfish', 'surfers', 'sea snails']\n"
          ],
          "name": "stdout"
        }
      ]
    },
    {
      "cell_type": "code",
      "metadata": {
        "id": "QIpBFmJ4fufr"
      },
      "source": [
        "# slice from 'sea snails' to the LAST creature\n"
      ],
      "execution_count": 6,
      "outputs": []
    },
    {
      "cell_type": "markdown",
      "metadata": {
        "id": "hWLsj54qjAJn"
      },
      "source": [
        "# **Marine life seen at Rockaway Beach**\n",
        "\n",
        "<img src='https://drive.google.com/uc?id=10GLI1eLUNSLZKBvStbOnI56vYYmgFKIB'>\n",
        "\n",
        "Here's a list of some of the living things that have been spotted at the Rockaways!"
      ]
    },
    {
      "cell_type": "code",
      "metadata": {
        "id": "-0tfmkN-jOIT"
      },
      "source": [
        "# big list of somes species at the Rockaways\n",
        "rockaway_species = ['lobster', 'crabs', 'shrimp', 'seagull','heron', 'pelican',\n",
        "                    'eel', 'herring', 'needlefish', 'sturgeon', 'anchovy',\n",
        "                    'seabass', 'seahorse','mummichog', 'pufferfish', 'sunfish',\n",
        "                    'striped bass', 'blue shark', 'bull shark', 'nurse shark',\n",
        "                    'sandbar shark', 'scalloped hammerhead', 'mako shark', \n",
        "                    'thresher shark', 'atlantic torpedo ray', 'little skate',\n",
        "                    'roughtail stingray', 'bottlenose dolphin', 'grey seal',\n",
        "                    'blue whale', 'fin whale', 'north alantic right whale',\n",
        "                    'humpback whale', 'moon jellyfish', 'starfish', 'clams',\n",
        "                    'mussels', 'oysters', 'algae', 'sea lettuce']"
      ],
      "execution_count": null,
      "outputs": []
    },
    {
      "cell_type": "markdown",
      "metadata": {
        "id": "5uoQBCoelkL3"
      },
      "source": [
        "> **How long is this list?**"
      ]
    },
    {
      "cell_type": "code",
      "metadata": {
        "id": "Uc8kBPjDk0Rf"
      },
      "source": [
        "# number of species\n"
      ],
      "execution_count": null,
      "outputs": []
    },
    {
      "cell_type": "markdown",
      "metadata": {
        "id": "U3KNY7QYPk0z"
      },
      "source": [
        "Items can be added to the list. Maybe you've observed a species on your last trip to the Rockaways that isn't on this list! To add, we can use the `append()` function"
      ]
    },
    {
      "cell_type": "code",
      "metadata": {
        "id": "H1TBUULKPkMh"
      },
      "source": [
        "# appending example\n",
        "rockaway_species.append('minke whale')"
      ],
      "execution_count": null,
      "outputs": []
    },
    {
      "cell_type": "markdown",
      "metadata": {
        "id": "zP3Nu6rplYwD"
      },
      "source": [
        "We can also add our `creatures` list to `rockaway_species` by using addition, +, like in math!\n",
        "\n",
        "`list_one + list_two`\n",
        "\n",
        "> **Let's add the `creatures` list to `rockaway_species`**"
      ]
    },
    {
      "cell_type": "code",
      "metadata": {
        "id": "6JqaEVi78hCI"
      },
      "source": [
        "# add creatures to rockaway_species"
      ],
      "execution_count": 7,
      "outputs": []
    },
    {
      "cell_type": "code",
      "metadata": {
        "id": "OUNrlArMlYLy"
      },
      "source": [
        "# rename updated list"
      ],
      "execution_count": 8,
      "outputs": []
    },
    {
      "cell_type": "markdown",
      "metadata": {
        "id": "fA0Ho08mQObf"
      },
      "source": [
        "# **Mathematical operations**\n",
        "\n",
        "Python can do math, much like a calculator\n",
        "\n",
        "* to add, use `+`\n",
        "* to subtract, use `-`\n",
        "* to multiply, use `*`\n",
        "* to divide, use `/`\n",
        "* brackets can be used to infer the order of operations\n",
        "\n"
      ]
    },
    {
      "cell_type": "markdown",
      "metadata": {
        "id": "wQlP8dzsRLOd"
      },
      "source": [
        "**Exercise**\n",
        "\n",
        "> Earlier, we stored your age. What will your age be in 5 more years?\n",
        ">\n",
        "> **Calculate the answer by using `my_age` and a simple math operation**"
      ]
    },
    {
      "cell_type": "code",
      "metadata": {
        "id": "hqWcNaiuRgky"
      },
      "source": [
        "# enter answer below\n"
      ],
      "execution_count": null,
      "outputs": []
    },
    {
      "cell_type": "markdown",
      "metadata": {
        "id": "ZLXHLsWyR14m"
      },
      "source": [
        "Mathematical operations are not limited to only numbers in Python. We've added lists, and we've also added numbers. We can also add strings!\n",
        "\n",
        "> **ATTENTION: Apples and Oranges!**\n",
        ">\n",
        "> You can only add numbers to other numbers, OR strings to other strings.In order to add a number to a string, you need to convert the number to a string format first. For example:"
      ]
    },
    {
      "cell_type": "code",
      "metadata": {
        "colab": {
          "base_uri": "https://localhost:8080/"
        },
        "id": "HBaggvoRSZmB",
        "outputId": "6495b79a-5b10-477c-feb0-23159154bbf7"
      },
      "source": [
        "print(my_name + ' is ' + str(my_age)  + ' years old.')\n"
      ],
      "execution_count": null,
      "outputs": [
        {
          "output_type": "stream",
          "text": [
            "Suki is 77 years old.\n"
          ],
          "name": "stdout"
        }
      ]
    },
    {
      "cell_type": "code",
      "metadata": {
        "id": "763fi5uTPYXL"
      },
      "source": [
        "# try your own sentence below"
      ],
      "execution_count": 9,
      "outputs": []
    },
    {
      "cell_type": "markdown",
      "metadata": {
        "id": "hH1Et1fGP3Mo"
      },
      "source": [
        "# **Extra: more math!**\n",
        "Some more math if you want to try equations with multiple variables"
      ]
    },
    {
      "cell_type": "markdown",
      "metadata": {
        "id": "opf2d7NsEioL"
      },
      "source": [
        "**Example of how to solve this equation**\n",
        "> If y = 2x + c,\n",
        ">\n",
        "> where x = 0.5 and c = 42\n",
        ">\n",
        "> **What is y?** \n"
      ]
    },
    {
      "cell_type": "code",
      "metadata": {
        "id": "vtrvmgTkRI-Q"
      },
      "source": [
        "# first assign variables\n",
        "x = 0.5\n",
        "c = 42"
      ],
      "execution_count": null,
      "outputs": []
    },
    {
      "cell_type": "code",
      "metadata": {
        "id": "VBj076OYRKiH"
      },
      "source": [
        "# next, write the equation\n",
        "y = 2*x + c"
      ],
      "execution_count": null,
      "outputs": []
    },
    {
      "cell_type": "code",
      "metadata": {
        "id": "F1G7nNtDE7v2",
        "colab": {
          "base_uri": "https://localhost:8080/"
        },
        "outputId": "b5254ab9-8a78-4e2c-85a7-387337ebfcb1"
      },
      "source": [
        "# what is y?\n",
        "y"
      ],
      "execution_count": null,
      "outputs": [
        {
          "output_type": "execute_result",
          "data": {
            "text/plain": [
              "43.0"
            ]
          },
          "metadata": {
            "tags": []
          },
          "execution_count": 22
        }
      ]
    },
    {
      "cell_type": "markdown",
      "metadata": {
        "id": "Y2_ctjHeFh2A"
      },
      "source": [
        "**Exercise for you!**\n",
        "\n",
        "> y = 2a$^{2}$ + 6b + c ,\n",
        ">\n",
        "> where a = 5, b = 2 and c = 3\n",
        ">\n",
        "> **What is y?**"
      ]
    },
    {
      "cell_type": "code",
      "metadata": {
        "id": "f9h3-eVWFBBa"
      },
      "source": [
        "# assign the variables\n"
      ],
      "execution_count": null,
      "outputs": []
    },
    {
      "cell_type": "code",
      "metadata": {
        "id": "_DdBXMZv6_AY"
      },
      "source": [
        "# write the equation\n"
      ],
      "execution_count": null,
      "outputs": []
    },
    {
      "cell_type": "code",
      "metadata": {
        "id": "IStIdIcm0bnI"
      },
      "source": [
        "# what is y\n"
      ],
      "execution_count": null,
      "outputs": []
    },
    {
      "cell_type": "markdown",
      "metadata": {
        "id": "dBGQMZ-j0eFD"
      },
      "source": [
        "> Hint: to raise x to the power of 2, you can do `x**2`\n"
      ]
    },
    {
      "cell_type": "markdown",
      "metadata": {
        "id": "Xxz0eWhD8-qC"
      },
      "source": [
        "**Summary of today's class**\n",
        "* Learn about lists\n",
        "* Learn how to assign variables\n",
        "* Learn about indexing and slicing\n",
        "* Do some math calculations!"
      ]
    },
    {
      "cell_type": "code",
      "metadata": {
        "id": "Stmk3GKv8x7O"
      },
      "source": [
        ""
      ],
      "execution_count": null,
      "outputs": []
    },
    {
      "cell_type": "code",
      "metadata": {
        "id": "aX8vrBL28xsG"
      },
      "source": [
        ""
      ],
      "execution_count": null,
      "outputs": []
    },
    {
      "cell_type": "code",
      "metadata": {
        "id": "qtUwOdRh8xaj"
      },
      "source": [
        ""
      ],
      "execution_count": null,
      "outputs": []
    },
    {
      "cell_type": "markdown",
      "metadata": {
        "id": "RhkB-kMBJ25p"
      },
      "source": [
        "# **Dictionaries**\n",
        "\n",
        "We've seen that we can access items in a list by using numerical indices. You can also index with words. This is used in Python dictionaries, _another_ type of Python object.\n",
        "\n",
        "* Much like lists, dictionary items are separated by commas.\n",
        "* Unlike lists, dictionaries begin and end with curly brackets `{}`\n",
        "```\n",
        "d = {\n",
        "    <key>: <value>,\n",
        "    <key>: <value>,\n",
        "    ...\n",
        "    <key>: <value>\n",
        "}\n",
        "```\n",
        "\n",
        "> The \"index\" of a dictionary are called **keys**\n",
        ">\n",
        "> The associated **values** can be numbers, strings, or lists.\n"
      ]
    },
    {
      "cell_type": "code",
      "metadata": {
        "id": "xF_9u9XFMT8R"
      },
      "source": [
        "# a dictionary for a shark tracked at https://www.ocearch.org/\n",
        "Finn = {'species': 'white shark',\n",
        "        'length [m]': 1.5,\n",
        "        'weight [lbs]': 79.2,\n",
        "        'GPS ping': 'Long Beach, NY'\n",
        "}\n",
        "\n",
        "# another shark\n",
        "Bonac = {'species': 'blue shark',\n",
        "        'length [m]': 2.9,\n",
        "        'weight [lbs]': 216,\n",
        "        'GPS ping': 'Atlantic Ocean'\n",
        "    \n",
        "}"
      ],
      "execution_count": null,
      "outputs": []
    }
  ]
}