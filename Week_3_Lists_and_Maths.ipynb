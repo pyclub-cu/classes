{
  "nbformat": 4,
  "nbformat_minor": 0,
  "metadata": {
    "colab": {
      "name": "Week 3: Objects - numbers, strings and lists",
      "provenance": [],
      "collapsed_sections": [],
      "toc_visible": true,
      "authorship_tag": "ABX9TyP+bj4PaO+a7QOIEclNCBjA",
      "include_colab_link": true
    },
    "kernelspec": {
      "name": "python3",
      "display_name": "Python 3"
    }
  },
  "cells": [
    {
      "cell_type": "markdown",
      "metadata": {
        "id": "view-in-github",
        "colab_type": "text"
      },
      "source": [
        "<a href=\"https://colab.research.google.com/github/pyclub-cu/classes/blob/master/Week_3_Lists_and_Maths.ipynb\" target=\"_parent\"><img src=\"https://colab.research.google.com/assets/colab-badge.svg\" alt=\"Open In Colab\"/></a>"
      ]
    },
    {
      "cell_type": "markdown",
      "metadata": {
        "id": "z6vNxpqUZu6i"
      },
      "source": [
        "# **Week 3:** Lists, variables, and maths\n",
        "\n",
        "**Learning Objectives**\n",
        "* Learn about lists (15 mins)\n",
        "* Learn how to assign variables (10 mins)\n",
        "* Learn about indexing and slicing (10 mins)\n",
        "* Intro to dictionaries (5 mins)\n",
        "* Do some math calculations! (10 mins)\n",
        "\n",
        "### **Icebreaker!**\n",
        "<img src='https://drive.google.com/uc?id=10o4W7pFpFvN6hspQjQ1OR1Vk0SISEcGh'>\n",
        "\n",
        "> **Question: Let's name as many creatures (or things) of the sea as you can!**\n",
        "> Later, we will learn to add them to existing lists!\n",
        "> \n",
        "> Example: Sea urchins, jellyfish and plastic bottles!\n"
      ]
    },
    {
      "cell_type": "markdown",
      "metadata": {
        "id": "x55MeKNwsZsn"
      },
      "source": [
        "\r\n",
        "**Icebreaker answers:**\r\n",
        "\r\n",
        "* Our answers! (jellyfish, surfers 🏄🏽‍♀️, sea snails, etc.)"
      ]
    },
    {
      "cell_type": "markdown",
      "metadata": {
        "id": "VCA5XwDNEKTf"
      },
      "source": [
        "# **Recap: numbers and strings**\n",
        "\n",
        "Last week, we learnt about `print()` statements, and objects: numbers and strings (words/letters).\n",
        "\n",
        "Most things in Python are objects, from the numbers and strings, to a list of items, such as this list of prime numbers:\n",
        "```\n",
        "[2,3,5,7,11,13]\n",
        "```\n",
        "\n",
        "Now, here's my grocery list 🛒:\n",
        "```\n",
        "['apples','yams','bread','eggs','sour patch kids']\n",
        "```\n",
        "\n",
        "Lists start and end with square brackets: `[]`, with each item separated by a comma.\n",
        "\n",
        "> Both of the above are lists, but they are different in one major way. **What do you think that is?**\n",
        "\n"
      ]
    },
    {
      "cell_type": "markdown",
      "metadata": {
        "id": "ieeZAFue13h9"
      },
      "source": [
        "# **Lists**\r\n",
        "\r\n",
        "Lists are used to store multiple items in one collection.\r\n",
        "\r\n",
        "### **Example: marine life!**\r\n",
        "Let's put our ice breaker answers into a list:\r\n"
      ]
    },
    {
      "cell_type": "code",
      "metadata": {
        "id": "HyCkw4ARV8T6",
        "colab": {
          "base_uri": "https://localhost:8080/"
        },
        "outputId": "cb6f6f10-0ee5-425e-f219-4311d5111c2b"
      },
      "source": [
        "# ice breaker creatures\r\n",
        "['jellyfish', 'surfers', 'sea snails']"
      ],
      "execution_count": null,
      "outputs": [
        {
          "output_type": "execute_result",
          "data": {
            "text/plain": [
              "['jellyfish', 'surfers', 'sea snails']"
            ]
          },
          "metadata": {
            "tags": []
          },
          "execution_count": 74
        }
      ]
    },
    {
      "cell_type": "markdown",
      "metadata": {
        "id": "RVJSCBm7V8yy"
      },
      "source": [
        "What can we do with this list?\r\n",
        "\r\n",
        "* We can count how many creatures we came up with\r\n",
        "* We can learn how to select specific items in the list\r\n",
        "* We can add more creatures!"
      ]
    },
    {
      "cell_type": "markdown",
      "metadata": {
        "id": "fU44WKwyHd-G"
      },
      "source": [
        "## **`len()` command**\r\n",
        "The `len()` command tells us the length of a list. While we could *manually* count the length, we can also use the `len()` command.\r\n"
      ]
    },
    {
      "cell_type": "code",
      "metadata": {
        "colab": {
          "base_uri": "https://localhost:8080/"
        },
        "id": "QIWJwOdCI3Nw",
        "outputId": "6d3724ef-6ec8-4667-b39d-d7f1eece302f"
      },
      "source": [
        "# an example of using len() with my groceries list\r\n",
        "len(['apples','yams','bread','eggs','sour patch kids'])"
      ],
      "execution_count": null,
      "outputs": [
        {
          "output_type": "execute_result",
          "data": {
            "text/plain": [
              "5"
            ]
          },
          "metadata": {
            "tags": []
          },
          "execution_count": 66
        }
      ]
    },
    {
      "cell_type": "markdown",
      "metadata": {
        "id": "WhMVHd3AI6FA"
      },
      "source": [
        "\r\n",
        "\r\n",
        "This is especially useful when our lists get very long.\r\n",
        "\r\n",
        "> **So, how many creatures are in our list?**"
      ]
    },
    {
      "cell_type": "code",
      "metadata": {
        "id": "1p1WRH1ruVim"
      },
      "source": [
        "# how many creatures are in our list?\r\n",
        "len(#copy list)"
      ],
      "execution_count": null,
      "outputs": []
    },
    {
      "cell_type": "markdown",
      "metadata": {
        "id": "vNA8wrbNKLe0"
      },
      "source": [
        "Now, as we just experienced, retyping that list to enter into the `len()` command was not very efficient. This is when saving a list or other objects can come in handy.\r\n",
        "\r\n",
        "We can save a list under a meaningful name.\r\n",
        "\r\n",
        "> **Let's try naming our list of creatures**\r\n"
      ]
    },
    {
      "cell_type": "code",
      "metadata": {
        "id": "Bwmtm5f1LsiH"
      },
      "source": [
        "# storing our list with a meaningful name\r\n",
        "creatures = #copy list"
      ],
      "execution_count": null,
      "outputs": []
    },
    {
      "cell_type": "code",
      "metadata": {
        "id": "KoC9OirbL5F9"
      },
      "source": [
        "# try printing your list here!\r\n"
      ],
      "execution_count": null,
      "outputs": []
    },
    {
      "cell_type": "code",
      "metadata": {
        "id": "7Hns-g5gL_QQ"
      },
      "source": [
        "# now try the len() command again on your list name instead!\r\n"
      ],
      "execution_count": null,
      "outputs": []
    },
    {
      "cell_type": "markdown",
      "metadata": {
        "id": "OtKegwNlFsK2"
      },
      "source": [
        "## **Assigning Variables**\r\n",
        "So, we've just assigned our list to a name. In Python, these names are called \"variables\"\r\n",
        "\r\n",
        "**What are variables?**\r\n",
        "> Variables are where we can store objects in our code. We can assign different types of objects (floats, integers, strings, lists, etc.) to variables\r\n",
        "\r\n",
        "If we want to save something for later use, we need to assign them to variables.\r\n",
        "\r\n",
        "Here is an example of assigning a variable to a number:\r\n"
      ]
    },
    {
      "cell_type": "code",
      "metadata": {
        "id": "a-upVQgCLp-k"
      },
      "source": [
        "my_age = 77"
      ],
      "execution_count": null,
      "outputs": []
    },
    {
      "cell_type": "markdown",
      "metadata": {
        "id": "pBrxYk6nL7NA"
      },
      "source": [
        "Here is an example of assigning a variable to a string:"
      ]
    },
    {
      "cell_type": "code",
      "metadata": {
        "id": "KzaNZL-tL6R2"
      },
      "source": [
        "my_name = 'Suki'"
      ],
      "execution_count": null,
      "outputs": []
    },
    {
      "cell_type": "markdown",
      "metadata": {
        "id": "BGRns0nXwD3I"
      },
      "source": [
        "> SOME THINGS TO NOTE:\r\n",
        ">\r\n",
        "> As you can see, the variable name is always on the left, and the value is on the right\r\n",
        ">\r\n",
        "> i.e. x = 2, NOT 2 = x\r\n",
        ">\r\n",
        "> It is typically helpful to pick a variable name that tells you about the object being stored "
      ]
    },
    {
      "cell_type": "markdown",
      "metadata": {
        "id": "0crbzRctMRs6"
      },
      "source": [
        "By assigning `my_name` and `my_age`, Python will remember these variables during the rest of this session."
      ]
    },
    {
      "cell_type": "code",
      "metadata": {
        "id": "UbJ6lDE7L4ID",
        "colab": {
          "base_uri": "https://localhost:8080/"
        },
        "outputId": "c075d141-dee5-4125-d98f-5596be993b29"
      },
      "source": [
        "print(my_age)"
      ],
      "execution_count": null,
      "outputs": [
        {
          "output_type": "stream",
          "text": [
            "77\n"
          ],
          "name": "stdout"
        }
      ]
    },
    {
      "cell_type": "markdown",
      "metadata": {
        "id": "_AVT7_NryZW4"
      },
      "source": [
        "You can also reassign variables:\r\n"
      ]
    },
    {
      "cell_type": "code",
      "metadata": {
        "colab": {
          "base_uri": "https://localhost:8080/"
        },
        "id": "A2rA_3Nsyr3C",
        "outputId": "2c1bf500-70df-490d-a036-75db24f7bcdc"
      },
      "source": [
        "my_name = 'enter your name here'\r\n",
        "print(my_name)"
      ],
      "execution_count": null,
      "outputs": [
        {
          "output_type": "stream",
          "text": [
            "enter your name here\n"
          ],
          "name": "stdout"
        }
      ]
    },
    {
      "cell_type": "code",
      "metadata": {
        "colab": {
          "base_uri": "https://localhost:8080/"
        },
        "id": "I6k_Jz88y4hf",
        "outputId": "8a0fcea9-569b-40a5-8fa1-7fbf6596a601"
      },
      "source": [
        "my_age = 'enter your age here'\r\n",
        "print(my_age)"
      ],
      "execution_count": null,
      "outputs": [
        {
          "output_type": "stream",
          "text": [
            "enter your age here\n"
          ],
          "name": "stdout"
        }
      ]
    },
    {
      "cell_type": "markdown",
      "metadata": {
        "id": "ZWmnNIgURgkb"
      },
      "source": [
        "## **Indexing**\r\n",
        "Now that we've stored our list as a variable, we can more easily access it! Hooray!\r\n",
        "\r\n",
        "What if we want to access a specific item in the list? We can do this with **indexing**.\r\n",
        "\r\n",
        "> Python indexing is a numbering system that starts from zero \r\n",
        "\r\n",
        "Take a look at our groceries list:\r\n",
        "\r\n",
        "<img src='https://drive.google.com/uc?id=124cKVTYKX6a9m2k6lguiNPOqw4qoWY7h'>\r\n",
        "\r\n",
        "Starting with 0, we can associate each item with an index number"
      ]
    },
    {
      "cell_type": "code",
      "metadata": {
        "colab": {
          "base_uri": "https://localhost:8080/",
          "height": 35
        },
        "id": "d53fNGSTRgVJ",
        "outputId": "f2cf8619-5d0a-42a3-fa97-b2d500e17df0"
      },
      "source": [
        "groceries = ['apples','yams','bread','eggs','sour patch kids']\r\n",
        "# the first item in the list has index 0\r\n",
        "groceries[0]"
      ],
      "execution_count": null,
      "outputs": [
        {
          "output_type": "execute_result",
          "data": {
            "application/vnd.google.colaboratory.intrinsic+json": {
              "type": "string"
            },
            "text/plain": [
              "'apples'"
            ]
          },
          "metadata": {
            "tags": []
          },
          "execution_count": 75
        }
      ]
    },
    {
      "cell_type": "code",
      "metadata": {
        "id": "LKYfyczFcgC_"
      },
      "source": [
        "# try to select a different item from groceries using indexing\r\n"
      ],
      "execution_count": null,
      "outputs": []
    },
    {
      "cell_type": "markdown",
      "metadata": {
        "id": "vhdtGFWsaDtS"
      },
      "source": [
        "Because we start indexing from 0, the last index of a list is always one less than the list length"
      ]
    },
    {
      "cell_type": "code",
      "metadata": {
        "id": "F7aOXAF_ZoZO"
      },
      "source": [
        "# last item of groceries has index 4\r\n",
        "groceries[4]"
      ],
      "execution_count": null,
      "outputs": []
    },
    {
      "cell_type": "markdown",
      "metadata": {
        "id": "wsm7C3WTeNCY"
      },
      "source": [
        "> Here's a tip: you can always access the last item in a list by using a -1 index.\r\n",
        ">\r\n",
        "> **Give it a go. What happens if you try an index of -2?**"
      ]
    },
    {
      "cell_type": "code",
      "metadata": {
        "id": "iw7KerS4eNCZ"
      },
      "source": [
        "# try using a -1 index"
      ],
      "execution_count": null,
      "outputs": []
    },
    {
      "cell_type": "code",
      "metadata": {
        "id": "vQ87l9fBecJc"
      },
      "source": [
        "# try using a -2 index"
      ],
      "execution_count": null,
      "outputs": []
    },
    {
      "cell_type": "markdown",
      "metadata": {
        "id": "aPJZJ6CLYygO"
      },
      "source": [
        "\r\n",
        "> **Now try to get the first creature from our creatures list!**"
      ]
    },
    {
      "cell_type": "code",
      "metadata": {
        "id": "jrab9b8cZUI7"
      },
      "source": [
        "# the first creature\r\n"
      ],
      "execution_count": null,
      "outputs": []
    },
    {
      "cell_type": "markdown",
      "metadata": {
        "id": "sceacJUkepX4"
      },
      "source": [
        "\r\n",
        "> **Now try to get the last creature from our creatures list!**"
      ]
    },
    {
      "cell_type": "code",
      "metadata": {
        "id": "jOX0qDRoepX5"
      },
      "source": [
        "# the last creature\r\n"
      ],
      "execution_count": null,
      "outputs": []
    },
    {
      "cell_type": "markdown",
      "metadata": {
        "id": "2_oeVMmpfa5S"
      },
      "source": [
        "## **Slicing**\r\n",
        "\r\n",
        "We can also select a sequence of items in the list by **slicing**: slicing works by specifying a start and end index.\r\n",
        "\r\n",
        "> **Try `creatures[0:3]`**"
      ]
    },
    {
      "cell_type": "code",
      "metadata": {
        "id": "xQq6YUaVfa5S",
        "colab": {
          "base_uri": "https://localhost:8080/"
        },
        "outputId": "408dd8b1-1ca0-4712-f865-a6d9380cd24b"
      },
      "source": [
        "# try here\r\n",
        "creatures[0:3]"
      ],
      "execution_count": null,
      "outputs": [
        {
          "output_type": "execute_result",
          "data": {
            "text/plain": [
              "['jellyfish', 'surfers', 'sea snails']"
            ]
          },
          "metadata": {
            "tags": []
          },
          "execution_count": 92
        }
      ]
    },
    {
      "cell_type": "markdown",
      "metadata": {
        "id": "IPi-GgLRfufq"
      },
      "source": [
        "> Notice that the sliced result begins with your start index, but only **goes up to and not including** the end index\r\n",
        ">\r\n",
        "> One way to remember this is **\"left inclusive; right exclusive\"**\r\n",
        "\r\n",
        "\r\n",
        "> TIP: to get a slice to the very end of the list, you can simply omit an end index, like so\r\n"
      ]
    },
    {
      "cell_type": "code",
      "metadata": {
        "id": "qjAQ7H_Ug7SW",
        "colab": {
          "base_uri": "https://localhost:8080/"
        },
        "outputId": "3b69d8cf-cd81-450f-ef77-8e6894937499"
      },
      "source": [
        "# slicing from the 3rd item ('bread') to the last item of groceries\r\n",
        "groceries[2:]"
      ],
      "execution_count": null,
      "outputs": [
        {
          "output_type": "execute_result",
          "data": {
            "text/plain": [
              "['bread', 'eggs', 'sour patch kids']"
            ]
          },
          "metadata": {
            "tags": []
          },
          "execution_count": 99
        }
      ]
    },
    {
      "cell_type": "markdown",
      "metadata": {
        "id": "I6TLkZo0fufq"
      },
      "source": [
        "> **Slice `creatures` starting from 'sea snails' to the last creature**"
      ]
    },
    {
      "cell_type": "code",
      "metadata": {
        "id": "1P9OPznIhsHg",
        "colab": {
          "base_uri": "https://localhost:8080/"
        },
        "outputId": "cbd6ed1d-35d4-48a3-c99f-89bb997311df"
      },
      "source": [
        "# here's the list for reference\r\n",
        "print(creatures)"
      ],
      "execution_count": 1,
      "outputs": [
        {
          "output_type": "stream",
          "text": [
            "['jellyfish', 'surfers', 'sea snails']\n"
          ],
          "name": "stdout"
        }
      ]
    },
    {
      "cell_type": "code",
      "metadata": {
        "colab": {
          "base_uri": "https://localhost:8080/"
        },
        "id": "QIpBFmJ4fufr",
        "outputId": "9a8d5d90-d7ea-4244-c203-293875d85662"
      },
      "source": [
        "# slice from 'sea snails' to the LAST creature\r\n",
        "creatures[2:]"
      ],
      "execution_count": null,
      "outputs": [
        {
          "output_type": "execute_result",
          "data": {
            "text/plain": [
              "['sea snails']"
            ]
          },
          "metadata": {
            "tags": []
          },
          "execution_count": 94
        }
      ]
    },
    {
      "cell_type": "markdown",
      "metadata": {
        "id": "RhkB-kMBJ25p"
      },
      "source": [
        "# **Dictionaries**\r\n",
        "\r\n",
        "We've seen that we can access items in a list by using numerical indices. You can also index with words. This is used in Python dictionaries, _another_ type of Python object.\r\n",
        "\r\n",
        "* Much like lists, dictionary items are separated by commas.\r\n",
        "* Unlike lists, dictionaries begin and end with curly brackets `{}`\r\n",
        "```\r\n",
        "d = {\r\n",
        "    <key>: <value>,\r\n",
        "    <key>: <value>,\r\n",
        "    ...\r\n",
        "    <key>: <value>\r\n",
        "}\r\n",
        "```\r\n",
        "\r\n",
        "> The \"index\" of a dictionary are called **keys**\r\n",
        ">\r\n",
        "> The associated **values** can be numbers, strings, or lists.\r\n"
      ]
    },
    {
      "cell_type": "code",
      "metadata": {
        "id": "xF_9u9XFMT8R"
      },
      "source": [
        "# a dictionary for a shark tracked at https://www.ocearch.org/\r\n",
        "Finn = {'species': 'white shark',\r\n",
        "        'length [m]': 1.5,\r\n",
        "        'weight [lbs]': 79.2,\r\n",
        "        'GPS ping': 'Long Beach, NY'\r\n",
        "}\r\n",
        "\r\n",
        "# another shark\r\n",
        "Bonac = {'species': 'blue shark',\r\n",
        "        'length [m]': 2.9,\r\n",
        "        'weight [lbs]': 216,\r\n",
        "        'GPS ping': 'Atlantic Ocean'\r\n",
        "    \r\n",
        "}"
      ],
      "execution_count": 44,
      "outputs": []
    },
    {
      "cell_type": "markdown",
      "metadata": {
        "id": "hWLsj54qjAJn"
      },
      "source": [
        "# **Marine life seen at Rockaway Beach**\r\n",
        "\r\n",
        "<img src='https://drive.google.com/uc?id=10GLI1eLUNSLZKBvStbOnI56vYYmgFKIB'>\r\n",
        "\r\n",
        "Here's a list of some of the living things that have been spotted at the Rockaways!"
      ]
    },
    {
      "cell_type": "code",
      "metadata": {
        "id": "-0tfmkN-jOIT"
      },
      "source": [
        "# big list of somes species at the Rockaways\r\n",
        "rockaway_species = ['lobster', 'crabs', 'shrimp', 'seagull','heron', 'pelican',\r\n",
        "                    'eel', 'herring', 'needlefish', 'sturgeon', 'anchovy',\r\n",
        "                    'seabass', 'seahorse','mummichog', 'pufferfish', 'sunfish',\r\n",
        "                    'striped bass', 'blue shark', 'bull shark', 'nurse shark',\r\n",
        "                    'sandbar shark', 'scalloped hammerhead', 'mako shark', \r\n",
        "                    'thresher shark', 'atlantic torpedo ray', 'little skate',\r\n",
        "                    'roughtail stingray', 'bottlenose dolphin', 'grey seal',\r\n",
        "                    'blue whale', 'fin whale', 'north alantic right whale',\r\n",
        "                    'humpback whale', 'moon jellyfish', 'starfish', 'clams',\r\n",
        "                    'mussels', 'oysters', 'algae', 'sea lettuce']"
      ],
      "execution_count": null,
      "outputs": []
    },
    {
      "cell_type": "markdown",
      "metadata": {
        "id": "5uoQBCoelkL3"
      },
      "source": [
        "> **How long is this list?**"
      ]
    },
    {
      "cell_type": "code",
      "metadata": {
        "id": "Uc8kBPjDk0Rf"
      },
      "source": [
        "# number of species\r\n"
      ],
      "execution_count": null,
      "outputs": []
    },
    {
      "cell_type": "markdown",
      "metadata": {
        "id": "U3KNY7QYPk0z"
      },
      "source": [
        "Items can be added to the list. Maybe you've observed a species on your last trip to the Rockaways that isn't on this list! To add, we can use the `append()` function"
      ]
    },
    {
      "cell_type": "code",
      "metadata": {
        "id": "H1TBUULKPkMh"
      },
      "source": [
        "# appending example\r\n",
        "rockaway_species.append('minke whale')"
      ],
      "execution_count": null,
      "outputs": []
    },
    {
      "cell_type": "markdown",
      "metadata": {
        "id": "zP3Nu6rplYwD"
      },
      "source": [
        "We can also add our `creatures` list to `rockaway_species` by using addition, +, like in math!\r\n",
        "\r\n",
        "`list_one + list_two`\r\n",
        "\r\n",
        "> **Let's add the `creatures` list to `rockaway_species`**"
      ]
    },
    {
      "cell_type": "code",
      "metadata": {
        "id": "OUNrlArMlYLy",
        "colab": {
          "base_uri": "https://localhost:8080/"
        },
        "outputId": "15f4e400-8417-4163-a3aa-e03b2a721eae"
      },
      "source": [
        "rockaway_species = creatures + rockaway_species\r\n",
        "print(rockaway_species)"
      ],
      "execution_count": null,
      "outputs": [
        {
          "output_type": "stream",
          "text": [
            "['jellyfish', 'surfers', 'sea snails', 'lobster', 'crabs', 'shrimp', 'seagull', 'heron', 'pelican', 'eel', 'herring', 'needlefish', 'sturgeon', 'anchovy', 'seabass', 'seahorse', 'mummichog', 'pufferfish', 'sunfish', 'striped bass', 'blue shark', 'bull shark', 'nurse shark', 'sandbar shark', 'scalloped hammerhead', 'mako shark', 'thresher shark', 'atlantic torpedo ray', 'little skate', 'roughtail stingray', 'bottlenose dolphin', 'grey seal', 'blue whale', 'fin whale', 'north alantic right whale', 'humpback whale', 'moon jellyfish', 'starfish', 'clams', 'mussels', 'oysters', 'algae', 'sea lettuce', 'minke whale']\n"
          ],
          "name": "stdout"
        }
      ]
    },
    {
      "cell_type": "markdown",
      "metadata": {
        "id": "fA0Ho08mQObf"
      },
      "source": [
        "# **Mathematical operations**\r\n",
        "\r\n",
        "Python can do math, much like a calculator\r\n",
        "\r\n",
        "* to add, use `+`\r\n",
        "* to subtract, use `-`\r\n",
        "* to multiply, use `*`\r\n",
        "* to divide, use `/`\r\n",
        "* brackets can be used to infer the order of operations\r\n",
        "\r\n"
      ]
    },
    {
      "cell_type": "code",
      "metadata": {
        "colab": {
          "base_uri": "https://localhost:8080/"
        },
        "id": "iIOGax0yQwsx",
        "outputId": "28a897fd-3727-49d8-e3ca-f61962ad05e4"
      },
      "source": [
        "# Try doing some math below! I'll start you off here,\r\n",
        "15+4.4"
      ],
      "execution_count": null,
      "outputs": [
        {
          "output_type": "execute_result",
          "data": {
            "text/plain": [
              "19.4"
            ]
          },
          "metadata": {
            "tags": []
          },
          "execution_count": 129
        }
      ]
    },
    {
      "cell_type": "code",
      "metadata": {
        "id": "uiVe0mjlRJax",
        "colab": {
          "base_uri": "https://localhost:8080/"
        },
        "outputId": "562182d3-467e-4f00-ab2c-3b175e1ed3ef"
      },
      "source": [
        "# do some math: make sure to try a divison and a multiplication\r\n"
      ],
      "execution_count": null,
      "outputs": [
        {
          "output_type": "execute_result",
          "data": {
            "text/plain": [
              "0.6666666666666666"
            ]
          },
          "metadata": {
            "tags": []
          },
          "execution_count": 17
        }
      ]
    },
    {
      "cell_type": "markdown",
      "metadata": {
        "id": "wQlP8dzsRLOd"
      },
      "source": [
        "**Exercise**\r\n",
        "\r\n",
        "> Earlier, we stored your age. What will your age be in 5 more years?\r\n",
        ">\r\n",
        "> **Calculate the answer by using `my_age` and a simple math operation**"
      ]
    },
    {
      "cell_type": "code",
      "metadata": {
        "id": "hqWcNaiuRgky"
      },
      "source": [
        "# enter answer below\r\n"
      ],
      "execution_count": null,
      "outputs": []
    },
    {
      "cell_type": "markdown",
      "metadata": {
        "id": "ZLXHLsWyR14m"
      },
      "source": [
        "Mathematical operations are not limited to only numbers in Python. We've added lists, and we've also added numbers. We can also add strings!\r\n",
        "\r\n",
        "> **ATTENTION: Apples and Oranges!**\r\n",
        ">\r\n",
        "> You can only add numbers to other numbers, OR strings to other strings.In order to add a number to a string, you need to convert the number to a string format first. For example:"
      ]
    },
    {
      "cell_type": "code",
      "metadata": {
        "colab": {
          "base_uri": "https://localhost:8080/"
        },
        "id": "HBaggvoRSZmB",
        "outputId": "6495b79a-5b10-477c-feb0-23159154bbf7"
      },
      "source": [
        "print(my_name + ' is ' + str(my_age)  + ' years old.')\r\n"
      ],
      "execution_count": null,
      "outputs": [
        {
          "output_type": "stream",
          "text": [
            "Suki is 77 years old.\n"
          ],
          "name": "stdout"
        }
      ]
    },
    {
      "cell_type": "code",
      "metadata": {
        "id": "763fi5uTPYXL"
      },
      "source": [
        ""
      ],
      "execution_count": null,
      "outputs": []
    },
    {
      "cell_type": "markdown",
      "metadata": {
        "id": "hH1Et1fGP3Mo"
      },
      "source": [
        "# **Extra: more math!**\r\n",
        "Some more math if you want to try equations with multiple variables"
      ]
    },
    {
      "cell_type": "markdown",
      "metadata": {
        "id": "opf2d7NsEioL"
      },
      "source": [
        "**Example of how to solve this equation**\r\n",
        "> If y = 2x + c,\r\n",
        ">\r\n",
        "> where x = 0.5 and c = 42\r\n",
        ">\r\n",
        "> **What is y?** \r\n"
      ]
    },
    {
      "cell_type": "code",
      "metadata": {
        "id": "vtrvmgTkRI-Q"
      },
      "source": [
        "# first assign variables\r\n",
        "x = 0.5\r\n",
        "c = 42"
      ],
      "execution_count": null,
      "outputs": []
    },
    {
      "cell_type": "code",
      "metadata": {
        "id": "VBj076OYRKiH"
      },
      "source": [
        "# next, write the equation\r\n",
        "y = 2*x + c"
      ],
      "execution_count": null,
      "outputs": []
    },
    {
      "cell_type": "code",
      "metadata": {
        "id": "F1G7nNtDE7v2",
        "colab": {
          "base_uri": "https://localhost:8080/"
        },
        "outputId": "b5254ab9-8a78-4e2c-85a7-387337ebfcb1"
      },
      "source": [
        "# what is y?\r\n",
        "y"
      ],
      "execution_count": null,
      "outputs": [
        {
          "output_type": "execute_result",
          "data": {
            "text/plain": [
              "43.0"
            ]
          },
          "metadata": {
            "tags": []
          },
          "execution_count": 22
        }
      ]
    },
    {
      "cell_type": "markdown",
      "metadata": {
        "id": "Y2_ctjHeFh2A"
      },
      "source": [
        "**Exercise for you!**\r\n",
        "\r\n",
        "> y = 2a$^{2}$ + 6b + c ,\r\n",
        ">\r\n",
        "> where a = 5, b = 2 and c = 3\r\n",
        ">\r\n",
        "> **What is y?**"
      ]
    },
    {
      "cell_type": "code",
      "metadata": {
        "id": "f9h3-eVWFBBa"
      },
      "source": [
        "# assign the variables\r\n"
      ],
      "execution_count": null,
      "outputs": []
    },
    {
      "cell_type": "code",
      "metadata": {
        "id": "_DdBXMZv6_AY"
      },
      "source": [
        "# write the equation\r\n"
      ],
      "execution_count": null,
      "outputs": []
    },
    {
      "cell_type": "code",
      "metadata": {
        "id": "IStIdIcm0bnI"
      },
      "source": [
        "# what is y\r\n"
      ],
      "execution_count": null,
      "outputs": []
    },
    {
      "cell_type": "markdown",
      "metadata": {
        "id": "dBGQMZ-j0eFD"
      },
      "source": [
        "> Hint: to raise x to the power of 2, you can do `x**2`\r\n"
      ]
    }
  ]
}